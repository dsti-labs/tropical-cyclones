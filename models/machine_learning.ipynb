{
 "cells": [
  {
   "cell_type": "markdown",
   "metadata": {},
   "source": [
    "# Machine Learning"
   ]
  },
  {
   "cell_type": "code",
   "execution_count": 2,
   "metadata": {},
   "outputs": [],
   "source": [
    "import pandas as pd \n",
    "import numpy as np"
   ]
  },
  {
   "cell_type": "markdown",
   "metadata": {},
   "source": [
    "## First models "
   ]
  },
  {
   "cell_type": "markdown",
   "metadata": {},
   "source": [
    "We are starting by testing multiple Machine Learning models on a cleaned simplified dataset."
   ]
  },
  {
   "cell_type": "markdown",
   "metadata": {},
   "source": [
    "Categorical => OneHotEncoder or one dimension with different values (1, 2, 3, 4, etc.)\n",
    "- SEASON (4 classes)\n",
    "- BASIN (7 classes)\n",
    "- NATURE (6 classes)\n",
    "\n",
    "Numeric => everything between 0 and 1\n",
    "- LAT\n",
    "- LON\n",
    "- WIND \n",
    "- DIST2LAND\n",
    "- STORM_SPEED\n",
    "- STORM_DIR"
   ]
  },
  {
   "cell_type": "markdown",
   "metadata": {},
   "source": [
    "### Choosing the pertient models\n",
    "\n",
    "The different models can be found here :\n",
    "https://scikit-learn.org/stable/machine_learning_map.html\n",
    "\n",
    "| model | person | scores | encoding\n",
    "| --- | --- | --- | --- | \n",
    "| Knn | Vincent | -- | OneHotEncoder/LabelBinarizer | \n",
    "| Knn | -- | -- | -- | \n",
    "| SVM | Vincent | -- | OneHotEncoder/LabelBinarizer | \n",
    "| SVM | -- | -- | -- | \n",
    "| Randomforest | Audrey | -- | OneHotEncoder/LabelBinarizer | \n",
    "| Randomforest | Audrey | -- | Categorical encoding | \n",
    "| LinearSVC | Arnaud | -- | OneHotEncoder/LabelBinarizer | \n",
    "| LinearSVC | Arnaud | -- | Categorical encoding | \n",
    "| -- | -- | -- | -- | \n",
    "| -- | -- | -- | -- | \n",
    "| -- | -- | -- | -- | \n",
    "| -- | -- | -- | -- | \n",
    "| -- | -- | -- | -- | \n",
    "\n"
   ]
  },
  {
   "cell_type": "markdown",
   "metadata": {
    "vscode": {
     "languageId": "plaintext"
    }
   },
   "source": [
    "The dataset can be imported with :"
   ]
  },
  {
   "cell_type": "code",
   "execution_count": 5,
   "metadata": {},
   "outputs": [],
   "source": [
    "df = pd.read_parquet(\"data/base.parquet\", engine=\"pyarrow\")"
   ]
  },
  {
   "cell_type": "code",
   "execution_count": 6,
   "metadata": {},
   "outputs": [
    {
     "name": "stdout",
     "output_type": "stream",
     "text": [
      "<class 'pandas.core.frame.DataFrame'>\n",
      "Index: 45025 entries, 0 to 67409\n",
      "Data columns (total 10 columns):\n",
      " #   Column        Non-Null Count  Dtype  \n",
      "---  ------        --------------  -----  \n",
      " 0   SEASON        45025 non-null  object \n",
      " 1   BASIN         45025 non-null  object \n",
      " 2   NATURE        45025 non-null  object \n",
      " 3   LAT           45025 non-null  float64\n",
      " 4   LON           45025 non-null  float64\n",
      " 5   WIND          45025 non-null  float64\n",
      " 6   DIST2LAND     45025 non-null  int64  \n",
      " 7   STORM_SPEED   45025 non-null  float64\n",
      " 8   STORM_DIR     45025 non-null  float64\n",
      " 9   TD9636_STAGE  45025 non-null  float64\n",
      "dtypes: float64(6), int64(1), object(3)\n",
      "memory usage: 3.8+ MB\n"
     ]
    }
   ],
   "source": [
    "df.info()"
   ]
  },
  {
   "cell_type": "markdown",
   "metadata": {},
   "source": [
    "## Steps"
   ]
  },
  {
   "cell_type": "markdown",
   "metadata": {},
   "source": [
    "1. Encoding\n",
    "\n",
    "From the current dataset, encode/preprocess the different columns \n",
    "+ augmenting the dataset ?\n",
    "\n",
    "2. Splitting\n",
    "\n",
    "Splitting the dataset to have a train_set and a test_set\n",
    "\n",
    "3. Train/Test\n",
    "\n",
    "Train et test the model (best practices GridSearch & Checkpoints)\n",
    "\n",
    "4. Evaluate the model\n",
    "\n",
    "<img src=\"../data/metrics.png\">\n",
    "\n",
    "The dataset is currently very unbalanced. \n",
    "- Either augment the dataset and look at the precision, recall metrics\n",
    "- Or leave the dataset unbalanced and look at the accuracy metric\n"
   ]
  },
  {
   "cell_type": "markdown",
   "metadata": {},
   "source": [
    "## Improving the model"
   ]
  },
  {
   "cell_type": "markdown",
   "metadata": {},
   "source": [
    "Once the first model available we might try and improve the results by adding other columns and modifying further some of the actual columns.\n",
    "Columns considered: \n",
    "- TRACK_TYPE\n",
    "- IFLAG\n",
    "- Try and use (merge or other methods) all the R30, R40, etc. content\n",
    "\n",
    "Further modifications considered:\n",
    "- Filling the empty TD9636_STAGE rows based on other columns that contain a classification of the storm (USA_SSHS, TOKYO_GRADE, CMA_CAT, HKO_CAT, KMA_CAT, NEWDELHI_GRADE, REUNION_TYPE, BOM_TYPE, NADI_CAT, DS824_STAGE, NEUMANN_CLASS, MLC_CLASS)\n",
    "- Adding WIND rowsby converting NEWDELHI_WIND, CMA_WIND (and maybe WMO_WIND) as it was done for the others\n",
    "- mergin BASIN and SUBBASIN to add more precise information \n",
    "\n",
    "- test  MONTH / SEASON\n",
    "- with/without PRESSION (because approximations)"
   ]
  },
  {
   "cell_type": "markdown",
   "metadata": {},
   "source": []
  }
 ],
 "metadata": {
  "kernelspec": {
   "display_name": "tropical_cyclones",
   "language": "python",
   "name": "python3"
  },
  "language_info": {
   "codemirror_mode": {
    "name": "ipython",
    "version": 3
   },
   "file_extension": ".py",
   "mimetype": "text/x-python",
   "name": "python",
   "nbconvert_exporter": "python",
   "pygments_lexer": "ipython3",
   "version": "3.13.0"
  }
 },
 "nbformat": 4,
 "nbformat_minor": 2
}
