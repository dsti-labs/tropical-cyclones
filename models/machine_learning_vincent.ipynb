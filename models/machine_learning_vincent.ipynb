{
 "cells": [
  {
   "cell_type": "markdown",
   "metadata": {},
   "source": [
    "# Machine Learning\n",
    "\n",
    "## Classification"
   ]
  },
  {
   "cell_type": "markdown",
   "metadata": {},
   "source": [
    "### Documentation\n",
    "\n",
    "Scikit-learn, choosing the right estimator : https://scikit-learn.org/stable/machine_learning_map.html "
   ]
  },
  {
   "cell_type": "markdown",
   "metadata": {},
   "source": [
    "### Model testing steps\n",
    "\n",
    "1. Encoding : From the current dataset, encode/preprocess the different columns + augmenting the dataset ?\n",
    "2. Splitting : Splitting the dataset to have a train_set and a test_set\n",
    "3. Train/Test : Train et test the model (best practices GridSearch & checkpoints to store the best weigths of your model)\n",
    "4. Evaluate the model: define which metric(s) to evaluate, learning curse, validation curve.\n",
    "\n",
    "<img src=\"data/metrics.png\">\n",
    "\n",
    "The dataset is currently very unbalanced. \n",
    "- Either augment the dataset and look at the precision, recall metrics\n",
    "- Or leave the dataset unbalanced and look at the accuracy metric"
   ]
  },
  {
   "cell_type": "markdown",
   "metadata": {},
   "source": [
    "### Choosing the models\n",
    "\n",
    "| model | person | scores | encoding\n",
    "| --- | --- | --- | --- | \n",
    "| KNN | Vincent | -- | OneHotEncoder/LabelBinarizer | \n",
    "| KNN | -- | -- | -- | \n",
    "| SVM | Vincent | -- | OneHotEncoder/LabelBinarizer | \n",
    "| SVM | -- | -- | -- | \n",
    "| Randomforest | Audrey | -- | OneHotEncoder/LabelBinarizer | \n",
    "| Randomforest | Audrey | -- | Categorical encoding | \n",
    "| LinearSVC | Arnaud | -- | OneHotEncoder/LabelBinarizer | \n",
    "| LinearSVC | Arnaud | -- | Categorical encoding | \n",
    "| -- | -- | -- | -- | \n",
    "| -- | -- | -- | -- | \n",
    "\n"
   ]
  },
  {
   "cell_type": "code",
   "execution_count": 1,
   "metadata": {},
   "outputs": [],
   "source": [
    "# Imports\n",
    "import pandas as pd\n",
    "import numpy as np\n",
    "import plotly.express as px\n",
    "import plotly.graph_objects as go\n",
    "\n",
    "\n",
    "# Imports for preprocessing\n",
    "from sklearn.compose import ColumnTransformer\n",
    "from sklearn.preprocessing import (\n",
    "    StandardScaler,\n",
    "    MinMaxScaler,\n",
    "    # LabelBinarizer,\n",
    "    OneHotEncoder,\n",
    ")\n",
    "\n",
    "# Imports for KNN and SVC/SVM models with GridSearchCV\n",
    "from sklearn.model_selection import (\n",
    "    train_test_split,\n",
    "    GridSearchCV,\n",
    "    validation_curve,\n",
    "    learning_curve,\n",
    ")\n",
    "\n",
    "# from sklearn import svm\n",
    "# from sklearn.svm import SVC\n",
    "from sklearn import neighbors\n",
    "\n",
    "# from sklearn.neighbors import KNeighborsClassifier\n",
    "\n",
    "# Imports for the metrics\n",
    "from sklearn.metrics import classification_report\n",
    "from sklearn.metrics import confusion_matrix\n",
    "\n",
    "# from sklearn.metrics import ConfusionMatrixDisplay"
   ]
  },
  {
   "cell_type": "markdown",
   "metadata": {},
   "source": [
    "## Preprocessing the base dataset\n",
    "\n",
    "We are starting by testing multiple Machine Learning models on a cleaned and reduced dataset based on the data analysis phase."
   ]
  },
  {
   "cell_type": "code",
   "execution_count": 2,
   "metadata": {},
   "outputs": [],
   "source": [
    "# From parquet to DataFrame : base dataset\n",
    "df = pd.read_parquet(\"../data/base.parquet\", engine=\"pyarrow\")\n",
    "\n",
    "# Rename the columns for clarity\n",
    "df.rename(\n",
    "    {\n",
    "        \"SEASON\": \"season\",\n",
    "        \"BASIN\": \"basin\",\n",
    "        \"NATURE\": \"nature\",\n",
    "        \"LAT\": \"latitude\",\n",
    "        \"LON\": \"longitude\",\n",
    "        \"WIND\": \"wind\",\n",
    "        \"DIST2LAND\": \"distance_to_land\",\n",
    "        \"STORM_SPEED\": \"storm_speed\",\n",
    "        \"STORM_DIR\": \"storm_direction\",\n",
    "        \"TD9636_STAGE\": \"storm_stage\",\n",
    "    },\n",
    "    axis=\"columns\",\n",
    "    inplace=True,\n",
    ")\n",
    "\n",
    "# Backup DataFrame\n",
    "df_backup = df.copy()"
   ]
  },
  {
   "cell_type": "code",
   "execution_count": 3,
   "metadata": {},
   "outputs": [
    {
     "name": "stdout",
     "output_type": "stream",
     "text": [
      "Shape rows/columns:\n",
      "(45025, 10)\n",
      "\n",
      "Column names:\n",
      "Index(['season', 'basin', 'nature', 'latitude', 'longitude', 'wind',\n",
      "       'distance_to_land', 'storm_speed', 'storm_direction', 'storm_stage'],\n",
      "      dtype='object')\n",
      "\n",
      "Types:\n",
      "season               object\n",
      "basin                object\n",
      "nature               object\n",
      "latitude            float64\n",
      "longitude           float64\n",
      "wind                float64\n",
      "distance_to_land      int64\n",
      "storm_speed         float64\n",
      "storm_direction     float64\n",
      "storm_stage         float64\n",
      "dtype: object\n",
      "\n"
     ]
    }
   ],
   "source": [
    "# DataFrame basic description\n",
    "print(f\"Shape rows/columns:\\n{df.shape}\\n\")\n",
    "print(f\"Column names:\\n{df.columns}\\n\")\n",
    "print(f\"Types:\\n{df.dtypes}\\n\")"
   ]
  },
  {
   "cell_type": "code",
   "execution_count": 4,
   "metadata": {},
   "outputs": [
    {
     "name": "stdout",
     "output_type": "stream",
     "text": [
      "Distribution of the stages (our target):\n",
      "storm_stage\n",
      "2.0    17079\n",
      "1.0    15409\n",
      "4.0    10590\n",
      "0.0      853\n",
      "3.0      742\n",
      "5.0      225\n",
      "6.0      127\n",
      "Name: count, dtype: int64\n",
      "\n"
     ]
    }
   ],
   "source": [
    "# Target column: evaluating the amount of data for each stage of the storms\n",
    "print(\n",
    "    f\"Distribution of the stages (our target):\\n{df[\"storm_stage\"].value_counts()}\\n\"\n",
    ")"
   ]
  },
  {
   "cell_type": "markdown",
   "metadata": {},
   "source": [
    "Categorical -> needs to be transformed with OneHotEncoder or one dimension with different values (1, 2, 3, 4, etc.)\n",
    "- season (4 classes)\n",
    "- basin (7 classes)\n",
    "- nature (6 classes)\n",
    "\n",
    "Numerical -> needs to be standardized on the same scale.\n",
    "- latitude\n",
    "- longitude\n",
    "- wind \n",
    "- distance_to_land\n",
    "- storm_speed\n",
    "- storm_direction\n"
   ]
  },
  {
   "cell_type": "code",
   "execution_count": 5,
   "metadata": {},
   "outputs": [],
   "source": [
    "# Selecting the categorical columns only\n",
    "categorical_columns = [\"season\", \"basin\", \"nature\"]\n",
    "\n",
    "# Encoder\n",
    "preprocessor = ColumnTransformer(\n",
    "    transformers=[\n",
    "        (\"\", OneHotEncoder(sparse_output=False), categorical_columns)\n",
    "    ],\n",
    "    remainder=\"passthrough\",\n",
    "    verbose_feature_names_out=False,\n",
    ")\n",
    "encoded_data = preprocessor.fit_transform(df)\n",
    "column_names = preprocessor.get_feature_names_out()\n",
    "encoded_df = pd.DataFrame(encoded_data, columns=column_names)"
   ]
  },
  {
   "cell_type": "code",
   "execution_count": 6,
   "metadata": {},
   "outputs": [
    {
     "data": {
      "application/vnd.plotly.v1+json": {
       "config": {
        "plotlyServerURL": "https://plot.ly"
       },
       "data": [
        {
         "coloraxis": "coloraxis",
         "hovertemplate": "x: %{x}<br>y: %{y}<br>color: %{z}<extra></extra>",
         "name": "0",
         "texttemplate": "%{z:.2f}",
         "type": "heatmap",
         "x": [
          "season_fall",
          "season_spring",
          "season_summer",
          "season_winter",
          "basin_EP",
          "basin_NI",
          "basin_SI",
          "basin_SP",
          "basin_WP",
          "nature_DS",
          "nature_MX",
          "nature_TS",
          "latitude",
          "longitude",
          "wind",
          "storm_direction",
          "storm_stage"
         ],
         "xaxis": "x",
         "y": [
          "season_fall",
          "season_spring",
          "season_summer",
          "season_winter",
          "basin_EP",
          "basin_NI",
          "basin_SI",
          "basin_SP",
          "basin_WP",
          "nature_DS",
          "nature_MX",
          "nature_TS",
          "latitude",
          "longitude",
          "wind",
          "storm_direction",
          "storm_stage"
         ],
         "yaxis": "y",
         "z": {
          "bdata": "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",
          "dtype": "f8",
          "shape": "17, 17"
         }
        }
       ],
       "layout": {
        "autosize": false,
        "coloraxis": {
         "cmax": 1,
         "cmin": -1,
         "colorscale": [
          [
           0,
           "#30123b"
          ],
          [
           0.07142857142857142,
           "#4145ab"
          ],
          [
           0.14285714285714285,
           "#4675ed"
          ],
          [
           0.21428571428571427,
           "#39a2fc"
          ],
          [
           0.2857142857142857,
           "#1bcfd4"
          ],
          [
           0.35714285714285715,
           "#24eca6"
          ],
          [
           0.42857142857142855,
           "#61fc6c"
          ],
          [
           0.5,
           "#a4fc3b"
          ],
          [
           0.5714285714285714,
           "#d1e834"
          ],
          [
           0.6428571428571429,
           "#f3c63a"
          ],
          [
           0.7142857142857143,
           "#fe9b2d"
          ],
          [
           0.7857142857142857,
           "#f36315"
          ],
          [
           0.8571428571428571,
           "#d93806"
          ],
          [
           0.9285714285714286,
           "#b11901"
          ],
          [
           1,
           "#7a0402"
          ]
         ]
        },
        "height": 700,
        "template": {
         "data": {
          "bar": [
           {
            "error_x": {
             "color": "#2a3f5f"
            },
            "error_y": {
             "color": "#2a3f5f"
            },
            "marker": {
             "line": {
              "color": "#E5ECF6",
              "width": 0.5
             },
             "pattern": {
              "fillmode": "overlay",
              "size": 10,
              "solidity": 0.2
             }
            },
            "type": "bar"
           }
          ],
          "barpolar": [
           {
            "marker": {
             "line": {
              "color": "#E5ECF6",
              "width": 0.5
             },
             "pattern": {
              "fillmode": "overlay",
              "size": 10,
              "solidity": 0.2
             }
            },
            "type": "barpolar"
           }
          ],
          "carpet": [
           {
            "aaxis": {
             "endlinecolor": "#2a3f5f",
             "gridcolor": "white",
             "linecolor": "white",
             "minorgridcolor": "white",
             "startlinecolor": "#2a3f5f"
            },
            "baxis": {
             "endlinecolor": "#2a3f5f",
             "gridcolor": "white",
             "linecolor": "white",
             "minorgridcolor": "white",
             "startlinecolor": "#2a3f5f"
            },
            "type": "carpet"
           }
          ],
          "choropleth": [
           {
            "colorbar": {
             "outlinewidth": 0,
             "ticks": ""
            },
            "type": "choropleth"
           }
          ],
          "contour": [
           {
            "colorbar": {
             "outlinewidth": 0,
             "ticks": ""
            },
            "colorscale": [
             [
              0,
              "#0d0887"
             ],
             [
              0.1111111111111111,
              "#46039f"
             ],
             [
              0.2222222222222222,
              "#7201a8"
             ],
             [
              0.3333333333333333,
              "#9c179e"
             ],
             [
              0.4444444444444444,
              "#bd3786"
             ],
             [
              0.5555555555555556,
              "#d8576b"
             ],
             [
              0.6666666666666666,
              "#ed7953"
             ],
             [
              0.7777777777777778,
              "#fb9f3a"
             ],
             [
              0.8888888888888888,
              "#fdca26"
             ],
             [
              1,
              "#f0f921"
             ]
            ],
            "type": "contour"
           }
          ],
          "contourcarpet": [
           {
            "colorbar": {
             "outlinewidth": 0,
             "ticks": ""
            },
            "type": "contourcarpet"
           }
          ],
          "heatmap": [
           {
            "colorbar": {
             "outlinewidth": 0,
             "ticks": ""
            },
            "colorscale": [
             [
              0,
              "#0d0887"
             ],
             [
              0.1111111111111111,
              "#46039f"
             ],
             [
              0.2222222222222222,
              "#7201a8"
             ],
             [
              0.3333333333333333,
              "#9c179e"
             ],
             [
              0.4444444444444444,
              "#bd3786"
             ],
             [
              0.5555555555555556,
              "#d8576b"
             ],
             [
              0.6666666666666666,
              "#ed7953"
             ],
             [
              0.7777777777777778,
              "#fb9f3a"
             ],
             [
              0.8888888888888888,
              "#fdca26"
             ],
             [
              1,
              "#f0f921"
             ]
            ],
            "type": "heatmap"
           }
          ],
          "histogram": [
           {
            "marker": {
             "pattern": {
              "fillmode": "overlay",
              "size": 10,
              "solidity": 0.2
             }
            },
            "type": "histogram"
           }
          ],
          "histogram2d": [
           {
            "colorbar": {
             "outlinewidth": 0,
             "ticks": ""
            },
            "colorscale": [
             [
              0,
              "#0d0887"
             ],
             [
              0.1111111111111111,
              "#46039f"
             ],
             [
              0.2222222222222222,
              "#7201a8"
             ],
             [
              0.3333333333333333,
              "#9c179e"
             ],
             [
              0.4444444444444444,
              "#bd3786"
             ],
             [
              0.5555555555555556,
              "#d8576b"
             ],
             [
              0.6666666666666666,
              "#ed7953"
             ],
             [
              0.7777777777777778,
              "#fb9f3a"
             ],
             [
              0.8888888888888888,
              "#fdca26"
             ],
             [
              1,
              "#f0f921"
             ]
            ],
            "type": "histogram2d"
           }
          ],
          "histogram2dcontour": [
           {
            "colorbar": {
             "outlinewidth": 0,
             "ticks": ""
            },
            "colorscale": [
             [
              0,
              "#0d0887"
             ],
             [
              0.1111111111111111,
              "#46039f"
             ],
             [
              0.2222222222222222,
              "#7201a8"
             ],
             [
              0.3333333333333333,
              "#9c179e"
             ],
             [
              0.4444444444444444,
              "#bd3786"
             ],
             [
              0.5555555555555556,
              "#d8576b"
             ],
             [
              0.6666666666666666,
              "#ed7953"
             ],
             [
              0.7777777777777778,
              "#fb9f3a"
             ],
             [
              0.8888888888888888,
              "#fdca26"
             ],
             [
              1,
              "#f0f921"
             ]
            ],
            "type": "histogram2dcontour"
           }
          ],
          "mesh3d": [
           {
            "colorbar": {
             "outlinewidth": 0,
             "ticks": ""
            },
            "type": "mesh3d"
           }
          ],
          "parcoords": [
           {
            "line": {
             "colorbar": {
              "outlinewidth": 0,
              "ticks": ""
             }
            },
            "type": "parcoords"
           }
          ],
          "pie": [
           {
            "automargin": true,
            "type": "pie"
           }
          ],
          "scatter": [
           {
            "fillpattern": {
             "fillmode": "overlay",
             "size": 10,
             "solidity": 0.2
            },
            "type": "scatter"
           }
          ],
          "scatter3d": [
           {
            "line": {
             "colorbar": {
              "outlinewidth": 0,
              "ticks": ""
             }
            },
            "marker": {
             "colorbar": {
              "outlinewidth": 0,
              "ticks": ""
             }
            },
            "type": "scatter3d"
           }
          ],
          "scattercarpet": [
           {
            "marker": {
             "colorbar": {
              "outlinewidth": 0,
              "ticks": ""
             }
            },
            "type": "scattercarpet"
           }
          ],
          "scattergeo": [
           {
            "marker": {
             "colorbar": {
              "outlinewidth": 0,
              "ticks": ""
             }
            },
            "type": "scattergeo"
           }
          ],
          "scattergl": [
           {
            "marker": {
             "colorbar": {
              "outlinewidth": 0,
              "ticks": ""
             }
            },
            "type": "scattergl"
           }
          ],
          "scattermap": [
           {
            "marker": {
             "colorbar": {
              "outlinewidth": 0,
              "ticks": ""
             }
            },
            "type": "scattermap"
           }
          ],
          "scattermapbox": [
           {
            "marker": {
             "colorbar": {
              "outlinewidth": 0,
              "ticks": ""
             }
            },
            "type": "scattermapbox"
           }
          ],
          "scatterpolar": [
           {
            "marker": {
             "colorbar": {
              "outlinewidth": 0,
              "ticks": ""
             }
            },
            "type": "scatterpolar"
           }
          ],
          "scatterpolargl": [
           {
            "marker": {
             "colorbar": {
              "outlinewidth": 0,
              "ticks": ""
             }
            },
            "type": "scatterpolargl"
           }
          ],
          "scatterternary": [
           {
            "marker": {
             "colorbar": {
              "outlinewidth": 0,
              "ticks": ""
             }
            },
            "type": "scatterternary"
           }
          ],
          "surface": [
           {
            "colorbar": {
             "outlinewidth": 0,
             "ticks": ""
            },
            "colorscale": [
             [
              0,
              "#0d0887"
             ],
             [
              0.1111111111111111,
              "#46039f"
             ],
             [
              0.2222222222222222,
              "#7201a8"
             ],
             [
              0.3333333333333333,
              "#9c179e"
             ],
             [
              0.4444444444444444,
              "#bd3786"
             ],
             [
              0.5555555555555556,
              "#d8576b"
             ],
             [
              0.6666666666666666,
              "#ed7953"
             ],
             [
              0.7777777777777778,
              "#fb9f3a"
             ],
             [
              0.8888888888888888,
              "#fdca26"
             ],
             [
              1,
              "#f0f921"
             ]
            ],
            "type": "surface"
           }
          ],
          "table": [
           {
            "cells": {
             "fill": {
              "color": "#EBF0F8"
             },
             "line": {
              "color": "white"
             }
            },
            "header": {
             "fill": {
              "color": "#C8D4E3"
             },
             "line": {
              "color": "white"
             }
            },
            "type": "table"
           }
          ]
         },
         "layout": {
          "annotationdefaults": {
           "arrowcolor": "#2a3f5f",
           "arrowhead": 0,
           "arrowwidth": 1
          },
          "autotypenumbers": "strict",
          "coloraxis": {
           "colorbar": {
            "outlinewidth": 0,
            "ticks": ""
           }
          },
          "colorscale": {
           "diverging": [
            [
             0,
             "#8e0152"
            ],
            [
             0.1,
             "#c51b7d"
            ],
            [
             0.2,
             "#de77ae"
            ],
            [
             0.3,
             "#f1b6da"
            ],
            [
             0.4,
             "#fde0ef"
            ],
            [
             0.5,
             "#f7f7f7"
            ],
            [
             0.6,
             "#e6f5d0"
            ],
            [
             0.7,
             "#b8e186"
            ],
            [
             0.8,
             "#7fbc41"
            ],
            [
             0.9,
             "#4d9221"
            ],
            [
             1,
             "#276419"
            ]
           ],
           "sequential": [
            [
             0,
             "#0d0887"
            ],
            [
             0.1111111111111111,
             "#46039f"
            ],
            [
             0.2222222222222222,
             "#7201a8"
            ],
            [
             0.3333333333333333,
             "#9c179e"
            ],
            [
             0.4444444444444444,
             "#bd3786"
            ],
            [
             0.5555555555555556,
             "#d8576b"
            ],
            [
             0.6666666666666666,
             "#ed7953"
            ],
            [
             0.7777777777777778,
             "#fb9f3a"
            ],
            [
             0.8888888888888888,
             "#fdca26"
            ],
            [
             1,
             "#f0f921"
            ]
           ],
           "sequentialminus": [
            [
             0,
             "#0d0887"
            ],
            [
             0.1111111111111111,
             "#46039f"
            ],
            [
             0.2222222222222222,
             "#7201a8"
            ],
            [
             0.3333333333333333,
             "#9c179e"
            ],
            [
             0.4444444444444444,
             "#bd3786"
            ],
            [
             0.5555555555555556,
             "#d8576b"
            ],
            [
             0.6666666666666666,
             "#ed7953"
            ],
            [
             0.7777777777777778,
             "#fb9f3a"
            ],
            [
             0.8888888888888888,
             "#fdca26"
            ],
            [
             1,
             "#f0f921"
            ]
           ]
          },
          "colorway": [
           "#636efa",
           "#EF553B",
           "#00cc96",
           "#ab63fa",
           "#FFA15A",
           "#19d3f3",
           "#FF6692",
           "#B6E880",
           "#FF97FF",
           "#FECB52"
          ],
          "font": {
           "color": "#2a3f5f"
          },
          "geo": {
           "bgcolor": "white",
           "lakecolor": "white",
           "landcolor": "#E5ECF6",
           "showlakes": true,
           "showland": true,
           "subunitcolor": "white"
          },
          "hoverlabel": {
           "align": "left"
          },
          "hovermode": "closest",
          "mapbox": {
           "style": "light"
          },
          "paper_bgcolor": "white",
          "plot_bgcolor": "#E5ECF6",
          "polar": {
           "angularaxis": {
            "gridcolor": "white",
            "linecolor": "white",
            "ticks": ""
           },
           "bgcolor": "#E5ECF6",
           "radialaxis": {
            "gridcolor": "white",
            "linecolor": "white",
            "ticks": ""
           }
          },
          "scene": {
           "xaxis": {
            "backgroundcolor": "#E5ECF6",
            "gridcolor": "white",
            "gridwidth": 2,
            "linecolor": "white",
            "showbackground": true,
            "ticks": "",
            "zerolinecolor": "white"
           },
           "yaxis": {
            "backgroundcolor": "#E5ECF6",
            "gridcolor": "white",
            "gridwidth": 2,
            "linecolor": "white",
            "showbackground": true,
            "ticks": "",
            "zerolinecolor": "white"
           },
           "zaxis": {
            "backgroundcolor": "#E5ECF6",
            "gridcolor": "white",
            "gridwidth": 2,
            "linecolor": "white",
            "showbackground": true,
            "ticks": "",
            "zerolinecolor": "white"
           }
          },
          "shapedefaults": {
           "line": {
            "color": "#2a3f5f"
           }
          },
          "ternary": {
           "aaxis": {
            "gridcolor": "white",
            "linecolor": "white",
            "ticks": ""
           },
           "baxis": {
            "gridcolor": "white",
            "linecolor": "white",
            "ticks": ""
           },
           "bgcolor": "#E5ECF6",
           "caxis": {
            "gridcolor": "white",
            "linecolor": "white",
            "ticks": ""
           }
          },
          "title": {
           "x": 0.05
          },
          "xaxis": {
           "automargin": true,
           "gridcolor": "white",
           "linecolor": "white",
           "ticks": "",
           "title": {
            "standoff": 15
           },
           "zerolinecolor": "white",
           "zerolinewidth": 2
          },
          "yaxis": {
           "automargin": true,
           "gridcolor": "white",
           "linecolor": "white",
           "ticks": "",
           "title": {
            "standoff": 15
           },
           "zerolinecolor": "white",
           "zerolinewidth": 2
          }
         }
        },
        "title": {
         "text": "Correlation Matrix"
        },
        "width": 700,
        "xaxis": {
         "anchor": "y",
         "constrain": "domain",
         "domain": [
          0,
          1
         ],
         "scaleanchor": "y"
        },
        "yaxis": {
         "anchor": "x",
         "autorange": "reversed",
         "constrain": "domain",
         "domain": [
          0,
          1
         ]
        }
       }
      }
     },
     "metadata": {},
     "output_type": "display_data"
    }
   ],
   "source": [
    "# Correlation matrix + heatmap using Plotly for the transformed data\n",
    "# Checking the correlations to check our hypothesis before using the data with the ML Model\n",
    "cm_df = encoded_df.corr()\n",
    "cm_df = cm_df[((cm_df >= 0.2) | (cm_df <= -0.2)) & (cm_df != 1.00)]\n",
    "cm_df = cm_df.dropna(how=\"all\", axis=0).dropna(how=\"all\", axis=1)\n",
    "\n",
    "fig = px.imshow(\n",
    "    cm_df,\n",
    "    text_auto=\".2f\",\n",
    "    zmin=-1,\n",
    "    zmax=1,\n",
    "    color_continuous_scale=px.colors.sequential.Turbo,\n",
    "    title=\"Correlation Matrix Heatmap\",\n",
    ")\n",
    "\n",
    "# Layout and show\n",
    "fig.update_layout(\n",
    "    title=\"Correlation Matrix\",\n",
    "    autosize=False,\n",
    "    width=700,\n",
    "    height=700,\n",
    ")\n",
    "fig.show()"
   ]
  },
  {
   "cell_type": "code",
   "execution_count": 7,
   "metadata": {},
   "outputs": [
    {
     "data": {
      "text/html": [
       "<div>\n",
       "<style scoped>\n",
       "    .dataframe tbody tr th:only-of-type {\n",
       "        vertical-align: middle;\n",
       "    }\n",
       "\n",
       "    .dataframe tbody tr th {\n",
       "        vertical-align: top;\n",
       "    }\n",
       "\n",
       "    .dataframe thead th {\n",
       "        text-align: right;\n",
       "    }\n",
       "</style>\n",
       "<table border=\"1\" class=\"dataframe\">\n",
       "  <thead>\n",
       "    <tr style=\"text-align: right;\">\n",
       "      <th></th>\n",
       "      <th>season_fall</th>\n",
       "      <th>season_spring</th>\n",
       "      <th>season_summer</th>\n",
       "      <th>season_winter</th>\n",
       "      <th>basin_EP</th>\n",
       "      <th>basin_NI</th>\n",
       "      <th>basin_SI</th>\n",
       "      <th>basin_SP</th>\n",
       "      <th>basin_WP</th>\n",
       "      <th>nature_DS</th>\n",
       "      <th>...</th>\n",
       "      <th>nature_MX</th>\n",
       "      <th>nature_NR</th>\n",
       "      <th>nature_TS</th>\n",
       "      <th>latitude</th>\n",
       "      <th>longitude</th>\n",
       "      <th>wind</th>\n",
       "      <th>distance_to_land</th>\n",
       "      <th>storm_speed</th>\n",
       "      <th>storm_direction</th>\n",
       "      <th>storm_stage</th>\n",
       "    </tr>\n",
       "  </thead>\n",
       "  <tbody>\n",
       "    <tr>\n",
       "      <th>0</th>\n",
       "      <td>0.0</td>\n",
       "      <td>0.0</td>\n",
       "      <td>1.0</td>\n",
       "      <td>0.0</td>\n",
       "      <td>0.0</td>\n",
       "      <td>0.0</td>\n",
       "      <td>0.0</td>\n",
       "      <td>1.0</td>\n",
       "      <td>0.0</td>\n",
       "      <td>0.0</td>\n",
       "      <td>...</td>\n",
       "      <td>0.0</td>\n",
       "      <td>0.0</td>\n",
       "      <td>1.0</td>\n",
       "      <td>-12.5</td>\n",
       "      <td>172.5</td>\n",
       "      <td>25.0</td>\n",
       "      <td>647.0</td>\n",
       "      <td>6.0</td>\n",
       "      <td>350.0</td>\n",
       "      <td>1.0</td>\n",
       "    </tr>\n",
       "    <tr>\n",
       "      <th>1</th>\n",
       "      <td>0.0</td>\n",
       "      <td>0.0</td>\n",
       "      <td>1.0</td>\n",
       "      <td>0.0</td>\n",
       "      <td>0.0</td>\n",
       "      <td>0.0</td>\n",
       "      <td>0.0</td>\n",
       "      <td>1.0</td>\n",
       "      <td>0.0</td>\n",
       "      <td>0.0</td>\n",
       "      <td>...</td>\n",
       "      <td>0.0</td>\n",
       "      <td>0.0</td>\n",
       "      <td>1.0</td>\n",
       "      <td>-12.2</td>\n",
       "      <td>172.4</td>\n",
       "      <td>25.0</td>\n",
       "      <td>653.0</td>\n",
       "      <td>6.0</td>\n",
       "      <td>350.0</td>\n",
       "      <td>1.0</td>\n",
       "    </tr>\n",
       "    <tr>\n",
       "      <th>2</th>\n",
       "      <td>0.0</td>\n",
       "      <td>0.0</td>\n",
       "      <td>1.0</td>\n",
       "      <td>0.0</td>\n",
       "      <td>0.0</td>\n",
       "      <td>0.0</td>\n",
       "      <td>0.0</td>\n",
       "      <td>1.0</td>\n",
       "      <td>0.0</td>\n",
       "      <td>0.0</td>\n",
       "      <td>...</td>\n",
       "      <td>0.0</td>\n",
       "      <td>0.0</td>\n",
       "      <td>1.0</td>\n",
       "      <td>-11.9</td>\n",
       "      <td>172.4</td>\n",
       "      <td>25.0</td>\n",
       "      <td>670.0</td>\n",
       "      <td>5.0</td>\n",
       "      <td>360.0</td>\n",
       "      <td>1.0</td>\n",
       "    </tr>\n",
       "    <tr>\n",
       "      <th>3</th>\n",
       "      <td>0.0</td>\n",
       "      <td>0.0</td>\n",
       "      <td>1.0</td>\n",
       "      <td>0.0</td>\n",
       "      <td>0.0</td>\n",
       "      <td>0.0</td>\n",
       "      <td>0.0</td>\n",
       "      <td>1.0</td>\n",
       "      <td>0.0</td>\n",
       "      <td>0.0</td>\n",
       "      <td>...</td>\n",
       "      <td>0.0</td>\n",
       "      <td>0.0</td>\n",
       "      <td>1.0</td>\n",
       "      <td>-11.7</td>\n",
       "      <td>172.4</td>\n",
       "      <td>25.0</td>\n",
       "      <td>682.0</td>\n",
       "      <td>4.0</td>\n",
       "      <td>10.0</td>\n",
       "      <td>1.0</td>\n",
       "    </tr>\n",
       "    <tr>\n",
       "      <th>4</th>\n",
       "      <td>0.0</td>\n",
       "      <td>0.0</td>\n",
       "      <td>1.0</td>\n",
       "      <td>0.0</td>\n",
       "      <td>0.0</td>\n",
       "      <td>0.0</td>\n",
       "      <td>0.0</td>\n",
       "      <td>1.0</td>\n",
       "      <td>0.0</td>\n",
       "      <td>0.0</td>\n",
       "      <td>...</td>\n",
       "      <td>0.0</td>\n",
       "      <td>0.0</td>\n",
       "      <td>1.0</td>\n",
       "      <td>-11.5</td>\n",
       "      <td>172.5</td>\n",
       "      <td>25.0</td>\n",
       "      <td>703.0</td>\n",
       "      <td>4.0</td>\n",
       "      <td>20.0</td>\n",
       "      <td>1.0</td>\n",
       "    </tr>\n",
       "    <tr>\n",
       "      <th>...</th>\n",
       "      <td>...</td>\n",
       "      <td>...</td>\n",
       "      <td>...</td>\n",
       "      <td>...</td>\n",
       "      <td>...</td>\n",
       "      <td>...</td>\n",
       "      <td>...</td>\n",
       "      <td>...</td>\n",
       "      <td>...</td>\n",
       "      <td>...</td>\n",
       "      <td>...</td>\n",
       "      <td>...</td>\n",
       "      <td>...</td>\n",
       "      <td>...</td>\n",
       "      <td>...</td>\n",
       "      <td>...</td>\n",
       "      <td>...</td>\n",
       "      <td>...</td>\n",
       "      <td>...</td>\n",
       "      <td>...</td>\n",
       "      <td>...</td>\n",
       "    </tr>\n",
       "    <tr>\n",
       "      <th>45020</th>\n",
       "      <td>0.0</td>\n",
       "      <td>0.0</td>\n",
       "      <td>0.0</td>\n",
       "      <td>1.0</td>\n",
       "      <td>0.0</td>\n",
       "      <td>0.0</td>\n",
       "      <td>0.0</td>\n",
       "      <td>0.0</td>\n",
       "      <td>1.0</td>\n",
       "      <td>0.0</td>\n",
       "      <td>...</td>\n",
       "      <td>0.0</td>\n",
       "      <td>0.0</td>\n",
       "      <td>1.0</td>\n",
       "      <td>14.6</td>\n",
       "      <td>141.6</td>\n",
       "      <td>25.0</td>\n",
       "      <td>1760.0</td>\n",
       "      <td>9.0</td>\n",
       "      <td>250.0</td>\n",
       "      <td>1.0</td>\n",
       "    </tr>\n",
       "    <tr>\n",
       "      <th>45021</th>\n",
       "      <td>0.0</td>\n",
       "      <td>0.0</td>\n",
       "      <td>0.0</td>\n",
       "      <td>1.0</td>\n",
       "      <td>0.0</td>\n",
       "      <td>0.0</td>\n",
       "      <td>0.0</td>\n",
       "      <td>0.0</td>\n",
       "      <td>1.0</td>\n",
       "      <td>0.0</td>\n",
       "      <td>...</td>\n",
       "      <td>0.0</td>\n",
       "      <td>0.0</td>\n",
       "      <td>1.0</td>\n",
       "      <td>14.4</td>\n",
       "      <td>141.2</td>\n",
       "      <td>25.0</td>\n",
       "      <td>1713.0</td>\n",
       "      <td>9.0</td>\n",
       "      <td>250.0</td>\n",
       "      <td>1.0</td>\n",
       "    </tr>\n",
       "    <tr>\n",
       "      <th>45022</th>\n",
       "      <td>0.0</td>\n",
       "      <td>0.0</td>\n",
       "      <td>0.0</td>\n",
       "      <td>1.0</td>\n",
       "      <td>0.0</td>\n",
       "      <td>0.0</td>\n",
       "      <td>0.0</td>\n",
       "      <td>0.0</td>\n",
       "      <td>1.0</td>\n",
       "      <td>0.0</td>\n",
       "      <td>...</td>\n",
       "      <td>0.0</td>\n",
       "      <td>0.0</td>\n",
       "      <td>1.0</td>\n",
       "      <td>14.3</td>\n",
       "      <td>140.8</td>\n",
       "      <td>25.0</td>\n",
       "      <td>1669.0</td>\n",
       "      <td>8.0</td>\n",
       "      <td>250.0</td>\n",
       "      <td>1.0</td>\n",
       "    </tr>\n",
       "    <tr>\n",
       "      <th>45023</th>\n",
       "      <td>0.0</td>\n",
       "      <td>0.0</td>\n",
       "      <td>0.0</td>\n",
       "      <td>1.0</td>\n",
       "      <td>0.0</td>\n",
       "      <td>0.0</td>\n",
       "      <td>0.0</td>\n",
       "      <td>0.0</td>\n",
       "      <td>1.0</td>\n",
       "      <td>0.0</td>\n",
       "      <td>...</td>\n",
       "      <td>0.0</td>\n",
       "      <td>0.0</td>\n",
       "      <td>1.0</td>\n",
       "      <td>14.1</td>\n",
       "      <td>140.4</td>\n",
       "      <td>23.0</td>\n",
       "      <td>1622.0</td>\n",
       "      <td>8.0</td>\n",
       "      <td>250.0</td>\n",
       "      <td>1.0</td>\n",
       "    </tr>\n",
       "    <tr>\n",
       "      <th>45024</th>\n",
       "      <td>0.0</td>\n",
       "      <td>0.0</td>\n",
       "      <td>0.0</td>\n",
       "      <td>1.0</td>\n",
       "      <td>0.0</td>\n",
       "      <td>0.0</td>\n",
       "      <td>0.0</td>\n",
       "      <td>0.0</td>\n",
       "      <td>1.0</td>\n",
       "      <td>0.0</td>\n",
       "      <td>...</td>\n",
       "      <td>0.0</td>\n",
       "      <td>0.0</td>\n",
       "      <td>1.0</td>\n",
       "      <td>14.0</td>\n",
       "      <td>140.0</td>\n",
       "      <td>20.0</td>\n",
       "      <td>1578.0</td>\n",
       "      <td>8.0</td>\n",
       "      <td>250.0</td>\n",
       "      <td>1.0</td>\n",
       "    </tr>\n",
       "  </tbody>\n",
       "</table>\n",
       "<p>45025 rows × 21 columns</p>\n",
       "</div>"
      ],
      "text/plain": [
       "       season_fall  season_spring  season_summer  season_winter  basin_EP  \\\n",
       "0              0.0            0.0            1.0            0.0       0.0   \n",
       "1              0.0            0.0            1.0            0.0       0.0   \n",
       "2              0.0            0.0            1.0            0.0       0.0   \n",
       "3              0.0            0.0            1.0            0.0       0.0   \n",
       "4              0.0            0.0            1.0            0.0       0.0   \n",
       "...            ...            ...            ...            ...       ...   \n",
       "45020          0.0            0.0            0.0            1.0       0.0   \n",
       "45021          0.0            0.0            0.0            1.0       0.0   \n",
       "45022          0.0            0.0            0.0            1.0       0.0   \n",
       "45023          0.0            0.0            0.0            1.0       0.0   \n",
       "45024          0.0            0.0            0.0            1.0       0.0   \n",
       "\n",
       "       basin_NI  basin_SI  basin_SP  basin_WP  nature_DS  ...  nature_MX  \\\n",
       "0           0.0       0.0       1.0       0.0        0.0  ...        0.0   \n",
       "1           0.0       0.0       1.0       0.0        0.0  ...        0.0   \n",
       "2           0.0       0.0       1.0       0.0        0.0  ...        0.0   \n",
       "3           0.0       0.0       1.0       0.0        0.0  ...        0.0   \n",
       "4           0.0       0.0       1.0       0.0        0.0  ...        0.0   \n",
       "...         ...       ...       ...       ...        ...  ...        ...   \n",
       "45020       0.0       0.0       0.0       1.0        0.0  ...        0.0   \n",
       "45021       0.0       0.0       0.0       1.0        0.0  ...        0.0   \n",
       "45022       0.0       0.0       0.0       1.0        0.0  ...        0.0   \n",
       "45023       0.0       0.0       0.0       1.0        0.0  ...        0.0   \n",
       "45024       0.0       0.0       0.0       1.0        0.0  ...        0.0   \n",
       "\n",
       "       nature_NR  nature_TS  latitude  longitude  wind  distance_to_land  \\\n",
       "0            0.0        1.0     -12.5      172.5  25.0             647.0   \n",
       "1            0.0        1.0     -12.2      172.4  25.0             653.0   \n",
       "2            0.0        1.0     -11.9      172.4  25.0             670.0   \n",
       "3            0.0        1.0     -11.7      172.4  25.0             682.0   \n",
       "4            0.0        1.0     -11.5      172.5  25.0             703.0   \n",
       "...          ...        ...       ...        ...   ...               ...   \n",
       "45020        0.0        1.0      14.6      141.6  25.0            1760.0   \n",
       "45021        0.0        1.0      14.4      141.2  25.0            1713.0   \n",
       "45022        0.0        1.0      14.3      140.8  25.0            1669.0   \n",
       "45023        0.0        1.0      14.1      140.4  23.0            1622.0   \n",
       "45024        0.0        1.0      14.0      140.0  20.0            1578.0   \n",
       "\n",
       "       storm_speed  storm_direction  storm_stage  \n",
       "0              6.0            350.0          1.0  \n",
       "1              6.0            350.0          1.0  \n",
       "2              5.0            360.0          1.0  \n",
       "3              4.0             10.0          1.0  \n",
       "4              4.0             20.0          1.0  \n",
       "...            ...              ...          ...  \n",
       "45020          9.0            250.0          1.0  \n",
       "45021          9.0            250.0          1.0  \n",
       "45022          8.0            250.0          1.0  \n",
       "45023          8.0            250.0          1.0  \n",
       "45024          8.0            250.0          1.0  \n",
       "\n",
       "[45025 rows x 21 columns]"
      ]
     },
     "metadata": {},
     "output_type": "display_data"
    }
   ],
   "source": [
    "display(encoded_df)"
   ]
  },
  {
   "cell_type": "markdown",
   "metadata": {},
   "source": [
    "#### Splitting the dataframe"
   ]
  },
  {
   "cell_type": "code",
   "execution_count": 8,
   "metadata": {},
   "outputs": [],
   "source": [
    "features, target = (\n",
    "    encoded_df.loc[:, \"season_fall\":\"storm_direction\"],\n",
    "    encoded_df[\"storm_stage\"],\n",
    ")\n",
    "\n",
    "# Splitting the dataframe in two\n",
    "feat_train, feat_test, target_train, target_test = train_test_split(\n",
    "    features, target\n",
    ")"
   ]
  },
  {
   "cell_type": "markdown",
   "metadata": {},
   "source": [
    "#### Scalling and Normalizing"
   ]
  },
  {
   "cell_type": "code",
   "execution_count": 9,
   "metadata": {},
   "outputs": [],
   "source": [
    "# Scalers\n",
    "standard_scaler = StandardScaler()  # Less sensible to outliers\n",
    "min_max_scaler = MinMaxScaler()  # Better for KNN\n",
    "\n",
    "# Normalizing\n",
    "feat_train = min_max_scaler.fit_transform(feat_train)\n",
    "feat_test = min_max_scaler.transform(feat_test)"
   ]
  },
  {
   "cell_type": "markdown",
   "metadata": {},
   "source": [
    "#### KNN GridSearchCV"
   ]
  },
  {
   "cell_type": "code",
   "execution_count": 10,
   "metadata": {},
   "outputs": [
    {
     "name": "stdout",
     "output_type": "stream",
     "text": [
      "Cross-validation results:\n",
      "\n",
      "accuracy = 0.88 (+/-0) for {'n_neighbors': 2}\n",
      "accuracy = 0.89 (+/-0) for {'n_neighbors': 3}\n",
      "accuracy = 0.87 (+/-0) for {'n_neighbors': 4}\n",
      "accuracy = 0.87 (+/-0) for {'n_neighbors': 5}\n",
      "accuracy = 0.86 (+/-0) for {'n_neighbors': 6}\n",
      "accuracy = 0.86 (+/-0) for {'n_neighbors': 7}\n",
      "accuracy = 0.86 (+/-0) for {'n_neighbors': 8}\n",
      "accuracy = 0.86 (+/-0) for {'n_neighbors': 9}\n",
      "accuracy = 0.85 (+/-0) for {'n_neighbors': 10}\n",
      "accuracy = 0.85 (+/-0) for {'n_neighbors': 11}\n",
      "accuracy = 0.85 (+/-0) for {'n_neighbors': 12}\n",
      "accuracy = 0.85 (+/-0) for {'n_neighbors': 13}\n",
      "accuracy = 0.84 (+/-0) for {'n_neighbors': 14}\n",
      "accuracy = 0.84 (+/-0) for {'n_neighbors': 15}\n",
      "accuracy = 0.84 (+/-0) for {'n_neighbors': 16}\n",
      "accuracy = 0.84 (+/-0) for {'n_neighbors': 17}\n",
      "accuracy = 0.84 (+/-0) for {'n_neighbors': 18}\n",
      "accuracy = 0.84 (+/-0) for {'n_neighbors': 19}\n",
      "accuracy = 0.83 (+/-0) for {'n_neighbors': 20}\n",
      "accuracy = 0.83 (+/-0) for {'n_neighbors': 21}\n",
      "accuracy = 0.83 (+/-0) for {'n_neighbors': 22}\n",
      "accuracy = 0.83 (+/-0) for {'n_neighbors': 23}\n",
      "accuracy = 0.83 (+/-0) for {'n_neighbors': 24}\n",
      "accuracy = 0.83 (+/-0) for {'n_neighbors': 25}\n",
      "accuracy = 0.83 (+/-0) for {'n_neighbors': 26}\n",
      "accuracy = 0.83 (+/-0) for {'n_neighbors': 27}\n",
      "accuracy = 0.83 (+/-0) for {'n_neighbors': 28}\n",
      "accuracy = 0.83 (+/-0) for {'n_neighbors': 29}\n",
      "accuracy = 0.82 (+/-0) for {'n_neighbors': 30}\n",
      "accuracy = 0.82 (+/-0) for {'n_neighbors': 31}\n",
      "accuracy = 0.82 (+/-0) for {'n_neighbors': 32}\n",
      "accuracy = 0.82 (+/-0) for {'n_neighbors': 33}\n",
      "accuracy = 0.82 (+/-0) for {'n_neighbors': 34}\n",
      "accuracy = 0.82 (+/-0) for {'n_neighbors': 35}\n",
      "accuracy = 0.82 (+/-0) for {'n_neighbors': 36}\n",
      "accuracy = 0.82 (+/-0) for {'n_neighbors': 37}\n",
      "accuracy = 0.82 (+/-0) for {'n_neighbors': 38}\n",
      "accuracy = 0.82 (+/-0) for {'n_neighbors': 39}\n",
      "accuracy = 0.82 (+/-0) for {'n_neighbors': 40}\n",
      "accuracy = 0.82 (+/-0) for {'n_neighbors': 41}\n",
      "accuracy = 0.81 (+/-0) for {'n_neighbors': 42}\n",
      "accuracy = 0.81 (+/-0) for {'n_neighbors': 43}\n",
      "accuracy = 0.81 (+/-0) for {'n_neighbors': 44}\n",
      "accuracy = 0.81 (+/-0) for {'n_neighbors': 45}\n",
      "accuracy = 0.81 (+/-0) for {'n_neighbors': 46}\n",
      "accuracy = 0.81 (+/-0) for {'n_neighbors': 47}\n",
      "accuracy = 0.81 (+/-0) for {'n_neighbors': 48}\n",
      "accuracy = 0.81 (+/-0) for {'n_neighbors': 49}\n",
      "accuracy = 0.81 (+/-0) for {'n_neighbors': 50}\n",
      "accuracy = 0.81 (+/-0) for {'n_neighbors': 51}\n",
      "accuracy = 0.81 (+/-0) for {'n_neighbors': 52}\n",
      "accuracy = 0.81 (+/-0) for {'n_neighbors': 53}\n",
      "accuracy = 0.81 (+/-0) for {'n_neighbors': 54}\n",
      "accuracy = 0.81 (+/-0) for {'n_neighbors': 55}\n",
      "accuracy = 0.81 (+/-0) for {'n_neighbors': 56}\n",
      "accuracy = 0.81 (+/-0) for {'n_neighbors': 57}\n",
      "accuracy = 0.81 (+/-0) for {'n_neighbors': 58}\n",
      "accuracy = 0.80 (+/-0) for {'n_neighbors': 59}\n",
      "accuracy = 0.80 (+/-0) for {'n_neighbors': 60}\n",
      "accuracy = 0.80 (+/-0) for {'n_neighbors': 61}\n",
      "accuracy = 0.80 (+/-0) for {'n_neighbors': 62}\n",
      "accuracy = 0.80 (+/-0) for {'n_neighbors': 63}\n",
      "accuracy = 0.80 (+/-0) for {'n_neighbors': 64}\n",
      "accuracy = 0.80 (+/-0) for {'n_neighbors': 65}\n",
      "accuracy = 0.80 (+/-0) for {'n_neighbors': 66}\n",
      "accuracy = 0.80 (+/-0) for {'n_neighbors': 67}\n",
      "accuracy = 0.80 (+/-0) for {'n_neighbors': 68}\n",
      "accuracy = 0.80 (+/-0) for {'n_neighbors': 69}\n",
      "accuracy = 0.80 (+/-0) for {'n_neighbors': 70}\n",
      "accuracy = 0.80 (+/-0) for {'n_neighbors': 71}\n",
      "accuracy = 0.80 (+/-0) for {'n_neighbors': 72}\n",
      "accuracy = 0.80 (+/-0) for {'n_neighbors': 73}\n",
      "accuracy = 0.80 (+/-0) for {'n_neighbors': 74}\n",
      "accuracy = 0.80 (+/-0) for {'n_neighbors': 75}\n",
      "accuracy = 0.80 (+/-0) for {'n_neighbors': 76}\n",
      "accuracy = 0.79 (+/-0) for {'n_neighbors': 77}\n",
      "accuracy = 0.79 (+/-0) for {'n_neighbors': 78}\n",
      "accuracy = 0.79 (+/-0) for {'n_neighbors': 79}\n",
      "accuracy = 0.79 (+/-0) for {'n_neighbors': 80}\n",
      "accuracy = 0.79 (+/-0) for {'n_neighbors': 81}\n",
      "accuracy = 0.79 (+/-0) for {'n_neighbors': 82}\n",
      "accuracy = 0.79 (+/-0) for {'n_neighbors': 83}\n",
      "accuracy = 0.79 (+/-0) for {'n_neighbors': 84}\n",
      "accuracy = 0.79 (+/-0) for {'n_neighbors': 85}\n",
      "accuracy = 0.79 (+/-0) for {'n_neighbors': 86}\n",
      "accuracy = 0.79 (+/-0) for {'n_neighbors': 87}\n",
      "accuracy = 0.79 (+/-0) for {'n_neighbors': 88}\n",
      "accuracy = 0.79 (+/-0) for {'n_neighbors': 89}\n",
      "accuracy = 0.79 (+/-0) for {'n_neighbors': 90}\n",
      "accuracy = 0.79 (+/-0) for {'n_neighbors': 91}\n",
      "accuracy = 0.79 (+/-0) for {'n_neighbors': 92}\n",
      "accuracy = 0.79 (+/-0) for {'n_neighbors': 93}\n",
      "accuracy = 0.79 (+/-0) for {'n_neighbors': 94}\n",
      "accuracy = 0.79 (+/-0) for {'n_neighbors': 95}\n",
      "accuracy = 0.79 (+/-0) for {'n_neighbors': 96}\n",
      "accuracy = 0.79 (+/-0) for {'n_neighbors': 97}\n",
      "accuracy = 0.79 (+/-0) for {'n_neighbors': 98}\n",
      "accuracy = 0.79 (+/-0) for {'n_neighbors': 99}\n",
      "accuracy = 0.78 (+/-0) for {'n_neighbors': 100}\n",
      "accuracy = 0.79 (+/-0) for {'n_neighbors': 101}\n",
      "accuracy = 0.78 (+/-0) for {'n_neighbors': 102}\n",
      "accuracy = 0.78 (+/-0) for {'n_neighbors': 103}\n",
      "accuracy = 0.78 (+/-0) for {'n_neighbors': 104}\n",
      "accuracy = 0.78 (+/-0) for {'n_neighbors': 105}\n",
      "accuracy = 0.78 (+/-0) for {'n_neighbors': 106}\n",
      "accuracy = 0.78 (+/-0) for {'n_neighbors': 107}\n",
      "accuracy = 0.78 (+/-0) for {'n_neighbors': 108}\n",
      "accuracy = 0.78 (+/-0) for {'n_neighbors': 109}\n",
      "accuracy = 0.78 (+/-0) for {'n_neighbors': 110}\n",
      "accuracy = 0.78 (+/-0) for {'n_neighbors': 111}\n",
      "accuracy = 0.78 (+/-0) for {'n_neighbors': 112}\n",
      "accuracy = 0.78 (+/-0) for {'n_neighbors': 113}\n",
      "accuracy = 0.78 (+/-0) for {'n_neighbors': 114}\n",
      "accuracy = 0.78 (+/-0) for {'n_neighbors': 115}\n",
      "accuracy = 0.78 (+/-0) for {'n_neighbors': 116}\n",
      "accuracy = 0.78 (+/-0) for {'n_neighbors': 117}\n",
      "accuracy = 0.78 (+/-0) for {'n_neighbors': 118}\n",
      "accuracy = 0.78 (+/-0) for {'n_neighbors': 119}\n",
      "accuracy = 0.78 (+/-0) for {'n_neighbors': 120}\n",
      "accuracy = 0.78 (+/-0) for {'n_neighbors': 121}\n",
      "accuracy = 0.78 (+/-0) for {'n_neighbors': 122}\n",
      "accuracy = 0.78 (+/-0) for {'n_neighbors': 123}\n",
      "accuracy = 0.78 (+/-0) for {'n_neighbors': 124}\n",
      "accuracy = 0.78 (+/-0) for {'n_neighbors': 125}\n",
      "accuracy = 0.78 (+/-0) for {'n_neighbors': 126}\n",
      "accuracy = 0.78 (+/-0) for {'n_neighbors': 127}\n",
      "accuracy = 0.78 (+/-0) for {'n_neighbors': 128}\n",
      "accuracy = 0.78 (+/-0) for {'n_neighbors': 129}\n",
      "accuracy = 0.77 (+/-0) for {'n_neighbors': 130}\n",
      "accuracy = 0.77 (+/-0) for {'n_neighbors': 131}\n",
      "accuracy = 0.77 (+/-0) for {'n_neighbors': 132}\n",
      "accuracy = 0.77 (+/-0) for {'n_neighbors': 133}\n",
      "accuracy = 0.77 (+/-0) for {'n_neighbors': 134}\n",
      "accuracy = 0.77 (+/-0) for {'n_neighbors': 135}\n",
      "accuracy = 0.77 (+/-0) for {'n_neighbors': 136}\n",
      "accuracy = 0.77 (+/-0) for {'n_neighbors': 137}\n",
      "accuracy = 0.77 (+/-0) for {'n_neighbors': 138}\n",
      "accuracy = 0.77 (+/-0) for {'n_neighbors': 139}\n",
      "accuracy = 0.77 (+/-0) for {'n_neighbors': 140}\n",
      "accuracy = 0.77 (+/-0) for {'n_neighbors': 141}\n",
      "accuracy = 0.77 (+/-0) for {'n_neighbors': 142}\n",
      "accuracy = 0.77 (+/-0) for {'n_neighbors': 143}\n",
      "accuracy = 0.77 (+/-0) for {'n_neighbors': 144}\n",
      "accuracy = 0.77 (+/-0) for {'n_neighbors': 145}\n",
      "accuracy = 0.77 (+/-0) for {'n_neighbors': 146}\n",
      "accuracy = 0.77 (+/-0) for {'n_neighbors': 147}\n",
      "accuracy = 0.77 (+/-0) for {'n_neighbors': 148}\n",
      "accuracy = 0.77 (+/-0) for {'n_neighbors': 149}\n",
      "accuracy = 0.77 (+/-0) for {'n_neighbors': 150}\n",
      "accuracy = 0.77 (+/-0) for {'n_neighbors': 151}\n",
      "accuracy = 0.77 (+/-0) for {'n_neighbors': 152}\n",
      "accuracy = 0.76 (+/-0) for {'n_neighbors': 153}\n",
      "accuracy = 0.76 (+/-0) for {'n_neighbors': 154}\n",
      "accuracy = 0.76 (+/-0) for {'n_neighbors': 155}\n",
      "accuracy = 0.76 (+/-0) for {'n_neighbors': 156}\n",
      "accuracy = 0.76 (+/-0) for {'n_neighbors': 157}\n",
      "accuracy = 0.76 (+/-0) for {'n_neighbors': 158}\n",
      "accuracy = 0.76 (+/-0) for {'n_neighbors': 159}\n",
      "accuracy = 0.76 (+/-0) for {'n_neighbors': 160}\n",
      "accuracy = 0.76 (+/-0) for {'n_neighbors': 161}\n",
      "accuracy = 0.76 (+/-0) for {'n_neighbors': 162}\n",
      "accuracy = 0.76 (+/-0) for {'n_neighbors': 163}\n",
      "accuracy = 0.76 (+/-0) for {'n_neighbors': 164}\n",
      "accuracy = 0.76 (+/-0) for {'n_neighbors': 165}\n",
      "accuracy = 0.76 (+/-0) for {'n_neighbors': 166}\n",
      "accuracy = 0.76 (+/-0) for {'n_neighbors': 167}\n",
      "accuracy = 0.76 (+/-0) for {'n_neighbors': 168}\n",
      "accuracy = 0.76 (+/-0) for {'n_neighbors': 169}\n",
      "accuracy = 0.76 (+/-0) for {'n_neighbors': 170}\n",
      "accuracy = 0.76 (+/-0) for {'n_neighbors': 171}\n",
      "accuracy = 0.76 (+/-0) for {'n_neighbors': 172}\n",
      "accuracy = 0.76 (+/-0) for {'n_neighbors': 173}\n",
      "accuracy = 0.76 (+/-0) for {'n_neighbors': 174}\n",
      "accuracy = 0.76 (+/-0) for {'n_neighbors': 175}\n",
      "accuracy = 0.76 (+/-0) for {'n_neighbors': 176}\n",
      "accuracy = 0.76 (+/-0) for {'n_neighbors': 177}\n",
      "accuracy = 0.76 (+/-0) for {'n_neighbors': 178}\n",
      "accuracy = 0.76 (+/-0) for {'n_neighbors': 179}\n",
      "accuracy = 0.76 (+/-0) for {'n_neighbors': 180}\n",
      "accuracy = 0.76 (+/-0) for {'n_neighbors': 181}\n",
      "accuracy = 0.76 (+/-0) for {'n_neighbors': 182}\n",
      "accuracy = 0.76 (+/-0) for {'n_neighbors': 183}\n",
      "accuracy = 0.76 (+/-0) for {'n_neighbors': 184}\n",
      "accuracy = 0.76 (+/-0) for {'n_neighbors': 185}\n",
      "accuracy = 0.76 (+/-0) for {'n_neighbors': 186}\n",
      "accuracy = 0.76 (+/-0) for {'n_neighbors': 187}\n",
      "accuracy = 0.76 (+/-0) for {'n_neighbors': 188}\n",
      "accuracy = 0.76 (+/-0) for {'n_neighbors': 189}\n",
      "accuracy = 0.76 (+/-0) for {'n_neighbors': 190}\n",
      "accuracy = 0.76 (+/-0) for {'n_neighbors': 191}\n",
      "accuracy = 0.76 (+/-0) for {'n_neighbors': 192}\n",
      "accuracy = 0.76 (+/-0) for {'n_neighbors': 193}\n",
      "accuracy = 0.76 (+/-0) for {'n_neighbors': 194}\n",
      "accuracy = 0.76 (+/-0) for {'n_neighbors': 195}\n",
      "accuracy = 0.75 (+/-0) for {'n_neighbors': 196}\n",
      "accuracy = 0.75 (+/-0) for {'n_neighbors': 197}\n",
      "accuracy = 0.75 (+/-0) for {'n_neighbors': 198}\n",
      "accuracy = 0.75 (+/-0) for {'n_neighbors': 199}\n",
      "\n",
      "               precision    recall  f1-score   support\n",
      "\n",
      "         0.0       0.89      0.90      0.89       203\n",
      "         1.0       0.91      0.92      0.92      3869\n",
      "         2.0       0.88      0.90      0.89      4248\n",
      "         3.0       0.60      0.44      0.50       178\n",
      "         4.0       0.94      0.93      0.93      2669\n",
      "         5.0       0.98      0.87      0.92        52\n",
      "         6.0       0.90      0.47      0.62        38\n",
      "\n",
      "    accuracy                           0.90     11257\n",
      "   macro avg       0.87      0.77      0.81     11257\n",
      "weighted avg       0.90      0.90      0.90     11257\n",
      "\n"
     ]
    }
   ],
   "source": [
    "# Hyperparameters\n",
    "param_grid = {\"n_neighbors\": range(2, 200)}\n",
    "\n",
    "# Score to optimize\n",
    "score = \"accuracy\"\n",
    "\n",
    "# KNN classifier with GridSearchCV\n",
    "knn_classifier = GridSearchCV(\n",
    "    neighbors.KNeighborsClassifier(),\n",
    "    param_grid,\n",
    "    scoring=score,\n",
    ")\n",
    "\n",
    "knn_classifier.fit(feat_train, target_train)\n",
    "\n",
    "# Results\n",
    "print(\"Cross-validation results:\\n\")\n",
    "for mean, std, params in zip(\n",
    "    knn_classifier.cv_results_[\"mean_test_score\"],\n",
    "    knn_classifier.cv_results_[\"std_test_score\"],\n",
    "    knn_classifier.cv_results_[\"params\"],\n",
    "):\n",
    "    print(\n",
    "        \"{} = {:.2f} (+/-{:.0f}) for {}\".format(score, mean, std * 2, params)\n",
    "    )\n",
    "\n",
    "target_pred = knn_classifier.predict(feat_test)\n",
    "target_true = target_test\n",
    "\n",
    "print(\"\\n\", classification_report(target_true, target_pred))"
   ]
  },
  {
   "cell_type": "code",
   "execution_count": 11,
   "metadata": {},
   "outputs": [
    {
     "data": {
      "application/vnd.plotly.v1+json": {
       "config": {
        "plotlyServerURL": "https://plot.ly"
       },
       "data": [
        {
         "coloraxis": "coloraxis",
         "hovertemplate": "x: %{x}<br>y: %{y}<br>Count: %{z}<extra></extra>",
         "name": "0",
         "texttemplate": "%{z:.2f}",
         "type": "heatmap",
         "x": [
          "Stage 0",
          "Stage 1",
          "Stage 2",
          "Stage 3",
          "Stage 4",
          "Stage 5",
          "Stage 6"
         ],
         "xaxis": "x",
         "y": [
          "Stage 0",
          "Stage 1",
          "Stage 2",
          "Stage 3",
          "Stage 4",
          "Stage 5",
          "Stage 6"
         ],
         "yaxis": "y",
         "z": {
          "bdata": "1AjLPY2w7D9/cTKIPHC1P4cf1SVmLZQ/AAAAAAAAAAAAAAAAAAAAAAAAAAAAAAAAAAAAAAAAAACt0tCcVv9xP+FEe02RXO0/4jLLNa/Isz8AAAAAAAAAANBNiIRR8EA/AAAAAAAAAADQTYiEUfAwP6XTs6ng2j4/UJl2DtYssT+zxPiUaefsP6rFwmT1UXI/T7SOyCDUmD+l07Op4NouP6XTs6ng2i4/AAAAAAAAAAAAAAAAAAAAAA5zmMMc5tA/wQUucIEL3D8xhznMYQ7TPwAAAAAAAAAAAAAAAAAAAAAAAAAAAAAAAHJMj5IoHYA/T7KRtSeqqj8CS3r50xaKP32+dpKNrO0/AAAAAAAAAAAAAAAAAAAAAAAAAAAAAAAAFDuxEzuxoz+e2Imd2ImtPwAAAAAAAAAAFDuxEzuxoz8UO7ETO7HrPwAAAAAAAAAAXkN5DeU1tD95DeU1lNfQP0N5DeU1lMc/AAAAAAAAAAAAAAAAAAAAAAAAAAAAAAAADeU1lNdQ3j8=",
          "dtype": "f8",
          "shape": "7, 7"
         }
        }
       ],
       "layout": {
        "coloraxis": {
         "colorbar": {
          "title": {
           "text": "Count"
          }
         },
         "colorscale": [
          [
           0,
           "rgb(254, 245, 244)"
          ],
          [
           0.09090909090909091,
           "rgb(222, 224, 210)"
          ],
          [
           0.18181818181818182,
           "rgb(189, 206, 181)"
          ],
          [
           0.2727272727272727,
           "rgb(153, 189, 156)"
          ],
          [
           0.36363636363636365,
           "rgb(110, 173, 138)"
          ],
          [
           0.45454545454545453,
           "rgb(65, 157, 129)"
          ],
          [
           0.5454545454545454,
           "rgb(25, 137, 125)"
          ],
          [
           0.6363636363636364,
           "rgb(18, 116, 117)"
          ],
          [
           0.7272727272727273,
           "rgb(25, 94, 106)"
          ],
          [
           0.8181818181818182,
           "rgb(28, 72, 93)"
          ],
          [
           0.9090909090909091,
           "rgb(25, 51, 80)"
          ],
          [
           1,
           "rgb(20, 29, 67)"
          ]
         ]
        },
        "template": {
         "data": {
          "bar": [
           {
            "error_x": {
             "color": "#2a3f5f"
            },
            "error_y": {
             "color": "#2a3f5f"
            },
            "marker": {
             "line": {
              "color": "#E5ECF6",
              "width": 0.5
             },
             "pattern": {
              "fillmode": "overlay",
              "size": 10,
              "solidity": 0.2
             }
            },
            "type": "bar"
           }
          ],
          "barpolar": [
           {
            "marker": {
             "line": {
              "color": "#E5ECF6",
              "width": 0.5
             },
             "pattern": {
              "fillmode": "overlay",
              "size": 10,
              "solidity": 0.2
             }
            },
            "type": "barpolar"
           }
          ],
          "carpet": [
           {
            "aaxis": {
             "endlinecolor": "#2a3f5f",
             "gridcolor": "white",
             "linecolor": "white",
             "minorgridcolor": "white",
             "startlinecolor": "#2a3f5f"
            },
            "baxis": {
             "endlinecolor": "#2a3f5f",
             "gridcolor": "white",
             "linecolor": "white",
             "minorgridcolor": "white",
             "startlinecolor": "#2a3f5f"
            },
            "type": "carpet"
           }
          ],
          "choropleth": [
           {
            "colorbar": {
             "outlinewidth": 0,
             "ticks": ""
            },
            "type": "choropleth"
           }
          ],
          "contour": [
           {
            "colorbar": {
             "outlinewidth": 0,
             "ticks": ""
            },
            "colorscale": [
             [
              0,
              "#0d0887"
             ],
             [
              0.1111111111111111,
              "#46039f"
             ],
             [
              0.2222222222222222,
              "#7201a8"
             ],
             [
              0.3333333333333333,
              "#9c179e"
             ],
             [
              0.4444444444444444,
              "#bd3786"
             ],
             [
              0.5555555555555556,
              "#d8576b"
             ],
             [
              0.6666666666666666,
              "#ed7953"
             ],
             [
              0.7777777777777778,
              "#fb9f3a"
             ],
             [
              0.8888888888888888,
              "#fdca26"
             ],
             [
              1,
              "#f0f921"
             ]
            ],
            "type": "contour"
           }
          ],
          "contourcarpet": [
           {
            "colorbar": {
             "outlinewidth": 0,
             "ticks": ""
            },
            "type": "contourcarpet"
           }
          ],
          "heatmap": [
           {
            "colorbar": {
             "outlinewidth": 0,
             "ticks": ""
            },
            "colorscale": [
             [
              0,
              "#0d0887"
             ],
             [
              0.1111111111111111,
              "#46039f"
             ],
             [
              0.2222222222222222,
              "#7201a8"
             ],
             [
              0.3333333333333333,
              "#9c179e"
             ],
             [
              0.4444444444444444,
              "#bd3786"
             ],
             [
              0.5555555555555556,
              "#d8576b"
             ],
             [
              0.6666666666666666,
              "#ed7953"
             ],
             [
              0.7777777777777778,
              "#fb9f3a"
             ],
             [
              0.8888888888888888,
              "#fdca26"
             ],
             [
              1,
              "#f0f921"
             ]
            ],
            "type": "heatmap"
           }
          ],
          "histogram": [
           {
            "marker": {
             "pattern": {
              "fillmode": "overlay",
              "size": 10,
              "solidity": 0.2
             }
            },
            "type": "histogram"
           }
          ],
          "histogram2d": [
           {
            "colorbar": {
             "outlinewidth": 0,
             "ticks": ""
            },
            "colorscale": [
             [
              0,
              "#0d0887"
             ],
             [
              0.1111111111111111,
              "#46039f"
             ],
             [
              0.2222222222222222,
              "#7201a8"
             ],
             [
              0.3333333333333333,
              "#9c179e"
             ],
             [
              0.4444444444444444,
              "#bd3786"
             ],
             [
              0.5555555555555556,
              "#d8576b"
             ],
             [
              0.6666666666666666,
              "#ed7953"
             ],
             [
              0.7777777777777778,
              "#fb9f3a"
             ],
             [
              0.8888888888888888,
              "#fdca26"
             ],
             [
              1,
              "#f0f921"
             ]
            ],
            "type": "histogram2d"
           }
          ],
          "histogram2dcontour": [
           {
            "colorbar": {
             "outlinewidth": 0,
             "ticks": ""
            },
            "colorscale": [
             [
              0,
              "#0d0887"
             ],
             [
              0.1111111111111111,
              "#46039f"
             ],
             [
              0.2222222222222222,
              "#7201a8"
             ],
             [
              0.3333333333333333,
              "#9c179e"
             ],
             [
              0.4444444444444444,
              "#bd3786"
             ],
             [
              0.5555555555555556,
              "#d8576b"
             ],
             [
              0.6666666666666666,
              "#ed7953"
             ],
             [
              0.7777777777777778,
              "#fb9f3a"
             ],
             [
              0.8888888888888888,
              "#fdca26"
             ],
             [
              1,
              "#f0f921"
             ]
            ],
            "type": "histogram2dcontour"
           }
          ],
          "mesh3d": [
           {
            "colorbar": {
             "outlinewidth": 0,
             "ticks": ""
            },
            "type": "mesh3d"
           }
          ],
          "parcoords": [
           {
            "line": {
             "colorbar": {
              "outlinewidth": 0,
              "ticks": ""
             }
            },
            "type": "parcoords"
           }
          ],
          "pie": [
           {
            "automargin": true,
            "type": "pie"
           }
          ],
          "scatter": [
           {
            "fillpattern": {
             "fillmode": "overlay",
             "size": 10,
             "solidity": 0.2
            },
            "type": "scatter"
           }
          ],
          "scatter3d": [
           {
            "line": {
             "colorbar": {
              "outlinewidth": 0,
              "ticks": ""
             }
            },
            "marker": {
             "colorbar": {
              "outlinewidth": 0,
              "ticks": ""
             }
            },
            "type": "scatter3d"
           }
          ],
          "scattercarpet": [
           {
            "marker": {
             "colorbar": {
              "outlinewidth": 0,
              "ticks": ""
             }
            },
            "type": "scattercarpet"
           }
          ],
          "scattergeo": [
           {
            "marker": {
             "colorbar": {
              "outlinewidth": 0,
              "ticks": ""
             }
            },
            "type": "scattergeo"
           }
          ],
          "scattergl": [
           {
            "marker": {
             "colorbar": {
              "outlinewidth": 0,
              "ticks": ""
             }
            },
            "type": "scattergl"
           }
          ],
          "scattermap": [
           {
            "marker": {
             "colorbar": {
              "outlinewidth": 0,
              "ticks": ""
             }
            },
            "type": "scattermap"
           }
          ],
          "scattermapbox": [
           {
            "marker": {
             "colorbar": {
              "outlinewidth": 0,
              "ticks": ""
             }
            },
            "type": "scattermapbox"
           }
          ],
          "scatterpolar": [
           {
            "marker": {
             "colorbar": {
              "outlinewidth": 0,
              "ticks": ""
             }
            },
            "type": "scatterpolar"
           }
          ],
          "scatterpolargl": [
           {
            "marker": {
             "colorbar": {
              "outlinewidth": 0,
              "ticks": ""
             }
            },
            "type": "scatterpolargl"
           }
          ],
          "scatterternary": [
           {
            "marker": {
             "colorbar": {
              "outlinewidth": 0,
              "ticks": ""
             }
            },
            "type": "scatterternary"
           }
          ],
          "surface": [
           {
            "colorbar": {
             "outlinewidth": 0,
             "ticks": ""
            },
            "colorscale": [
             [
              0,
              "#0d0887"
             ],
             [
              0.1111111111111111,
              "#46039f"
             ],
             [
              0.2222222222222222,
              "#7201a8"
             ],
             [
              0.3333333333333333,
              "#9c179e"
             ],
             [
              0.4444444444444444,
              "#bd3786"
             ],
             [
              0.5555555555555556,
              "#d8576b"
             ],
             [
              0.6666666666666666,
              "#ed7953"
             ],
             [
              0.7777777777777778,
              "#fb9f3a"
             ],
             [
              0.8888888888888888,
              "#fdca26"
             ],
             [
              1,
              "#f0f921"
             ]
            ],
            "type": "surface"
           }
          ],
          "table": [
           {
            "cells": {
             "fill": {
              "color": "#EBF0F8"
             },
             "line": {
              "color": "white"
             }
            },
            "header": {
             "fill": {
              "color": "#C8D4E3"
             },
             "line": {
              "color": "white"
             }
            },
            "type": "table"
           }
          ]
         },
         "layout": {
          "annotationdefaults": {
           "arrowcolor": "#2a3f5f",
           "arrowhead": 0,
           "arrowwidth": 1
          },
          "autotypenumbers": "strict",
          "coloraxis": {
           "colorbar": {
            "outlinewidth": 0,
            "ticks": ""
           }
          },
          "colorscale": {
           "diverging": [
            [
             0,
             "#8e0152"
            ],
            [
             0.1,
             "#c51b7d"
            ],
            [
             0.2,
             "#de77ae"
            ],
            [
             0.3,
             "#f1b6da"
            ],
            [
             0.4,
             "#fde0ef"
            ],
            [
             0.5,
             "#f7f7f7"
            ],
            [
             0.6,
             "#e6f5d0"
            ],
            [
             0.7,
             "#b8e186"
            ],
            [
             0.8,
             "#7fbc41"
            ],
            [
             0.9,
             "#4d9221"
            ],
            [
             1,
             "#276419"
            ]
           ],
           "sequential": [
            [
             0,
             "#0d0887"
            ],
            [
             0.1111111111111111,
             "#46039f"
            ],
            [
             0.2222222222222222,
             "#7201a8"
            ],
            [
             0.3333333333333333,
             "#9c179e"
            ],
            [
             0.4444444444444444,
             "#bd3786"
            ],
            [
             0.5555555555555556,
             "#d8576b"
            ],
            [
             0.6666666666666666,
             "#ed7953"
            ],
            [
             0.7777777777777778,
             "#fb9f3a"
            ],
            [
             0.8888888888888888,
             "#fdca26"
            ],
            [
             1,
             "#f0f921"
            ]
           ],
           "sequentialminus": [
            [
             0,
             "#0d0887"
            ],
            [
             0.1111111111111111,
             "#46039f"
            ],
            [
             0.2222222222222222,
             "#7201a8"
            ],
            [
             0.3333333333333333,
             "#9c179e"
            ],
            [
             0.4444444444444444,
             "#bd3786"
            ],
            [
             0.5555555555555556,
             "#d8576b"
            ],
            [
             0.6666666666666666,
             "#ed7953"
            ],
            [
             0.7777777777777778,
             "#fb9f3a"
            ],
            [
             0.8888888888888888,
             "#fdca26"
            ],
            [
             1,
             "#f0f921"
            ]
           ]
          },
          "colorway": [
           "#636efa",
           "#EF553B",
           "#00cc96",
           "#ab63fa",
           "#FFA15A",
           "#19d3f3",
           "#FF6692",
           "#B6E880",
           "#FF97FF",
           "#FECB52"
          ],
          "font": {
           "color": "#2a3f5f"
          },
          "geo": {
           "bgcolor": "white",
           "lakecolor": "white",
           "landcolor": "#E5ECF6",
           "showlakes": true,
           "showland": true,
           "subunitcolor": "white"
          },
          "hoverlabel": {
           "align": "left"
          },
          "hovermode": "closest",
          "mapbox": {
           "style": "light"
          },
          "paper_bgcolor": "white",
          "plot_bgcolor": "#E5ECF6",
          "polar": {
           "angularaxis": {
            "gridcolor": "white",
            "linecolor": "white",
            "ticks": ""
           },
           "bgcolor": "#E5ECF6",
           "radialaxis": {
            "gridcolor": "white",
            "linecolor": "white",
            "ticks": ""
           }
          },
          "scene": {
           "xaxis": {
            "backgroundcolor": "#E5ECF6",
            "gridcolor": "white",
            "gridwidth": 2,
            "linecolor": "white",
            "showbackground": true,
            "ticks": "",
            "zerolinecolor": "white"
           },
           "yaxis": {
            "backgroundcolor": "#E5ECF6",
            "gridcolor": "white",
            "gridwidth": 2,
            "linecolor": "white",
            "showbackground": true,
            "ticks": "",
            "zerolinecolor": "white"
           },
           "zaxis": {
            "backgroundcolor": "#E5ECF6",
            "gridcolor": "white",
            "gridwidth": 2,
            "linecolor": "white",
            "showbackground": true,
            "ticks": "",
            "zerolinecolor": "white"
           }
          },
          "shapedefaults": {
           "line": {
            "color": "#2a3f5f"
           }
          },
          "ternary": {
           "aaxis": {
            "gridcolor": "white",
            "linecolor": "white",
            "ticks": ""
           },
           "baxis": {
            "gridcolor": "white",
            "linecolor": "white",
            "ticks": ""
           },
           "bgcolor": "#E5ECF6",
           "caxis": {
            "gridcolor": "white",
            "linecolor": "white",
            "ticks": ""
           }
          },
          "title": {
           "x": 0.05
          },
          "xaxis": {
           "automargin": true,
           "gridcolor": "white",
           "linecolor": "white",
           "ticks": "",
           "title": {
            "standoff": 15
           },
           "zerolinecolor": "white",
           "zerolinewidth": 2
          },
          "yaxis": {
           "automargin": true,
           "gridcolor": "white",
           "linecolor": "white",
           "ticks": "",
           "title": {
            "standoff": 15
           },
           "zerolinecolor": "white",
           "zerolinewidth": 2
          }
         }
        },
        "title": {
         "text": "Confusion Matrix - KNN GridSearch CV"
        },
        "xaxis": {
         "anchor": "y",
         "domain": [
          0,
          1
         ]
        },
        "yaxis": {
         "anchor": "x",
         "autorange": "reversed",
         "domain": [
          0,
          1
         ]
        }
       }
      }
     },
     "metadata": {},
     "output_type": "display_data"
    }
   ],
   "source": [
    "cm = confusion_matrix(target_true, target_pred)\n",
    "cm_percent = cm.astype(\"float\") / cm.sum(axis=1)[:, np.newaxis]\n",
    "\n",
    "# Custom labels\n",
    "labels = [f\"Stage {i}\" for i in range(7)]\n",
    "\n",
    "# Create a heatmap using Plotly\n",
    "fig = px.imshow(\n",
    "    cm_percent,\n",
    "    text_auto=\".2f\",\n",
    "    aspect=\"auto\",\n",
    "    title=\"Confusion Matrix - KNN GridSearch CV\",\n",
    "    labels=dict(color=\"Count\"),\n",
    "    x=labels,\n",
    "    y=labels,\n",
    "    color_continuous_scale=px.colors.sequential.tempo,\n",
    ")\n",
    "\n",
    "fig.show()"
   ]
  },
  {
   "cell_type": "code",
   "execution_count": 12,
   "metadata": {},
   "outputs": [
    {
     "name": "stdout",
     "output_type": "stream",
     "text": [
      "Best parameters : {'n_neighbors': 3}\n",
      "\n",
      "Best accuracy score : 0.8864603283832089\n",
      "\n",
      "Best estimator : KNeighborsClassifier(n_neighbors=3)\n"
     ]
    }
   ],
   "source": [
    "print(f\"Best parameters : {knn_classifier.best_params_}\\n\")\n",
    "print(f\"Best accuracy score : {knn_classifier.best_score_}\\n\")\n",
    "print(f\"Best estimator : {knn_classifier.best_estimator_}\")"
   ]
  },
  {
   "cell_type": "code",
   "execution_count": 13,
   "metadata": {},
   "outputs": [
    {
     "data": {
      "application/vnd.plotly.v1+json": {
       "config": {
        "plotlyServerURL": "https://plot.ly"
       },
       "data": [
        {
         "mode": "lines",
         "name": "Train",
         "type": "scatter",
         "x": {
          "bdata": "jQp9DG0OXRBOEj4ULhYeGA4a/hvvHd8fzyG/I68loCeQKYArcC1gL1AxQTMxNSE3ETkBO/E84j7SQMJCskSiRpNIg0pzTGNOU1BDUjRUJFYUWARa9FvkXdVfxWG1Y6VllWeGaQ==",
          "dtype": "i2"
         },
         "y": {
          "bdata": "GMRXapZB7D/iMFRnjFHsPxZFaXf7Zuw/MPhOU2CH7D/lqAU/lIDsP6BLd3HWlOw/HSHc5kW07D/rmHReo9LsP2bcJFWy4Ow/4NqRk6v77D8jaFpvsgrtPzUJ355BJe0/Du+P/x0z7T/rbj2U80PtP4vNKOijV+0/DZtAcJlq7T+zCtkBCHjtP62+VNDqi+0/49q0KEqR7T+6YKxc3p7tP6OfxJpXqu0/UGSePZ247T8olf9S7sjtP/0HG0Fu1e0/LdFp0+na7T8rTydXUOLtP1beCd1I7u0/yFt3ZNb47T9iZwvoUQPuP6XM3sAHCu4/a2KCKM8T7j+G826Yrx3uP+afqGX5I+4/nl0ewcwr7j9lqC9pzzLuP42E8ItPOe4/RvY7UuNB7j86V2RnfkfuP+A6C+IQT+4/zfRNzmJV7j+K135rjV7uP/JNJqI/aO4/KwJ3oZFt7j9T3za4/HTuP3qzwltAeu4/wNh8wfZ+7j8exxUf/4XuPy1ZuDZOiu4/C8xiIMOO7j/4gqfPjZPuPw==",
          "dtype": "f8"
         }
        },
        {
         "mode": "lines",
         "name": "Validation",
         "type": "scatter",
         "x": {
          "bdata": "jQp9DG0OXRBOEj4ULhYeGA4a/hvvHd8fzyG/I68loCeQKYArcC1gL1AxQTMxNSE3ETkBO/E84j7SQMJCskSiRpNIg0pzTGNOU1BDUjRUJFYUWARa9FvkXdVfxWG1Y6VllWeGaQ==",
          "dtype": "i2"
         },
         "y": {
          "bdata": "i0weVlr05z+wAdh/0VfoP6o6GlCip+g/o5cNZRDb6D/Ay99A4gnpP74v8kKZTOk/OINzJmFs6T8Gg4IH44zpPz3ccvEOqOk/uI6q2li/6T/zVex0ddzpP/pFgkPo/uk/IHxUJIEc6j8tzjrizDvqP3JjIYdfYuo/HpLTOcOG6j9uD9MmBJfqPx7qbosOpuo/al/vSrbB6j+VkGloLMvqP8Mj+Cln5Oo/ovsn2Ev46j+gIdd62w7rP+Bg4xdiHus/2tHI0cIy6z+N8eJJK0brP33yspnoVus/Ex9GRJVh6z8w3OmoYXDrP/UoYqE1fus/2InxIdOK6z9j5uIstpbrP51uYSdbous/QEOxXk2s6z9e6wEVOLfrP9AWDSxKxes/akVkkKnR6z/VV5SFdNjrP8DyjuJm4us/6yMJAN3r6z+tEC6eK/LrPwrKXCF0Aew/WijJ6PoQ7D9ACD/p1yXsPwZAZDPKL+w/fVjgVa077D94Mc4CWkbsP7YMyWbIUOw/UD/eqbpa7D8Gb/MM4l3sPw==",
          "dtype": "f8"
         }
        }
       ],
       "layout": {
        "legend": {
         "traceorder": "normal",
         "x": 0,
         "y": 1
        },
        "template": {
         "data": {
          "bar": [
           {
            "error_x": {
             "color": "#2a3f5f"
            },
            "error_y": {
             "color": "#2a3f5f"
            },
            "marker": {
             "line": {
              "color": "#E5ECF6",
              "width": 0.5
             },
             "pattern": {
              "fillmode": "overlay",
              "size": 10,
              "solidity": 0.2
             }
            },
            "type": "bar"
           }
          ],
          "barpolar": [
           {
            "marker": {
             "line": {
              "color": "#E5ECF6",
              "width": 0.5
             },
             "pattern": {
              "fillmode": "overlay",
              "size": 10,
              "solidity": 0.2
             }
            },
            "type": "barpolar"
           }
          ],
          "carpet": [
           {
            "aaxis": {
             "endlinecolor": "#2a3f5f",
             "gridcolor": "white",
             "linecolor": "white",
             "minorgridcolor": "white",
             "startlinecolor": "#2a3f5f"
            },
            "baxis": {
             "endlinecolor": "#2a3f5f",
             "gridcolor": "white",
             "linecolor": "white",
             "minorgridcolor": "white",
             "startlinecolor": "#2a3f5f"
            },
            "type": "carpet"
           }
          ],
          "choropleth": [
           {
            "colorbar": {
             "outlinewidth": 0,
             "ticks": ""
            },
            "type": "choropleth"
           }
          ],
          "contour": [
           {
            "colorbar": {
             "outlinewidth": 0,
             "ticks": ""
            },
            "colorscale": [
             [
              0,
              "#0d0887"
             ],
             [
              0.1111111111111111,
              "#46039f"
             ],
             [
              0.2222222222222222,
              "#7201a8"
             ],
             [
              0.3333333333333333,
              "#9c179e"
             ],
             [
              0.4444444444444444,
              "#bd3786"
             ],
             [
              0.5555555555555556,
              "#d8576b"
             ],
             [
              0.6666666666666666,
              "#ed7953"
             ],
             [
              0.7777777777777778,
              "#fb9f3a"
             ],
             [
              0.8888888888888888,
              "#fdca26"
             ],
             [
              1,
              "#f0f921"
             ]
            ],
            "type": "contour"
           }
          ],
          "contourcarpet": [
           {
            "colorbar": {
             "outlinewidth": 0,
             "ticks": ""
            },
            "type": "contourcarpet"
           }
          ],
          "heatmap": [
           {
            "colorbar": {
             "outlinewidth": 0,
             "ticks": ""
            },
            "colorscale": [
             [
              0,
              "#0d0887"
             ],
             [
              0.1111111111111111,
              "#46039f"
             ],
             [
              0.2222222222222222,
              "#7201a8"
             ],
             [
              0.3333333333333333,
              "#9c179e"
             ],
             [
              0.4444444444444444,
              "#bd3786"
             ],
             [
              0.5555555555555556,
              "#d8576b"
             ],
             [
              0.6666666666666666,
              "#ed7953"
             ],
             [
              0.7777777777777778,
              "#fb9f3a"
             ],
             [
              0.8888888888888888,
              "#fdca26"
             ],
             [
              1,
              "#f0f921"
             ]
            ],
            "type": "heatmap"
           }
          ],
          "histogram": [
           {
            "marker": {
             "pattern": {
              "fillmode": "overlay",
              "size": 10,
              "solidity": 0.2
             }
            },
            "type": "histogram"
           }
          ],
          "histogram2d": [
           {
            "colorbar": {
             "outlinewidth": 0,
             "ticks": ""
            },
            "colorscale": [
             [
              0,
              "#0d0887"
             ],
             [
              0.1111111111111111,
              "#46039f"
             ],
             [
              0.2222222222222222,
              "#7201a8"
             ],
             [
              0.3333333333333333,
              "#9c179e"
             ],
             [
              0.4444444444444444,
              "#bd3786"
             ],
             [
              0.5555555555555556,
              "#d8576b"
             ],
             [
              0.6666666666666666,
              "#ed7953"
             ],
             [
              0.7777777777777778,
              "#fb9f3a"
             ],
             [
              0.8888888888888888,
              "#fdca26"
             ],
             [
              1,
              "#f0f921"
             ]
            ],
            "type": "histogram2d"
           }
          ],
          "histogram2dcontour": [
           {
            "colorbar": {
             "outlinewidth": 0,
             "ticks": ""
            },
            "colorscale": [
             [
              0,
              "#0d0887"
             ],
             [
              0.1111111111111111,
              "#46039f"
             ],
             [
              0.2222222222222222,
              "#7201a8"
             ],
             [
              0.3333333333333333,
              "#9c179e"
             ],
             [
              0.4444444444444444,
              "#bd3786"
             ],
             [
              0.5555555555555556,
              "#d8576b"
             ],
             [
              0.6666666666666666,
              "#ed7953"
             ],
             [
              0.7777777777777778,
              "#fb9f3a"
             ],
             [
              0.8888888888888888,
              "#fdca26"
             ],
             [
              1,
              "#f0f921"
             ]
            ],
            "type": "histogram2dcontour"
           }
          ],
          "mesh3d": [
           {
            "colorbar": {
             "outlinewidth": 0,
             "ticks": ""
            },
            "type": "mesh3d"
           }
          ],
          "parcoords": [
           {
            "line": {
             "colorbar": {
              "outlinewidth": 0,
              "ticks": ""
             }
            },
            "type": "parcoords"
           }
          ],
          "pie": [
           {
            "automargin": true,
            "type": "pie"
           }
          ],
          "scatter": [
           {
            "fillpattern": {
             "fillmode": "overlay",
             "size": 10,
             "solidity": 0.2
            },
            "type": "scatter"
           }
          ],
          "scatter3d": [
           {
            "line": {
             "colorbar": {
              "outlinewidth": 0,
              "ticks": ""
             }
            },
            "marker": {
             "colorbar": {
              "outlinewidth": 0,
              "ticks": ""
             }
            },
            "type": "scatter3d"
           }
          ],
          "scattercarpet": [
           {
            "marker": {
             "colorbar": {
              "outlinewidth": 0,
              "ticks": ""
             }
            },
            "type": "scattercarpet"
           }
          ],
          "scattergeo": [
           {
            "marker": {
             "colorbar": {
              "outlinewidth": 0,
              "ticks": ""
             }
            },
            "type": "scattergeo"
           }
          ],
          "scattergl": [
           {
            "marker": {
             "colorbar": {
              "outlinewidth": 0,
              "ticks": ""
             }
            },
            "type": "scattergl"
           }
          ],
          "scattermap": [
           {
            "marker": {
             "colorbar": {
              "outlinewidth": 0,
              "ticks": ""
             }
            },
            "type": "scattermap"
           }
          ],
          "scattermapbox": [
           {
            "marker": {
             "colorbar": {
              "outlinewidth": 0,
              "ticks": ""
             }
            },
            "type": "scattermapbox"
           }
          ],
          "scatterpolar": [
           {
            "marker": {
             "colorbar": {
              "outlinewidth": 0,
              "ticks": ""
             }
            },
            "type": "scatterpolar"
           }
          ],
          "scatterpolargl": [
           {
            "marker": {
             "colorbar": {
              "outlinewidth": 0,
              "ticks": ""
             }
            },
            "type": "scatterpolargl"
           }
          ],
          "scatterternary": [
           {
            "marker": {
             "colorbar": {
              "outlinewidth": 0,
              "ticks": ""
             }
            },
            "type": "scatterternary"
           }
          ],
          "surface": [
           {
            "colorbar": {
             "outlinewidth": 0,
             "ticks": ""
            },
            "colorscale": [
             [
              0,
              "#0d0887"
             ],
             [
              0.1111111111111111,
              "#46039f"
             ],
             [
              0.2222222222222222,
              "#7201a8"
             ],
             [
              0.3333333333333333,
              "#9c179e"
             ],
             [
              0.4444444444444444,
              "#bd3786"
             ],
             [
              0.5555555555555556,
              "#d8576b"
             ],
             [
              0.6666666666666666,
              "#ed7953"
             ],
             [
              0.7777777777777778,
              "#fb9f3a"
             ],
             [
              0.8888888888888888,
              "#fdca26"
             ],
             [
              1,
              "#f0f921"
             ]
            ],
            "type": "surface"
           }
          ],
          "table": [
           {
            "cells": {
             "fill": {
              "color": "#EBF0F8"
             },
             "line": {
              "color": "white"
             }
            },
            "header": {
             "fill": {
              "color": "#C8D4E3"
             },
             "line": {
              "color": "white"
             }
            },
            "type": "table"
           }
          ]
         },
         "layout": {
          "annotationdefaults": {
           "arrowcolor": "#2a3f5f",
           "arrowhead": 0,
           "arrowwidth": 1
          },
          "autotypenumbers": "strict",
          "coloraxis": {
           "colorbar": {
            "outlinewidth": 0,
            "ticks": ""
           }
          },
          "colorscale": {
           "diverging": [
            [
             0,
             "#8e0152"
            ],
            [
             0.1,
             "#c51b7d"
            ],
            [
             0.2,
             "#de77ae"
            ],
            [
             0.3,
             "#f1b6da"
            ],
            [
             0.4,
             "#fde0ef"
            ],
            [
             0.5,
             "#f7f7f7"
            ],
            [
             0.6,
             "#e6f5d0"
            ],
            [
             0.7,
             "#b8e186"
            ],
            [
             0.8,
             "#7fbc41"
            ],
            [
             0.9,
             "#4d9221"
            ],
            [
             1,
             "#276419"
            ]
           ],
           "sequential": [
            [
             0,
             "#0d0887"
            ],
            [
             0.1111111111111111,
             "#46039f"
            ],
            [
             0.2222222222222222,
             "#7201a8"
            ],
            [
             0.3333333333333333,
             "#9c179e"
            ],
            [
             0.4444444444444444,
             "#bd3786"
            ],
            [
             0.5555555555555556,
             "#d8576b"
            ],
            [
             0.6666666666666666,
             "#ed7953"
            ],
            [
             0.7777777777777778,
             "#fb9f3a"
            ],
            [
             0.8888888888888888,
             "#fdca26"
            ],
            [
             1,
             "#f0f921"
            ]
           ],
           "sequentialminus": [
            [
             0,
             "#0d0887"
            ],
            [
             0.1111111111111111,
             "#46039f"
            ],
            [
             0.2222222222222222,
             "#7201a8"
            ],
            [
             0.3333333333333333,
             "#9c179e"
            ],
            [
             0.4444444444444444,
             "#bd3786"
            ],
            [
             0.5555555555555556,
             "#d8576b"
            ],
            [
             0.6666666666666666,
             "#ed7953"
            ],
            [
             0.7777777777777778,
             "#fb9f3a"
            ],
            [
             0.8888888888888888,
             "#fdca26"
            ],
            [
             1,
             "#f0f921"
            ]
           ]
          },
          "colorway": [
           "#636efa",
           "#EF553B",
           "#00cc96",
           "#ab63fa",
           "#FFA15A",
           "#19d3f3",
           "#FF6692",
           "#B6E880",
           "#FF97FF",
           "#FECB52"
          ],
          "font": {
           "color": "#2a3f5f"
          },
          "geo": {
           "bgcolor": "white",
           "lakecolor": "white",
           "landcolor": "#E5ECF6",
           "showlakes": true,
           "showland": true,
           "subunitcolor": "white"
          },
          "hoverlabel": {
           "align": "left"
          },
          "hovermode": "closest",
          "mapbox": {
           "style": "light"
          },
          "paper_bgcolor": "white",
          "plot_bgcolor": "#E5ECF6",
          "polar": {
           "angularaxis": {
            "gridcolor": "white",
            "linecolor": "white",
            "ticks": ""
           },
           "bgcolor": "#E5ECF6",
           "radialaxis": {
            "gridcolor": "white",
            "linecolor": "white",
            "ticks": ""
           }
          },
          "scene": {
           "xaxis": {
            "backgroundcolor": "#E5ECF6",
            "gridcolor": "white",
            "gridwidth": 2,
            "linecolor": "white",
            "showbackground": true,
            "ticks": "",
            "zerolinecolor": "white"
           },
           "yaxis": {
            "backgroundcolor": "#E5ECF6",
            "gridcolor": "white",
            "gridwidth": 2,
            "linecolor": "white",
            "showbackground": true,
            "ticks": "",
            "zerolinecolor": "white"
           },
           "zaxis": {
            "backgroundcolor": "#E5ECF6",
            "gridcolor": "white",
            "gridwidth": 2,
            "linecolor": "white",
            "showbackground": true,
            "ticks": "",
            "zerolinecolor": "white"
           }
          },
          "shapedefaults": {
           "line": {
            "color": "#2a3f5f"
           }
          },
          "ternary": {
           "aaxis": {
            "gridcolor": "white",
            "linecolor": "white",
            "ticks": ""
           },
           "baxis": {
            "gridcolor": "white",
            "linecolor": "white",
            "ticks": ""
           },
           "bgcolor": "#E5ECF6",
           "caxis": {
            "gridcolor": "white",
            "linecolor": "white",
            "ticks": ""
           }
          },
          "title": {
           "x": 0.05
          },
          "xaxis": {
           "automargin": true,
           "gridcolor": "white",
           "linecolor": "white",
           "ticks": "",
           "title": {
            "standoff": 15
           },
           "zerolinecolor": "white",
           "zerolinewidth": 2
          },
          "yaxis": {
           "automargin": true,
           "gridcolor": "white",
           "linecolor": "white",
           "ticks": "",
           "title": {
            "standoff": 15
           },
           "zerolinecolor": "white",
           "zerolinewidth": 2
          }
         }
        },
        "title": {
         "text": "KNN Learning Curve"
        },
        "xaxis": {
         "title": {
          "text": "Training Size"
         }
        },
        "yaxis": {
         "title": {
          "text": "Accuracy"
         }
        }
       }
      }
     },
     "metadata": {},
     "output_type": "display_data"
    }
   ],
   "source": [
    "# Calculate learning curve\n",
    "train_sizes, train_scores, valid_scores = learning_curve(\n",
    "    knn_classifier.best_estimator_,\n",
    "    feat_train,\n",
    "    target_train,\n",
    "    train_sizes=np.linspace(0.1, 1, 50),\n",
    "    cv=5,\n",
    "    scoring=\"accuracy\",\n",
    ")\n",
    "\n",
    "# Calculate mean scores\n",
    "train_scores_mean = np.mean(train_scores, axis=1)\n",
    "valid_scores_mean = np.mean(valid_scores, axis=1)\n",
    "\n",
    "# Create a plotly figure\n",
    "fig = go.Figure()\n",
    "\n",
    "# Add train scores\n",
    "fig.add_trace(\n",
    "    go.Scatter(x=train_sizes, y=train_scores_mean, mode=\"lines\", name=\"Train\")\n",
    ")\n",
    "\n",
    "# Add validation scores\n",
    "fig.add_trace(\n",
    "    go.Scatter(\n",
    "        x=train_sizes, y=valid_scores_mean, mode=\"lines\", name=\"Validation\"\n",
    "    )\n",
    ")\n",
    "\n",
    "# Update layout and display\n",
    "fig.update_layout(\n",
    "    title=\"KNN Learning Curve\",\n",
    "    xaxis_title=\"Training Size\",\n",
    "    yaxis_title=\"Accuracy\",\n",
    "    legend=dict(x=0, y=1, traceorder=\"normal\"),\n",
    ")\n",
    "fig.show()"
   ]
  },
  {
   "cell_type": "code",
   "execution_count": 14,
   "metadata": {},
   "outputs": [],
   "source": [
    "# NEXT : Validation curve + improved hyperparameters"
   ]
  },
  {
   "cell_type": "markdown",
   "metadata": {},
   "source": [
    "## Improving the model"
   ]
  },
  {
   "cell_type": "markdown",
   "metadata": {},
   "source": [
    "Once the first model available we might try and improve the results by adding other columns and modifying further some of the actual columns.\n",
    "Columns considered: \n",
    "- TRACK_TYPE\n",
    "- IFLAG\n",
    "- Try and use (merge or other methods) all the R30, R40, etc. content\n",
    "\n",
    "Further modifications considered:\n",
    "- Filling the empty TD9636_STAGE rows based on other columns that contain a classification of the storm (USA_SSHS, TOKYO_GRADE, CMA_CAT, HKO_CAT, KMA_CAT, NEWDELHI_GRADE, REUNION_TYPE, BOM_TYPE, NADI_CAT, DS824_STAGE, NEUMANN_CLASS, MLC_CLASS)\n",
    "- Adding WIND rowsby converting NEWDELHI_WIND, CMA_WIND (and maybe WMO_WIND) as it was done for the others\n",
    "- mergin BASIN and SUBBASIN to add more precise information \n",
    "\n",
    "- test  MONTH / SEASON\n",
    "- with/without PRESSION (because approximations)"
   ]
  }
 ],
 "metadata": {
  "kernelspec": {
   "display_name": ".venv",
   "language": "python",
   "name": "python3"
  },
  "language_info": {
   "codemirror_mode": {
    "name": "ipython",
    "version": 3
   },
   "file_extension": ".py",
   "mimetype": "text/x-python",
   "name": "python",
   "nbconvert_exporter": "python",
   "pygments_lexer": "ipython3",
   "version": "3.13.1"
  }
 },
 "nbformat": 4,
 "nbformat_minor": 2
}
