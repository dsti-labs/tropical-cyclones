{
 "cells": [
  {
   "cell_type": "code",
   "execution_count": 66,
   "id": "be1ca441-fc30-46e7-83b2-3ae1e71bf4f6",
   "metadata": {},
   "outputs": [],
   "source": [
    "import pandas as pd\n",
    "import numpy as np"
   ]
  },
  {
   "cell_type": "code",
   "execution_count": 67,
   "id": "395f2a72-7d5a-41d7-850b-97dcd976bc31",
   "metadata": {},
   "outputs": [],
   "source": [
    "csv_link = r\"C:\\Users\\arnau\\Documents\\DSTI\\ML_project\\data\\ibtracs.csv\""
   ]
  },
  {
   "cell_type": "code",
   "execution_count": 68,
   "id": "2de521bb-d9ce-48af-ba77-3b103083345d",
   "metadata": {},
   "outputs": [],
   "source": [
    "df_ibtracs = pd.read_csv(\n",
    "    csv_link,\n",
    "    skiprows=[1],\n",
    "    header=0,\n",
    "    low_memory=False\n",
    ")"
   ]
  },
  {
   "cell_type": "code",
   "execution_count": 69,
   "id": "03e14f1c",
   "metadata": {},
   "outputs": [
    {
     "data": {
      "text/plain": [
       "(297098, 174)"
      ]
     },
     "execution_count": 69,
     "metadata": {},
     "output_type": "execute_result"
    }
   ],
   "source": [
    "df_ibtracs.shape"
   ]
  },
  {
   "cell_type": "markdown",
   "id": "268ade17",
   "metadata": {},
   "source": [
    "When we look at the CSV file, it seems there are a LOT of missing values."
   ]
  },
  {
   "cell_type": "code",
   "execution_count": 70,
   "id": "a79849d1",
   "metadata": {},
   "outputs": [
    {
     "data": {
      "text/plain": [
       "np.int64(73164)"
      ]
     },
     "execution_count": 70,
     "metadata": {},
     "output_type": "execute_result"
    }
   ],
   "source": [
    "df_ibtracs.isnull().sum().sum()"
   ]
  },
  {
   "cell_type": "markdown",
   "id": "dea35a02",
   "metadata": {},
   "source": [
    "73,164 missing values out of 51,695,052 cells is really small compared to how the CSV file looks. Let's take a column with a lot of missing values."
   ]
  },
  {
   "cell_type": "markdown",
   "id": "c6bfeaf7",
   "metadata": {},
   "source": [
    "We will look at \"WMO_WIND\"; it's an arbitrary choice."
   ]
  },
  {
   "cell_type": "code",
   "execution_count": 71,
   "id": "662972bc",
   "metadata": {},
   "outputs": [
    {
     "data": {
      "text/plain": [
       "np.int64(0)"
      ]
     },
     "execution_count": 71,
     "metadata": {},
     "output_type": "execute_result"
    }
   ],
   "source": [
    "df_ibtracs.WMO_WIND.isnull().sum()"
   ]
  },
  {
   "cell_type": "code",
   "execution_count": 72,
   "id": "c427b1b7",
   "metadata": {},
   "outputs": [
    {
     "data": {
      "text/plain": [
       "0          \n",
       "1          \n",
       "2          \n",
       "3          \n",
       "4          \n",
       "         ..\n",
       "297093     \n",
       "297094     \n",
       "297095     \n",
       "297096     \n",
       "297097     \n",
       "Name: WMO_WIND, Length: 297098, dtype: object"
      ]
     },
     "execution_count": 72,
     "metadata": {},
     "output_type": "execute_result"
    }
   ],
   "source": [
    "df_ibtracs.WMO_WIND"
   ]
  },
  {
   "cell_type": "code",
   "execution_count": 73,
   "id": "bbb2692c",
   "metadata": {},
   "outputs": [
    {
     "data": {
      "text/plain": [
       "' '"
      ]
     },
     "execution_count": 73,
     "metadata": {},
     "output_type": "execute_result"
    }
   ],
   "source": [
    "df_ibtracs.WMO_WIND[0]"
   ]
  },
  {
   "cell_type": "markdown",
   "id": "537aca97",
   "metadata": {},
   "source": [
    "So, there were no missing values. But when we look at the data, there are empty cells. Those cells are filled with a space character: \" \""
   ]
  },
  {
   "cell_type": "markdown",
   "id": "7d4f4505",
   "metadata": {},
   "source": [
    "The next command will replace all the \" \" with null values and will also assign a numeric type to all columns with numerical values."
   ]
  },
  {
   "cell_type": "code",
   "execution_count": 74,
   "id": "1a94caa4-a5ee-412c-b771-e061c36d13a1",
   "metadata": {},
   "outputs": [
    {
     "name": "stderr",
     "output_type": "stream",
     "text": [
      "C:\\Users\\arnau\\AppData\\Local\\Temp\\ipykernel_20560\\8097902.py:2: FutureWarning: Downcasting behavior in `replace` is deprecated and will be removed in a future version. To retain the old behavior, explicitly call `result.infer_objects(copy=False)`. To opt-in to the future behavior, set `pd.set_option('future.no_silent_downcasting', True)`\n",
      "  df_ibtracs[col] = df_ibtracs[col].replace(\" \", np.nan)\n"
     ]
    }
   ],
   "source": [
    "for col in df_ibtracs.columns:\n",
    "    df_ibtracs[col] = df_ibtracs[col].replace(\" \", np.nan)\n",
    "    try:\n",
    "        df_ibtracs[col] = pd.to_numeric(df_ibtracs[col])\n",
    "    except ValueError:\n",
    "        pass"
   ]
  },
  {
   "cell_type": "code",
   "execution_count": 75,
   "id": "cce88aa5",
   "metadata": {},
   "outputs": [
    {
     "data": {
      "text/plain": [
       "np.int64(41437829)"
      ]
     },
     "execution_count": 75,
     "metadata": {},
     "output_type": "execute_result"
    }
   ],
   "source": [
    "df_ibtracs.isnull().sum().sum()"
   ]
  },
  {
   "cell_type": "markdown",
   "id": "94db0fd2",
   "metadata": {},
   "source": [
    "From 73,164 null values to 41,437,829, it represents 80% of null values."
   ]
  },
  {
   "cell_type": "markdown",
   "id": "645ee23c",
   "metadata": {},
   "source": [
    "We are looking at our target value to check the number of null values."
   ]
  },
  {
   "cell_type": "code",
   "execution_count": 76,
   "id": "0d13b911",
   "metadata": {},
   "outputs": [
    {
     "data": {
      "text/plain": [
       "np.int64(248755)"
      ]
     },
     "execution_count": 76,
     "metadata": {},
     "output_type": "execute_result"
    }
   ],
   "source": [
    "df_ibtracs.TD9636_STAGE.isnull().sum()"
   ]
  },
  {
   "cell_type": "markdown",
   "id": "902a5526",
   "metadata": {},
   "source": [
    "Out of 297,098 rows, we have 248,755 null cells, leaving only 48,343 usable cells."
   ]
  },
  {
   "cell_type": "markdown",
   "id": "f4f577a6",
   "metadata": {},
   "source": [
    "The goal of the next commands is to find an element that allows us to differentiate the cyclones."
   ]
  },
  {
   "cell_type": "code",
   "execution_count": 77,
   "id": "51bf6410-c654-4b73-8e1f-5b5e0750d804",
   "metadata": {},
   "outputs": [
    {
     "data": {
      "text/plain": [
       "count            297098\n",
       "unique             4767\n",
       "top       1997013S08101\n",
       "freq                352\n",
       "Name: SID, dtype: object"
      ]
     },
     "execution_count": 77,
     "metadata": {},
     "output_type": "execute_result"
    }
   ],
   "source": [
    "df_ibtracs.SID.describe()"
   ]
  },
  {
   "cell_type": "code",
   "execution_count": 78,
   "id": "58ed535e-d8ff-43f3-a6f4-057088b1d086",
   "metadata": {},
   "outputs": [
    {
     "data": {
      "text/plain": [
       "count      297098\n",
       "unique       1535\n",
       "top       UNNAMED\n",
       "freq        36655\n",
       "Name: NAME, dtype: object"
      ]
     },
     "execution_count": 78,
     "metadata": {},
     "output_type": "execute_result"
    }
   ],
   "source": [
    "df_ibtracs.NAME.describe()"
   ]
  },
  {
   "cell_type": "markdown",
   "id": "e03c0481",
   "metadata": {},
   "source": [
    "Unique values in SID = 4767 — Unique values in NAME = 1535."
   ]
  },
  {
   "cell_type": "markdown",
   "id": "1cff39d9",
   "metadata": {},
   "source": [
    "So, there is probably a reuse of the same name for different SID"
   ]
  },
  {
   "cell_type": "code",
   "execution_count": 79,
   "id": "5814cf89",
   "metadata": {},
   "outputs": [
    {
     "data": {
      "text/plain": [
       "array(['1980001S13173', '1990043S09206'], dtype=object)"
      ]
     },
     "execution_count": 79,
     "metadata": {},
     "output_type": "execute_result"
    }
   ],
   "source": [
    "df_ibtracs[df_ibtracs['NAME'] == \"PENI\"][\"SID\"].unique()"
   ]
  },
  {
   "cell_type": "markdown",
   "id": "38ef3c10",
   "metadata": {},
   "source": [
    "For the name \"PENI\", we can see 2 different SID. So, we will only use the SID column to look at the precise storm."
   ]
  },
  {
   "cell_type": "markdown",
   "id": "5ecd24ef",
   "metadata": {},
   "source": [
    "We want to see if for the same SID, the agency TD9636 has not provided any STAGE, has partially provided a STAGE, or if the agency is present for the entire SID."
   ]
  },
  {
   "cell_type": "code",
   "execution_count": 80,
   "id": "73c37e8b",
   "metadata": {},
   "outputs": [
    {
     "data": {
      "text/plain": [
       "array(['1980001S13173', '1980002S15081', '1980003S15137', ...,\n",
       "       '2024276S10076', '2024278N21265', '2024280N18146'], dtype=object)"
      ]
     },
     "execution_count": 80,
     "metadata": {},
     "output_type": "execute_result"
    }
   ],
   "source": [
    "df_ibtracs[\"SID\"].unique()"
   ]
  },
  {
   "cell_type": "code",
   "execution_count": 81,
   "id": "0ac0ecea",
   "metadata": {},
   "outputs": [],
   "source": [
    "null_and_valid = df_ibtracs.groupby('SID').filter(\n",
    "    lambda group: group['TD9636_STAGE'].isnull().any() and group['TD9636_STAGE'].notnull().any()\n",
    ")['SID'].nunique()\n",
    "\n",
    "null = df_ibtracs.groupby('SID').filter(\n",
    "    lambda group: group['TD9636_STAGE'].isnull().all()\n",
    ")['SID'].nunique()\n",
    "\n",
    "valid = df_ibtracs.groupby('SID').filter(\n",
    "    lambda group: group['TD9636_STAGE'].notnull().all()\n",
    ")['SID'].nunique()"
   ]
  },
  {
   "cell_type": "code",
   "execution_count": 82,
   "id": "d5ad0065",
   "metadata": {},
   "outputs": [
    {
     "name": "stdout",
     "output_type": "stream",
     "text": [
      "436 SID have both null and valid values for TD9636_STAGE\n",
      "3974 SID have only null values for TD9636_STAGE\n",
      "357 SID have only valid values for TD9636_STAGE\n"
     ]
    }
   ],
   "source": [
    "print(f\"{null_and_valid} SID have both null and valid values for TD9636_STAGE\")\n",
    "print(f\"{null} SID have only null values for TD9636_STAGE\")\n",
    "print(f\"{valid} SID have only valid values for TD9636_STAGE\")"
   ]
  },
  {
   "cell_type": "markdown",
   "id": "6cc653d4",
   "metadata": {},
   "source": [
    "So, there are 3,974 SID that will not be usable because there is no link between these SID and our agency TD9636. There are 357 SID that are usable without any work, and 436 SID where the agency TD9636 has partially handled the stage."
   ]
  },
  {
   "cell_type": "markdown",
   "id": "735abde3",
   "metadata": {},
   "source": [
    "We can remove the SID that have only null values in our TD9636_STAGE column."
   ]
  },
  {
   "cell_type": "code",
   "execution_count": 83,
   "id": "c338bfd2",
   "metadata": {},
   "outputs": [],
   "source": [
    "sid_to_remove = df_ibtracs.groupby('SID').filter(\n",
    "    lambda group: group['TD9636_STAGE'].isnull().all()\n",
    ")['SID'].unique()\n",
    "df_transformed = df_ibtracs.drop(df_ibtracs[df_ibtracs['SID'].isin(sid_to_remove)].index, inplace=False)"
   ]
  },
  {
   "cell_type": "code",
   "execution_count": 84,
   "id": "f9cca5eb",
   "metadata": {},
   "outputs": [
    {
     "data": {
      "text/plain": [
       "(55373, 174)"
      ]
     },
     "execution_count": 84,
     "metadata": {},
     "output_type": "execute_result"
    }
   ],
   "source": [
    "df_transformed.shape\n"
   ]
  },
  {
   "cell_type": "markdown",
   "id": "7f3f6198",
   "metadata": {},
   "source": [
    "To avoid duplicates, we keep only the aggregation of the \"LAT\" and \"LON\" columns"
   ]
  },
  {
   "cell_type": "code",
   "execution_count": 85,
   "id": "703a1156",
   "metadata": {},
   "outputs": [
    {
     "data": {
      "text/plain": [
       "Index(['LAT', 'LON', 'USA_LAT', 'USA_LON', 'TOKYO_LAT', 'TOKYO_LON',\n",
       "       'TOKYO_R50_LONG', 'TOKYO_R30_LONG', 'CMA_LAT', 'CMA_LON', 'HKO_LAT',\n",
       "       'HKO_LON', 'KMA_LAT', 'KMA_LON', 'KMA_R50_LONG', 'KMA_R30_LONG',\n",
       "       'NEWDELHI_LAT', 'NEWDELHI_LON', 'REUNION_LAT', 'REUNION_LON', 'BOM_LAT',\n",
       "       'BOM_LON', 'NADI_LAT', 'NADI_LON', 'WELLINGTON_LAT', 'WELLINGTON_LON',\n",
       "       'DS824_LAT', 'DS824_LON', 'TD9636_LAT', 'TD9636_LON', 'TD9635_LAT',\n",
       "       'TD9635_LON', 'NEUMANN_LAT', 'NEUMANN_LON', 'MLC_LAT', 'MLC_LON'],\n",
       "      dtype='object')"
      ]
     },
     "execution_count": 85,
     "metadata": {},
     "output_type": "execute_result"
    }
   ],
   "source": [
    "df_transformed.filter(regex='LAT|LON').columns"
   ]
  },
  {
   "cell_type": "code",
   "execution_count": 86,
   "id": "cab49a16",
   "metadata": {},
   "outputs": [],
   "source": [
    "df_transformed = df_transformed.drop(columns=df_transformed.filter(like='_LAT').columns)\n",
    "df_transformed = df_transformed.drop(columns=df_transformed.filter(like='_LON').columns)"
   ]
  },
  {
   "cell_type": "code",
   "execution_count": 87,
   "id": "3027d77e",
   "metadata": {},
   "outputs": [
    {
     "data": {
      "text/plain": [
       "Index(['LAT', 'LON'], dtype='object')"
      ]
     },
     "execution_count": 87,
     "metadata": {},
     "output_type": "execute_result"
    }
   ],
   "source": [
    "df_transformed.filter(regex='LAT|LON').columns"
   ]
  },
  {
   "cell_type": "code",
   "execution_count": 91,
   "id": "947541ea",
   "metadata": {},
   "outputs": [
    {
     "data": {
      "text/plain": [
       "(55373, 140)"
      ]
     },
     "execution_count": 91,
     "metadata": {},
     "output_type": "execute_result"
    }
   ],
   "source": [
    "df_transformed.shape"
   ]
  },
  {
   "cell_type": "markdown",
   "id": "8fec915b",
   "metadata": {},
   "source": [
    "We will use the IFLAG column, which allows us to know which agency worked on the cyclone."
   ]
  },
  {
   "cell_type": "markdown",
   "metadata": {},
   "source": [
    "IFLAG :\n",
    "a 15 character flag string which denotes the source of each agency's report:\n",
    "- Interpolation Flags include:\n",
    "    - _ == missing reports. No information provided.\n",
    "    - O == original report as provided by the agency.\n",
    "    - P == position was interpolated (all variables were interpolated/filled, including intensity)\n",
    "    - I == Position was provided, but Intensity variables (and likely other variables) were interpolated/filled\n",
    "    - V = Position and intensity variables are original but some variables were interpolated/filled.\n",
    "\n",
    "- The order of the 15 characters refers to the following 15 datasets:\n",
    "    - 1 - USA Agency (see column 18)\n",
    "    - 2 - Tokyo\n",
    "    - 3 - CMA\n",
    "    - 4 - HKO\n",
    "    - 5 - KMA\n",
    "    - 6 - NewDelhi\n",
    "    - 7 - Reunion\n",
    "    - 8 - BoM\n",
    "    - 9 - Nadi\n",
    "    - 10 - Wellington\n",
    "    - 11 - ds824\n",
    "    - 12 - TD9636\n",
    "    - 13 - TD9635\n",
    "    - 14 - Neumann Southern Hemisphere data set\n",
    "    - 15 - M.L. Chenoweth N Atlantic Historic dataset"
   ]
  },
  {
   "cell_type": "markdown",
   "id": "5152253c",
   "metadata": {},
   "source": [
    "The goal is to create an average of the measurement data collected by the agencies that worked on the same cyclone."
   ]
  },
  {
   "cell_type": "code",
   "execution_count": 94,
   "id": "516b9fe8",
   "metadata": {},
   "outputs": [
    {
     "data": {
      "text/plain": [
       "'O_________OO_O_'"
      ]
     },
     "execution_count": 94,
     "metadata": {},
     "output_type": "execute_result"
    }
   ],
   "source": [
    "df_transformed.IFLAG[0]"
   ]
  },
  {
   "cell_type": "code",
   "execution_count": 98,
   "id": "4d2b7855",
   "metadata": {},
   "outputs": [
    {
     "data": {
      "text/plain": [
       "_    652252\n",
       "P     99936\n",
       "O     78293\n",
       "V       106\n",
       "I         8\n",
       "Name: count, dtype: int64"
      ]
     },
     "execution_count": 98,
     "metadata": {},
     "output_type": "execute_result"
    }
   ],
   "source": [
    "df_transformed['IFLAG'].apply(lambda x: pd.Series(list(x))).stack().value_counts()"
   ]
  },
  {
   "cell_type": "markdown",
   "id": "d435a5d9",
   "metadata": {},
   "source": [
    "We will only retrieve the data when \"O == original report as provided by the agency\" because extrapolation is not of interest if an original report exists."
   ]
  },
  {
   "cell_type": "code",
   "execution_count": null,
   "id": "6910f129",
   "metadata": {},
   "outputs": [],
   "source": []
  },
  {
   "cell_type": "markdown",
   "id": "4d351bc6",
   "metadata": {},
   "source": [
    "Now that the SIDs we cannot use have been removed, the following command will allow us to delete the columns that do not contain any values."
   ]
  },
  {
   "cell_type": "code",
   "execution_count": 89,
   "id": "18e784da",
   "metadata": {},
   "outputs": [
    {
     "data": {
      "text/plain": [
       "'df_transformed = df_transformed.drop(df_transformed.columns[df_transformed.isnull().all()], axis=1)'"
      ]
     },
     "execution_count": 89,
     "metadata": {},
     "output_type": "execute_result"
    }
   ],
   "source": [
    "'''df_transformed = df_transformed.drop(df_transformed.columns[df_transformed.isnull().all()], axis=1)'''"
   ]
  },
  {
   "cell_type": "code",
   "execution_count": 90,
   "id": "e1f981fc",
   "metadata": {},
   "outputs": [
    {
     "data": {
      "text/plain": [
       "'df_transformed.shape'"
      ]
     },
     "execution_count": 90,
     "metadata": {},
     "output_type": "execute_result"
    }
   ],
   "source": [
    "'''df_transformed.shape'''"
   ]
  }
 ],
 "metadata": {
  "kernelspec": {
   "display_name": "env",
   "language": "python",
   "name": "python3"
  },
  "language_info": {
   "codemirror_mode": {
    "name": "ipython",
    "version": 3
   },
   "file_extension": ".py",
   "mimetype": "text/x-python",
   "name": "python",
   "nbconvert_exporter": "python",
   "pygments_lexer": "ipython3",
   "version": "3.13.0"
  }
 },
 "nbformat": 4,
 "nbformat_minor": 5
}
