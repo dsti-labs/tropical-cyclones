{
 "cells": [
  {
   "cell_type": "markdown",
   "metadata": {},
   "source": [
    "## Prediction of tropical storms intensity"
   ]
  },
  {
   "cell_type": "code",
   "execution_count": 2,
   "metadata": {},
   "outputs": [],
   "source": [
    "# Packages loading\n",
    "import os\n",
    "import pandas as pd\n",
    "import numpy as np\n",
    "\n",
    "# for ploting map\n",
    "import matplotlib.pyplot as plt\n",
    "import geopandas as gpd\n",
    "\n",
    "import plotly.express as px\n",
    "\n",
    "# Preprocessing\n",
    "from sklearn.preprocessing import (\n",
    "    OrdinalEncoder\n",
    ")\n"
   ]
  },
  {
   "cell_type": "code",
   "execution_count": 4,
   "metadata": {},
   "outputs": [
    {
     "name": "stdout",
     "output_type": "stream",
     "text": [
      "D:\\_DSTI\\A24_Python_Machine_learning\\Project3_Tropical_storms\n"
     ]
    }
   ],
   "source": [
    "# Change current working directory\n",
    "# current directory:\n",
    "print(os.getcwd())\n",
    "# set new directory\n",
    "os.chdir('D:\\_DSTI\\A24_Python_Machine_learning\\Project3_Tropical_storms')\n"
   ]
  },
  {
   "cell_type": "markdown",
   "metadata": {},
   "source": [
    "## Dataset loading\n",
    "IBTrACS dataset from NOAA.\n",
    "International Best Track Archive for Climate Stewardship.\n",
    "https://www.ncei.noaa.gov/products/international-best-track-archive\n",
    "\n",
    "Objectif of the project :\n",
    "Train a model to predict the severity of a tropical cyclone based on geographical input data.\n",
    "Especially, we need to focus on predicting the value in the <b>TD9636_STAGE</b> column.\n",
    "\n",
    "\n"
   ]
  },
  {
   "cell_type": "code",
   "execution_count": 5,
   "metadata": {},
   "outputs": [
    {
     "name": "stderr",
     "output_type": "stream",
     "text": [
      "C:\\Users\\Claire\\AppData\\Local\\Temp\\ipykernel_26576\\2115829982.py:2: DtypeWarning: Columns (1,2,8,9,14,19,20,172,173) have mixed types. Specify dtype option on import or set low_memory=False.\n",
      "  df = pd.read_csv('.\\ibtracs.csv', header=0)\n"
     ]
    }
   ],
   "source": [
    "# Dataset loading\n",
    "df = pd.read_csv('.\\ibtracs.csv', header=0) \n",
    "df = df.iloc[1:] # remove 2nd line (with index 1).\n",
    "df = df.reset_index() #reset indexes ;\n",
    "# Add a column \"Index\" corresponding to the previous indexes. Can be removed.\n",
    "#storms.head()\n",
    "#print(storms)\n",
    "# storms: dataframe 297098 lines, 175 columns (174 + 1 for old indexes)\n"
   ]
  },
  {
   "cell_type": "markdown",
   "metadata": {},
   "source": [
    "As we need to focus on the value in the <b>TD9636_STAGE</b> column, we can remove all lines where <b>TD9636_STAGE</b> is missing.\n",
    "The TD9636 dataset was build in the 60-70s and is a collection of storms derived from multiple sources. It has not been updated since the 80s whereas the IBTrACS dataset is still updated. As a consequence it is not suprising that most of rows in TD9636_STAGE are empty.\n",
    "TD9636 is a dataset for outside the Atlantic.\n",
    "\n",
    "PROBLEM: \n",
    "Empty cells are in fact filled with a whitespace and thus NA are not properly detected"
   ]
  },
  {
   "cell_type": "code",
   "execution_count": null,
   "metadata": {},
   "outputs": [
    {
     "data": {
      "text/plain": [
       "index                0\n",
       "SID                  0\n",
       "SEASON               0\n",
       "NUMBER               0\n",
       "BASIN            40518\n",
       "                 ...  \n",
       "USA_SEARAD_SE        0\n",
       "USA_SEARAD_SW        0\n",
       "USA_SEARAD_NW        0\n",
       "STORM_SPEED          0\n",
       "STORM_DIR            0\n",
       "Length: 175, dtype: int64"
      ]
     },
     "execution_count": 80,
     "metadata": {},
     "output_type": "execute_result"
    },
    {
     "ename": "",
     "evalue": "",
     "output_type": "error",
     "traceback": [
      "\u001b[1;31mnotebook controller is DISPOSED. \n",
      "\u001b[1;31mView Jupyter <a href='command:jupyter.viewOutput'>log</a> for further details."
     ]
    }
   ],
   "source": [
    "df.isna().sum()# it seems that there is no NA, which is false."
   ]
  },
  {
   "cell_type": "code",
   "execution_count": 6,
   "metadata": {},
   "outputs": [
    {
     "name": "stderr",
     "output_type": "stream",
     "text": [
      "C:\\Users\\Claire\\AppData\\Local\\Temp\\ipykernel_26576\\3573423944.py:1: FutureWarning: DataFrame.applymap has been deprecated. Use DataFrame.map instead.\n",
      "  df = df.applymap(lambda x: x.strip() if isinstance(x, str) else x) # remove whitespace from every cells\n",
      "C:\\Users\\Claire\\AppData\\Local\\Temp\\ipykernel_26576\\3573423944.py:2: FutureWarning: Downcasting behavior in `replace` is deprecated and will be removed in a future version. To retain the old behavior, explicitly call `result.infer_objects(copy=False)`. To opt-in to the future behavior, set `pd.set_option('future.no_silent_downcasting', True)`\n",
      "  df.replace('', np.nan, inplace=True) # replace empty cells with NaN\n"
     ]
    }
   ],
   "source": [
    "df = df.applymap(lambda x: x.strip() if isinstance(x, str) else x) # remove whitespace from every cells\n",
    "df.replace('', np.nan, inplace=True) # replace empty cells with NaN\n",
    "df_NA = df.isna().sum() # it seems to work. \n",
    "# We can remove all columns filled only with NA"
   ]
  },
  {
   "cell_type": "code",
   "execution_count": 7,
   "metadata": {},
   "outputs": [],
   "source": [
    "# Now we can remove rows where there is NA in TD9636_STAGE\n",
    "# TD9636_STAGE : 248755 missing data (84%)\n",
    "\n",
    "df.dropna(subset = ['TD9636_STAGE'], inplace=True)\n",
    "\n",
    "# Only 48343 rows left"
   ]
  },
  {
   "cell_type": "code",
   "execution_count": 9,
   "metadata": {},
   "outputs": [
    {
     "data": {
      "text/plain": [
       "TD9636_STAGE\n",
       "2    17204\n",
       "1    16028\n",
       "4    10623\n",
       "0     3156\n",
       "3      742\n",
       "5      331\n",
       "6      259\n",
       "Name: count, dtype: int64"
      ]
     },
     "execution_count": 9,
     "metadata": {},
     "output_type": "execute_result"
    }
   ],
   "source": [
    "df.TD9636_STAGE.value_counts()\n"
   ]
  },
  {
   "cell_type": "markdown",
   "metadata": {},
   "source": [
    "# Data cleaning/feature engineering\n",
    "\n",
    "First remove all rows filled only with NA :\n",
    "- 75 columns\n",
    "\n",
    "Columns to remove:\n",
    "\n",
    "    - index: column added by Python when updating indexes after removing the 2nd line.\n",
    "    - NAME: same as SID except that some storms don't have name. Redundant info\n",
    "    - NUMBER: number of the storm for the year. Restart at 1 each year. Not useful.\n",
    "    - BASIN \n",
    "    - SUBBASIN: Mostly missing. These two will probably be correlated to LAT and LON. Redundant info.\n",
    "    - WMO_WIND: all data from agencies but differents units but no adjustement is made for differences in wind speed averaging. Data not comparable.\n",
    "    - TD9636_WIND: in data description: \"subjective, must be interpreted with caution\". Not reliable.\n",
    "    - WMO_AGENCY: info on agency from where WMO_ data come from.\n",
    "\n",
    "    - IFLAG: info about data quality. Not necessary for model.\n",
    "    - TRACK_TYPE: info about data quality. Not necessary for model.\n",
    "\n",
    "    - BOM_PRES_METHOD: info on how BOM_PRES is measured\n",
    "\n",
    "    - DS824_STAGE: lot of missing data but not surprising as it cover the period between 1877 and 1980. Our data are until 1989 thus we can remove this column.\n",
    "\n",
    "    -NEUMANN_CLASS: lot of missing data. Not surprising as it cover only Southern Hemisphere and thus does not cover our entire study area.\n",
    "\n",
    "\n",
    "\n",
    "Columns to keep: \n",
    "\n",
    "    - SID: unique ID for each storm\n",
    "    - ISO_TIME: uniquely identify each record ? \n",
    "    - DIST2LAND\n",
    "    - LANDFALL\n",
    "    - LAT\n",
    "    - LON"
   ]
  },
  {
   "cell_type": "code",
   "execution_count": 8,
   "metadata": {},
   "outputs": [],
   "source": [
    "# Sum of NA per column:\n",
    "df_NA = df.isna().sum() \n",
    "# Remove columns filled with NA\n",
    "df = df.dropna(axis=1, how='all')\n",
    "df_NA = df.isna().sum() "
   ]
  },
  {
   "cell_type": "code",
   "execution_count": 9,
   "metadata": {},
   "outputs": [],
   "source": [
    "# Columns that are not useful/full of NA/not reliable:\n",
    "STORMS = df.drop(columns=['index', 'NAME', 'NUMBER',\n",
    "                                    'SUBBASIN',\n",
    "                                    'WMO_WIND', 'TD9636_WIND', \n",
    "                                    'WMO_AGENCY',\n",
    "                                    'IFLAG', 'TRACK_TYPE',\n",
    "                                    'BOM_PRES_METHOD',\n",
    "                                    'DS824_STAGE',\n",
    "                                    'NEUMANN_CLASS'\n",
    "                                    ])"
   ]
  },
  {
   "cell_type": "code",
   "execution_count": 10,
   "metadata": {},
   "outputs": [],
   "source": [
    "# Remove duplicate LAT/LON data:\n",
    "STORMS = STORMS.loc[:, ~STORMS.columns.str.contains('_LAT', case=True)]\n",
    "STORMS = STORMS.loc[:, ~STORMS.columns.str.contains('_LON', case=True)]"
   ]
  },
  {
   "cell_type": "code",
   "execution_count": null,
   "metadata": {},
   "outputs": [
    {
     "data": {
      "text/plain": [
       "TD9636_STAGE\n",
       "2    17204\n",
       "1    16028\n",
       "4    10623\n",
       "0     3156\n",
       "3      742\n",
       "5      331\n",
       "6      259\n",
       "Name: count, dtype: int64"
      ]
     },
     "execution_count": 87,
     "metadata": {},
     "output_type": "execute_result"
    },
    {
     "ename": "",
     "evalue": "",
     "output_type": "error",
     "traceback": [
      "\u001b[1;31mnotebook controller is DISPOSED. \n",
      "\u001b[1;31mView Jupyter <a href='command:jupyter.viewOutput'>log</a> for further details."
     ]
    }
   ],
   "source": [
    "STORMS.TD9636_STAGE.value_counts()\n",
    "\n",
    "# stage are not equally represented, which is not suprising.\n",
    "# but will be a problem for the model ?"
   ]
  },
  {
   "cell_type": "code",
   "execution_count": 11,
   "metadata": {},
   "outputs": [
    {
     "data": {
      "text/plain": [
       "BASIN\n",
       "WP    19796\n",
       "SI    11008\n",
       "EP     9831\n",
       "SP     5752\n",
       "NI     1956\n",
       "Name: count, dtype: int64"
      ]
     },
     "execution_count": 11,
     "metadata": {},
     "output_type": "execute_result"
    }
   ],
   "source": [
    "df.BASIN.value_counts()\n"
   ]
  },
  {
   "cell_type": "markdown",
   "metadata": {},
   "source": [
    "Data available for\n",
    "WP: Western North Pacific\n",
    "SI: South Indian\n",
    "EP: Eastern North Pacific\n",
    "SP: South Pacific\n",
    "NI: North Indian \n",
    "\n",
    "No data for North and South Atlantic (NA and SA) which is normal as TD9636 is a dataset for outside the Atlantic."
   ]
  },
  {
   "cell_type": "markdown",
   "metadata": {},
   "source": [
    "## WIND columns\n",
    "_WIND columsn from the different agencies have different units, and thus can not be gather together easily :\n",
    "     WMO_WIND: all data from agencies but differents units (no adjustement is made for differences in wind speed averaging)\n",
    "     I suggest to remove it. No reliable.\n",
    "\n",
    "     USA_WIND, DS824_WIND, NEUMANN_WIND, max speed 1-min averaged;\n",
    "     CMA_WIND, max speed 2-min averaged;\n",
    "     NEWDELHI_WIND, max speed 3-min averaged;\n",
    "     TOKYO_WIND, HKO_WIND, KMA_WIND, REUNION_WIND, BOM_WIND, NADI_WIND, WELLINGTON_WIND max speed 10-min averaged;\n",
    "     TD9636_WIND: in data description \"estimates subjective, interpreted with caution\". Remove it. \n",
    "     TD9635_WIND, MLC_WIND: only NA\n",
    "\n",
    "We can take USA_WIND as a base because it is where there is the less NAN and complete the missing data with other columns, especially DS824_WIND and NEUMANN_WIND as it is supposed to be the same unit (max speed 1-min averaged).\n",
    "Problem: data are not in the same unit \n",
    "To convert from max speed 10-min averaged to 1-min averaged : * 1.12\n",
    "IBTrACS technical details p5: \n",
    "    \"The U.S. agencies (NOAA and JTWC) report a 1 min averaging time for the sustained (i.e. relatively long-lasting) winds. In most of the rest of the world, a 10 min averaging time is used for \"sustained wind\". It is possible to convert from peak 10 min wind to peak 1 min wind (roughly 12% higher for the latter) as a general rule.\"\n",
    "It is not a very accurate method so I suggest not to use it too much.\n",
    "(See part 6.2 Wind speed reporting differences from Technical details doc)\n",
    "\n",
    "We create one column WIND to gather all wind data and one column AGENCY to track the origin of the data."
   ]
  },
  {
   "cell_type": "code",
   "execution_count": 12,
   "metadata": {},
   "outputs": [
    {
     "name": "stderr",
     "output_type": "stream",
     "text": [
      "C:\\Users\\Claire\\AppData\\Local\\Temp\\ipykernel_26576\\4145608872.py:27: FutureWarning: Setting an item of incompatible dtype is deprecated and will raise an error in a future version of pandas. Value 'USA_WIND' has dtype incompatible with float64, please explicitly cast to a compatible dtype first.\n",
      "  STORMS.loc[mask, \"WIND_AGENCY\"] = source\n"
     ]
    }
   ],
   "source": [
    "# convert data types : \n",
    "cols = STORMS.filter(like=\"_WIND\").columns\n",
    "STORMS[cols] = STORMS[cols].apply(pd.to_numeric, errors=\"coerce\")\n",
    "STORMS.dtypes\n",
    "\n",
    "# Create the two columns \"WIND\" and \"AGENCY\":\n",
    "STORMS[\"WIND\"] = np.nan\n",
    "STORMS[\"WIND_AGENCY\"] = np.nan\n",
    "\n",
    "sources_adj = [\n",
    "    (\"USA_WIND\", 1.0),  # No adjustment\n",
    "    (\"DS824_WIND\", 1.0),  # No adjustment\n",
    "    (\"NEUMANN_WIND\", 1.0),  # No adjustment\n",
    "    (\"TOKYO_WIND\", 1.12),  # Adjustment factor\n",
    "    (\"HKO_WIND\", 1.12),\n",
    " #   (\"KMA_WIND\", 1.12),\n",
    "    (\"REUNION_WIND\", 1.12),\n",
    "    (\"BOM_WIND\", 1.12),\n",
    " #   (\"NADI_WIND\", 1.12),\n",
    "    (\"WELLINGTON_WIND\", 1.12)\n",
    "]\n",
    "\n",
    "# Iterate through the sources\n",
    "for source, factor in sources_adj:\n",
    "    mask = pd.isna(STORMS[\"WIND\"]) & ~pd.isna(STORMS[source])  # Where WIND is NA but source is not NA\n",
    "    STORMS.loc[mask, \"WIND\"] = STORMS.loc[mask, source] * factor\n",
    "    STORMS.loc[mask, \"WIND_AGENCY\"] = source"
   ]
  },
  {
   "cell_type": "code",
   "execution_count": 13,
   "metadata": {},
   "outputs": [],
   "source": [
    "# Then we can remove other _WIND columns\n",
    "STORMS = STORMS.loc[:, ~STORMS.columns.str.contains('_WIND', case=True)]"
   ]
  },
  {
   "cell_type": "markdown",
   "metadata": {},
   "source": [
    "# PRESS columns\n",
    "\n",
    "= Lowest surface pressure in the tropical cyclone\n",
    "Supposed to be easily comparable between agencies.\n",
    "\n",
    "     WMO_PRES: Minimal central pressure assigned by the responsible WMO Agency\n",
    "     USA_PRES: (mb) Minimum sea level pressure. Seems less precise ?\n",
    "     TOKYO_PRES: central pressure\n",
    "     CMA_PRES: (mb) Minimum sea level pressure\n",
    "     HKO_PRES: (mb) Minimum sea level pressure\n",
    "     KMA_PRES: (mb) Minimum sea level pressure\n",
    "     NEWDELHI_PRES: \n",
    "     REUNION_PRES:\n",
    "     BOM_PRES \n",
    "     BOM_PRES_METHOD: indicate the tool, not useful for us?\n",
    "     NADI_PRES:\n",
    "     WELLINGTON_PRES\n",
    "     DS824_PRES\n",
    "     NEUMANN_PRES\n",
    "\n",
    "Except BOM_PRES_METHOD, they all have the same unit and should be comparable.\n"
   ]
  },
  {
   "cell_type": "code",
   "execution_count": 14,
   "metadata": {},
   "outputs": [
    {
     "data": {
      "text/plain": [
       "WMO_PRES           33584\n",
       "USA_PRES           46775\n",
       "TOKYO_PRES         32937\n",
       "CMA_PRES           33176\n",
       "HKO_PRES           35341\n",
       "NEWDELHI_PRES      48118\n",
       "REUNION_PRES       45186\n",
       "BOM_PRES           42193\n",
       "WELLINGTON_PRES    43960\n",
       "DS824_PRES         47998\n",
       "NEUMANN_PRES       45442\n",
       "dtype: int64"
      ]
     },
     "execution_count": 14,
     "metadata": {},
     "output_type": "execute_result"
    }
   ],
   "source": [
    "# Problem: not exactly the same value and the LAT and LON are not EXACTLY the same.\n",
    "PRES = STORMS.filter(like=\"PRES\", axis =1)\n",
    "PRES.isna().sum()\n",
    "\n",
    "# Maybe we can do the mean of each value. \n",
    "# It will modify the data but smooth the error ?"
   ]
  },
  {
   "cell_type": "code",
   "execution_count": 15,
   "metadata": {},
   "outputs": [],
   "source": [
    "# convert data types : \n",
    "cols = STORMS.filter(like=\"_PRES\").columns\n",
    "STORMS[cols] = STORMS[cols].apply(pd.to_numeric, errors=\"coerce\")\n",
    "STORMS.dtypes\n",
    "\n",
    "# create a new column PRESS that is the mean of all _PRESS columns\n",
    "STORMS[\"PRESS\"] = STORMS.filter(like = \"_PRES\") . mean(axis = 1)\n"
   ]
  },
  {
   "cell_type": "code",
   "execution_count": 16,
   "metadata": {},
   "outputs": [],
   "source": [
    "# Then we can remove other _PRES columns\n",
    "STORMS = STORMS.loc[:, ~STORMS.columns.str.contains('_PRES', case=True)]"
   ]
  },
  {
   "cell_type": "markdown",
   "metadata": {},
   "source": []
  },
  {
   "cell_type": "code",
   "execution_count": 17,
   "metadata": {},
   "outputs": [],
   "source": [
    "# Remove data from agency columns\n",
    "STORMS = STORMS.loc[:, ~STORMS.columns.str.contains('USA_', case=True)]\n",
    "STORMS = STORMS.loc[:, ~STORMS.columns.str.contains('TOKYO_', case=True)]\n",
    "STORMS = STORMS.loc[:, ~STORMS.columns.str.contains('CMA_', case=True)]\n",
    "STORMS = STORMS.loc[:, ~STORMS.columns.str.contains('HKO_', case=True)]\n",
    "STORMS = STORMS.loc[:, ~STORMS.columns.str.contains('NEWDELHI_', case=True)]\n",
    "STORMS = STORMS.loc[:, ~STORMS.columns.str.contains('REUNION_', case=True)]\n",
    "STORMS = STORMS.loc[:, ~STORMS.columns.str.contains('BOM_', case=True)]"
   ]
  },
  {
   "cell_type": "markdown",
   "metadata": {},
   "source": [
    "### At last we have :\n",
    "14 columns:\n",
    "\n",
    "    - SID: storm IDs\n",
    "    - SEASON: Risk to be correlated with ISO_TIME ?\n",
    "    - ISO_TIME: time of the measurement \n",
    "    - NATURE: ?\n",
    "    - BASIN\n",
    "    - LAT\n",
    "    - LON\n",
    "    - DIST2LAND \n",
    "    - LANDFALL\n",
    "    - TD9636_STAGE: TARGET\n",
    "    - STORM_SPEED: will be correlated to WIND ?\n",
    "    - STORM_DIR\n",
    "    - WIND\n",
    "    - WIND_AGENCY: Not useful for the model\n",
    "    - PRESS\n",
    "\n",
    "### Problem:\n",
    "Still a lot of missing data for PRESS"
   ]
  },
  {
   "cell_type": "markdown",
   "metadata": {},
   "source": [
    "-----------------------\n",
    "# Stop there\n",
    "-----------------------\n",
    "### Details on column choice"
   ]
  },
  {
   "cell_type": "code",
   "execution_count": null,
   "metadata": {},
   "outputs": [
    {
     "data": {
      "text/plain": [
       "SID       0\n",
       "NAME      0\n",
       "NUMBER    0\n",
       "dtype: int64"
      ]
     },
     "execution_count": 95,
     "metadata": {},
     "output_type": "execute_result"
    },
    {
     "ename": "",
     "evalue": "",
     "output_type": "error",
     "traceback": [
      "\u001b[1;31mnotebook controller is DISPOSED. \n",
      "\u001b[1;31mView Jupyter <a href='command:jupyter.viewOutput'>log</a> for further details."
     ]
    }
   ],
   "source": [
    "# List of storms\n",
    "IDS = df.loc[:, [\"SID\", \"NAME\", \"NUMBER\"]] \n",
    "# SID and Name are the same except that some storms don't have names so let's keep SID and remove Name\n",
    "# NUMBER is the number of the storm for the year. Restart at 1 each year. Remove it. \n",
    "IDS.describe() # There are 4767 different storms\n",
    "IDS.isna().sum() # No NA in SID. "
   ]
  },
  {
   "cell_type": "code",
   "execution_count": null,
   "metadata": {},
   "outputs": [
    {
     "ename": "",
     "evalue": "",
     "output_type": "error",
     "traceback": [
      "\u001b[1;31mnotebook controller is DISPOSED. \n",
      "\u001b[1;31mView Jupyter <a href='command:jupyter.viewOutput'>log</a> for further details."
     ]
    }
   ],
   "source": [
    "# LAT columns\n",
    "LAT = STORMS.filter(like=\"LAT\", axis=1) # All columns containing \"LAT\" in their headers\n",
    "LAT = STORMS[[\"SID\"] + [col for col in STORMS.columns if \"LAT\" in col]]\n",
    "# All latitudes are the same most of the time (+- 0.1, sometimes more but mostly the same).\n",
    "# All these columns contains the same information. \n",
    "# LAT = LAT.loc[:, ['LAT']]\n",
    "# LAT.isna().sum() # No na in column LAT"
   ]
  },
  {
   "cell_type": "code",
   "execution_count": null,
   "metadata": {},
   "outputs": [
    {
     "data": {
      "text/plain": [
       "LON    0\n",
       "dtype: int64"
      ]
     },
     "execution_count": 97,
     "metadata": {},
     "output_type": "execute_result"
    },
    {
     "ename": "",
     "evalue": "",
     "output_type": "error",
     "traceback": [
      "\u001b[1;31mnotebook controller is DISPOSED. \n",
      "\u001b[1;31mView Jupyter <a href='command:jupyter.viewOutput'>log</a> for further details."
     ]
    }
   ],
   "source": [
    "# LONGITUDE\n",
    "LON = STORMS.filter(like=\"LON\", axis=1)\n",
    "LON.isna().sum()\n",
    "# same as with LAT, all longitudes are the same most of the time (+- 0.1, sometimes more but mostly the same).\n",
    "# All these columns contains the same information. \n",
    "# LON = LON.loc[:, ['LON']]\n",
    "# LON.isna().sum() # No na in column LAT"
   ]
  },
  {
   "cell_type": "markdown",
   "metadata": {},
   "source": [
    "PROBLEM:\n",
    "Sometime LAT/LON data are the same between agencies but sometimes we can see differences. \n",
    "Why ?\n",
    "Is it because the measurements are not take exactly at the same point or is it because of measurement inaccuracies between instruments ?\n",
    "\n",
    "\n",
    "Plot a few storms on a map:"
   ]
  },
  {
   "cell_type": "code",
   "execution_count": null,
   "metadata": {},
   "outputs": [
    {
     "ename": "",
     "evalue": "",
     "output_type": "error",
     "traceback": [
      "\u001b[1;31mnotebook controller is DISPOSED. \n",
      "\u001b[1;31mView Jupyter <a href='command:jupyter.viewOutput'>log</a> for further details."
     ]
    }
   ],
   "source": [
    "# Extract storms that have different LAT/LON within a same line:\n",
    "\n",
    "sample_ID = [\"1980069S12161\",\n",
    "             \"1980092S15183\", \n",
    "             \"1980197N07154\",\n",
    "             \"1981070N03173\"]\n",
    "sample = STORMS[STORMS[\"SID\"].isin(sample_ID)] \n",
    "\n",
    "sample = sample[[\"SID\"] \n",
    "                + [\"ISO_TIME\"] \n",
    "                + [col for col in sample.columns if \"LAT\" in col]\n",
    "                + [col for col in sample.columns if \"LON\" in col]\n",
    "                ]\n",
    "sample_one = sample[[\"SID\"] + [\"LAT\"] + [\"LON\"]]\n"
   ]
  },
  {
   "cell_type": "code",
   "execution_count": null,
   "metadata": {},
   "outputs": [
    {
     "ename": "KeyError",
     "evalue": "\"The following id_vars or value_vars are not present in the DataFrame: ['USA_LAT', 'TOKYO_LAT', 'CMA_LAT', 'HKO_LAT', 'NEWDELHI_LAT', 'REUNION_LAT', 'BOM_LAT', 'WELLINGTON_LAT', 'DS824_LAT', 'TD9636_LAT', 'NEUMANN_LAT']\"",
     "output_type": "error",
     "traceback": [
      "\u001b[1;31m---------------------------------------------------------------------------\u001b[0m",
      "\u001b[1;31mKeyError\u001b[0m                                  Traceback (most recent call last)",
      "Cell \u001b[1;32mIn[99], line 4\u001b[0m\n\u001b[0;32m      1\u001b[0m \u001b[38;5;66;03m# Transpose the table\u001b[39;00m\n\u001b[0;32m      2\u001b[0m \n\u001b[0;32m      3\u001b[0m \u001b[38;5;66;03m# Unpivot latitude and longitude columns\u001b[39;00m\n\u001b[1;32m----> 4\u001b[0m lat_melt \u001b[38;5;241m=\u001b[39m \u001b[43msample\u001b[49m\u001b[38;5;241;43m.\u001b[39;49m\u001b[43mmelt\u001b[49m\u001b[43m(\u001b[49m\u001b[43mid_vars\u001b[49m\u001b[38;5;241;43m=\u001b[39;49m\u001b[43m[\u001b[49m\u001b[38;5;124;43m'\u001b[39;49m\u001b[38;5;124;43mSID\u001b[39;49m\u001b[38;5;124;43m'\u001b[39;49m\u001b[43m,\u001b[49m\u001b[43m \u001b[49m\u001b[38;5;124;43m'\u001b[39;49m\u001b[38;5;124;43mISO_TIME\u001b[39;49m\u001b[38;5;124;43m'\u001b[39;49m\u001b[43m]\u001b[49m\u001b[43m,\u001b[49m\u001b[43m \u001b[49m\n\u001b[0;32m      5\u001b[0m \u001b[43m                   \u001b[49m\u001b[43mvalue_vars\u001b[49m\u001b[38;5;241;43m=\u001b[39;49m\u001b[43m[\u001b[49m\u001b[43mcol\u001b[49m\u001b[43m \u001b[49m\u001b[38;5;28;43;01mfor\u001b[39;49;00m\u001b[43m \u001b[49m\u001b[43mcol\u001b[49m\u001b[43m \u001b[49m\u001b[38;5;129;43;01min\u001b[39;49;00m\u001b[43m \u001b[49m\u001b[43mdf\u001b[49m\u001b[38;5;241;43m.\u001b[39;49m\u001b[43mcolumns\u001b[49m\u001b[43m \u001b[49m\u001b[38;5;28;43;01mif\u001b[39;49;00m\u001b[43m \u001b[49m\u001b[43mcol\u001b[49m\u001b[38;5;241;43m.\u001b[39;49m\u001b[43mendswith\u001b[49m\u001b[43m(\u001b[49m\u001b[38;5;124;43m'\u001b[39;49m\u001b[38;5;124;43m_LAT\u001b[39;49m\u001b[38;5;124;43m'\u001b[39;49m\u001b[43m)\u001b[49m\u001b[43m]\u001b[49m\u001b[43m,\u001b[49m\u001b[43m \u001b[49m\n\u001b[0;32m      6\u001b[0m \u001b[43m                   \u001b[49m\u001b[43mvar_name\u001b[49m\u001b[38;5;241;43m=\u001b[39;49m\u001b[38;5;124;43m'\u001b[39;49m\u001b[38;5;124;43magency_lat\u001b[39;49m\u001b[38;5;124;43m'\u001b[39;49m\u001b[43m,\u001b[49m\u001b[43m \u001b[49m\n\u001b[0;32m      7\u001b[0m \u001b[43m                   \u001b[49m\u001b[43mvalue_name\u001b[49m\u001b[38;5;241;43m=\u001b[39;49m\u001b[38;5;124;43m'\u001b[39;49m\u001b[38;5;124;43mlatitude\u001b[39;49m\u001b[38;5;124;43m'\u001b[39;49m\u001b[43m)\u001b[49m\n\u001b[0;32m      9\u001b[0m lon_melt \u001b[38;5;241m=\u001b[39m df\u001b[38;5;241m.\u001b[39mmelt(id_vars\u001b[38;5;241m=\u001b[39m[\u001b[38;5;124m'\u001b[39m\u001b[38;5;124mSID\u001b[39m\u001b[38;5;124m'\u001b[39m, \u001b[38;5;124m'\u001b[39m\u001b[38;5;124mISO_TIME\u001b[39m\u001b[38;5;124m'\u001b[39m], \n\u001b[0;32m     10\u001b[0m                    value_vars\u001b[38;5;241m=\u001b[39m[col \u001b[38;5;28;01mfor\u001b[39;00m col \u001b[38;5;129;01min\u001b[39;00m df\u001b[38;5;241m.\u001b[39mcolumns \u001b[38;5;28;01mif\u001b[39;00m col\u001b[38;5;241m.\u001b[39mendswith(\u001b[38;5;124m'\u001b[39m\u001b[38;5;124m_LON\u001b[39m\u001b[38;5;124m'\u001b[39m)], \n\u001b[0;32m     11\u001b[0m                    var_name\u001b[38;5;241m=\u001b[39m\u001b[38;5;124m'\u001b[39m\u001b[38;5;124magency_lon\u001b[39m\u001b[38;5;124m'\u001b[39m, \n\u001b[0;32m     12\u001b[0m                    value_name\u001b[38;5;241m=\u001b[39m\u001b[38;5;124m'\u001b[39m\u001b[38;5;124mlongitude\u001b[39m\u001b[38;5;124m'\u001b[39m)\n\u001b[0;32m     14\u001b[0m \u001b[38;5;66;03m# Ensure the order matches between lat and lon\u001b[39;00m\n",
      "File \u001b[1;32mc:\\Users\\Claire\\.conda\\envs\\0910_WarmUp\\lib\\site-packages\\pandas\\core\\frame.py:9942\u001b[0m, in \u001b[0;36mDataFrame.melt\u001b[1;34m(self, id_vars, value_vars, var_name, value_name, col_level, ignore_index)\u001b[0m\n\u001b[0;32m   9932\u001b[0m \u001b[38;5;129m@Appender\u001b[39m(_shared_docs[\u001b[38;5;124m\"\u001b[39m\u001b[38;5;124mmelt\u001b[39m\u001b[38;5;124m\"\u001b[39m] \u001b[38;5;241m%\u001b[39m {\u001b[38;5;124m\"\u001b[39m\u001b[38;5;124mcaller\u001b[39m\u001b[38;5;124m\"\u001b[39m: \u001b[38;5;124m\"\u001b[39m\u001b[38;5;124mdf.melt(\u001b[39m\u001b[38;5;124m\"\u001b[39m, \u001b[38;5;124m\"\u001b[39m\u001b[38;5;124mother\u001b[39m\u001b[38;5;124m\"\u001b[39m: \u001b[38;5;124m\"\u001b[39m\u001b[38;5;124mmelt\u001b[39m\u001b[38;5;124m\"\u001b[39m})\n\u001b[0;32m   9933\u001b[0m \u001b[38;5;28;01mdef\u001b[39;00m \u001b[38;5;21mmelt\u001b[39m(\n\u001b[0;32m   9934\u001b[0m     \u001b[38;5;28mself\u001b[39m,\n\u001b[1;32m   (...)\u001b[0m\n\u001b[0;32m   9940\u001b[0m     ignore_index: \u001b[38;5;28mbool\u001b[39m \u001b[38;5;241m=\u001b[39m \u001b[38;5;28;01mTrue\u001b[39;00m,\n\u001b[0;32m   9941\u001b[0m ) \u001b[38;5;241m-\u001b[39m\u001b[38;5;241m>\u001b[39m DataFrame:\n\u001b[1;32m-> 9942\u001b[0m     \u001b[38;5;28;01mreturn\u001b[39;00m \u001b[43mmelt\u001b[49m\u001b[43m(\u001b[49m\n\u001b[0;32m   9943\u001b[0m \u001b[43m        \u001b[49m\u001b[38;5;28;43mself\u001b[39;49m\u001b[43m,\u001b[49m\n\u001b[0;32m   9944\u001b[0m \u001b[43m        \u001b[49m\u001b[43mid_vars\u001b[49m\u001b[38;5;241;43m=\u001b[39;49m\u001b[43mid_vars\u001b[49m\u001b[43m,\u001b[49m\n\u001b[0;32m   9945\u001b[0m \u001b[43m        \u001b[49m\u001b[43mvalue_vars\u001b[49m\u001b[38;5;241;43m=\u001b[39;49m\u001b[43mvalue_vars\u001b[49m\u001b[43m,\u001b[49m\n\u001b[0;32m   9946\u001b[0m \u001b[43m        \u001b[49m\u001b[43mvar_name\u001b[49m\u001b[38;5;241;43m=\u001b[39;49m\u001b[43mvar_name\u001b[49m\u001b[43m,\u001b[49m\n\u001b[0;32m   9947\u001b[0m \u001b[43m        \u001b[49m\u001b[43mvalue_name\u001b[49m\u001b[38;5;241;43m=\u001b[39;49m\u001b[43mvalue_name\u001b[49m\u001b[43m,\u001b[49m\n\u001b[0;32m   9948\u001b[0m \u001b[43m        \u001b[49m\u001b[43mcol_level\u001b[49m\u001b[38;5;241;43m=\u001b[39;49m\u001b[43mcol_level\u001b[49m\u001b[43m,\u001b[49m\n\u001b[0;32m   9949\u001b[0m \u001b[43m        \u001b[49m\u001b[43mignore_index\u001b[49m\u001b[38;5;241;43m=\u001b[39;49m\u001b[43mignore_index\u001b[49m\u001b[43m,\u001b[49m\n\u001b[0;32m   9950\u001b[0m \u001b[43m    \u001b[49m\u001b[43m)\u001b[49m\u001b[38;5;241m.\u001b[39m__finalize__(\u001b[38;5;28mself\u001b[39m, method\u001b[38;5;241m=\u001b[39m\u001b[38;5;124m\"\u001b[39m\u001b[38;5;124mmelt\u001b[39m\u001b[38;5;124m\"\u001b[39m)\n",
      "File \u001b[1;32mc:\\Users\\Claire\\.conda\\envs\\0910_WarmUp\\lib\\site-packages\\pandas\\core\\reshape\\melt.py:74\u001b[0m, in \u001b[0;36mmelt\u001b[1;34m(frame, id_vars, value_vars, var_name, value_name, col_level, ignore_index)\u001b[0m\n\u001b[0;32m     70\u001b[0m \u001b[38;5;28;01mif\u001b[39;00m missing\u001b[38;5;241m.\u001b[39many():\n\u001b[0;32m     71\u001b[0m     missing_labels \u001b[38;5;241m=\u001b[39m [\n\u001b[0;32m     72\u001b[0m         lab \u001b[38;5;28;01mfor\u001b[39;00m lab, not_found \u001b[38;5;129;01min\u001b[39;00m \u001b[38;5;28mzip\u001b[39m(labels, missing) \u001b[38;5;28;01mif\u001b[39;00m not_found\n\u001b[0;32m     73\u001b[0m     ]\n\u001b[1;32m---> 74\u001b[0m     \u001b[38;5;28;01mraise\u001b[39;00m \u001b[38;5;167;01mKeyError\u001b[39;00m(\n\u001b[0;32m     75\u001b[0m         \u001b[38;5;124m\"\u001b[39m\u001b[38;5;124mThe following id_vars or value_vars are not present in \u001b[39m\u001b[38;5;124m\"\u001b[39m\n\u001b[0;32m     76\u001b[0m         \u001b[38;5;124mf\u001b[39m\u001b[38;5;124m\"\u001b[39m\u001b[38;5;124mthe DataFrame: \u001b[39m\u001b[38;5;132;01m{\u001b[39;00mmissing_labels\u001b[38;5;132;01m}\u001b[39;00m\u001b[38;5;124m\"\u001b[39m\n\u001b[0;32m     77\u001b[0m     )\n\u001b[0;32m     78\u001b[0m \u001b[38;5;28;01mif\u001b[39;00m value_vars_was_not_none:\n\u001b[0;32m     79\u001b[0m     frame \u001b[38;5;241m=\u001b[39m frame\u001b[38;5;241m.\u001b[39miloc[:, algos\u001b[38;5;241m.\u001b[39munique(idx)]\n",
      "\u001b[1;31mKeyError\u001b[0m: \"The following id_vars or value_vars are not present in the DataFrame: ['USA_LAT', 'TOKYO_LAT', 'CMA_LAT', 'HKO_LAT', 'NEWDELHI_LAT', 'REUNION_LAT', 'BOM_LAT', 'WELLINGTON_LAT', 'DS824_LAT', 'TD9636_LAT', 'NEUMANN_LAT']\""
     ]
    },
    {
     "ename": "",
     "evalue": "",
     "output_type": "error",
     "traceback": [
      "\u001b[1;31mnotebook controller is DISPOSED. \n",
      "\u001b[1;31mView Jupyter <a href='command:jupyter.viewOutput'>log</a> for further details."
     ]
    }
   ],
   "source": [
    "# Transpose the table\n",
    "\n",
    "# Unpivot latitude and longitude columns\n",
    "lat_melt = sample.melt(id_vars=['SID', 'ISO_TIME'], \n",
    "                   value_vars=[col for col in df.columns if col.endswith('_LAT')], \n",
    "                   var_name='agency_lat', \n",
    "                   value_name='latitude')\n",
    "\n",
    "lon_melt = df.melt(id_vars=['SID', 'ISO_TIME'], \n",
    "                   value_vars=[col for col in df.columns if col.endswith('_LON')], \n",
    "                   var_name='agency_lon', \n",
    "                   value_name='longitude')\n",
    "\n",
    "# Ensure the order matches between lat and lon\n",
    "lat_melt['agency'] = lat_melt['agency_lat'].str.replace('_LAT', '', regex=False)\n",
    "lon_melt['agency'] = lon_melt['agency_lon'].str.replace('_LON', '', regex=False)\n",
    "\n",
    "# Merge latitude and longitude on ID, ISO_TIME, and agency\n",
    "sample = pd.merge(lat_melt, lon_melt, on=['SID', 'ISO_TIME', 'agency'])\n",
    "\n",
    "# Drop unnecessary columns\n",
    "sample = sample.drop(columns=['agency_lat', 'agency_lon'])\n",
    "sample = sample.dropna(subset = [\"latitude\"])\n"
   ]
  },
  {
   "cell_type": "markdown",
   "metadata": {},
   "source": [
    "Plot the map storms with all the points"
   ]
  },
  {
   "cell_type": "code",
   "execution_count": null,
   "metadata": {},
   "outputs": [
    {
     "data": {
      "application/vnd.plotly.v1+json": {
       "config": {
        "plotlyServerURL": "https://plot.ly"
       },
       "data": [
        {
         "geo": "geo",
         "hovertemplate": "SID=1980069S12161<br>latitude=%{lat}<br>longitude=%{lon}<extra></extra>",
         "lat": [
          "-13.5",
          "-13.9",
          "-14.3",
          "-14.7",
          "-15.0",
          "-15.3",
          "-15.5",
          "-15.7",
          "-16.0",
          "-16.3",
          "-16.6",
          "-16.9",
          "-17.2",
          "-17.5",
          "-17.8",
          "-18.1",
          "-18.5",
          "-18.8",
          "-19.1",
          "-19.5",
          "-20.0",
          "-20.7",
          "-21.4",
          "-22.1",
          "-22.8",
          "-23.5",
          "-24.1",
          "-24.8",
          "-25.5",
          "-26.2",
          "-27.0",
          "-27.7",
          "-28.5",
          "-29.2",
          "-30.0",
          "-30.7",
          "-31.5",
          "-32.3",
          "-33.3",
          "-34.4",
          "-35.5",
          "-36.6",
          "-37.7",
          "-38.9",
          "-40.0",
          "-41.0",
          "-42.0",
          "-42.9",
          "-44.0",
          "-45.3",
          "-46.7",
          "-48.3",
          "-50.0",
          "-13.7",
          "-13.8",
          "-14.0",
          "-14.3",
          "-14.6",
          "-14.9",
          "-15.2",
          "-15.6",
          "-15.9",
          "-16.2",
          "-16.5",
          "-16.9",
          "-17.3",
          "-17.8",
          "-18.2",
          "-18.5",
          "-18.8",
          "-19.2",
          "-19.6",
          "-20.0",
          "-20.4",
          "-20.8",
          "-21.2",
          "-21.7",
          "-22.2",
          "-22.7",
          "-23.3",
          "-23.9",
          "-24.6",
          "-25.3",
          "-26.0",
          "-15.5",
          "-15.8",
          "-16.0",
          "-16.2",
          "-16.5",
          "-16.8",
          "-17.0",
          "-17.3",
          "-17.5",
          "-17.7",
          "-18.0",
          "-18.2",
          "-18.5",
          "-18.8",
          "-19.1",
          "-19.4",
          "-19.9",
          "-20.5",
          "-21.2",
          "-21.9",
          "-22.7",
          "-23.4",
          "-24.1",
          "-24.8",
          "-25.5",
          "-26.2",
          "-27.0",
          "-27.7",
          "-28.5",
          "-29.2",
          "-29.9",
          "-30.7",
          "-31.5",
          "-32.4",
          "-33.4",
          "-34.4",
          "-35.5",
          "-36.6",
          "-37.8",
          "-38.9",
          "-40.0",
          "-40.9",
          "-41.9",
          "-42.9",
          "-44.0",
          "-45.3",
          "-46.8",
          "-48.4",
          "-50.0",
          "-13.7",
          "-13.8",
          "-14.0",
          "-14.3",
          "-14.6",
          "-14.9",
          "-15.2",
          "-15.6",
          "-15.9",
          "-16.2",
          "-16.5",
          "-16.9",
          "-17.3",
          "-17.8",
          "-18.2",
          "-18.5",
          "-18.8",
          "-19.2",
          "-19.6",
          "-20.0",
          "-20.4",
          "-20.8",
          "-21.2",
          "-21.7",
          "-22.2",
          "-22.7",
          "-23.3",
          "-23.9",
          "-24.6",
          "-25.3",
          "-26.0",
          "-13.5",
          "-13.9",
          "-14.3",
          "-14.7",
          "-15.0",
          "-15.3",
          "-15.5",
          "-15.8",
          "-16.0",
          "-16.3",
          "-16.6",
          "-16.9",
          "-17.2",
          "-17.5",
          "-17.8",
          "-18.2",
          "-18.5",
          "-18.8",
          "-19.1",
          "-19.5",
          "-20.0",
          "-20.6",
          "-21.3",
          "-22.1",
          "-22.8",
          "-23.5",
          "-24.1",
          "-24.8",
          "-25.5",
          "-26.2",
          "-27.0",
          "-27.7",
          "-28.5",
          "-29.2",
          "-29.9",
          "-30.7",
          "-31.5",
          "-32.4",
          "-33.4",
          "-34.4",
          "-35.5",
          "-36.6",
          "-37.8",
          "-38.9",
          "-40.0",
          "-40.9",
          "-41.9",
          "-42.9",
          "-44.0",
          "-45.3",
          "-46.8",
          "-48.4",
          "-50.0",
          "-13.5",
          "-13.9",
          "-14.3",
          "-14.7",
          "-15.0",
          "-15.3",
          "-15.5",
          "-15.7",
          "-16.0",
          "-16.3",
          "-16.6",
          "-16.9",
          "-17.2",
          "-17.5",
          "-17.8",
          "-18.1",
          "-18.5",
          "-18.8",
          "-19.1",
          "-19.5",
          "-20.0",
          "-20.7",
          "-21.4",
          "-22.1",
          "-22.8",
          "-23.5",
          "-24.1",
          "-24.8",
          "-25.5",
          "-26.2",
          "-27.0",
          "-27.7",
          "-28.5",
          "-29.2",
          "-30.0",
          "-30.7",
          "-31.5",
          "-32.3",
          "-33.3",
          "-34.4",
          "-35.5",
          "-36.6",
          "-37.7",
          "-38.9",
          "-40.0",
          "-41.0",
          "-42.0",
          "-42.9",
          "-44.0",
          "-45.3",
          "-46.7",
          "-48.3",
          "-50.0"
         ],
         "legendgroup": "1980069S12161",
         "lon": [
          "158.8",
          "159.0",
          "159.2",
          "159.4",
          "159.5",
          "159.7",
          "159.8",
          "159.9",
          "160.0",
          "160.1",
          "160.1",
          "160.2",
          "160.2",
          "160.3",
          "160.3",
          "160.4",
          "160.4",
          "160.4",
          "160.5",
          "160.8",
          "161.2",
          "161.8",
          "162.6",
          "163.4",
          "164.2",
          "165.1",
          "166.0",
          "166.8",
          "167.5",
          "168.0",
          "168.5",
          "169.0",
          "169.5",
          "170.0",
          "170.5",
          "171.0",
          "171.5",
          "172.0",
          "172.6",
          "173.1",
          "174.0",
          "175.5",
          "177.3",
          "179.2",
          "-179.0",
          "-177.7",
          "-176.7",
          "-175.8",
          "-175.0",
          "-174.3",
          "-173.8",
          "-173.4",
          "-173.0",
          "161.0",
          "160.7",
          "160.5",
          "160.2",
          "160.0",
          "159.8",
          "159.7",
          "159.5",
          "159.4",
          "159.4",
          "159.5",
          "159.5",
          "159.5",
          "159.6",
          "159.7",
          "159.9",
          "160.2",
          "160.6",
          "161.0",
          "161.4",
          "161.8",
          "162.3",
          "162.8",
          "163.4",
          "164.1",
          "164.7",
          "165.5",
          "166.5",
          "167.5",
          "168.5",
          "169.5",
          "159.0",
          "159.1",
          "159.1",
          "159.2",
          "159.3",
          "159.4",
          "159.5",
          "159.6",
          "159.7",
          "159.7",
          "159.8",
          "159.9",
          "160.0",
          "160.2",
          "160.4",
          "160.7",
          "161.2",
          "161.8",
          "162.5",
          "163.4",
          "164.2",
          "165.1",
          "165.9",
          "166.8",
          "167.5",
          "168.1",
          "168.6",
          "169.1",
          "169.5",
          "170.0",
          "170.5",
          "171.0",
          "171.5",
          "171.9",
          "172.4",
          "173.1",
          "174.0",
          "175.5",
          "177.4",
          "179.3",
          "-179.0",
          "-177.7",
          "-176.6",
          "-175.7",
          "-175.0",
          "-174.4",
          "-173.9",
          "-173.4",
          "-173.0",
          "161.0",
          "160.7",
          "160.5",
          "160.2",
          "160.0",
          "159.8",
          "159.7",
          "159.5",
          "159.4",
          "159.4",
          "159.5",
          "159.5",
          "159.5",
          "159.6",
          "159.7",
          "159.9",
          "160.2",
          "160.6",
          "161.0",
          "161.4",
          "161.8",
          "162.3",
          "162.8",
          "163.4",
          "164.1",
          "164.7",
          "165.5",
          "166.5",
          "167.5",
          "168.5",
          "169.5",
          "158.8",
          "159.0",
          "159.2",
          "159.3",
          "159.5",
          "159.7",
          "159.8",
          "159.9",
          "160.0",
          "160.1",
          "160.1",
          "160.2",
          "160.2",
          "160.2",
          "160.3",
          "160.3",
          "160.4",
          "160.5",
          "160.6",
          "160.8",
          "161.2",
          "161.8",
          "162.5",
          "163.3",
          "164.2",
          "165.1",
          "165.9",
          "166.8",
          "167.5",
          "168.1",
          "168.6",
          "169.1",
          "169.5",
          "170.0",
          "170.5",
          "171.0",
          "171.5",
          "171.9",
          "172.4",
          "173.1",
          "174.0",
          "175.5",
          "177.4",
          "179.3",
          "-179.0",
          "-177.7",
          "-176.6",
          "-175.7",
          "-175.0",
          "-174.4",
          "-173.9",
          "-173.4",
          "-173.0",
          "158.8",
          "159.0",
          "159.2",
          "159.4",
          "159.5",
          "159.7",
          "159.8",
          "159.9",
          "160.0",
          "160.1",
          "160.1",
          "160.2",
          "160.2",
          "160.3",
          "160.3",
          "160.4",
          "160.4",
          "160.4",
          "160.5",
          "160.8",
          "161.2",
          "161.8",
          "162.6",
          "163.4",
          "164.2",
          "165.1",
          "166.0",
          "166.8",
          "167.5",
          "168.0",
          "168.5",
          "169.0",
          "169.5",
          "170.0",
          "170.5",
          "171.0",
          "171.5",
          "172.0",
          "172.6",
          "173.1",
          "174.0",
          "175.5",
          "177.3",
          "179.2",
          "-179.0",
          "-177.7",
          "-176.7",
          "-175.8",
          "-175.0",
          "-174.3",
          "-173.8",
          "-173.4",
          "-173.0"
         ],
         "marker": {
          "color": "#636efa",
          "symbol": "circle"
         },
         "mode": "markers",
         "name": "1980069S12161",
         "showlegend": true,
         "type": "scattergeo"
        },
        {
         "geo": "geo",
         "hovertemplate": "SID=1980092S15183<br>latitude=%{lat}<br>longitude=%{lon}<extra></extra>",
         "lat": [
          "-15.2",
          "-15.1",
          "-15.0",
          "-14.9",
          "-14.8",
          "-14.6",
          "-14.5",
          "-14.4",
          "-14.3",
          "-14.4",
          "-14.5",
          "-14.7",
          "-14.8",
          "-14.9",
          "-14.9",
          "-14.9",
          "-15.0",
          "-15.1",
          "-15.1",
          "-15.1",
          "-15.1",
          "-15.1",
          "-15.2",
          "-15.2",
          "-15.3",
          "-15.5",
          "-15.7",
          "-15.9",
          "-16.1",
          "-16.3",
          "-16.5",
          "-16.7",
          "-17.0",
          "-17.4",
          "-17.9",
          "-18.5",
          "-19.3",
          "-20.1",
          "-21.0",
          "-21.8",
          "-22.6",
          "-23.4",
          "-24.1",
          "-24.8",
          "-25.6",
          "-26.4",
          "-27.1",
          "-27.7",
          "-28.2",
          "-28.5",
          "-28.6",
          "-28.6",
          "-28.6",
          "-28.6",
          "-28.6",
          "-28.6",
          "-28.5",
          "-14.3",
          "-14.5",
          "-14.7",
          "-14.9",
          "-15.0",
          "-15.1",
          "-15.1",
          "-15.1",
          "-15.1",
          "-15.1",
          "-15.2",
          "-15.2",
          "-15.3",
          "-15.3",
          "-15.4",
          "-15.4",
          "-15.5",
          "-15.6",
          "-15.7",
          "-15.9",
          "-16.1",
          "-16.2",
          "-16.4",
          "-16.7",
          "-17.0",
          "-17.4",
          "-18.0",
          "-18.6",
          "-19.3",
          "-20.0",
          "-20.8",
          "-21.7",
          "-22.5",
          "-23.4",
          "-24.3",
          "-25.0",
          "-25.6",
          "-26.0",
          "-26.1",
          "-26.1",
          "-26.0",
          "-25.8",
          "-25.6",
          "-25.3",
          "-25.0",
          "-15.2",
          "-15.1",
          "-15.0",
          "-14.9",
          "-14.8",
          "-14.6",
          "-14.5",
          "-14.4",
          "-14.3",
          "-14.4",
          "-14.5",
          "-14.7",
          "-14.8",
          "-14.9",
          "-14.9",
          "-14.9",
          "-15.0",
          "-15.1",
          "-15.1",
          "-15.1",
          "-15.1",
          "-15.1",
          "-15.2",
          "-15.2",
          "-15.3",
          "-15.5",
          "-15.7",
          "-15.9",
          "-16.1",
          "-16.3",
          "-16.5",
          "-16.7",
          "-17.0",
          "-17.4",
          "-17.9",
          "-18.5",
          "-19.3",
          "-20.1",
          "-21.0",
          "-21.8",
          "-22.6",
          "-23.4",
          "-24.1",
          "-24.8",
          "-25.6",
          "-26.4",
          "-27.1",
          "-27.7",
          "-28.2",
          "-28.5",
          "-28.6",
          "-28.6",
          "-28.6",
          "-28.6",
          "-28.6",
          "-28.6",
          "-28.5",
          "-15.2",
          "-15.1",
          "-15.0",
          "-14.9",
          "-14.8",
          "-14.6",
          "-14.5",
          "-14.4",
          "-14.3",
          "-14.4",
          "-14.5",
          "-14.7",
          "-14.8",
          "-14.9",
          "-14.9",
          "-15.0",
          "-15.0",
          "-15.0",
          "-15.0",
          "-15.1",
          "-15.1",
          "-15.1",
          "-15.1",
          "-15.2",
          "-15.3",
          "-15.5",
          "-15.6",
          "-15.9",
          "-16.1",
          "-16.3",
          "-16.4",
          "-16.7",
          "-17.0",
          "-17.4",
          "-18.0",
          "-18.6",
          "-19.3",
          "-20.1",
          "-20.9",
          "-21.8",
          "-22.6",
          "-23.4",
          "-24.1",
          "-24.9",
          "-25.6",
          "-26.4",
          "-27.1",
          "-27.7",
          "-28.2",
          "-28.5",
          "-28.6",
          "-28.6",
          "-28.6",
          "-28.6",
          "-28.6",
          "-28.5",
          "-28.5",
          "-15.2",
          "-15.1",
          "-15.0",
          "-14.9",
          "-14.8",
          "-14.6",
          "-14.5",
          "-14.4",
          "-14.3",
          "-14.4",
          "-14.5",
          "-14.7",
          "-14.8",
          "-14.9",
          "-14.9",
          "-14.9",
          "-15.0",
          "-15.1",
          "-15.1",
          "-15.1",
          "-15.1",
          "-15.1",
          "-15.2",
          "-15.2",
          "-15.3",
          "-15.5",
          "-15.7",
          "-15.9",
          "-16.1",
          "-16.3",
          "-16.5",
          "-16.7",
          "-17.0",
          "-17.4",
          "-17.9",
          "-18.5",
          "-19.3",
          "-20.1",
          "-21.0",
          "-21.8",
          "-22.6",
          "-23.4",
          "-24.1",
          "-24.8",
          "-25.6",
          "-26.4",
          "-27.1",
          "-27.7",
          "-28.2",
          "-28.5",
          "-28.6",
          "-28.6",
          "-28.6",
          "-28.6",
          "-28.6",
          "-28.6",
          "-28.5"
         ],
         "legendgroup": "1980092S15183",
         "lon": [
          "-177.5",
          "-177.8",
          "-178.1",
          "-178.4",
          "-178.7",
          "-179.0",
          "-179.2",
          "-179.4",
          "-179.5",
          "-179.6",
          "-179.7",
          "-179.7",
          "-179.8",
          "-180.0",
          "179.8",
          "179.6",
          "179.5",
          "179.4",
          "179.4",
          "179.3",
          "179.2",
          "179.2",
          "179.1",
          "179.0",
          "178.9",
          "178.7",
          "178.4",
          "178.1",
          "177.9",
          "177.8",
          "177.8",
          "177.7",
          "177.7",
          "177.6",
          "177.6",
          "177.5",
          "177.5",
          "177.7",
          "178.1",
          "178.7",
          "179.5",
          "-179.9",
          "-179.1",
          "-178.2",
          "-177.0",
          "-175.5",
          "-173.8",
          "-172.2",
          "-170.6",
          "-169.2",
          "-167.8",
          "-166.4",
          "-165.0",
          "-163.5",
          "-162.0",
          "-160.5",
          "-159.0",
          "-179.5",
          "-179.8",
          "180.0",
          "179.7",
          "179.5",
          "179.3",
          "179.2",
          "179.1",
          "179.0",
          "178.9",
          "178.7",
          "178.6",
          "178.5",
          "178.4",
          "178.3",
          "178.2",
          "178.1",
          "178.0",
          "178.0",
          "177.9",
          "177.9",
          "177.9",
          "177.8",
          "177.8",
          "177.8",
          "177.8",
          "177.8",
          "177.8",
          "178.0",
          "178.3",
          "178.6",
          "179.2",
          "179.8",
          "-179.5",
          "-178.6",
          "-177.7",
          "-176.6",
          "-175.2",
          "-173.8",
          "-172.6",
          "-172.0",
          "-172.1",
          "-172.7",
          "-173.8",
          "-175.0",
          "182.5",
          "-177.8",
          "181.9",
          "-178.4",
          "181.3",
          "-179.0",
          "180.8",
          "-179.4",
          "180.5",
          "-179.6",
          "180.3",
          "-179.7",
          "180.2",
          "-180.0",
          "179.8",
          "179.6",
          "179.5",
          "179.4",
          "179.4",
          "179.3",
          "179.2",
          "179.2",
          "179.1",
          "179.0",
          "178.9",
          "178.7",
          "178.4",
          "178.1",
          "177.9",
          "177.8",
          "177.8",
          "177.7",
          "177.7",
          "177.6",
          "177.6",
          "177.5",
          "177.5",
          "177.7",
          "178.1",
          "178.7",
          "179.5",
          "-179.9",
          "180.9",
          "-178.2",
          "183.0",
          "-175.5",
          "186.2",
          "-172.2",
          "189.4",
          "-169.2",
          "192.2",
          "-166.4",
          "195.0",
          "-163.5",
          "198.0",
          "-160.5",
          "201.0",
          "-177.5",
          "-177.8",
          "-178.1",
          "-178.4",
          "-178.7",
          "-178.9",
          "-179.2",
          "-179.4",
          "-179.5",
          "-179.6",
          "-179.7",
          "-179.7",
          "-179.8",
          "-180.0",
          "179.9",
          "179.7",
          "179.5",
          "179.4",
          "179.3",
          "179.3",
          "179.2",
          "179.2",
          "179.1",
          "179.0",
          "178.9",
          "178.7",
          "178.4",
          "178.1",
          "177.9",
          "177.8",
          "177.7",
          "177.7",
          "177.7",
          "177.6",
          "177.4",
          "177.4",
          "177.5",
          "177.8",
          "178.2",
          "178.8",
          "179.5",
          "-179.8",
          "-179.1",
          "-178.1",
          "-177.0",
          "-175.6",
          "-174.0",
          "-172.3",
          "-170.6",
          "-169.1",
          "-167.8",
          "-166.4",
          "-165.0",
          "-163.6",
          "-162.1",
          "-160.5",
          "-159.0",
          "-177.5",
          "-177.8",
          "-178.1",
          "-178.4",
          "-178.7",
          "-179.0",
          "-179.2",
          "-179.4",
          "-179.5",
          "-179.6",
          "-179.7",
          "-179.7",
          "-179.8",
          "-180.0",
          "179.8",
          "179.6",
          "179.5",
          "179.4",
          "179.4",
          "179.3",
          "179.2",
          "179.2",
          "179.1",
          "179.0",
          "178.9",
          "178.7",
          "178.4",
          "178.1",
          "177.9",
          "177.8",
          "177.8",
          "177.7",
          "177.7",
          "177.6",
          "177.6",
          "177.5",
          "177.5",
          "177.7",
          "178.1",
          "178.7",
          "179.5",
          "-179.9",
          "-179.1",
          "-178.2",
          "-177.0",
          "-175.5",
          "-173.8",
          "-172.2",
          "-170.6",
          "-169.2",
          "-167.8",
          "-166.4",
          "-165.0",
          "-163.5",
          "-162.0",
          "-160.5",
          "-159.0"
         ],
         "marker": {
          "color": "#EF553B",
          "symbol": "circle"
         },
         "mode": "markers",
         "name": "1980092S15183",
         "showlegend": true,
         "type": "scattergeo"
        },
        {
         "geo": "geo",
         "hovertemplate": "SID=1980197N07154<br>latitude=%{lat}<br>longitude=%{lon}<extra></extra>",
         "lat": [
          "9.2",
          "9.7",
          "10.1",
          "10.6",
          "11.0",
          "11.5",
          "11.9",
          "12.2",
          "12.4",
          "12.6",
          "12.7",
          "12.8",
          "12.9",
          "12.9",
          "13.0",
          "13.2",
          "13.4",
          "13.7",
          "13.9",
          "14.1",
          "14.2",
          "14.3",
          "14.4",
          "14.5",
          "14.6",
          "14.8",
          "15.0",
          "15.2",
          "15.3",
          "15.4",
          "15.4",
          "15.5",
          "15.6",
          "15.8",
          "16.1",
          "16.3",
          "16.5",
          "16.8",
          "17.0",
          "16.9",
          "16.9",
          "17.3",
          "17.8",
          "18.1",
          "18.4",
          "18.7",
          "18.9",
          "19.1",
          "19.4",
          "19.6",
          "19.9",
          "20.2",
          "20.4",
          "20.6",
          "20.8",
          "21.0",
          "21.2",
          "9.8",
          "9.8",
          "9.8",
          "9.7",
          "9.8",
          "10.1",
          "10.5",
          "10.8",
          "11.0",
          "11.3",
          "11.6",
          "11.9",
          "12.2",
          "12.4",
          "12.6",
          "12.8",
          "13.0",
          "13.2",
          "13.4",
          "13.6",
          "13.7",
          "13.8",
          "14.0",
          "14.1",
          "14.3",
          "14.4",
          "14.6",
          "14.7",
          "14.9",
          "15.1",
          "15.2",
          "15.3",
          "15.4",
          "15.5",
          "15.7",
          "15.8",
          "16.0",
          "16.2",
          "16.5",
          "16.8",
          "17.0",
          "17.2",
          "17.4",
          "17.7",
          "18.0",
          "18.2",
          "18.4",
          "18.6",
          "18.7",
          "18.8",
          "19.0",
          "19.2",
          "19.5",
          "19.8",
          "20.0",
          "20.2",
          "20.4",
          "20.7",
          "20.8",
          "20.7",
          "20.5",
          "20.5",
          "10.0",
          "10.5",
          "11.0",
          "11.5",
          "12.0",
          "12.5",
          "12.7",
          "12.5",
          "12.3",
          "12.3",
          "12.5",
          "12.8",
          "13.1",
          "13.3",
          "13.5",
          "13.8",
          "14.0",
          "14.1",
          "14.2",
          "14.2",
          "14.3",
          "14.5",
          "14.7",
          "14.9",
          "15.0",
          "15.1",
          "15.2",
          "15.4",
          "15.7",
          "15.9",
          "16.1",
          "16.2",
          "16.3",
          "16.3",
          "16.4",
          "16.7",
          "17.1",
          "17.2",
          "17.4",
          "17.7",
          "18.1",
          "18.4",
          "18.7",
          "18.9",
          "19.1",
          "19.3",
          "19.5",
          "19.8",
          "20.1",
          "20.2",
          "20.2",
          "20.3",
          "20.4",
          "20.7",
          "20.9",
          "21.0",
          "20.9",
          "20.7",
          "13.5",
          "13.7",
          "13.9",
          "14.1",
          "14.3",
          "14.4",
          "14.5",
          "14.6",
          "14.7",
          "14.8",
          "14.9",
          "14.9",
          "15.0",
          "15.2",
          "15.5",
          "15.7",
          "15.8",
          "15.9",
          "16.1",
          "16.3",
          "16.5",
          "16.8",
          "17.0",
          "17.1",
          "17.3",
          "17.6",
          "17.9",
          "18.2",
          "18.5",
          "18.8",
          "19.0",
          "19.1",
          "19.2",
          "19.5",
          "19.9",
          "20.2",
          "20.5",
          "20.7",
          "20.8",
          "20.9",
          "20.9",
          "21.0",
          "21.0",
          "21.0",
          "9.2",
          "9.7",
          "10.1",
          "10.6",
          "11.0",
          "11.5",
          "11.9",
          "12.2",
          "12.4",
          "12.6",
          "12.7",
          "12.8",
          "12.9",
          "12.9",
          "13.0",
          "13.2",
          "13.4",
          "13.7",
          "13.9",
          "14.1",
          "14.2",
          "14.3",
          "14.4",
          "14.5",
          "14.6",
          "14.8",
          "15.0",
          "15.2",
          "15.3",
          "15.4",
          "15.4",
          "15.5",
          "15.6",
          "15.8",
          "16.1",
          "16.3",
          "16.5",
          "16.8",
          "17.0",
          "16.9",
          "16.9",
          "17.3",
          "17.8",
          "18.1",
          "18.4",
          "18.7",
          "18.9",
          "19.1",
          "19.4",
          "19.6",
          "19.9",
          "20.2",
          "20.4",
          "20.6",
          "20.8",
          "21.0",
          "21.2",
          "7.2",
          "7.4",
          "7.7",
          "7.9",
          "8.1",
          "8.3",
          "8.6",
          "8.9",
          "9.2",
          "9.6",
          "10.1",
          "10.6",
          "11.0",
          "11.4",
          "11.8",
          "12.1",
          "12.4",
          "12.6",
          "12.7",
          "12.8",
          "12.9",
          "13.0",
          "13.1",
          "13.3",
          "13.4",
          "13.6",
          "13.8",
          "14.0",
          "14.2",
          "14.3",
          "14.4",
          "14.5",
          "14.6",
          "14.8",
          "15.0",
          "15.1",
          "15.3",
          "15.4",
          "15.4",
          "15.5",
          "15.6",
          "15.8",
          "16.0",
          "16.3",
          "16.5",
          "16.6",
          "16.7",
          "16.7",
          "16.9",
          "17.2",
          "17.6",
          "18.0",
          "18.4",
          "18.7",
          "18.9",
          "19.2",
          "19.4",
          "19.7",
          "19.9",
          "20.2",
          "20.4",
          "20.6",
          "20.8",
          "21.0",
          "21.2"
         ],
         "legendgroup": "1980197N07154",
         "lon": [
          "148.3",
          "147.8",
          "147.2",
          "146.6",
          "146.0",
          "145.5",
          "145.1",
          "144.6",
          "144.1",
          "143.5",
          "142.8",
          "142.2",
          "141.6",
          "141.0",
          "140.3",
          "139.6",
          "138.9",
          "138.3",
          "137.7",
          "137.1",
          "136.4",
          "135.6",
          "134.8",
          "134.0",
          "133.2",
          "132.3",
          "131.5",
          "130.8",
          "130.0",
          "129.1",
          "128.2",
          "127.4",
          "126.6",
          "125.8",
          "125.0",
          "124.3",
          "123.7",
          "123.0",
          "122.2",
          "121.3",
          "120.4",
          "119.7",
          "119.0",
          "118.2",
          "117.3",
          "116.4",
          "115.5",
          "114.6",
          "113.7",
          "112.8",
          "112.0",
          "111.1",
          "110.2",
          "109.3",
          "108.4",
          "107.5",
          "106.6",
          "150.0",
          "149.2",
          "148.5",
          "147.8",
          "147.2",
          "146.7",
          "146.2",
          "145.7",
          "145.3",
          "144.8",
          "144.3",
          "143.8",
          "143.3",
          "142.6",
          "141.9",
          "141.2",
          "140.4",
          "139.6",
          "138.9",
          "138.2",
          "137.5",
          "136.7",
          "136.0",
          "135.3",
          "134.6",
          "133.9",
          "133.2",
          "132.5",
          "131.7",
          "130.9",
          "130.0",
          "129.1",
          "128.3",
          "127.5",
          "126.7",
          "125.7",
          "124.8",
          "124.1",
          "123.5",
          "122.8",
          "122.1",
          "121.4",
          "120.7",
          "119.9",
          "119.0",
          "118.1",
          "117.3",
          "116.5",
          "115.7",
          "114.9",
          "114.0",
          "113.2",
          "112.3",
          "111.3",
          "110.3",
          "109.4",
          "108.5",
          "107.7",
          "107.0",
          "106.2",
          "105.5",
          "104.8",
          "147.0",
          "146.5",
          "146.0",
          "145.5",
          "145.0",
          "144.4",
          "143.8",
          "143.5",
          "143.2",
          "142.7",
          "142.0",
          "141.1",
          "140.2",
          "139.5",
          "138.9",
          "138.2",
          "137.5",
          "136.9",
          "136.2",
          "135.5",
          "134.7",
          "133.9",
          "133.1",
          "132.4",
          "131.7",
          "130.9",
          "130.1",
          "129.3",
          "128.4",
          "127.5",
          "126.7",
          "126.0",
          "125.3",
          "124.6",
          "123.8",
          "122.9",
          "122.1",
          "121.5",
          "120.8",
          "119.9",
          "119.0",
          "118.1",
          "117.2",
          "116.2",
          "115.3",
          "114.4",
          "113.6",
          "112.9",
          "112.2",
          "111.3",
          "110.3",
          "109.3",
          "108.4",
          "107.5",
          "106.7",
          "106.0",
          "105.3",
          "104.2",
          "139.0",
          "138.4",
          "137.7",
          "137.0",
          "136.3",
          "135.5",
          "134.7",
          "133.9",
          "133.2",
          "132.4",
          "131.6",
          "130.8",
          "130.0",
          "129.2",
          "128.4",
          "127.5",
          "126.7",
          "126.0",
          "125.3",
          "124.5",
          "123.8",
          "123.1",
          "122.4",
          "121.5",
          "120.5",
          "119.7",
          "119.0",
          "118.2",
          "117.4",
          "116.5",
          "115.5",
          "114.6",
          "113.7",
          "112.8",
          "111.9",
          "111.0",
          "110.1",
          "109.1",
          "108.2",
          "107.4",
          "106.8",
          "106.2",
          "105.6",
          "104.8",
          "148.3",
          "147.8",
          "147.2",
          "146.6",
          "146.0",
          "145.5",
          "145.1",
          "144.6",
          "144.1",
          "143.5",
          "142.8",
          "142.2",
          "141.6",
          "141.0",
          "140.3",
          "139.6",
          "138.9",
          "138.3",
          "137.7",
          "137.1",
          "136.4",
          "135.6",
          "134.8",
          "134.0",
          "133.2",
          "132.3",
          "131.5",
          "130.8",
          "130.0",
          "129.1",
          "128.2",
          "127.4",
          "126.6",
          "125.8",
          "125.0",
          "124.3",
          "123.7",
          "123.0",
          "122.2",
          "121.3",
          "120.4",
          "119.7",
          "119.0",
          "118.2",
          "117.3",
          "116.4",
          "115.5",
          "114.6",
          "113.7",
          "112.8",
          "112.0",
          "111.1",
          "110.2",
          "109.3",
          "108.4",
          "107.5",
          "106.6",
          "153.5",
          "152.5",
          "151.6",
          "150.8",
          "150.1",
          "149.6",
          "149.1",
          "148.7",
          "148.3",
          "147.7",
          "147.2",
          "146.6",
          "146.0",
          "145.5",
          "145.1",
          "144.6",
          "144.1",
          "143.5",
          "142.9",
          "142.3",
          "141.6",
          "140.9",
          "140.2",
          "139.6",
          "138.9",
          "138.3",
          "137.7",
          "137.1",
          "136.4",
          "135.6",
          "134.9",
          "134.0",
          "133.2",
          "132.4",
          "131.6",
          "130.8",
          "130.0",
          "129.1",
          "128.3",
          "127.4",
          "126.6",
          "125.9",
          "125.1",
          "124.4",
          "123.7",
          "122.9",
          "122.1",
          "121.2",
          "120.4",
          "119.6",
          "118.9",
          "118.1",
          "117.3",
          "116.4",
          "115.5",
          "114.6",
          "113.7",
          "112.8",
          "111.9",
          "111.1",
          "110.2",
          "109.3",
          "108.4",
          "107.5",
          "106.6"
         ],
         "marker": {
          "color": "#00cc96",
          "symbol": "circle"
         },
         "mode": "markers",
         "name": "1980197N07154",
         "showlegend": true,
         "type": "scattergeo"
        },
        {
         "geo": "geo",
         "hovertemplate": "SID=1981070N03173<br>latitude=%{lat}<br>longitude=%{lon}<extra></extra>",
         "lat": [
          "4.7",
          "5.2",
          "5.6",
          "5.9",
          "6.2",
          "6.4",
          "6.5",
          "6.7",
          "6.9",
          "7.1",
          "7.4",
          "7.7",
          "8.1",
          "8.5",
          "9.0",
          "9.5",
          "9.9",
          "10.3",
          "10.7",
          "11.2",
          "11.7",
          "12.2",
          "12.7",
          "13.2",
          "13.7",
          "14.3",
          "14.8",
          "15.2",
          "15.6",
          "16.2",
          "16.9",
          "17.6",
          "18.3",
          "18.8",
          "19.3",
          "19.7",
          "20.2",
          "20.7",
          "21.3",
          "21.8",
          "22.4",
          "23.0",
          "23.6",
          "24.2",
          "24.8",
          "25.3",
          "25.7",
          "26.2",
          "26.6",
          "27.0",
          "27.4",
          "6.0",
          "6.2",
          "6.5",
          "6.8",
          "7.1",
          "7.4",
          "7.6",
          "7.8",
          "8.0",
          "8.5",
          "9.0",
          "9.4",
          "9.8",
          "10.2",
          "10.6",
          "11.1",
          "11.6",
          "12.1",
          "12.7",
          "13.2",
          "13.7",
          "14.3",
          "14.8",
          "15.1",
          "15.5",
          "16.1",
          "16.8",
          "17.5",
          "18.1",
          "18.6",
          "19.0",
          "19.5",
          "20.0",
          "20.4",
          "20.9",
          "21.4",
          "21.9",
          "22.4",
          "23.0",
          "23.5",
          "24.0",
          "24.6",
          "25.3",
          "26.0",
          "26.6",
          "27.2",
          "27.8",
          "28.3",
          "6.0",
          "6.3",
          "6.6",
          "6.8",
          "7.0",
          "7.2",
          "7.5",
          "7.8",
          "8.2",
          "8.6",
          "9.0",
          "9.5",
          "9.9",
          "10.2",
          "10.6",
          "11.0",
          "11.5",
          "12.1",
          "12.7",
          "13.5",
          "14.2",
          "14.4",
          "14.6",
          "15.0",
          "15.5",
          "16.2",
          "16.9",
          "17.5",
          "18.1",
          "18.6",
          "19.1",
          "19.5",
          "20.0",
          "20.5",
          "21.0",
          "21.4",
          "21.9",
          "22.4",
          "23.0",
          "23.5",
          "24.0",
          "24.5",
          "25.2",
          "26.2",
          "27.1",
          "27.6",
          "28.0",
          "28.4",
          "5.6",
          "5.9",
          "6.2",
          "6.4",
          "6.5",
          "6.7",
          "6.9",
          "7.1",
          "7.4",
          "7.7",
          "8.1",
          "8.5",
          "9.0",
          "9.4",
          "9.8",
          "10.2",
          "10.7",
          "11.1",
          "11.5",
          "12.0",
          "12.6",
          "13.2",
          "13.7",
          "14.2",
          "14.6",
          "15.0",
          "15.5",
          "16.1",
          "16.7",
          "17.3",
          "17.9",
          "18.6",
          "19.2",
          "19.6",
          "20.0",
          "20.5",
          "21.0",
          "21.5",
          "22.0",
          "22.6",
          "23.2",
          "23.9",
          "24.5",
          "25.0",
          "25.5",
          "26.0",
          "26.5",
          "27.0",
          "27.5",
          "2.8",
          "3.3",
          "3.8",
          "4.2",
          "4.7",
          "5.1",
          "5.5",
          "5.9",
          "6.2",
          "6.4",
          "6.6",
          "6.7",
          "6.9",
          "7.1",
          "7.4",
          "7.7",
          "8.1",
          "8.5",
          "9.0",
          "9.4",
          "9.9",
          "10.3",
          "10.8",
          "11.2",
          "11.7",
          "12.2",
          "12.7",
          "13.2",
          "13.7",
          "14.1",
          "14.6",
          "15.1",
          "15.6",
          "16.3",
          "17.0",
          "17.7",
          "18.3",
          "18.8",
          "19.3",
          "19.7",
          "20.2",
          "20.7",
          "21.3",
          "21.8",
          "22.4",
          "23.0",
          "23.6",
          "24.2",
          "24.8",
          "25.3",
          "25.8",
          "26.2",
          "26.6"
         ],
         "legendgroup": "1981070N03173",
         "lon": [
          "170.5",
          "169.9",
          "169.3",
          "168.7",
          "168.2",
          "167.8",
          "167.5",
          "167.2",
          "166.8",
          "166.4",
          "165.9",
          "165.4",
          "164.9",
          "164.4",
          "164.0",
          "163.5",
          "163.1",
          "162.7",
          "162.3",
          "162.1",
          "161.9",
          "161.6",
          "161.4",
          "161.2",
          "161.2",
          "161.2",
          "161.4",
          "161.6",
          "161.9",
          "162.3",
          "162.8",
          "163.4",
          "164.0",
          "164.5",
          "165.0",
          "165.4",
          "165.9",
          "166.4",
          "167.0",
          "167.6",
          "168.1",
          "168.7",
          "169.2",
          "169.7",
          "170.3",
          "170.9",
          "171.6",
          "172.3",
          "173.0",
          "173.7",
          "174.3",
          "168.0",
          "167.7",
          "167.3",
          "167.0",
          "166.6",
          "166.2",
          "165.9",
          "165.6",
          "165.3",
          "164.8",
          "164.2",
          "163.7",
          "163.3",
          "162.8",
          "162.3",
          "162.0",
          "161.9",
          "161.8",
          "161.7",
          "161.5",
          "161.4",
          "161.4",
          "161.5",
          "161.6",
          "161.9",
          "162.3",
          "162.8",
          "163.3",
          "163.8",
          "164.3",
          "164.9",
          "165.5",
          "166.0",
          "166.5",
          "167.0",
          "167.5",
          "168.0",
          "168.5",
          "169.0",
          "169.5",
          "170.0",
          "170.5",
          "171.1",
          "171.8",
          "172.5",
          "173.3",
          "174.2",
          "175.1",
          "168.0",
          "167.7",
          "167.4",
          "167.1",
          "166.8",
          "166.4",
          "166.0",
          "165.6",
          "165.2",
          "164.8",
          "164.3",
          "163.8",
          "163.4",
          "163.0",
          "162.6",
          "162.3",
          "162.0",
          "161.6",
          "161.3",
          "161.1",
          "161.1",
          "161.3",
          "161.6",
          "161.7",
          "161.9",
          "162.3",
          "162.9",
          "163.4",
          "163.9",
          "164.5",
          "165.0",
          "165.5",
          "166.0",
          "166.6",
          "167.2",
          "167.8",
          "168.3",
          "168.9",
          "169.4",
          "169.9",
          "170.5",
          "171.1",
          "171.7",
          "172.5",
          "173.3",
          "174.0",
          "174.6",
          "175.0",
          "169.3",
          "168.7",
          "168.2",
          "167.8",
          "167.5",
          "167.2",
          "166.8",
          "166.3",
          "165.9",
          "165.6",
          "165.2",
          "164.7",
          "164.2",
          "163.7",
          "163.2",
          "162.8",
          "162.5",
          "162.2",
          "161.9",
          "161.6",
          "161.4",
          "161.2",
          "161.1",
          "161.2",
          "161.4",
          "161.6",
          "161.9",
          "162.4",
          "162.9",
          "163.4",
          "163.9",
          "164.4",
          "165.0",
          "165.5",
          "166.0",
          "166.5",
          "167.0",
          "167.5",
          "168.1",
          "168.7",
          "169.3",
          "169.9",
          "170.5",
          "171.1",
          "171.7",
          "172.3",
          "173.0",
          "173.7",
          "174.5",
          "172.8",
          "172.2",
          "171.7",
          "171.1",
          "170.5",
          "169.9",
          "169.3",
          "168.7",
          "168.2",
          "167.8",
          "167.5",
          "167.1",
          "166.8",
          "166.4",
          "165.9",
          "165.4",
          "164.9",
          "164.4",
          "163.9",
          "163.5",
          "163.1",
          "162.7",
          "162.4",
          "162.1",
          "161.9",
          "161.6",
          "161.4",
          "161.3",
          "161.2",
          "161.2",
          "161.3",
          "161.6",
          "161.9",
          "162.3",
          "162.9",
          "163.4",
          "164.0",
          "164.5",
          "164.9",
          "165.4",
          "165.9",
          "166.4",
          "167.0",
          "167.5",
          "168.1",
          "168.6",
          "169.2",
          "169.7",
          "170.3",
          "170.9",
          "171.6",
          "172.3",
          "173.0"
         ],
         "marker": {
          "color": "#ab63fa",
          "symbol": "circle"
         },
         "mode": "markers",
         "name": "1981070N03173",
         "showlegend": true,
         "type": "scattergeo"
        }
       ],
       "layout": {
        "geo": {
         "center": {},
         "domain": {
          "x": [
           0,
           1
          ],
          "y": [
           0,
           1
          ]
         },
         "projection": {
          "type": "natural earth"
         }
        },
        "legend": {
         "title": {
          "text": "SID"
         },
         "tracegroupgap": 0
        },
        "margin": {
         "t": 60
        },
        "template": {
         "data": {
          "bar": [
           {
            "error_x": {
             "color": "#2a3f5f"
            },
            "error_y": {
             "color": "#2a3f5f"
            },
            "marker": {
             "line": {
              "color": "#E5ECF6",
              "width": 0.5
             },
             "pattern": {
              "fillmode": "overlay",
              "size": 10,
              "solidity": 0.2
             }
            },
            "type": "bar"
           }
          ],
          "barpolar": [
           {
            "marker": {
             "line": {
              "color": "#E5ECF6",
              "width": 0.5
             },
             "pattern": {
              "fillmode": "overlay",
              "size": 10,
              "solidity": 0.2
             }
            },
            "type": "barpolar"
           }
          ],
          "carpet": [
           {
            "aaxis": {
             "endlinecolor": "#2a3f5f",
             "gridcolor": "white",
             "linecolor": "white",
             "minorgridcolor": "white",
             "startlinecolor": "#2a3f5f"
            },
            "baxis": {
             "endlinecolor": "#2a3f5f",
             "gridcolor": "white",
             "linecolor": "white",
             "minorgridcolor": "white",
             "startlinecolor": "#2a3f5f"
            },
            "type": "carpet"
           }
          ],
          "choropleth": [
           {
            "colorbar": {
             "outlinewidth": 0,
             "ticks": ""
            },
            "type": "choropleth"
           }
          ],
          "contour": [
           {
            "colorbar": {
             "outlinewidth": 0,
             "ticks": ""
            },
            "colorscale": [
             [
              0,
              "#0d0887"
             ],
             [
              0.1111111111111111,
              "#46039f"
             ],
             [
              0.2222222222222222,
              "#7201a8"
             ],
             [
              0.3333333333333333,
              "#9c179e"
             ],
             [
              0.4444444444444444,
              "#bd3786"
             ],
             [
              0.5555555555555556,
              "#d8576b"
             ],
             [
              0.6666666666666666,
              "#ed7953"
             ],
             [
              0.7777777777777778,
              "#fb9f3a"
             ],
             [
              0.8888888888888888,
              "#fdca26"
             ],
             [
              1,
              "#f0f921"
             ]
            ],
            "type": "contour"
           }
          ],
          "contourcarpet": [
           {
            "colorbar": {
             "outlinewidth": 0,
             "ticks": ""
            },
            "type": "contourcarpet"
           }
          ],
          "heatmap": [
           {
            "colorbar": {
             "outlinewidth": 0,
             "ticks": ""
            },
            "colorscale": [
             [
              0,
              "#0d0887"
             ],
             [
              0.1111111111111111,
              "#46039f"
             ],
             [
              0.2222222222222222,
              "#7201a8"
             ],
             [
              0.3333333333333333,
              "#9c179e"
             ],
             [
              0.4444444444444444,
              "#bd3786"
             ],
             [
              0.5555555555555556,
              "#d8576b"
             ],
             [
              0.6666666666666666,
              "#ed7953"
             ],
             [
              0.7777777777777778,
              "#fb9f3a"
             ],
             [
              0.8888888888888888,
              "#fdca26"
             ],
             [
              1,
              "#f0f921"
             ]
            ],
            "type": "heatmap"
           }
          ],
          "heatmapgl": [
           {
            "colorbar": {
             "outlinewidth": 0,
             "ticks": ""
            },
            "colorscale": [
             [
              0,
              "#0d0887"
             ],
             [
              0.1111111111111111,
              "#46039f"
             ],
             [
              0.2222222222222222,
              "#7201a8"
             ],
             [
              0.3333333333333333,
              "#9c179e"
             ],
             [
              0.4444444444444444,
              "#bd3786"
             ],
             [
              0.5555555555555556,
              "#d8576b"
             ],
             [
              0.6666666666666666,
              "#ed7953"
             ],
             [
              0.7777777777777778,
              "#fb9f3a"
             ],
             [
              0.8888888888888888,
              "#fdca26"
             ],
             [
              1,
              "#f0f921"
             ]
            ],
            "type": "heatmapgl"
           }
          ],
          "histogram": [
           {
            "marker": {
             "pattern": {
              "fillmode": "overlay",
              "size": 10,
              "solidity": 0.2
             }
            },
            "type": "histogram"
           }
          ],
          "histogram2d": [
           {
            "colorbar": {
             "outlinewidth": 0,
             "ticks": ""
            },
            "colorscale": [
             [
              0,
              "#0d0887"
             ],
             [
              0.1111111111111111,
              "#46039f"
             ],
             [
              0.2222222222222222,
              "#7201a8"
             ],
             [
              0.3333333333333333,
              "#9c179e"
             ],
             [
              0.4444444444444444,
              "#bd3786"
             ],
             [
              0.5555555555555556,
              "#d8576b"
             ],
             [
              0.6666666666666666,
              "#ed7953"
             ],
             [
              0.7777777777777778,
              "#fb9f3a"
             ],
             [
              0.8888888888888888,
              "#fdca26"
             ],
             [
              1,
              "#f0f921"
             ]
            ],
            "type": "histogram2d"
           }
          ],
          "histogram2dcontour": [
           {
            "colorbar": {
             "outlinewidth": 0,
             "ticks": ""
            },
            "colorscale": [
             [
              0,
              "#0d0887"
             ],
             [
              0.1111111111111111,
              "#46039f"
             ],
             [
              0.2222222222222222,
              "#7201a8"
             ],
             [
              0.3333333333333333,
              "#9c179e"
             ],
             [
              0.4444444444444444,
              "#bd3786"
             ],
             [
              0.5555555555555556,
              "#d8576b"
             ],
             [
              0.6666666666666666,
              "#ed7953"
             ],
             [
              0.7777777777777778,
              "#fb9f3a"
             ],
             [
              0.8888888888888888,
              "#fdca26"
             ],
             [
              1,
              "#f0f921"
             ]
            ],
            "type": "histogram2dcontour"
           }
          ],
          "mesh3d": [
           {
            "colorbar": {
             "outlinewidth": 0,
             "ticks": ""
            },
            "type": "mesh3d"
           }
          ],
          "parcoords": [
           {
            "line": {
             "colorbar": {
              "outlinewidth": 0,
              "ticks": ""
             }
            },
            "type": "parcoords"
           }
          ],
          "pie": [
           {
            "automargin": true,
            "type": "pie"
           }
          ],
          "scatter": [
           {
            "fillpattern": {
             "fillmode": "overlay",
             "size": 10,
             "solidity": 0.2
            },
            "type": "scatter"
           }
          ],
          "scatter3d": [
           {
            "line": {
             "colorbar": {
              "outlinewidth": 0,
              "ticks": ""
             }
            },
            "marker": {
             "colorbar": {
              "outlinewidth": 0,
              "ticks": ""
             }
            },
            "type": "scatter3d"
           }
          ],
          "scattercarpet": [
           {
            "marker": {
             "colorbar": {
              "outlinewidth": 0,
              "ticks": ""
             }
            },
            "type": "scattercarpet"
           }
          ],
          "scattergeo": [
           {
            "marker": {
             "colorbar": {
              "outlinewidth": 0,
              "ticks": ""
             }
            },
            "type": "scattergeo"
           }
          ],
          "scattergl": [
           {
            "marker": {
             "colorbar": {
              "outlinewidth": 0,
              "ticks": ""
             }
            },
            "type": "scattergl"
           }
          ],
          "scattermapbox": [
           {
            "marker": {
             "colorbar": {
              "outlinewidth": 0,
              "ticks": ""
             }
            },
            "type": "scattermapbox"
           }
          ],
          "scatterpolar": [
           {
            "marker": {
             "colorbar": {
              "outlinewidth": 0,
              "ticks": ""
             }
            },
            "type": "scatterpolar"
           }
          ],
          "scatterpolargl": [
           {
            "marker": {
             "colorbar": {
              "outlinewidth": 0,
              "ticks": ""
             }
            },
            "type": "scatterpolargl"
           }
          ],
          "scatterternary": [
           {
            "marker": {
             "colorbar": {
              "outlinewidth": 0,
              "ticks": ""
             }
            },
            "type": "scatterternary"
           }
          ],
          "surface": [
           {
            "colorbar": {
             "outlinewidth": 0,
             "ticks": ""
            },
            "colorscale": [
             [
              0,
              "#0d0887"
             ],
             [
              0.1111111111111111,
              "#46039f"
             ],
             [
              0.2222222222222222,
              "#7201a8"
             ],
             [
              0.3333333333333333,
              "#9c179e"
             ],
             [
              0.4444444444444444,
              "#bd3786"
             ],
             [
              0.5555555555555556,
              "#d8576b"
             ],
             [
              0.6666666666666666,
              "#ed7953"
             ],
             [
              0.7777777777777778,
              "#fb9f3a"
             ],
             [
              0.8888888888888888,
              "#fdca26"
             ],
             [
              1,
              "#f0f921"
             ]
            ],
            "type": "surface"
           }
          ],
          "table": [
           {
            "cells": {
             "fill": {
              "color": "#EBF0F8"
             },
             "line": {
              "color": "white"
             }
            },
            "header": {
             "fill": {
              "color": "#C8D4E3"
             },
             "line": {
              "color": "white"
             }
            },
            "type": "table"
           }
          ]
         },
         "layout": {
          "annotationdefaults": {
           "arrowcolor": "#2a3f5f",
           "arrowhead": 0,
           "arrowwidth": 1
          },
          "autotypenumbers": "strict",
          "coloraxis": {
           "colorbar": {
            "outlinewidth": 0,
            "ticks": ""
           }
          },
          "colorscale": {
           "diverging": [
            [
             0,
             "#8e0152"
            ],
            [
             0.1,
             "#c51b7d"
            ],
            [
             0.2,
             "#de77ae"
            ],
            [
             0.3,
             "#f1b6da"
            ],
            [
             0.4,
             "#fde0ef"
            ],
            [
             0.5,
             "#f7f7f7"
            ],
            [
             0.6,
             "#e6f5d0"
            ],
            [
             0.7,
             "#b8e186"
            ],
            [
             0.8,
             "#7fbc41"
            ],
            [
             0.9,
             "#4d9221"
            ],
            [
             1,
             "#276419"
            ]
           ],
           "sequential": [
            [
             0,
             "#0d0887"
            ],
            [
             0.1111111111111111,
             "#46039f"
            ],
            [
             0.2222222222222222,
             "#7201a8"
            ],
            [
             0.3333333333333333,
             "#9c179e"
            ],
            [
             0.4444444444444444,
             "#bd3786"
            ],
            [
             0.5555555555555556,
             "#d8576b"
            ],
            [
             0.6666666666666666,
             "#ed7953"
            ],
            [
             0.7777777777777778,
             "#fb9f3a"
            ],
            [
             0.8888888888888888,
             "#fdca26"
            ],
            [
             1,
             "#f0f921"
            ]
           ],
           "sequentialminus": [
            [
             0,
             "#0d0887"
            ],
            [
             0.1111111111111111,
             "#46039f"
            ],
            [
             0.2222222222222222,
             "#7201a8"
            ],
            [
             0.3333333333333333,
             "#9c179e"
            ],
            [
             0.4444444444444444,
             "#bd3786"
            ],
            [
             0.5555555555555556,
             "#d8576b"
            ],
            [
             0.6666666666666666,
             "#ed7953"
            ],
            [
             0.7777777777777778,
             "#fb9f3a"
            ],
            [
             0.8888888888888888,
             "#fdca26"
            ],
            [
             1,
             "#f0f921"
            ]
           ]
          },
          "colorway": [
           "#636efa",
           "#EF553B",
           "#00cc96",
           "#ab63fa",
           "#FFA15A",
           "#19d3f3",
           "#FF6692",
           "#B6E880",
           "#FF97FF",
           "#FECB52"
          ],
          "font": {
           "color": "#2a3f5f"
          },
          "geo": {
           "bgcolor": "white",
           "lakecolor": "white",
           "landcolor": "#E5ECF6",
           "showlakes": true,
           "showland": true,
           "subunitcolor": "white"
          },
          "hoverlabel": {
           "align": "left"
          },
          "hovermode": "closest",
          "mapbox": {
           "style": "light"
          },
          "paper_bgcolor": "white",
          "plot_bgcolor": "#E5ECF6",
          "polar": {
           "angularaxis": {
            "gridcolor": "white",
            "linecolor": "white",
            "ticks": ""
           },
           "bgcolor": "#E5ECF6",
           "radialaxis": {
            "gridcolor": "white",
            "linecolor": "white",
            "ticks": ""
           }
          },
          "scene": {
           "xaxis": {
            "backgroundcolor": "#E5ECF6",
            "gridcolor": "white",
            "gridwidth": 2,
            "linecolor": "white",
            "showbackground": true,
            "ticks": "",
            "zerolinecolor": "white"
           },
           "yaxis": {
            "backgroundcolor": "#E5ECF6",
            "gridcolor": "white",
            "gridwidth": 2,
            "linecolor": "white",
            "showbackground": true,
            "ticks": "",
            "zerolinecolor": "white"
           },
           "zaxis": {
            "backgroundcolor": "#E5ECF6",
            "gridcolor": "white",
            "gridwidth": 2,
            "linecolor": "white",
            "showbackground": true,
            "ticks": "",
            "zerolinecolor": "white"
           }
          },
          "shapedefaults": {
           "line": {
            "color": "#2a3f5f"
           }
          },
          "ternary": {
           "aaxis": {
            "gridcolor": "white",
            "linecolor": "white",
            "ticks": ""
           },
           "baxis": {
            "gridcolor": "white",
            "linecolor": "white",
            "ticks": ""
           },
           "bgcolor": "#E5ECF6",
           "caxis": {
            "gridcolor": "white",
            "linecolor": "white",
            "ticks": ""
           }
          },
          "title": {
           "x": 0.05
          },
          "xaxis": {
           "automargin": true,
           "gridcolor": "white",
           "linecolor": "white",
           "ticks": "",
           "title": {
            "standoff": 15
           },
           "zerolinecolor": "white",
           "zerolinewidth": 2
          },
          "yaxis": {
           "automargin": true,
           "gridcolor": "white",
           "linecolor": "white",
           "ticks": "",
           "title": {
            "standoff": 15
           },
           "zerolinecolor": "white",
           "zerolinewidth": 2
          }
         }
        }
       }
      }
     },
     "metadata": {},
     "output_type": "display_data"
    },
    {
     "ename": "",
     "evalue": "",
     "output_type": "error",
     "traceback": [
      "\u001b[1;31mnotebook controller is DISPOSED. \n",
      "\u001b[1;31mView Jupyter <a href='command:jupyter.viewOutput'>log</a> for further details."
     ]
    }
   ],
   "source": [
    "fig = px.scatter_geo(sample, \n",
    "                     lat = \"latitude\",\n",
    "                     lon = \"longitude\",\n",
    "                     color = \"SID\",\n",
    "                     projection=\"natural earth\"\n",
    "                    )\n",
    "fig.show()"
   ]
  },
  {
   "cell_type": "markdown",
   "metadata": {},
   "source": [
    "When zooming on the map, we can see that points sometimes there are points closed to the other one but the storm seems to have the same trajectory, just shifted. \n",
    "Therefore the difference between the differents LAT/LON pairs seem to be a matter of measurements inaccuracy.\n",
    "We can keep just one."
   ]
  },
  {
   "cell_type": "code",
   "execution_count": null,
   "metadata": {},
   "outputs": [
    {
     "data": {
      "application/vnd.plotly.v1+json": {
       "config": {
        "plotlyServerURL": "https://plot.ly"
       },
       "data": [
        {
         "geo": "geo",
         "hovertemplate": "SID=1980069S12161<br>LAT=%{lat}<br>LON=%{lon}<extra></extra>",
         "lat": [
          "-13.6",
          "-13.9",
          "-14.2",
          "-14.5",
          "-14.9",
          "-15.2",
          "-15.5",
          "-15.8",
          "-16.0",
          "-16.3",
          "-16.6",
          "-16.9",
          "-17.3",
          "-17.6",
          "-17.9",
          "-18.3",
          "-18.6",
          "-18.9",
          "-19.2",
          "-19.6",
          "-20.1",
          "-20.7",
          "-21.3",
          "-22.0",
          "-22.6",
          "-23.2",
          "-23.9",
          "-24.5",
          "-25.3",
          "-26.1",
          "-26.9",
          "-27.7",
          "-28.5",
          "-29.2",
          "-30.0",
          "-30.7",
          "-31.5",
          "-32.4",
          "-33.3",
          "-34.4",
          "-35.5",
          "-36.6",
          "-37.7",
          "-38.9",
          "-40.0",
          "-41.0",
          "-41.9",
          "-42.9",
          "-44.0",
          "-45.3",
          "-46.7",
          "-48.3",
          "-50.0"
         ],
         "legendgroup": "1980069S12161",
         "lon": [
          "160.3",
          "159.9",
          "159.7",
          "159.6",
          "159.6",
          "159.7",
          "159.7",
          "159.7",
          "159.7",
          "159.8",
          "159.8",
          "159.9",
          "159.9",
          "160.0",
          "160.0",
          "160.1",
          "160.3",
          "160.4",
          "160.6",
          "160.9",
          "161.4",
          "161.9",
          "162.6",
          "163.4",
          "164.2",
          "165.0",
          "165.8",
          "166.7",
          "167.5",
          "168.1",
          "168.6",
          "169.0",
          "169.5",
          "170.0",
          "170.5",
          "171.0",
          "171.5",
          "172.0",
          "172.5",
          "173.1",
          "174.0",
          "175.5",
          "177.3",
          "179.2",
          "181.0",
          "182.3",
          "183.3",
          "184.3",
          "185.0",
          "185.6",
          "186.2",
          "186.6",
          "187.0"
         ],
         "marker": {
          "color": "#636efa",
          "symbol": "circle"
         },
         "mode": "markers",
         "name": "1980069S12161",
         "showlegend": true,
         "type": "scattergeo"
        },
        {
         "geo": "geo",
         "hovertemplate": "SID=1980092S15183<br>LAT=%{lat}<br>LON=%{lon}<extra></extra>",
         "lat": [
          "-15.2",
          "-15.1",
          "-15.0",
          "-14.9",
          "-14.8",
          "-14.6",
          "-14.5",
          "-14.4",
          "-14.3",
          "-14.4",
          "-14.5",
          "-14.7",
          "-14.8",
          "-14.9",
          "-14.9",
          "-15.0",
          "-15.0",
          "-15.1",
          "-15.1",
          "-15.1",
          "-15.1",
          "-15.2",
          "-15.2",
          "-15.3",
          "-15.3",
          "-15.5",
          "-15.7",
          "-15.9",
          "-16.1",
          "-16.3",
          "-16.5",
          "-16.7",
          "-17.0",
          "-17.4",
          "-17.9",
          "-18.6",
          "-19.3",
          "-20.1",
          "-20.9",
          "-21.8",
          "-22.6",
          "-23.4",
          "-24.1",
          "-24.9",
          "-25.6",
          "-26.3",
          "-26.9",
          "-27.4",
          "-27.8",
          "-27.9",
          "-28.1",
          "-28.3",
          "-28.4",
          "-28.6",
          "-28.6",
          "-28.6",
          "-28.5"
         ],
         "legendgroup": "1980092S15183",
         "lon": [
          "182.5",
          "182.2",
          "181.9",
          "181.6",
          "181.3",
          "181.0",
          "180.8",
          "180.6",
          "180.5",
          "180.4",
          "180.3",
          "180.2",
          "180.1",
          "179.9",
          "179.7",
          "179.5",
          "179.4",
          "179.3",
          "179.3",
          "179.2",
          "179.1",
          "179.0",
          "178.9",
          "178.9",
          "178.7",
          "178.5",
          "178.3",
          "178.1",
          "177.9",
          "177.8",
          "177.8",
          "177.8",
          "177.7",
          "177.7",
          "177.6",
          "177.5",
          "177.6",
          "177.8",
          "178.2",
          "178.8",
          "179.6",
          "180.2",
          "181.0",
          "181.9",
          "183.1",
          "184.6",
          "186.2",
          "187.7",
          "189.1",
          "190.3",
          "191.4",
          "192.8",
          "194.4",
          "196.5",
          "198.0",
          "199.5",
          "201.0"
         ],
         "marker": {
          "color": "#EF553B",
          "symbol": "circle"
         },
         "mode": "markers",
         "name": "1980092S15183",
         "showlegend": true,
         "type": "scattergeo"
        },
        {
         "geo": "geo",
         "hovertemplate": "SID=1980197N07154<br>LAT=%{lat}<br>LON=%{lon}<extra></extra>",
         "lat": [
          "7.2",
          "7.4",
          "7.7",
          "7.9",
          "8.1",
          "8.3",
          "8.8",
          "9.2",
          "9.4",
          "9.7",
          "10.0",
          "10.4",
          "10.9",
          "11.3",
          "11.7",
          "12.1",
          "12.3",
          "12.4",
          "12.5",
          "12.6",
          "12.8",
          "12.9",
          "13.0",
          "13.2",
          "13.4",
          "13.7",
          "13.9",
          "14.0",
          "14.2",
          "14.3",
          "14.4",
          "14.5",
          "14.6",
          "14.8",
          "15.0",
          "15.1",
          "15.2",
          "15.3",
          "15.5",
          "15.6",
          "15.7",
          "15.9",
          "16.1",
          "16.3",
          "16.5",
          "16.7",
          "17.0",
          "17.0",
          "17.1",
          "17.5",
          "17.9",
          "18.2",
          "18.5",
          "18.7",
          "18.9",
          "19.1",
          "19.3",
          "19.6",
          "19.9",
          "20.1",
          "20.3",
          "20.5",
          "20.7",
          "20.8",
          "20.9",
          "20.9",
          "20.8",
          "20.7"
         ],
         "legendgroup": "1980197N07154",
         "lon": [
          "153.5",
          "152.5",
          "151.6",
          "150.8",
          "150.1",
          "149.6",
          "149.3",
          "148.9",
          "148.4",
          "147.8",
          "147.2",
          "146.6",
          "146.0",
          "145.6",
          "145.1",
          "144.6",
          "144.1",
          "143.6",
          "143.0",
          "142.4",
          "141.7",
          "141.0",
          "140.3",
          "139.6",
          "138.9",
          "138.3",
          "137.6",
          "137.0",
          "136.3",
          "135.5",
          "134.7",
          "134.0",
          "133.2",
          "132.4",
          "131.6",
          "130.8",
          "130.0",
          "129.2",
          "128.3",
          "127.5",
          "126.7",
          "125.9",
          "125.1",
          "124.4",
          "123.7",
          "123.0",
          "122.2",
          "121.4",
          "120.5",
          "119.8",
          "119.0",
          "118.2",
          "117.3",
          "116.4",
          "115.5",
          "114.6",
          "113.7",
          "112.9",
          "112.1",
          "111.1",
          "110.2",
          "109.3",
          "108.4",
          "107.5",
          "106.8",
          "106.2",
          "105.5",
          "104.7"
         ],
         "marker": {
          "color": "#00cc96",
          "symbol": "circle"
         },
         "mode": "markers",
         "name": "1980197N07154",
         "showlegend": true,
         "type": "scattergeo"
        },
        {
         "geo": "geo",
         "hovertemplate": "SID=1981070N03173<br>LAT=%{lat}<br>LON=%{lon}<extra></extra>",
         "lat": [
          2.8,
          3.3,
          3.8,
          4.2,
          4.7,
          5.1,
          5.6,
          5.9,
          6.2,
          6.4,
          6.5,
          6.7,
          7,
          7.2,
          7.5,
          7.8,
          8.1,
          8.5,
          9,
          9.4,
          9.9,
          10.3,
          10.7,
          11.1,
          11.6,
          12.1,
          12.7,
          13.3,
          13.8,
          14.3,
          14.7,
          15.1,
          15.5,
          16.2,
          16.9,
          17.5,
          18.1,
          18.7,
          19.2,
          19.6,
          20.1,
          20.6,
          21.1,
          21.6,
          22.1,
          22.7,
          23.3,
          23.9,
          24.4,
          25,
          25.5,
          26.1,
          26.7,
          27.3,
          27.8,
          28.4
         ],
         "legendgroup": "1981070N03173",
         "lon": [
          172.8,
          172.2,
          171.7,
          171.1,
          170.5,
          169.9,
          169.3,
          168.7,
          168.2,
          167.8,
          167.4,
          167.1,
          166.8,
          166.3,
          165.9,
          165.5,
          165.1,
          164.6,
          164.1,
          163.7,
          163.2,
          162.8,
          162.4,
          162.1,
          161.9,
          161.7,
          161.4,
          161.3,
          161.2,
          161.3,
          161.4,
          161.6,
          161.9,
          162.3,
          162.9,
          163.4,
          163.9,
          164.4,
          165,
          165.5,
          166,
          166.5,
          167,
          167.6,
          168.1,
          168.7,
          169.2,
          169.8,
          170.3,
          170.9,
          171.5,
          172.2,
          172.9,
          173.7,
          174.4,
          175.1
         ],
         "marker": {
          "color": "#ab63fa",
          "symbol": "circle"
         },
         "mode": "markers",
         "name": "1981070N03173",
         "showlegend": true,
         "type": "scattergeo"
        }
       ],
       "layout": {
        "geo": {
         "center": {},
         "domain": {
          "x": [
           0,
           1
          ],
          "y": [
           0,
           1
          ]
         },
         "projection": {
          "type": "natural earth"
         }
        },
        "legend": {
         "title": {
          "text": "SID"
         },
         "tracegroupgap": 0
        },
        "margin": {
         "t": 60
        },
        "template": {
         "data": {
          "bar": [
           {
            "error_x": {
             "color": "#2a3f5f"
            },
            "error_y": {
             "color": "#2a3f5f"
            },
            "marker": {
             "line": {
              "color": "#E5ECF6",
              "width": 0.5
             },
             "pattern": {
              "fillmode": "overlay",
              "size": 10,
              "solidity": 0.2
             }
            },
            "type": "bar"
           }
          ],
          "barpolar": [
           {
            "marker": {
             "line": {
              "color": "#E5ECF6",
              "width": 0.5
             },
             "pattern": {
              "fillmode": "overlay",
              "size": 10,
              "solidity": 0.2
             }
            },
            "type": "barpolar"
           }
          ],
          "carpet": [
           {
            "aaxis": {
             "endlinecolor": "#2a3f5f",
             "gridcolor": "white",
             "linecolor": "white",
             "minorgridcolor": "white",
             "startlinecolor": "#2a3f5f"
            },
            "baxis": {
             "endlinecolor": "#2a3f5f",
             "gridcolor": "white",
             "linecolor": "white",
             "minorgridcolor": "white",
             "startlinecolor": "#2a3f5f"
            },
            "type": "carpet"
           }
          ],
          "choropleth": [
           {
            "colorbar": {
             "outlinewidth": 0,
             "ticks": ""
            },
            "type": "choropleth"
           }
          ],
          "contour": [
           {
            "colorbar": {
             "outlinewidth": 0,
             "ticks": ""
            },
            "colorscale": [
             [
              0,
              "#0d0887"
             ],
             [
              0.1111111111111111,
              "#46039f"
             ],
             [
              0.2222222222222222,
              "#7201a8"
             ],
             [
              0.3333333333333333,
              "#9c179e"
             ],
             [
              0.4444444444444444,
              "#bd3786"
             ],
             [
              0.5555555555555556,
              "#d8576b"
             ],
             [
              0.6666666666666666,
              "#ed7953"
             ],
             [
              0.7777777777777778,
              "#fb9f3a"
             ],
             [
              0.8888888888888888,
              "#fdca26"
             ],
             [
              1,
              "#f0f921"
             ]
            ],
            "type": "contour"
           }
          ],
          "contourcarpet": [
           {
            "colorbar": {
             "outlinewidth": 0,
             "ticks": ""
            },
            "type": "contourcarpet"
           }
          ],
          "heatmap": [
           {
            "colorbar": {
             "outlinewidth": 0,
             "ticks": ""
            },
            "colorscale": [
             [
              0,
              "#0d0887"
             ],
             [
              0.1111111111111111,
              "#46039f"
             ],
             [
              0.2222222222222222,
              "#7201a8"
             ],
             [
              0.3333333333333333,
              "#9c179e"
             ],
             [
              0.4444444444444444,
              "#bd3786"
             ],
             [
              0.5555555555555556,
              "#d8576b"
             ],
             [
              0.6666666666666666,
              "#ed7953"
             ],
             [
              0.7777777777777778,
              "#fb9f3a"
             ],
             [
              0.8888888888888888,
              "#fdca26"
             ],
             [
              1,
              "#f0f921"
             ]
            ],
            "type": "heatmap"
           }
          ],
          "heatmapgl": [
           {
            "colorbar": {
             "outlinewidth": 0,
             "ticks": ""
            },
            "colorscale": [
             [
              0,
              "#0d0887"
             ],
             [
              0.1111111111111111,
              "#46039f"
             ],
             [
              0.2222222222222222,
              "#7201a8"
             ],
             [
              0.3333333333333333,
              "#9c179e"
             ],
             [
              0.4444444444444444,
              "#bd3786"
             ],
             [
              0.5555555555555556,
              "#d8576b"
             ],
             [
              0.6666666666666666,
              "#ed7953"
             ],
             [
              0.7777777777777778,
              "#fb9f3a"
             ],
             [
              0.8888888888888888,
              "#fdca26"
             ],
             [
              1,
              "#f0f921"
             ]
            ],
            "type": "heatmapgl"
           }
          ],
          "histogram": [
           {
            "marker": {
             "pattern": {
              "fillmode": "overlay",
              "size": 10,
              "solidity": 0.2
             }
            },
            "type": "histogram"
           }
          ],
          "histogram2d": [
           {
            "colorbar": {
             "outlinewidth": 0,
             "ticks": ""
            },
            "colorscale": [
             [
              0,
              "#0d0887"
             ],
             [
              0.1111111111111111,
              "#46039f"
             ],
             [
              0.2222222222222222,
              "#7201a8"
             ],
             [
              0.3333333333333333,
              "#9c179e"
             ],
             [
              0.4444444444444444,
              "#bd3786"
             ],
             [
              0.5555555555555556,
              "#d8576b"
             ],
             [
              0.6666666666666666,
              "#ed7953"
             ],
             [
              0.7777777777777778,
              "#fb9f3a"
             ],
             [
              0.8888888888888888,
              "#fdca26"
             ],
             [
              1,
              "#f0f921"
             ]
            ],
            "type": "histogram2d"
           }
          ],
          "histogram2dcontour": [
           {
            "colorbar": {
             "outlinewidth": 0,
             "ticks": ""
            },
            "colorscale": [
             [
              0,
              "#0d0887"
             ],
             [
              0.1111111111111111,
              "#46039f"
             ],
             [
              0.2222222222222222,
              "#7201a8"
             ],
             [
              0.3333333333333333,
              "#9c179e"
             ],
             [
              0.4444444444444444,
              "#bd3786"
             ],
             [
              0.5555555555555556,
              "#d8576b"
             ],
             [
              0.6666666666666666,
              "#ed7953"
             ],
             [
              0.7777777777777778,
              "#fb9f3a"
             ],
             [
              0.8888888888888888,
              "#fdca26"
             ],
             [
              1,
              "#f0f921"
             ]
            ],
            "type": "histogram2dcontour"
           }
          ],
          "mesh3d": [
           {
            "colorbar": {
             "outlinewidth": 0,
             "ticks": ""
            },
            "type": "mesh3d"
           }
          ],
          "parcoords": [
           {
            "line": {
             "colorbar": {
              "outlinewidth": 0,
              "ticks": ""
             }
            },
            "type": "parcoords"
           }
          ],
          "pie": [
           {
            "automargin": true,
            "type": "pie"
           }
          ],
          "scatter": [
           {
            "fillpattern": {
             "fillmode": "overlay",
             "size": 10,
             "solidity": 0.2
            },
            "type": "scatter"
           }
          ],
          "scatter3d": [
           {
            "line": {
             "colorbar": {
              "outlinewidth": 0,
              "ticks": ""
             }
            },
            "marker": {
             "colorbar": {
              "outlinewidth": 0,
              "ticks": ""
             }
            },
            "type": "scatter3d"
           }
          ],
          "scattercarpet": [
           {
            "marker": {
             "colorbar": {
              "outlinewidth": 0,
              "ticks": ""
             }
            },
            "type": "scattercarpet"
           }
          ],
          "scattergeo": [
           {
            "marker": {
             "colorbar": {
              "outlinewidth": 0,
              "ticks": ""
             }
            },
            "type": "scattergeo"
           }
          ],
          "scattergl": [
           {
            "marker": {
             "colorbar": {
              "outlinewidth": 0,
              "ticks": ""
             }
            },
            "type": "scattergl"
           }
          ],
          "scattermapbox": [
           {
            "marker": {
             "colorbar": {
              "outlinewidth": 0,
              "ticks": ""
             }
            },
            "type": "scattermapbox"
           }
          ],
          "scatterpolar": [
           {
            "marker": {
             "colorbar": {
              "outlinewidth": 0,
              "ticks": ""
             }
            },
            "type": "scatterpolar"
           }
          ],
          "scatterpolargl": [
           {
            "marker": {
             "colorbar": {
              "outlinewidth": 0,
              "ticks": ""
             }
            },
            "type": "scatterpolargl"
           }
          ],
          "scatterternary": [
           {
            "marker": {
             "colorbar": {
              "outlinewidth": 0,
              "ticks": ""
             }
            },
            "type": "scatterternary"
           }
          ],
          "surface": [
           {
            "colorbar": {
             "outlinewidth": 0,
             "ticks": ""
            },
            "colorscale": [
             [
              0,
              "#0d0887"
             ],
             [
              0.1111111111111111,
              "#46039f"
             ],
             [
              0.2222222222222222,
              "#7201a8"
             ],
             [
              0.3333333333333333,
              "#9c179e"
             ],
             [
              0.4444444444444444,
              "#bd3786"
             ],
             [
              0.5555555555555556,
              "#d8576b"
             ],
             [
              0.6666666666666666,
              "#ed7953"
             ],
             [
              0.7777777777777778,
              "#fb9f3a"
             ],
             [
              0.8888888888888888,
              "#fdca26"
             ],
             [
              1,
              "#f0f921"
             ]
            ],
            "type": "surface"
           }
          ],
          "table": [
           {
            "cells": {
             "fill": {
              "color": "#EBF0F8"
             },
             "line": {
              "color": "white"
             }
            },
            "header": {
             "fill": {
              "color": "#C8D4E3"
             },
             "line": {
              "color": "white"
             }
            },
            "type": "table"
           }
          ]
         },
         "layout": {
          "annotationdefaults": {
           "arrowcolor": "#2a3f5f",
           "arrowhead": 0,
           "arrowwidth": 1
          },
          "autotypenumbers": "strict",
          "coloraxis": {
           "colorbar": {
            "outlinewidth": 0,
            "ticks": ""
           }
          },
          "colorscale": {
           "diverging": [
            [
             0,
             "#8e0152"
            ],
            [
             0.1,
             "#c51b7d"
            ],
            [
             0.2,
             "#de77ae"
            ],
            [
             0.3,
             "#f1b6da"
            ],
            [
             0.4,
             "#fde0ef"
            ],
            [
             0.5,
             "#f7f7f7"
            ],
            [
             0.6,
             "#e6f5d0"
            ],
            [
             0.7,
             "#b8e186"
            ],
            [
             0.8,
             "#7fbc41"
            ],
            [
             0.9,
             "#4d9221"
            ],
            [
             1,
             "#276419"
            ]
           ],
           "sequential": [
            [
             0,
             "#0d0887"
            ],
            [
             0.1111111111111111,
             "#46039f"
            ],
            [
             0.2222222222222222,
             "#7201a8"
            ],
            [
             0.3333333333333333,
             "#9c179e"
            ],
            [
             0.4444444444444444,
             "#bd3786"
            ],
            [
             0.5555555555555556,
             "#d8576b"
            ],
            [
             0.6666666666666666,
             "#ed7953"
            ],
            [
             0.7777777777777778,
             "#fb9f3a"
            ],
            [
             0.8888888888888888,
             "#fdca26"
            ],
            [
             1,
             "#f0f921"
            ]
           ],
           "sequentialminus": [
            [
             0,
             "#0d0887"
            ],
            [
             0.1111111111111111,
             "#46039f"
            ],
            [
             0.2222222222222222,
             "#7201a8"
            ],
            [
             0.3333333333333333,
             "#9c179e"
            ],
            [
             0.4444444444444444,
             "#bd3786"
            ],
            [
             0.5555555555555556,
             "#d8576b"
            ],
            [
             0.6666666666666666,
             "#ed7953"
            ],
            [
             0.7777777777777778,
             "#fb9f3a"
            ],
            [
             0.8888888888888888,
             "#fdca26"
            ],
            [
             1,
             "#f0f921"
            ]
           ]
          },
          "colorway": [
           "#636efa",
           "#EF553B",
           "#00cc96",
           "#ab63fa",
           "#FFA15A",
           "#19d3f3",
           "#FF6692",
           "#B6E880",
           "#FF97FF",
           "#FECB52"
          ],
          "font": {
           "color": "#2a3f5f"
          },
          "geo": {
           "bgcolor": "white",
           "lakecolor": "white",
           "landcolor": "#E5ECF6",
           "showlakes": true,
           "showland": true,
           "subunitcolor": "white"
          },
          "hoverlabel": {
           "align": "left"
          },
          "hovermode": "closest",
          "mapbox": {
           "style": "light"
          },
          "paper_bgcolor": "white",
          "plot_bgcolor": "#E5ECF6",
          "polar": {
           "angularaxis": {
            "gridcolor": "white",
            "linecolor": "white",
            "ticks": ""
           },
           "bgcolor": "#E5ECF6",
           "radialaxis": {
            "gridcolor": "white",
            "linecolor": "white",
            "ticks": ""
           }
          },
          "scene": {
           "xaxis": {
            "backgroundcolor": "#E5ECF6",
            "gridcolor": "white",
            "gridwidth": 2,
            "linecolor": "white",
            "showbackground": true,
            "ticks": "",
            "zerolinecolor": "white"
           },
           "yaxis": {
            "backgroundcolor": "#E5ECF6",
            "gridcolor": "white",
            "gridwidth": 2,
            "linecolor": "white",
            "showbackground": true,
            "ticks": "",
            "zerolinecolor": "white"
           },
           "zaxis": {
            "backgroundcolor": "#E5ECF6",
            "gridcolor": "white",
            "gridwidth": 2,
            "linecolor": "white",
            "showbackground": true,
            "ticks": "",
            "zerolinecolor": "white"
           }
          },
          "shapedefaults": {
           "line": {
            "color": "#2a3f5f"
           }
          },
          "ternary": {
           "aaxis": {
            "gridcolor": "white",
            "linecolor": "white",
            "ticks": ""
           },
           "baxis": {
            "gridcolor": "white",
            "linecolor": "white",
            "ticks": ""
           },
           "bgcolor": "#E5ECF6",
           "caxis": {
            "gridcolor": "white",
            "linecolor": "white",
            "ticks": ""
           }
          },
          "title": {
           "x": 0.05
          },
          "xaxis": {
           "automargin": true,
           "gridcolor": "white",
           "linecolor": "white",
           "ticks": "",
           "title": {
            "standoff": 15
           },
           "zerolinecolor": "white",
           "zerolinewidth": 2
          },
          "yaxis": {
           "automargin": true,
           "gridcolor": "white",
           "linecolor": "white",
           "ticks": "",
           "title": {
            "standoff": 15
           },
           "zerolinecolor": "white",
           "zerolinewidth": 2
          }
         }
        }
       }
      }
     },
     "metadata": {},
     "output_type": "display_data"
    },
    {
     "ename": "",
     "evalue": "",
     "output_type": "error",
     "traceback": [
      "\u001b[1;31mnotebook controller is DISPOSED. \n",
      "\u001b[1;31mView Jupyter <a href='command:jupyter.viewOutput'>log</a> for further details."
     ]
    }
   ],
   "source": [
    "# Plot with only LAT LON\n",
    "\n",
    "fig = px.scatter_geo(sample_one, \n",
    "                     lat = \"LAT\",\n",
    "                     lon = \"LON\",\n",
    "                     color = \"SID\",\n",
    "                     projection=\"natural earth\"\n",
    "                    )\n",
    "fig.show()\n"
   ]
  },
  {
   "cell_type": "markdown",
   "metadata": {},
   "source": [
    "We don't loose a lot of information if we keep only LAT and LON.\n",
    "_____________________________________________________________________"
   ]
  },
  {
   "cell_type": "markdown",
   "metadata": {},
   "source": [
    "_____________________________________________________________________\n",
    "# Plot Report\n",
    "_____________________________________________________________________"
   ]
  },
  {
   "cell_type": "code",
   "execution_count": 18,
   "metadata": {},
   "outputs": [
    {
     "name": "stderr",
     "output_type": "stream",
     "text": [
      "C:\\Users\\Claire\\AppData\\Local\\Temp\\ipykernel_26576\\1183900853.py:2: FutureWarning: errors='ignore' is deprecated and will raise in a future version. Use to_numeric without passing `errors` and catch exceptions explicitly instead\n",
      "  STORMS = STORMS.apply(pd.to_numeric, errors=\"ignore\")\n"
     ]
    },
    {
     "data": {
      "text/plain": [
       "SID              object\n",
       "SEASON            int64\n",
       "BASIN            object\n",
       "ISO_TIME         object\n",
       "NATURE           object\n",
       "LAT             float64\n",
       "LON             float64\n",
       "DIST2LAND         int64\n",
       "LANDFALL        float64\n",
       "TD9636_STAGE      int64\n",
       "STORM_SPEED     float64\n",
       "STORM_DIR       float64\n",
       "WIND            float64\n",
       "WIND_AGENCY      object\n",
       "PRESS           float64\n",
       "dtype: object"
      ]
     },
     "execution_count": 18,
     "metadata": {},
     "output_type": "execute_result"
    }
   ],
   "source": [
    "# convert data types : \n",
    "STORMS = STORMS.apply(pd.to_numeric, errors=\"ignore\")\n",
    "STORMS.dtypes"
   ]
  },
  {
   "cell_type": "code",
   "execution_count": 19,
   "metadata": {},
   "outputs": [],
   "source": [
    "import random\n",
    "\n",
    "# select a few SID\n",
    "sample_ID = random.sample(list(STORMS[\"SID\"].unique()), 100)\n",
    "\n",
    "# select a few SID in the STORMS database\n",
    "sample_data = STORMS[STORMS[\"SID\"].isin(sample_ID)] \n",
    "\n",
    "sample_data.to_csv(\"sample_data.csv\", index=False)\n"
   ]
  },
  {
   "cell_type": "code",
   "execution_count": null,
   "metadata": {},
   "outputs": [
    {
     "data": {
      "text/plain": [
       "SID              object\n",
       "SEASON            int64\n",
       "ISO_TIME         object\n",
       "NATURE           object\n",
       "LAT             float64\n",
       "LON             float64\n",
       "DIST2LAND         int64\n",
       "LANDFALL        float64\n",
       "TD9636_STAGE      int64\n",
       "STORM_SPEED     float64\n",
       "STORM_DIR       float64\n",
       "WIND            float64\n",
       "WIND_AGENCY      object\n",
       "PRESS           float64\n",
       "dtype: object"
      ]
     },
     "execution_count": 110,
     "metadata": {},
     "output_type": "execute_result"
    },
    {
     "ename": "",
     "evalue": "",
     "output_type": "error",
     "traceback": [
      "\u001b[1;31mnotebook controller is DISPOSED. \n",
      "\u001b[1;31mView Jupyter <a href='command:jupyter.viewOutput'>log</a> for further details."
     ]
    }
   ],
   "source": [
    "sample_data.dtypes"
   ]
  },
  {
   "cell_type": "code",
   "execution_count": null,
   "metadata": {},
   "outputs": [
    {
     "data": {
      "application/vnd.plotly.v1+json": {
       "config": {
        "plotlyServerURL": "https://plot.ly"
       },
       "data": [
        {
         "geo": "geo",
         "hovertemplate": "LAT=%{lat}<br>LON=%{lon}<br>TD9636_STAGE=%{marker.color}<extra></extra>",
         "lat": [
          14.9,
          14.8,
          14.8,
          14.8,
          14.9,
          15,
          15.1,
          15.2,
          15.4,
          15.5,
          15.7,
          15.9,
          16.2,
          16.5,
          16.8,
          17.1,
          17.4,
          17.9,
          18.3,
          18.6,
          18.8,
          19.1,
          19.3,
          19.5,
          19.6,
          19.7,
          19.9,
          20.1,
          20.3,
          20.4,
          20.6,
          20.8,
          21,
          21.2,
          21.3,
          21.5,
          21.6,
          21.7,
          21.8,
          21.8,
          21.8,
          21.8,
          21.8,
          21.8,
          21.8,
          21.8,
          21.8,
          4.3,
          4.1,
          3.8,
          3.3,
          2.9,
          2.5,
          2.4,
          2.5,
          2.7,
          3,
          3.3,
          3.6,
          4,
          4.4,
          4.8,
          5.2,
          5.8,
          6.6,
          7.4,
          8.1,
          8.7,
          9.2,
          9.6,
          9.9,
          10.1,
          10.3,
          10.5,
          10.7,
          10.9,
          11.2,
          11.6,
          12.3,
          13,
          13.6,
          14.1,
          14.6,
          15.1,
          15.6,
          16.2,
          16.7,
          17.3,
          18,
          18.7,
          19.4,
          20.1,
          20.7,
          21.3,
          22.1,
          22.9,
          23.7,
          24.5,
          25.2,
          25.9,
          26.7,
          27.4,
          28.2,
          28.9,
          29.6,
          11.4,
          11.8,
          12.1,
          12.3,
          12.4,
          12.5,
          12.6,
          12.7,
          12.8,
          12.9,
          12.9,
          13,
          13,
          13.1,
          13.1,
          13.1,
          13.2,
          13.2,
          13.3,
          13.4,
          13.5,
          13.6,
          13.7,
          13.8,
          13.9,
          14,
          14.2,
          14.3,
          14.5,
          14.6,
          14.7,
          14.8,
          15,
          15.2,
          15.4,
          15.7,
          16,
          11.4,
          11.5,
          11.6,
          11.7,
          11.7,
          11.8,
          12,
          12.2,
          12.4,
          12.7,
          13.1,
          13.4,
          13.8,
          14.1,
          14.5,
          14.9,
          15.2,
          15.3,
          15.3,
          15.4,
          15.5,
          15.8,
          16.1,
          16.3,
          16.6,
          17,
          17.3,
          17.6,
          17.9,
          18.3,
          18.6,
          18.9,
          19.2,
          19.5,
          19.8,
          20.1,
          20.4,
          20.8,
          21.2,
          21.6,
          21.9,
          22.2,
          22.6,
          23,
          23.5,
          24,
          24.5,
          25,
          25.5,
          16.2,
          16.3,
          16.4,
          16.5,
          16.5,
          16.5,
          16.6,
          16.7,
          16.8,
          17.1,
          17.3,
          17.5,
          17.7,
          17.9,
          18.1,
          18.3,
          18.4,
          18.6,
          18.8,
          19,
          19.3,
          19.6,
          19.8,
          19.9,
          20,
          20.1,
          20.2,
          20.2,
          20.2,
          20.3,
          20.3,
          20.3,
          20.3,
          20.2,
          20.1,
          19.9,
          19.6,
          19.3,
          19.1,
          18.9,
          18.8,
          18.8,
          18.7,
          18.6,
          18.5,
          18.4,
          18.3,
          18.2,
          18.1,
          18,
          18,
          17.9,
          17.9,
          18,
          18,
          18,
          18,
          18.1,
          18.2,
          18.3,
          18.5,
          18.6,
          18.7,
          18.8,
          18.9,
          18.8,
          18.8,
          18.7,
          18.7,
          18.7,
          18.6,
          18.5,
          18.3,
          18.1,
          17.8,
          17.5,
          17.3,
          18.8,
          19.3,
          19.7,
          20,
          20.2,
          20.4,
          20.5,
          20.6,
          20.6,
          20.7,
          20.7,
          20.6,
          20.5,
          20.3,
          20.2,
          20.2,
          20.3,
          20.4,
          20.5,
          20.6,
          20.8,
          20.8,
          20.9,
          20.9,
          21,
          21,
          21.1,
          21.2,
          21.4,
          21.6,
          21.8,
          22.1,
          22.3,
          22.6,
          22.9,
          23.4,
          23.8,
          24.2,
          24.6,
          25,
          25.4,
          25.6,
          25.8,
          26.1,
          26.3,
          26.5,
          26.7,
          27,
          27.2,
          27.3,
          27.4,
          27.6,
          27.7,
          27.8,
          27.9,
          28.2,
          28.4,
          28.7,
          29,
          29.2,
          29.6,
          29.9,
          30.2,
          30.6,
          31.1,
          31.6,
          32.2,
          32.8,
          33.4,
          34,
          34.6,
          35.1,
          35.5,
          36,
          36.4,
          36.9,
          37.3,
          37.6,
          38,
          38.2,
          38.5,
          38.6,
          38.9,
          39.2,
          -14.5,
          -14.6,
          -14.7,
          -14.8,
          -14.9,
          -15,
          -15.1,
          -15.2,
          -15.2,
          -15.3,
          -15.4,
          -15.6,
          -15.8,
          -16,
          -16.2,
          -16.4,
          -16.6,
          -16.7,
          -16.9,
          -17.1,
          -17.2,
          -17.3,
          -17.5,
          -17.6,
          -17.8,
          -18,
          -18.2,
          -18.5,
          -18.8,
          -19.2,
          -19.6,
          -20,
          -20.4,
          -20.7,
          -21.1,
          7.9,
          7.9,
          7.9,
          7.9,
          8,
          8,
          8,
          8.1,
          8.2,
          8.2,
          8.3,
          8.4,
          8.5,
          4.8,
          4.5,
          4.2,
          4,
          3.7,
          3.5,
          3.3,
          3.1,
          3,
          2.9,
          2.9,
          2.8,
          2.8,
          2.7,
          2.6,
          2.6,
          2.5,
          2.5,
          2.5,
          2.5,
          2.5,
          2.5,
          2.5,
          2.5,
          2.5,
          2.5,
          2.5,
          2.6,
          2.6,
          2.6,
          2.6,
          2.6,
          2.7,
          2.8,
          3,
          3.3,
          3.6,
          4,
          4.4,
          4.8,
          5.2,
          5.5,
          5.8,
          6,
          6.3,
          6.6,
          6.9,
          7.2,
          7.4,
          7.6,
          7.6,
          7.7,
          7.8,
          7.9,
          8,
          8,
          8.1,
          8.1,
          8.2,
          -14.4,
          -14.7,
          -15,
          -15.1,
          -15,
          -14.9,
          -14.7,
          -14.7,
          -14.8,
          -14.9,
          -15,
          -14.9,
          -14.8,
          -14.6,
          -14.5,
          -14.6,
          -14.6,
          -14.7,
          -14.8,
          -14.9,
          -15,
          -15.1,
          -15.3,
          -15.4,
          -15.5,
          -15.6,
          -15.6,
          -15.6,
          -15.6,
          -15.5,
          -15.4,
          -15.3,
          -15.3,
          -15.3,
          -15.2,
          -15.1,
          -15,
          -14.8,
          -14.7,
          -15,
          -15,
          -15,
          7.2,
          7.2,
          7.1,
          7.2,
          7.2,
          7.4,
          7.6,
          7.9,
          8.4,
          9,
          9.7,
          10.3,
          11,
          11.6,
          12.1,
          12.5,
          12.9,
          13.3,
          13.6,
          13.8,
          14.1,
          14.4,
          14.7,
          15,
          15.3,
          15.7,
          16,
          16.4,
          16.8,
          17.1,
          17.5,
          17.9,
          18.3,
          18.7,
          19.2,
          19.8,
          20.6,
          21.3,
          22,
          22.9,
          23.8,
          24.6,
          25.4,
          26.1,
          26.7,
          27.3,
          28,
          28.7,
          29.4,
          30.1,
          30.8,
          31.5,
          32.2,
          33,
          33.8,
          34.6,
          35.5,
          36.5,
          6,
          6.2,
          6.5,
          6.7,
          7,
          7.3,
          7.5,
          7.8,
          8.1,
          8.4,
          8.7,
          8.9,
          9.2,
          9.4,
          9.7,
          10,
          10.3,
          10.5,
          10,
          10.1,
          -14.8,
          -14.7,
          -14.7,
          -14.6,
          -14.6,
          -14.6,
          -14.7,
          -14.7,
          -14.7,
          -14.7,
          -14.8,
          -14.9,
          -15,
          -15.2,
          -15.4,
          -15.6,
          -15.8,
          -15.9,
          -16,
          -16.1,
          -16.1,
          -16.2,
          -16.2,
          -16.2,
          -16.3,
          -16.4,
          -16.6,
          -16.8,
          -17,
          -17.1,
          -17.2,
          -17.4,
          -17.7,
          -18,
          -18.5,
          -19.1,
          -19.7,
          -20.3,
          -20.8,
          -21.2,
          -16.4,
          -16.4,
          -16.4,
          -16.5,
          -16.5,
          -16.5,
          -16.6,
          -16.6,
          -16.7,
          -16.7,
          -16.7,
          -16.7,
          -16.8,
          -16.8,
          -16.9,
          -16.9,
          -17.1,
          -17.3,
          -17.5,
          -17.7,
          -17.9,
          -18,
          -18.3,
          -18.6,
          -19,
          -19.6,
          -20.2,
          -20.9,
          -21.5,
          -22.2,
          -22.9,
          -23.6,
          -24.3,
          -25.3,
          -26,
          12.9,
          12.9,
          13,
          13,
          13.1,
          13.2,
          13.3,
          13.4,
          13.6,
          13.8,
          13.6,
          13.5,
          13.6,
          13.6,
          13.8,
          14,
          14.1,
          14.3,
          14.5,
          14.7,
          14.9,
          15.1,
          15.3,
          15.5,
          15.7,
          15.9,
          16.1,
          16.3,
          16.5,
          16.6,
          16.7,
          16.8,
          16.8,
          17,
          17.1,
          17.2,
          17.4,
          17.6,
          17.9,
          18.1,
          18.3,
          18.6,
          19,
          19.3,
          19.6,
          20,
          20.3,
          20.7,
          21.1,
          21.5,
          22,
          22.6,
          23.5,
          24.5,
          25.7,
          26.9,
          28.2,
          29.4,
          30.7,
          32.1,
          33.6,
          34.8,
          35.9,
          36.7,
          37.3,
          37.6,
          -13.4,
          -13.5,
          -13.6,
          -13.6,
          -13.7,
          -13.6,
          -13.5,
          -13.4,
          -13.2,
          -13,
          -12.9,
          -12.7,
          -12.6,
          -12.7,
          -12.8,
          -13,
          -13.2,
          -13.2,
          -13.2,
          -13.3,
          -13.3,
          -13.4,
          -13.6,
          -13.7,
          -13.8,
          -13.9,
          -14,
          -14,
          -14,
          -13.8,
          -13.6,
          -13.4,
          -13.1,
          -12.9,
          -12.6,
          -12.4,
          -12.3,
          -12.1,
          -12,
          -12,
          -12,
          -12,
          -11.9,
          -12,
          -12.1,
          -12.2,
          -12.4,
          -12.5,
          -12.6,
          -12.6,
          -12.8,
          -13,
          -13.3,
          -13.7,
          -14,
          -14.3,
          -14.6,
          -14.7,
          -14.9,
          -15.2,
          -15.4,
          -15.8,
          -16.1,
          -16.3,
          -16.5,
          -16.6,
          -16.8,
          -16.9,
          -17,
          -17.2,
          -17.4,
          -17.6,
          -17.8,
          -18,
          -18.2,
          -18.5,
          -18.8,
          -19.1,
          -19.5,
          -19.7,
          -20.1,
          -20.5,
          -21,
          -21.6,
          -22.1,
          -22.5,
          -23,
          -23.3,
          -23.6,
          -23.9,
          -24.1,
          -24.4,
          -24.6,
          -24.8,
          -25,
          -25.3,
          -25.6,
          -26,
          -26.4,
          -26.8,
          -27.4,
          -28,
          -28.6,
          -29.1,
          -29.6,
          -30,
          -30.3,
          -30.7,
          -31,
          -31.3,
          -31.5,
          -31.7,
          -31.9,
          -32.1,
          -32.3,
          -32.5,
          -32.9,
          -33.1,
          -33.4,
          -33.8,
          -34.3,
          -34.8,
          -35.2,
          -35.6,
          -35.9,
          -36.1,
          -36.5,
          -9.4,
          -9.8,
          -10,
          -10.2,
          -10.4,
          -10.5,
          -10.7,
          -10.8,
          -10.9,
          -11,
          -11.1,
          -11.3,
          -11.5,
          -11.8,
          -12,
          -12.2,
          -12.5,
          -12.8,
          -13.1,
          -13.4,
          -13.7,
          -14.1,
          -14.4,
          -14.7,
          -15,
          -15.2,
          -15.5,
          -15.6,
          -15.8,
          -16,
          -16.2,
          -16.3,
          -16.4,
          -16.5,
          -16.5,
          -16.6,
          -16.7,
          -16.8,
          -17,
          -17.2,
          -17.5,
          -17.8,
          -18.1,
          -18.4,
          -18.8,
          -19.2,
          -19.7,
          -20.1,
          -20.4,
          -21,
          -21.6,
          14.6,
          14.9,
          15.3,
          15.9,
          16.6,
          17.3,
          17.9,
          18.7,
          19.5,
          20.3,
          21,
          21.7,
          22.4,
          23,
          23.7,
          24.4,
          25.1,
          25.8,
          26.5,
          27.2,
          27.7,
          28,
          28.1,
          28,
          27.9,
          28.1,
          28.4,
          28.7,
          29.1,
          29.5,
          29.9,
          30.2,
          30.5,
          30.7,
          31.1,
          31.4,
          31.8,
          32.2,
          32.5,
          33,
          33.5,
          33.8,
          12.3,
          12.7,
          13.1,
          13.4,
          13.7,
          13.9,
          14.1,
          14.3,
          14.5,
          14.7,
          14.9,
          15.1,
          15.3,
          15.5,
          15.8,
          16,
          16.3,
          16.6,
          16.8,
          17,
          16.9,
          16.6,
          16.8,
          16.9,
          14.9,
          14.9,
          15,
          15,
          15,
          15.2,
          15.3,
          15.5,
          15.7,
          15.9,
          16.2,
          16.4,
          16.5,
          16.6,
          16.7,
          16.8,
          16.8,
          16.8,
          16.8,
          16.8,
          16.7,
          16.7,
          16.7,
          16.8,
          16.9,
          17,
          17.1,
          17.1,
          17.2,
          17.3,
          17.4,
          17.5,
          17.7,
          17.9,
          18.1,
          18.3,
          18.6,
          18.8,
          19.1,
          19.3,
          19.5,
          19.7,
          19.9,
          20.2,
          20.5,
          20.8,
          21.1,
          21.5,
          21.9
         ],
         "legendgroup": "",
         "lon": [
          -102.1,
          -102.3,
          -102.6,
          -102.9,
          -103.2,
          -103.4,
          -103.6,
          -103.9,
          -104.2,
          -104.4,
          -104.6,
          -104.9,
          -105.2,
          -105.5,
          -105.9,
          -106.3,
          -106.7,
          -107.1,
          -107.5,
          -108,
          -108.5,
          -109,
          -109.4,
          -109.9,
          -110.3,
          -110.6,
          -110.9,
          -111.3,
          -111.8,
          -112.1,
          -112.4,
          -112.8,
          -113.2,
          -113.5,
          -113.8,
          -114.1,
          -114.5,
          -114.7,
          -115,
          -115.4,
          -115.9,
          -116.3,
          -116.6,
          -116.8,
          -116.9,
          -117.1,
          -117.2,
          180.1,
          178.7,
          177.5,
          176.5,
          175.6,
          174.7,
          173.9,
          173.1,
          172.3,
          171.5,
          170.8,
          170.1,
          169.5,
          168.8,
          168.1,
          167.3,
          166.4,
          165.5,
          164.5,
          163.5,
          162.3,
          161.1,
          159.9,
          158.8,
          157.7,
          156.6,
          155.5,
          154.5,
          153.5,
          152.5,
          151.6,
          150.5,
          149.4,
          148.3,
          147.4,
          146.5,
          145.9,
          145.2,
          144.7,
          144.3,
          144.1,
          143.9,
          143.8,
          143.9,
          144,
          144.2,
          144.7,
          145.3,
          146.2,
          147.4,
          148.7,
          150,
          151.4,
          153.1,
          154.9,
          156.8,
          158.8,
          161.1,
          -105.2,
          -105.4,
          -105.4,
          -105.3,
          -105,
          -104.8,
          -104.6,
          -104.4,
          -104.1,
          -103.8,
          -103.5,
          -103.2,
          -102.8,
          -102.4,
          -102.1,
          -101.8,
          -101.5,
          -101.4,
          -101.2,
          -101,
          -100.8,
          -100.6,
          -100.4,
          -100.2,
          -100.1,
          -99.9,
          -99.7,
          -99.5,
          -99.3,
          -99,
          -98.8,
          -98.6,
          -98.4,
          -98.1,
          -97.9,
          -97.7,
          -97.5,
          -103.4,
          -103.9,
          -104.4,
          -104.9,
          -105.4,
          -106,
          -106.5,
          -107,
          -107.5,
          -108,
          -108.4,
          -108.8,
          -109.1,
          -109.5,
          -109.8,
          -110.1,
          -110.4,
          -110.8,
          -111.3,
          -111.8,
          -112.2,
          -112.6,
          -112.9,
          -113.3,
          -113.6,
          -113.9,
          -114.2,
          -114.5,
          -114.8,
          -115.1,
          -115.4,
          -115.8,
          -116.2,
          -116.5,
          -116.9,
          -117.2,
          -117.6,
          -118,
          -118.4,
          -118.8,
          -119.2,
          -119.6,
          -120,
          -120.4,
          -120.7,
          -121,
          -121.2,
          -121.4,
          -121.5,
          -111.4,
          -111.5,
          -111.7,
          -111.9,
          -112.1,
          -112.3,
          -112.6,
          -112.9,
          -113.2,
          -113.4,
          -113.7,
          -113.9,
          -114.3,
          -114.8,
          -115.3,
          -115.8,
          -116.2,
          -116.6,
          -117,
          -117.5,
          -118,
          -118.8,
          -119.5,
          -120.2,
          -120.8,
          -121.4,
          -122,
          -122.5,
          -123,
          -123.7,
          -124.3,
          -124.8,
          -125.3,
          -125.9,
          -126.5,
          -127.1,
          -127.7,
          -128.4,
          -129.1,
          -129.7,
          -130.3,
          -130.9,
          -131.5,
          -132.1,
          -132.7,
          -133.2,
          -133.7,
          -134.3,
          -135,
          -135.6,
          -136.2,
          -136.8,
          -137.3,
          -137.7,
          -138,
          -138.4,
          -138.7,
          -139,
          -139.3,
          -139.6,
          -139.8,
          -140,
          -140.2,
          -140.5,
          -141,
          -141.7,
          -142.4,
          -142.9,
          -143.3,
          -143.5,
          -143.7,
          -144.2,
          -144.9,
          -145.4,
          -146,
          -146.6,
          -147.2,
          129,
          128.6,
          127.9,
          127.4,
          127,
          126.6,
          126.3,
          126,
          125.7,
          125.3,
          124.9,
          124.7,
          124.5,
          124.5,
          124.5,
          124.5,
          124.4,
          124.3,
          124.2,
          124.1,
          124,
          123.9,
          123.7,
          123.7,
          123.6,
          123.5,
          123.4,
          123.4,
          123.4,
          123.3,
          123.3,
          123.3,
          123.4,
          123.5,
          123.6,
          123.7,
          123.8,
          123.8,
          123.7,
          123.7,
          123.6,
          123.4,
          123.2,
          123,
          123,
          123,
          123.1,
          123.2,
          123.3,
          123.4,
          123.4,
          123.4,
          123.5,
          123.6,
          123.7,
          123.8,
          124,
          124,
          124,
          124,
          124,
          124,
          124,
          124.1,
          124.1,
          124,
          123.9,
          123.7,
          123.5,
          123.3,
          123.1,
          123,
          122.9,
          122.8,
          122.8,
          122.9,
          123.1,
          123.2,
          123.5,
          123.8,
          124.2,
          124.7,
          125.3,
          126.1,
          -144.5,
          -144.9,
          -145.2,
          -145.5,
          -145.8,
          -146,
          -146.3,
          -146.6,
          -146.9,
          -147.2,
          -147.4,
          -147.5,
          -147.6,
          -147.6,
          -147.5,
          -147.4,
          -147.3,
          -147.1,
          -146.9,
          -146.7,
          -146.5,
          -146.3,
          -146.1,
          -145.9,
          -145.7,
          -145.5,
          -145.3,
          -145,
          -144.7,
          -144.4,
          -144,
          -143.6,
          -143.3,
          -142.9,
          -142.6,
          -100.9,
          -101.3,
          -101.6,
          -101.9,
          -102.2,
          -102.7,
          -103.1,
          -103.5,
          -103.8,
          -104.1,
          -104.4,
          -104.7,
          -105,
          156.8,
          156.7,
          156.5,
          156.4,
          156.2,
          156,
          155.8,
          155.6,
          155.4,
          155.1,
          154.9,
          154.6,
          154.3,
          154,
          153.7,
          153.5,
          153.2,
          153,
          152.7,
          152.5,
          152.3,
          152.1,
          152,
          151.8,
          151.6,
          151.3,
          151.1,
          150.8,
          150.5,
          150.3,
          150.1,
          149.9,
          149.6,
          149.2,
          148.7,
          148.2,
          147.8,
          147.5,
          147.2,
          147,
          146.8,
          146.6,
          146.5,
          146.4,
          146.2,
          146,
          145.8,
          145.5,
          145.3,
          145.2,
          145.1,
          144.9,
          144.6,
          144.2,
          143.8,
          143.3,
          142.9,
          142.5,
          142.2,
          147.8,
          147.9,
          148,
          148.2,
          148.4,
          148.6,
          148.9,
          149,
          149.2,
          149.3,
          149.5,
          149.7,
          150,
          150.2,
          150.4,
          150.7,
          150.9,
          151.3,
          151.6,
          151.8,
          152,
          152.2,
          152.4,
          152.6,
          152.9,
          153,
          153.1,
          153.3,
          153.3,
          153.2,
          153,
          152.5,
          151.9,
          151.2,
          150.5,
          149.9,
          149.4,
          149,
          148.8,
          149,
          148.5,
          148,
          151.4,
          151.3,
          151.2,
          151.1,
          151,
          150.9,
          150.8,
          150.7,
          150.6,
          150.5,
          150.5,
          150.5,
          150.6,
          150.8,
          151.2,
          151.5,
          151.8,
          152,
          152.1,
          152.1,
          152.2,
          152.3,
          152.4,
          152.5,
          152.5,
          152.5,
          152.5,
          152.5,
          152.5,
          152.5,
          152.4,
          152.3,
          152.3,
          152.2,
          152.2,
          152.3,
          152.4,
          152.4,
          152.6,
          153.2,
          153.8,
          154.3,
          154.6,
          155.1,
          155.6,
          156.1,
          156.7,
          157.4,
          158.1,
          159.1,
          160.1,
          161.4,
          162.7,
          164.1,
          165.7,
          167.5,
          169.6,
          172.1,
          153,
          152.5,
          152.1,
          151.6,
          151.2,
          150.8,
          150.4,
          149.9,
          149.4,
          148.8,
          148.2,
          147.6,
          147.2,
          146.9,
          146.6,
          146.5,
          146.4,
          146.2,
          147.3,
          147.7,
          145.8,
          146,
          146.2,
          146.7,
          147.5,
          148.2,
          149,
          149.8,
          150.5,
          151.2,
          151.8,
          152.5,
          153.1,
          153.7,
          154.3,
          154.9,
          155.4,
          155.8,
          156.3,
          156.8,
          157.3,
          157.8,
          158.4,
          159,
          159.8,
          160.7,
          161.6,
          162.5,
          163.4,
          164.2,
          165.1,
          165.9,
          166.8,
          167.6,
          168.5,
          169.4,
          170.2,
          171,
          171.8,
          172.5,
          139.5,
          139.8,
          140.1,
          140.5,
          140.8,
          141,
          141.2,
          141.5,
          141.8,
          142.1,
          142.5,
          142.8,
          143.2,
          143.6,
          143.9,
          144.4,
          145.1,
          145.9,
          146.8,
          147.6,
          148.3,
          149.2,
          150.1,
          151,
          152.1,
          153.3,
          154.5,
          155.7,
          157,
          158.2,
          159.6,
          160.8,
          162.1,
          163.4,
          165,
          138.8,
          138.9,
          138.9,
          138.9,
          138.9,
          138.8,
          138.6,
          138.3,
          137.9,
          137.4,
          137.6,
          137.3,
          136.6,
          135.8,
          134.8,
          134,
          133.3,
          132.6,
          132,
          131.4,
          130.7,
          130,
          129.3,
          128.7,
          128,
          127.4,
          126.8,
          126.3,
          125.8,
          125.4,
          125,
          124.6,
          124.2,
          124,
          123.8,
          123.6,
          123.6,
          123.7,
          124,
          124.4,
          124.7,
          125,
          125.4,
          125.7,
          126,
          126.4,
          126.8,
          127.2,
          127.7,
          128.2,
          128.8,
          129.5,
          130.3,
          131.3,
          132.4,
          133.5,
          134.6,
          135.8,
          137,
          138.4,
          139.7,
          140.7,
          141.3,
          141.6,
          141.8,
          142.2,
          72.5,
          72.3,
          72.1,
          72,
          71.9,
          71.8,
          71.7,
          71.7,
          71.7,
          71.7,
          71.6,
          71.5,
          71.4,
          71.4,
          71.6,
          71.8,
          72,
          72.2,
          72.4,
          72.5,
          72.8,
          73,
          73.4,
          73.8,
          74.3,
          74.7,
          75.1,
          75.4,
          75.6,
          75.6,
          75.6,
          75.5,
          75.5,
          75.6,
          75.7,
          76,
          76.4,
          76.6,
          76.7,
          76.6,
          76.4,
          76.2,
          76,
          75.9,
          75.8,
          75.6,
          75.4,
          75.2,
          75,
          74.7,
          74.5,
          74.2,
          73.9,
          73.6,
          73.4,
          73.2,
          73.1,
          72.9,
          72.8,
          72.7,
          72.5,
          72.3,
          72.1,
          72,
          72,
          71.9,
          71.8,
          71.7,
          71.7,
          71.6,
          71.7,
          71.8,
          71.9,
          72.1,
          72.3,
          72.6,
          72.9,
          73.3,
          73.7,
          74.1,
          74.4,
          74.7,
          75,
          75.2,
          75.4,
          75.3,
          75.2,
          75.1,
          74.9,
          74.7,
          74.5,
          74.2,
          74,
          73.8,
          73.7,
          73.6,
          73.5,
          73.5,
          73.6,
          73.6,
          73.7,
          73.7,
          73.8,
          73.8,
          73.6,
          73.4,
          73.1,
          72.9,
          72.7,
          72.4,
          72.2,
          72.2,
          72.3,
          72.3,
          72.4,
          72.6,
          72.9,
          73.1,
          73.3,
          73.5,
          73.8,
          74.1,
          74.5,
          74.8,
          75.1,
          75.3,
          75.7,
          167,
          166.5,
          165.9,
          165.3,
          164.7,
          164.1,
          163.5,
          162.9,
          162.3,
          161.8,
          161.3,
          160.9,
          160.5,
          160.2,
          159.9,
          159.6,
          159.3,
          159.1,
          158.9,
          158.8,
          158.6,
          158.5,
          158.4,
          158.2,
          158.1,
          157.9,
          157.8,
          157.6,
          157.5,
          157.3,
          157.2,
          157.2,
          157.1,
          157,
          157,
          156.9,
          156.8,
          156.7,
          156.6,
          156.4,
          156.3,
          156.1,
          156.1,
          156,
          156.1,
          156.2,
          156.4,
          156.6,
          156.8,
          156.9,
          157.1,
          160.3,
          159.7,
          159.2,
          158.9,
          158.8,
          158.6,
          158.3,
          158.5,
          158.6,
          158.6,
          158.3,
          157.8,
          157.1,
          156.4,
          155.7,
          155.3,
          155,
          154.5,
          153.8,
          152.9,
          151.9,
          150.6,
          149.4,
          148.8,
          148.6,
          148.5,
          148.6,
          148.6,
          148.7,
          148.9,
          149.1,
          149.4,
          149.7,
          150.1,
          150.4,
          150.7,
          150.9,
          151.1,
          151.4,
          152,
          153,
          154,
          88.6,
          87.7,
          87.1,
          86.5,
          86,
          85.4,
          84.8,
          84.2,
          83.7,
          83.2,
          82.8,
          82.5,
          82.1,
          81.8,
          81.4,
          81,
          80.5,
          80,
          79.4,
          78.8,
          78.1,
          77.5,
          77,
          76.7,
          131.9,
          131.4,
          131,
          130.5,
          130.1,
          129.8,
          129.6,
          129.4,
          129.3,
          129.1,
          128.9,
          128.6,
          128.3,
          128,
          127.7,
          127.3,
          126.8,
          126.4,
          125.9,
          125.3,
          124.7,
          124.2,
          123.6,
          123,
          122.3,
          121.3,
          120.3,
          119.5,
          118.8,
          118.2,
          117.6,
          117,
          116.5,
          115.9,
          115.3,
          114.6,
          113.9,
          113.2,
          112.5,
          111.9,
          111.4,
          110.8,
          110.3,
          109.7,
          109.2,
          108.5,
          107.9,
          107.3,
          106.8
         ],
         "marker": {
          "color": [
           1,
           1,
           1,
           1,
           1,
           1,
           2,
           2,
           2,
           2,
           2,
           2,
           2,
           2,
           3,
           3,
           3,
           3,
           4,
           4,
           4,
           4,
           4,
           4,
           4,
           4,
           4,
           4,
           4,
           4,
           4,
           4,
           4,
           4,
           2,
           2,
           2,
           2,
           2,
           2,
           2,
           2,
           2,
           2,
           2,
           2,
           1,
           0,
           0,
           0,
           0,
           0,
           0,
           1,
           1,
           1,
           1,
           1,
           1,
           1,
           1,
           1,
           1,
           1,
           1,
           1,
           1,
           1,
           1,
           2,
           2,
           2,
           2,
           2,
           2,
           2,
           2,
           4,
           4,
           4,
           4,
           4,
           4,
           4,
           4,
           4,
           4,
           4,
           4,
           4,
           4,
           4,
           4,
           4,
           4,
           4,
           4,
           4,
           4,
           4,
           4,
           2,
           2,
           2,
           2,
           1,
           1,
           1,
           1,
           1,
           1,
           1,
           1,
           1,
           1,
           2,
           2,
           2,
           2,
           2,
           2,
           2,
           2,
           2,
           2,
           2,
           2,
           1,
           1,
           1,
           1,
           1,
           1,
           1,
           1,
           1,
           1,
           1,
           1,
           1,
           1,
           1,
           1,
           1,
           1,
           1,
           1,
           1,
           2,
           2,
           2,
           2,
           2,
           2,
           2,
           2,
           2,
           2,
           3,
           3,
           4,
           4,
           4,
           4,
           4,
           4,
           4,
           4,
           4,
           4,
           4,
           4,
           4,
           4,
           4,
           4,
           4,
           4,
           4,
           4,
           2,
           2,
           2,
           2,
           2,
           2,
           2,
           2,
           1,
           1,
           1,
           1,
           1,
           1,
           1,
           1,
           1,
           1,
           1,
           1,
           1,
           1,
           1,
           1,
           1,
           2,
           2,
           2,
           2,
           2,
           2,
           2,
           2,
           2,
           2,
           2,
           2,
           2,
           2,
           2,
           2,
           2,
           2,
           2,
           2,
           2,
           2,
           2,
           2,
           2,
           2,
           2,
           2,
           2,
           2,
           2,
           2,
           2,
           2,
           2,
           2,
           2,
           2,
           2,
           2,
           2,
           2,
           3,
           3,
           4,
           4,
           4,
           4,
           2,
           2,
           2,
           2,
           2,
           2,
           2,
           2,
           1,
           1,
           1,
           1,
           1,
           1,
           1,
           0,
           0,
           0,
           0,
           0,
           0,
           0,
           0,
           1,
           1,
           1,
           1,
           2,
           2,
           2,
           2,
           2,
           2,
           2,
           2,
           4,
           4,
           4,
           4,
           4,
           4,
           4,
           4,
           4,
           4,
           4,
           4,
           4,
           4,
           4,
           4,
           4,
           4,
           4,
           4,
           4,
           4,
           4,
           4,
           4,
           4,
           4,
           4,
           4,
           4,
           4,
           4,
           4,
           4,
           4,
           4,
           2,
           2,
           2,
           2,
           2,
           2,
           2,
           2,
           2,
           2,
           2,
           2,
           2,
           2,
           2,
           2,
           2,
           2,
           2,
           2,
           2,
           2,
           2,
           2,
           2,
           2,
           2,
           2,
           1,
           1,
           2,
           2,
           2,
           2,
           2,
           2,
           2,
           2,
           4,
           4,
           4,
           4,
           4,
           4,
           4,
           4,
           4,
           4,
           4,
           4,
           4,
           4,
           4,
           4,
           4,
           4,
           4,
           4,
           4,
           4,
           4,
           4,
           4,
           1,
           1,
           2,
           2,
           2,
           2,
           2,
           2,
           2,
           2,
           1,
           1,
           1,
           0,
           0,
           0,
           0,
           0,
           0,
           0,
           0,
           0,
           0,
           0,
           0,
           0,
           0,
           0,
           0,
           0,
           0,
           0,
           0,
           0,
           0,
           0,
           0,
           0,
           0,
           0,
           0,
           0,
           0,
           0,
           0,
           0,
           0,
           0,
           0,
           0,
           0,
           0,
           0,
           0,
           0,
           0,
           0,
           0,
           0,
           0,
           0,
           2,
           2,
           2,
           2,
           1,
           1,
           1,
           1,
           1,
           1,
           1,
           1,
           1,
           1,
           1,
           1,
           1,
           1,
           1,
           1,
           1,
           1,
           1,
           1,
           1,
           2,
           2,
           2,
           2,
           2,
           2,
           2,
           2,
           2,
           2,
           2,
           2,
           2,
           2,
           2,
           2,
           2,
           2,
           2,
           2,
           1,
           1,
           1,
           1,
           1,
           1,
           1,
           1,
           0,
           0,
           0,
           0,
           0,
           0,
           0,
           0,
           0,
           0,
           0,
           0,
           0,
           0,
           0,
           0,
           0,
           0,
           0,
           0,
           0,
           0,
           0,
           0,
           0,
           0,
           0,
           0,
           1,
           1,
           1,
           1,
           1,
           1,
           1,
           1,
           1,
           1,
           1,
           1,
           2,
           2,
           2,
           2,
           2,
           2,
           2,
           2,
           3,
           3,
           3,
           3,
           4,
           4,
           5,
           5,
           5,
           5,
           0,
           0,
           0,
           0,
           0,
           0,
           0,
           0,
           1,
           1,
           1,
           1,
           1,
           1,
           1,
           1,
           6,
           6,
           6,
           6,
           1,
           1,
           1,
           1,
           2,
           2,
           2,
           2,
           2,
           2,
           2,
           2,
           4,
           4,
           4,
           4,
           4,
           4,
           4,
           4,
           4,
           4,
           4,
           4,
           4,
           4,
           4,
           4,
           4,
           4,
           4,
           4,
           2,
           2,
           2,
           2,
           1,
           1,
           1,
           1,
           1,
           1,
           1,
           1,
           1,
           1,
           1,
           1,
           1,
           1,
           1,
           1,
           1,
           1,
           1,
           1,
           1,
           1,
           1,
           1,
           2,
           2,
           2,
           2,
           2,
           2,
           2,
           2,
           2,
           2,
           2,
           2,
           1,
           1,
           1,
           0,
           0,
           0,
           0,
           0,
           0,
           0,
           0,
           0,
           0,
           0,
           0,
           0,
           0,
           0,
           0,
           1,
           1,
           1,
           1,
           1,
           1,
           1,
           1,
           1,
           1,
           1,
           1,
           2,
           2,
           2,
           2,
           2,
           2,
           2,
           2,
           2,
           2,
           2,
           2,
           2,
           2,
           2,
           2,
           2,
           2,
           2,
           2,
           2,
           2,
           2,
           2,
           2,
           2,
           2,
           2,
           2,
           2,
           2,
           2,
           1,
           1,
           1,
           1,
           1,
           1,
           1,
           1,
           1,
           1,
           1,
           1,
           1,
           1,
           2,
           2,
           2,
           2,
           2,
           2,
           2,
           2,
           2,
           2,
           2,
           2,
           2,
           2,
           2,
           2,
           2,
           2,
           2,
           2,
           2,
           2,
           2,
           2,
           2,
           2,
           2,
           2,
           2,
           2,
           2,
           2,
           2,
           2,
           2,
           2,
           2,
           2,
           2,
           2,
           2,
           2,
           3,
           3,
           4,
           4,
           4,
           4,
           4,
           4,
           4,
           4,
           4,
           4,
           4,
           4,
           4,
           4,
           4,
           4,
           4,
           4,
           4,
           4,
           4,
           4,
           4,
           4,
           4,
           4,
           4,
           4,
           2,
           2,
           2,
           2,
           2,
           2,
           2,
           2,
           2,
           2,
           2,
           2,
           2,
           2,
           2,
           2,
           2,
           2,
           2,
           2,
           2,
           2,
           2,
           2,
           2,
           2,
           2,
           2,
           2,
           2,
           2,
           2,
           2,
           2,
           2,
           2,
           2,
           2,
           2,
           2,
           2,
           2,
           2,
           2,
           1,
           1,
           1,
           1,
           1,
           1,
           1,
           1,
           1,
           1,
           1,
           1,
           1,
           1,
           1,
           1,
           1,
           1,
           1,
           1,
           1,
           2,
           2,
           2,
           2,
           2,
           2,
           2,
           2,
           2,
           2,
           2,
           2,
           2,
           2,
           2,
           2,
           2,
           2,
           2,
           2,
           2,
           2,
           2,
           2,
           1,
           1,
           1,
           1,
           1,
           1,
           1,
           1,
           1,
           1,
           1,
           1,
           1,
           1,
           1,
           1,
           1,
           1,
           1,
           1,
           1,
           1,
           1,
           2,
           2,
           2,
           2,
           2,
           2,
           2,
           2,
           2,
           2,
           2,
           2,
           2,
           2,
           2,
           2,
           1,
           1,
           1,
           1,
           1,
           1,
           1,
           1,
           1,
           1,
           1,
           1,
           1,
           1,
           1,
           1,
           1,
           1,
           1,
           1,
           2,
           2,
           2,
           2,
           2,
           2,
           2,
           2,
           2,
           2,
           2,
           2,
           1,
           1,
           1,
           1,
           1,
           1,
           1,
           1,
           1,
           1,
           1,
           1,
           1,
           1,
           1,
           1,
           1,
           1,
           1,
           1,
           2,
           2,
           2,
           2,
           2,
           2,
           2,
           2,
           2,
           2,
           2,
           2,
           2,
           2,
           2,
           2,
           2,
           2,
           2,
           2,
           2,
           2,
           2,
           2,
           2,
           2,
           2,
           2,
           1,
           1,
           1,
           1,
           1
          ],
          "coloraxis": "coloraxis",
          "symbol": "circle"
         },
         "mode": "markers",
         "name": "",
         "showlegend": false,
         "type": "scattergeo"
        }
       ],
       "layout": {
        "coloraxis": {
         "colorbar": {
          "title": {
           "text": "TD9636_STAGE"
          }
         },
         "colorscale": [
          [
           0,
           "#0d0887"
          ],
          [
           0.1111111111111111,
           "#46039f"
          ],
          [
           0.2222222222222222,
           "#7201a8"
          ],
          [
           0.3333333333333333,
           "#9c179e"
          ],
          [
           0.4444444444444444,
           "#bd3786"
          ],
          [
           0.5555555555555556,
           "#d8576b"
          ],
          [
           0.6666666666666666,
           "#ed7953"
          ],
          [
           0.7777777777777778,
           "#fb9f3a"
          ],
          [
           0.8888888888888888,
           "#fdca26"
          ],
          [
           1,
           "#f0f921"
          ]
         ]
        },
        "geo": {
         "center": {},
         "countrycolor": "black",
         "domain": {
          "x": [
           0,
           1
          ],
          "y": [
           0,
           1
          ]
         },
         "landcolor": "lightgray",
         "projection": {
          "type": "natural earth"
         },
         "showcountries": true,
         "showland": true
        },
        "legend": {
         "tracegroupgap": 0
        },
        "margin": {
         "t": 60
        },
        "template": {
         "data": {
          "bar": [
           {
            "error_x": {
             "color": "#2a3f5f"
            },
            "error_y": {
             "color": "#2a3f5f"
            },
            "marker": {
             "line": {
              "color": "#E5ECF6",
              "width": 0.5
             },
             "pattern": {
              "fillmode": "overlay",
              "size": 10,
              "solidity": 0.2
             }
            },
            "type": "bar"
           }
          ],
          "barpolar": [
           {
            "marker": {
             "line": {
              "color": "#E5ECF6",
              "width": 0.5
             },
             "pattern": {
              "fillmode": "overlay",
              "size": 10,
              "solidity": 0.2
             }
            },
            "type": "barpolar"
           }
          ],
          "carpet": [
           {
            "aaxis": {
             "endlinecolor": "#2a3f5f",
             "gridcolor": "white",
             "linecolor": "white",
             "minorgridcolor": "white",
             "startlinecolor": "#2a3f5f"
            },
            "baxis": {
             "endlinecolor": "#2a3f5f",
             "gridcolor": "white",
             "linecolor": "white",
             "minorgridcolor": "white",
             "startlinecolor": "#2a3f5f"
            },
            "type": "carpet"
           }
          ],
          "choropleth": [
           {
            "colorbar": {
             "outlinewidth": 0,
             "ticks": ""
            },
            "type": "choropleth"
           }
          ],
          "contour": [
           {
            "colorbar": {
             "outlinewidth": 0,
             "ticks": ""
            },
            "colorscale": [
             [
              0,
              "#0d0887"
             ],
             [
              0.1111111111111111,
              "#46039f"
             ],
             [
              0.2222222222222222,
              "#7201a8"
             ],
             [
              0.3333333333333333,
              "#9c179e"
             ],
             [
              0.4444444444444444,
              "#bd3786"
             ],
             [
              0.5555555555555556,
              "#d8576b"
             ],
             [
              0.6666666666666666,
              "#ed7953"
             ],
             [
              0.7777777777777778,
              "#fb9f3a"
             ],
             [
              0.8888888888888888,
              "#fdca26"
             ],
             [
              1,
              "#f0f921"
             ]
            ],
            "type": "contour"
           }
          ],
          "contourcarpet": [
           {
            "colorbar": {
             "outlinewidth": 0,
             "ticks": ""
            },
            "type": "contourcarpet"
           }
          ],
          "heatmap": [
           {
            "colorbar": {
             "outlinewidth": 0,
             "ticks": ""
            },
            "colorscale": [
             [
              0,
              "#0d0887"
             ],
             [
              0.1111111111111111,
              "#46039f"
             ],
             [
              0.2222222222222222,
              "#7201a8"
             ],
             [
              0.3333333333333333,
              "#9c179e"
             ],
             [
              0.4444444444444444,
              "#bd3786"
             ],
             [
              0.5555555555555556,
              "#d8576b"
             ],
             [
              0.6666666666666666,
              "#ed7953"
             ],
             [
              0.7777777777777778,
              "#fb9f3a"
             ],
             [
              0.8888888888888888,
              "#fdca26"
             ],
             [
              1,
              "#f0f921"
             ]
            ],
            "type": "heatmap"
           }
          ],
          "heatmapgl": [
           {
            "colorbar": {
             "outlinewidth": 0,
             "ticks": ""
            },
            "colorscale": [
             [
              0,
              "#0d0887"
             ],
             [
              0.1111111111111111,
              "#46039f"
             ],
             [
              0.2222222222222222,
              "#7201a8"
             ],
             [
              0.3333333333333333,
              "#9c179e"
             ],
             [
              0.4444444444444444,
              "#bd3786"
             ],
             [
              0.5555555555555556,
              "#d8576b"
             ],
             [
              0.6666666666666666,
              "#ed7953"
             ],
             [
              0.7777777777777778,
              "#fb9f3a"
             ],
             [
              0.8888888888888888,
              "#fdca26"
             ],
             [
              1,
              "#f0f921"
             ]
            ],
            "type": "heatmapgl"
           }
          ],
          "histogram": [
           {
            "marker": {
             "pattern": {
              "fillmode": "overlay",
              "size": 10,
              "solidity": 0.2
             }
            },
            "type": "histogram"
           }
          ],
          "histogram2d": [
           {
            "colorbar": {
             "outlinewidth": 0,
             "ticks": ""
            },
            "colorscale": [
             [
              0,
              "#0d0887"
             ],
             [
              0.1111111111111111,
              "#46039f"
             ],
             [
              0.2222222222222222,
              "#7201a8"
             ],
             [
              0.3333333333333333,
              "#9c179e"
             ],
             [
              0.4444444444444444,
              "#bd3786"
             ],
             [
              0.5555555555555556,
              "#d8576b"
             ],
             [
              0.6666666666666666,
              "#ed7953"
             ],
             [
              0.7777777777777778,
              "#fb9f3a"
             ],
             [
              0.8888888888888888,
              "#fdca26"
             ],
             [
              1,
              "#f0f921"
             ]
            ],
            "type": "histogram2d"
           }
          ],
          "histogram2dcontour": [
           {
            "colorbar": {
             "outlinewidth": 0,
             "ticks": ""
            },
            "colorscale": [
             [
              0,
              "#0d0887"
             ],
             [
              0.1111111111111111,
              "#46039f"
             ],
             [
              0.2222222222222222,
              "#7201a8"
             ],
             [
              0.3333333333333333,
              "#9c179e"
             ],
             [
              0.4444444444444444,
              "#bd3786"
             ],
             [
              0.5555555555555556,
              "#d8576b"
             ],
             [
              0.6666666666666666,
              "#ed7953"
             ],
             [
              0.7777777777777778,
              "#fb9f3a"
             ],
             [
              0.8888888888888888,
              "#fdca26"
             ],
             [
              1,
              "#f0f921"
             ]
            ],
            "type": "histogram2dcontour"
           }
          ],
          "mesh3d": [
           {
            "colorbar": {
             "outlinewidth": 0,
             "ticks": ""
            },
            "type": "mesh3d"
           }
          ],
          "parcoords": [
           {
            "line": {
             "colorbar": {
              "outlinewidth": 0,
              "ticks": ""
             }
            },
            "type": "parcoords"
           }
          ],
          "pie": [
           {
            "automargin": true,
            "type": "pie"
           }
          ],
          "scatter": [
           {
            "fillpattern": {
             "fillmode": "overlay",
             "size": 10,
             "solidity": 0.2
            },
            "type": "scatter"
           }
          ],
          "scatter3d": [
           {
            "line": {
             "colorbar": {
              "outlinewidth": 0,
              "ticks": ""
             }
            },
            "marker": {
             "colorbar": {
              "outlinewidth": 0,
              "ticks": ""
             }
            },
            "type": "scatter3d"
           }
          ],
          "scattercarpet": [
           {
            "marker": {
             "colorbar": {
              "outlinewidth": 0,
              "ticks": ""
             }
            },
            "type": "scattercarpet"
           }
          ],
          "scattergeo": [
           {
            "marker": {
             "colorbar": {
              "outlinewidth": 0,
              "ticks": ""
             }
            },
            "type": "scattergeo"
           }
          ],
          "scattergl": [
           {
            "marker": {
             "colorbar": {
              "outlinewidth": 0,
              "ticks": ""
             }
            },
            "type": "scattergl"
           }
          ],
          "scattermapbox": [
           {
            "marker": {
             "colorbar": {
              "outlinewidth": 0,
              "ticks": ""
             }
            },
            "type": "scattermapbox"
           }
          ],
          "scatterpolar": [
           {
            "marker": {
             "colorbar": {
              "outlinewidth": 0,
              "ticks": ""
             }
            },
            "type": "scatterpolar"
           }
          ],
          "scatterpolargl": [
           {
            "marker": {
             "colorbar": {
              "outlinewidth": 0,
              "ticks": ""
             }
            },
            "type": "scatterpolargl"
           }
          ],
          "scatterternary": [
           {
            "marker": {
             "colorbar": {
              "outlinewidth": 0,
              "ticks": ""
             }
            },
            "type": "scatterternary"
           }
          ],
          "surface": [
           {
            "colorbar": {
             "outlinewidth": 0,
             "ticks": ""
            },
            "colorscale": [
             [
              0,
              "#0d0887"
             ],
             [
              0.1111111111111111,
              "#46039f"
             ],
             [
              0.2222222222222222,
              "#7201a8"
             ],
             [
              0.3333333333333333,
              "#9c179e"
             ],
             [
              0.4444444444444444,
              "#bd3786"
             ],
             [
              0.5555555555555556,
              "#d8576b"
             ],
             [
              0.6666666666666666,
              "#ed7953"
             ],
             [
              0.7777777777777778,
              "#fb9f3a"
             ],
             [
              0.8888888888888888,
              "#fdca26"
             ],
             [
              1,
              "#f0f921"
             ]
            ],
            "type": "surface"
           }
          ],
          "table": [
           {
            "cells": {
             "fill": {
              "color": "#EBF0F8"
             },
             "line": {
              "color": "white"
             }
            },
            "header": {
             "fill": {
              "color": "#C8D4E3"
             },
             "line": {
              "color": "white"
             }
            },
            "type": "table"
           }
          ]
         },
         "layout": {
          "annotationdefaults": {
           "arrowcolor": "#2a3f5f",
           "arrowhead": 0,
           "arrowwidth": 1
          },
          "autotypenumbers": "strict",
          "coloraxis": {
           "colorbar": {
            "outlinewidth": 0,
            "ticks": ""
           }
          },
          "colorscale": {
           "diverging": [
            [
             0,
             "#8e0152"
            ],
            [
             0.1,
             "#c51b7d"
            ],
            [
             0.2,
             "#de77ae"
            ],
            [
             0.3,
             "#f1b6da"
            ],
            [
             0.4,
             "#fde0ef"
            ],
            [
             0.5,
             "#f7f7f7"
            ],
            [
             0.6,
             "#e6f5d0"
            ],
            [
             0.7,
             "#b8e186"
            ],
            [
             0.8,
             "#7fbc41"
            ],
            [
             0.9,
             "#4d9221"
            ],
            [
             1,
             "#276419"
            ]
           ],
           "sequential": [
            [
             0,
             "#0d0887"
            ],
            [
             0.1111111111111111,
             "#46039f"
            ],
            [
             0.2222222222222222,
             "#7201a8"
            ],
            [
             0.3333333333333333,
             "#9c179e"
            ],
            [
             0.4444444444444444,
             "#bd3786"
            ],
            [
             0.5555555555555556,
             "#d8576b"
            ],
            [
             0.6666666666666666,
             "#ed7953"
            ],
            [
             0.7777777777777778,
             "#fb9f3a"
            ],
            [
             0.8888888888888888,
             "#fdca26"
            ],
            [
             1,
             "#f0f921"
            ]
           ],
           "sequentialminus": [
            [
             0,
             "#0d0887"
            ],
            [
             0.1111111111111111,
             "#46039f"
            ],
            [
             0.2222222222222222,
             "#7201a8"
            ],
            [
             0.3333333333333333,
             "#9c179e"
            ],
            [
             0.4444444444444444,
             "#bd3786"
            ],
            [
             0.5555555555555556,
             "#d8576b"
            ],
            [
             0.6666666666666666,
             "#ed7953"
            ],
            [
             0.7777777777777778,
             "#fb9f3a"
            ],
            [
             0.8888888888888888,
             "#fdca26"
            ],
            [
             1,
             "#f0f921"
            ]
           ]
          },
          "colorway": [
           "#636efa",
           "#EF553B",
           "#00cc96",
           "#ab63fa",
           "#FFA15A",
           "#19d3f3",
           "#FF6692",
           "#B6E880",
           "#FF97FF",
           "#FECB52"
          ],
          "font": {
           "color": "#2a3f5f"
          },
          "geo": {
           "bgcolor": "white",
           "lakecolor": "white",
           "landcolor": "#E5ECF6",
           "showlakes": true,
           "showland": true,
           "subunitcolor": "white"
          },
          "hoverlabel": {
           "align": "left"
          },
          "hovermode": "closest",
          "mapbox": {
           "style": "light"
          },
          "paper_bgcolor": "white",
          "plot_bgcolor": "#E5ECF6",
          "polar": {
           "angularaxis": {
            "gridcolor": "white",
            "linecolor": "white",
            "ticks": ""
           },
           "bgcolor": "#E5ECF6",
           "radialaxis": {
            "gridcolor": "white",
            "linecolor": "white",
            "ticks": ""
           }
          },
          "scene": {
           "xaxis": {
            "backgroundcolor": "#E5ECF6",
            "gridcolor": "white",
            "gridwidth": 2,
            "linecolor": "white",
            "showbackground": true,
            "ticks": "",
            "zerolinecolor": "white"
           },
           "yaxis": {
            "backgroundcolor": "#E5ECF6",
            "gridcolor": "white",
            "gridwidth": 2,
            "linecolor": "white",
            "showbackground": true,
            "ticks": "",
            "zerolinecolor": "white"
           },
           "zaxis": {
            "backgroundcolor": "#E5ECF6",
            "gridcolor": "white",
            "gridwidth": 2,
            "linecolor": "white",
            "showbackground": true,
            "ticks": "",
            "zerolinecolor": "white"
           }
          },
          "shapedefaults": {
           "line": {
            "color": "#2a3f5f"
           }
          },
          "ternary": {
           "aaxis": {
            "gridcolor": "white",
            "linecolor": "white",
            "ticks": ""
           },
           "baxis": {
            "gridcolor": "white",
            "linecolor": "white",
            "ticks": ""
           },
           "bgcolor": "#E5ECF6",
           "caxis": {
            "gridcolor": "white",
            "linecolor": "white",
            "ticks": ""
           }
          },
          "title": {
           "x": 0.05
          },
          "xaxis": {
           "automargin": true,
           "gridcolor": "white",
           "linecolor": "white",
           "ticks": "",
           "title": {
            "standoff": 15
           },
           "zerolinecolor": "white",
           "zerolinewidth": 2
          },
          "yaxis": {
           "automargin": true,
           "gridcolor": "white",
           "linecolor": "white",
           "ticks": "",
           "title": {
            "standoff": 15
           },
           "zerolinecolor": "white",
           "zerolinewidth": 2
          }
         }
        },
        "title": {
         "text": "Cyclone over the earth"
        }
       }
      }
     },
     "metadata": {},
     "output_type": "display_data"
    },
    {
     "ename": "",
     "evalue": "",
     "output_type": "error",
     "traceback": [
      "\u001b[1;31mnotebook controller is DISPOSED. \n",
      "\u001b[1;31mView Jupyter <a href='command:jupyter.viewOutput'>log</a> for further details."
     ]
    }
   ],
   "source": [
    "fig = px.scatter_geo(\n",
    "     sample_data,\n",
    "     lat=\"LAT\",  \n",
    "     lon=\"LON\",  \n",
    "     color=\"TD9636_STAGE\",  # Color markers based on pressure\n",
    "     size=\"WIND\",  # Size markers based on wind speed\n",
    " #    hover_name=\"PRESS\",  \n",
    "     projection=\"natural earth\"  # Map projection type\n",
    " )\n",
    "\n",
    " # Customize layout (optional)\n",
    "fig.update_layout(\n",
    "     title=\"Cyclone over the earth\",\n",
    "     geo=dict(\n",
    "         showland=True,  # Show land on the map\n",
    "         landcolor=\"lightgray\",  # Land color\n",
    "         showcountries=True,  # Show country borders\n",
    "         countrycolor=\"black\"  # Country border color\n",
    "     )\n",
    " )\n",
    "\n",
    " # Show the figure\n",
    "fig.show()"
   ]
  },
  {
   "cell_type": "markdown",
   "metadata": {},
   "source": [
    "### Boxplot Pressure"
   ]
  },
  {
   "cell_type": "code",
   "execution_count": 21,
   "metadata": {},
   "outputs": [
    {
     "name": "stderr",
     "output_type": "stream",
     "text": [
      "C:\\Users\\Claire\\AppData\\Local\\Temp\\ipykernel_13664\\1216009544.py:21: FutureWarning: \n",
      "\n",
      "Passing `palette` without assigning `hue` is deprecated and will be removed in v0.14.0. Assign the `x` variable to `hue` and set `legend=False` for the same effect.\n",
      "\n",
      "  sns.boxplot(x = \"TD9636_STAGE\",\n",
      "C:\\Users\\Claire\\AppData\\Local\\Temp\\ipykernel_13664\\1216009544.py:46: FutureWarning: \n",
      "\n",
      "Passing `palette` without assigning `hue` is deprecated and will be removed in v0.14.0. Assign the `x` variable to `hue` and set `legend=False` for the same effect.\n",
      "\n",
      "  sns.stripplot(\n",
      "C:\\Users\\Claire\\AppData\\Local\\Temp\\ipykernel_13664\\1216009544.py:46: FutureWarning: \n",
      "\n",
      "Passing `palette` without assigning `hue` is deprecated and will be removed in v0.14.0. Assign the `x` variable to `hue` and set `legend=False` for the same effect.\n",
      "\n",
      "  sns.stripplot(\n",
      "C:\\Users\\Claire\\AppData\\Local\\Temp\\ipykernel_13664\\1216009544.py:46: FutureWarning: \n",
      "\n",
      "Passing `palette` without assigning `hue` is deprecated and will be removed in v0.14.0. Assign the `x` variable to `hue` and set `legend=False` for the same effect.\n",
      "\n",
      "  sns.stripplot(\n",
      "C:\\Users\\Claire\\AppData\\Local\\Temp\\ipykernel_13664\\1216009544.py:46: FutureWarning: \n",
      "\n",
      "Passing `palette` without assigning `hue` is deprecated and will be removed in v0.14.0. Assign the `x` variable to `hue` and set `legend=False` for the same effect.\n",
      "\n",
      "  sns.stripplot(\n",
      "C:\\Users\\Claire\\AppData\\Local\\Temp\\ipykernel_13664\\1216009544.py:46: FutureWarning: \n",
      "\n",
      "Passing `palette` without assigning `hue` is deprecated and will be removed in v0.14.0. Assign the `x` variable to `hue` and set `legend=False` for the same effect.\n",
      "\n",
      "  sns.stripplot(\n",
      "C:\\Users\\Claire\\AppData\\Local\\Temp\\ipykernel_13664\\1216009544.py:46: FutureWarning: \n",
      "\n",
      "Passing `palette` without assigning `hue` is deprecated and will be removed in v0.14.0. Assign the `x` variable to `hue` and set `legend=False` for the same effect.\n",
      "\n",
      "  sns.stripplot(\n",
      "C:\\Users\\Claire\\AppData\\Local\\Temp\\ipykernel_13664\\1216009544.py:46: FutureWarning: \n",
      "\n",
      "Passing `palette` without assigning `hue` is deprecated and will be removed in v0.14.0. Assign the `x` variable to `hue` and set `legend=False` for the same effect.\n",
      "\n",
      "  sns.stripplot(\n"
     ]
    },
    {
     "data": {
      "image/png": "[encoded data removed]",
      "text/plain": [
       "<Figure size 1000x600 with 1 Axes>"
      ]
     },
     "metadata": {},
     "output_type": "display_data"
    }
   ],
   "source": [
    "import seaborn as sns\n",
    "import matplotlib.pyplot as plt\n",
    "\n",
    "sns.set_theme(style = \"whitegrid\")\n",
    "\n",
    "# custom palette for all the graphs:\n",
    "custom_color = {\n",
    "    '0': '#440154',\n",
    "    '1': '#46327e',\n",
    "    '2': '#365c8d',\n",
    "    '3': '#277f8e',\n",
    "    '4': '#1fa187',\n",
    "    '5': '#4ac16d',\n",
    "    '6': '#a0da39',    \n",
    "    '7': '#fde725'\n",
    "} \n",
    "\n",
    "# configure figure size:\n",
    "fig, ax = plt.subplots(figsize = (10, 6))\n",
    "\n",
    "sns.boxplot(x = \"TD9636_STAGE\", \n",
    "            y = \"PRESS\", \n",
    "            data = STORMS, \n",
    "            palette = custom_color,   \n",
    "            linewidth=1.5,  # Border width of boxes\n",
    "            showfliers=False,  # Hide outliers\n",
    "            ax = ax\n",
    "            \n",
    "            )\n",
    "\n",
    "# Manually extract and plot **only the outliers**\n",
    "for stage in STORMS[\"TD9636_STAGE\"].unique():\n",
    "    subset = STORMS[STORMS[\"TD9636_STAGE\"] == stage]\n",
    "    \n",
    "    # Compute IQR (Interquartile Range) for outlier detection\n",
    "    Q1 = subset[\"PRESS\"].quantile(0.25)\n",
    "    Q3 = subset[\"PRESS\"].quantile(0.75)\n",
    "    IQR = Q3 - Q1\n",
    "    lower_bound = Q1 - 1.5 * IQR\n",
    "    upper_bound = Q3 + 1.5 * IQR\n",
    "    \n",
    "    # Select only outliers\n",
    "    outliers = subset[(subset[\"PRESS\"] < lower_bound) | (subset[\"PRESS\"] > upper_bound)]\n",
    "    \n",
    "    # Plot outliers with matching color\n",
    "    sns.stripplot(\n",
    "        x=outliers[\"TD9636_STAGE\"], \n",
    "        y=outliers[\"PRESS\"], \n",
    "        palette=custom_color,  # Assign color based on stage\n",
    "        marker='o',  \n",
    "        alpha=0.5,  # Slight transparency\n",
    "        size=6,  # Dot size\n",
    "        edgecolor=\"white\",  # Black border around dots\n",
    "        linewidth=0.7,  \n",
    "        ax=ax\n",
    "    )\n",
    "\n",
    "ax.set_xlabel(\"TD9636_STAGE\", fontsize = 20) # x axis label\n",
    "ax.set_ylabel(\"Atmospheric pressure (in mbar)\", fontsize = 20) # y axis label\n",
    "\n",
    "# Show the figure\n",
    "plt.show()"
   ]
  },
  {
   "cell_type": "markdown",
   "metadata": {},
   "source": [
    "### Correlation matrix\n",
    "\n",
    "#### preparation of the data for correlation matrix"
   ]
  },
  {
   "cell_type": "code",
   "execution_count": 20,
   "metadata": {},
   "outputs": [],
   "source": [
    "DATA = STORMS.copy()"
   ]
  },
  {
   "cell_type": "code",
   "execution_count": 21,
   "metadata": {},
   "outputs": [],
   "source": [
    "# creation of a function to extract the season from the date and the latitude\n",
    "def get_season(date, latitude):\n",
    "    month = date.month\n",
    "    day = date.day\n",
    "\n",
    "    if latitude >= 0:  # Northern Hemisphere\n",
    "        match month:\n",
    "            case 12 | 1 | 2: \n",
    "                return \"Winter\"\n",
    "            case 3 | 4 | 5: \n",
    "                return \"Spring\"\n",
    "            case 6 | 7 | 8:\n",
    "                return \"Summer\"\n",
    "            case 9 | 10 | 11: \n",
    "                return \"Fall\"\n",
    "    \n",
    "    else:  # Southern Hemisphere\n",
    "        match month:\n",
    "            case 12 | 1 | 2:\n",
    "                return \"Summer\"\n",
    "            case 3 | 4 | 5: \n",
    "                return  \"Fall\"\n",
    "            case 6 | 7 | 8: \n",
    "                return \"Winter\"\n",
    "            case 9 | 10 | 11: \n",
    "                return \"Spring\""
   ]
  },
  {
   "cell_type": "code",
   "execution_count": 22,
   "metadata": {},
   "outputs": [],
   "source": [
    "# Convert ISO_TIME to datetime\n",
    "DATA['ISO_TIME'] = pd.to_datetime(DATA['ISO_TIME'])\n",
    "DATA['SEASON'] = DATA.apply(lambda row: get_season(row['ISO_TIME'], row['LAT']), axis=1)"
   ]
  },
  {
   "cell_type": "code",
   "execution_count": 23,
   "metadata": {},
   "outputs": [],
   "source": [
    "# Encoding the NATURE and BASIN columns (just for the correlation matrix)\n",
    "encoder = OrdinalEncoder()\n",
    "DATA['NATURE'] = encoder.fit_transform(DATA[['NATURE']])\n",
    "\n",
    "DATA['BASIN'] = encoder.fit_transform(DATA[['BASIN']])"
   ]
  },
  {
   "cell_type": "code",
   "execution_count": 24,
   "metadata": {},
   "outputs": [],
   "source": [
    "# Encoding the SEASON column\n",
    "# Recode the season in integers. Give more importance to the seasons where the most storms occur\n",
    "encoder = OrdinalEncoder(categories = [['Winter', 'Spring', 'Fall', 'Summer']]) \n",
    "DATA['SEASON'] = encoder.fit_transform(DATA[['SEASON']])\n"
   ]
  },
  {
   "cell_type": "code",
   "execution_count": 25,
   "metadata": {},
   "outputs": [],
   "source": [
    "DATA = DATA.drop(columns=['SID', 'ISO_TIME', 'WIND_AGENCY'])"
   ]
  },
  {
   "cell_type": "code",
   "execution_count": 33,
   "metadata": {},
   "outputs": [
    {
     "data": {
      "application/vnd.plotly.v1+json": {
       "config": {
        "plotlyServerURL": "https://plot.ly"
       },
       "data": [
        {
         "coloraxis": "coloraxis",
         "hovertemplate": "x: %{x}<br>y: %{y}<br>color: %{z}<extra></extra>",
         "name": "0",
         "texttemplate": "%{z:.2f}",
         "type": "heatmap",
         "x": [
          "SEASON",
          "BASIN",
          "NATURE",
          "LAT",
          "LON",
          "DIST2LAND",
          "LANDFALL",
          "STORM_SPEED",
          "STORM_DIR",
          "WIND",
          "PRESS",
          "TD9636_STAGE"
         ],
         "xaxis": "x",
         "y": [
          "SEASON",
          "BASIN",
          "NATURE",
          "LAT",
          "LON",
          "DIST2LAND",
          "LANDFALL",
          "STORM_SPEED",
          "STORM_DIR",
          "WIND",
          "PRESS",
          "TD9636_STAGE"
         ],
         "yaxis": "y",
         "z": [
          [
           1,
           -0.15447766542777175,
           null,
           null,
           -0.1796509230491933,
           null,
           null,
           null,
           null,
           null,
           null,
           null
          ],
          [
           -0.15447766542777175,
           1,
           -0.2175647598003638,
           null,
           0.8138142014365877,
           null,
           null,
           null,
           null,
           null,
           null,
           null
          ],
          [
           null,
           -0.2175647598003638,
           1,
           null,
           -0.1899334927319144,
           null,
           null,
           null,
           null,
           0.1570943323200881,
           -0.21038037721661762,
           0.340455385255236
          ],
          [
           null,
           null,
           null,
           1,
           null,
           null,
           null,
           null,
           0.17489663383389745,
           null,
           null,
           null
          ],
          [
           -0.1796509230491933,
           0.8138142014365877,
           -0.1899334927319144,
           null,
           1,
           null,
           null,
           null,
           -0.1630053605076046,
           null,
           null,
           null
          ],
          [
           null,
           null,
           null,
           null,
           null,
           1,
           0.9995042761112338,
           null,
           null,
           null,
           null,
           null
          ],
          [
           null,
           null,
           null,
           null,
           null,
           0.9995042761112338,
           1,
           null,
           null,
           null,
           null,
           null
          ],
          [
           null,
           null,
           null,
           null,
           null,
           null,
           null,
           1,
           null,
           null,
           null,
           null
          ],
          [
           null,
           null,
           null,
           0.17489663383389745,
           -0.1630053605076046,
           null,
           null,
           null,
           1,
           null,
           null,
           null
          ],
          [
           null,
           null,
           0.1570943323200881,
           null,
           null,
           null,
           null,
           null,
           null,
           1,
           -0.8969497144475096,
           0.8118233047845954
          ],
          [
           null,
           null,
           -0.21038037721661762,
           null,
           null,
           null,
           null,
           null,
           null,
           -0.8969497144475096,
           1,
           -0.7042981661984622
          ],
          [
           null,
           null,
           0.340455385255236,
           null,
           null,
           null,
           null,
           null,
           null,
           0.8118233047845954,
           -0.7042981661984622,
           1
          ]
         ]
        }
       ],
       "layout": {
        "autosize": false,
        "coloraxis": {
         "cmax": 1,
         "cmin": -1,
         "colorscale": [
          [
           0,
           "rgb(5,48,97)"
          ],
          [
           0.1,
           "rgb(33,102,172)"
          ],
          [
           0.2,
           "rgb(67,147,195)"
          ],
          [
           0.3,
           "rgb(146,197,222)"
          ],
          [
           0.4,
           "rgb(209,229,240)"
          ],
          [
           0.5,
           "rgb(247,247,247)"
          ],
          [
           0.6,
           "rgb(253,219,199)"
          ],
          [
           0.7,
           "rgb(244,165,130)"
          ],
          [
           0.8,
           "rgb(214,96,77)"
          ],
          [
           0.9,
           "rgb(178,24,43)"
          ],
          [
           1,
           "rgb(103,0,31)"
          ]
         ]
        },
        "height": 700,
        "template": {
         "data": {
          "bar": [
           {
            "error_x": {
             "color": "#2a3f5f"
            },
            "error_y": {
             "color": "#2a3f5f"
            },
            "marker": {
             "line": {
              "color": "white",
              "width": 0.5
             },
             "pattern": {
              "fillmode": "overlay",
              "size": 10,
              "solidity": 0.2
             }
            },
            "type": "bar"
           }
          ],
          "barpolar": [
           {
            "marker": {
             "line": {
              "color": "white",
              "width": 0.5
             },
             "pattern": {
              "fillmode": "overlay",
              "size": 10,
              "solidity": 0.2
             }
            },
            "type": "barpolar"
           }
          ],
          "carpet": [
           {
            "aaxis": {
             "endlinecolor": "#2a3f5f",
             "gridcolor": "#C8D4E3",
             "linecolor": "#C8D4E3",
             "minorgridcolor": "#C8D4E3",
             "startlinecolor": "#2a3f5f"
            },
            "baxis": {
             "endlinecolor": "#2a3f5f",
             "gridcolor": "#C8D4E3",
             "linecolor": "#C8D4E3",
             "minorgridcolor": "#C8D4E3",
             "startlinecolor": "#2a3f5f"
            },
            "type": "carpet"
           }
          ],
          "choropleth": [
           {
            "colorbar": {
             "outlinewidth": 0,
             "ticks": ""
            },
            "type": "choropleth"
           }
          ],
          "contour": [
           {
            "colorbar": {
             "outlinewidth": 0,
             "ticks": ""
            },
            "colorscale": [
             [
              0,
              "#0d0887"
             ],
             [
              0.1111111111111111,
              "#46039f"
             ],
             [
              0.2222222222222222,
              "#7201a8"
             ],
             [
              0.3333333333333333,
              "#9c179e"
             ],
             [
              0.4444444444444444,
              "#bd3786"
             ],
             [
              0.5555555555555556,
              "#d8576b"
             ],
             [
              0.6666666666666666,
              "#ed7953"
             ],
             [
              0.7777777777777778,
              "#fb9f3a"
             ],
             [
              0.8888888888888888,
              "#fdca26"
             ],
             [
              1,
              "#f0f921"
             ]
            ],
            "type": "contour"
           }
          ],
          "contourcarpet": [
           {
            "colorbar": {
             "outlinewidth": 0,
             "ticks": ""
            },
            "type": "contourcarpet"
           }
          ],
          "heatmap": [
           {
            "colorbar": {
             "outlinewidth": 0,
             "ticks": ""
            },
            "colorscale": [
             [
              0,
              "#0d0887"
             ],
             [
              0.1111111111111111,
              "#46039f"
             ],
             [
              0.2222222222222222,
              "#7201a8"
             ],
             [
              0.3333333333333333,
              "#9c179e"
             ],
             [
              0.4444444444444444,
              "#bd3786"
             ],
             [
              0.5555555555555556,
              "#d8576b"
             ],
             [
              0.6666666666666666,
              "#ed7953"
             ],
             [
              0.7777777777777778,
              "#fb9f3a"
             ],
             [
              0.8888888888888888,
              "#fdca26"
             ],
             [
              1,
              "#f0f921"
             ]
            ],
            "type": "heatmap"
           }
          ],
          "heatmapgl": [
           {
            "colorbar": {
             "outlinewidth": 0,
             "ticks": ""
            },
            "colorscale": [
             [
              0,
              "#0d0887"
             ],
             [
              0.1111111111111111,
              "#46039f"
             ],
             [
              0.2222222222222222,
              "#7201a8"
             ],
             [
              0.3333333333333333,
              "#9c179e"
             ],
             [
              0.4444444444444444,
              "#bd3786"
             ],
             [
              0.5555555555555556,
              "#d8576b"
             ],
             [
              0.6666666666666666,
              "#ed7953"
             ],
             [
              0.7777777777777778,
              "#fb9f3a"
             ],
             [
              0.8888888888888888,
              "#fdca26"
             ],
             [
              1,
              "#f0f921"
             ]
            ],
            "type": "heatmapgl"
           }
          ],
          "histogram": [
           {
            "marker": {
             "pattern": {
              "fillmode": "overlay",
              "size": 10,
              "solidity": 0.2
             }
            },
            "type": "histogram"
           }
          ],
          "histogram2d": [
           {
            "colorbar": {
             "outlinewidth": 0,
             "ticks": ""
            },
            "colorscale": [
             [
              0,
              "#0d0887"
             ],
             [
              0.1111111111111111,
              "#46039f"
             ],
             [
              0.2222222222222222,
              "#7201a8"
             ],
             [
              0.3333333333333333,
              "#9c179e"
             ],
             [
              0.4444444444444444,
              "#bd3786"
             ],
             [
              0.5555555555555556,
              "#d8576b"
             ],
             [
              0.6666666666666666,
              "#ed7953"
             ],
             [
              0.7777777777777778,
              "#fb9f3a"
             ],
             [
              0.8888888888888888,
              "#fdca26"
             ],
             [
              1,
              "#f0f921"
             ]
            ],
            "type": "histogram2d"
           }
          ],
          "histogram2dcontour": [
           {
            "colorbar": {
             "outlinewidth": 0,
             "ticks": ""
            },
            "colorscale": [
             [
              0,
              "#0d0887"
             ],
             [
              0.1111111111111111,
              "#46039f"
             ],
             [
              0.2222222222222222,
              "#7201a8"
             ],
             [
              0.3333333333333333,
              "#9c179e"
             ],
             [
              0.4444444444444444,
              "#bd3786"
             ],
             [
              0.5555555555555556,
              "#d8576b"
             ],
             [
              0.6666666666666666,
              "#ed7953"
             ],
             [
              0.7777777777777778,
              "#fb9f3a"
             ],
             [
              0.8888888888888888,
              "#fdca26"
             ],
             [
              1,
              "#f0f921"
             ]
            ],
            "type": "histogram2dcontour"
           }
          ],
          "mesh3d": [
           {
            "colorbar": {
             "outlinewidth": 0,
             "ticks": ""
            },
            "type": "mesh3d"
           }
          ],
          "parcoords": [
           {
            "line": {
             "colorbar": {
              "outlinewidth": 0,
              "ticks": ""
             }
            },
            "type": "parcoords"
           }
          ],
          "pie": [
           {
            "automargin": true,
            "type": "pie"
           }
          ],
          "scatter": [
           {
            "fillpattern": {
             "fillmode": "overlay",
             "size": 10,
             "solidity": 0.2
            },
            "type": "scatter"
           }
          ],
          "scatter3d": [
           {
            "line": {
             "colorbar": {
              "outlinewidth": 0,
              "ticks": ""
             }
            },
            "marker": {
             "colorbar": {
              "outlinewidth": 0,
              "ticks": ""
             }
            },
            "type": "scatter3d"
           }
          ],
          "scattercarpet": [
           {
            "marker": {
             "colorbar": {
              "outlinewidth": 0,
              "ticks": ""
             }
            },
            "type": "scattercarpet"
           }
          ],
          "scattergeo": [
           {
            "marker": {
             "colorbar": {
              "outlinewidth": 0,
              "ticks": ""
             }
            },
            "type": "scattergeo"
           }
          ],
          "scattergl": [
           {
            "marker": {
             "colorbar": {
              "outlinewidth": 0,
              "ticks": ""
             }
            },
            "type": "scattergl"
           }
          ],
          "scattermapbox": [
           {
            "marker": {
             "colorbar": {
              "outlinewidth": 0,
              "ticks": ""
             }
            },
            "type": "scattermapbox"
           }
          ],
          "scatterpolar": [
           {
            "marker": {
             "colorbar": {
              "outlinewidth": 0,
              "ticks": ""
             }
            },
            "type": "scatterpolar"
           }
          ],
          "scatterpolargl": [
           {
            "marker": {
             "colorbar": {
              "outlinewidth": 0,
              "ticks": ""
             }
            },
            "type": "scatterpolargl"
           }
          ],
          "scatterternary": [
           {
            "marker": {
             "colorbar": {
              "outlinewidth": 0,
              "ticks": ""
             }
            },
            "type": "scatterternary"
           }
          ],
          "surface": [
           {
            "colorbar": {
             "outlinewidth": 0,
             "ticks": ""
            },
            "colorscale": [
             [
              0,
              "#0d0887"
             ],
             [
              0.1111111111111111,
              "#46039f"
             ],
             [
              0.2222222222222222,
              "#7201a8"
             ],
             [
              0.3333333333333333,
              "#9c179e"
             ],
             [
              0.4444444444444444,
              "#bd3786"
             ],
             [
              0.5555555555555556,
              "#d8576b"
             ],
             [
              0.6666666666666666,
              "#ed7953"
             ],
             [
              0.7777777777777778,
              "#fb9f3a"
             ],
             [
              0.8888888888888888,
              "#fdca26"
             ],
             [
              1,
              "#f0f921"
             ]
            ],
            "type": "surface"
           }
          ],
          "table": [
           {
            "cells": {
             "fill": {
              "color": "#EBF0F8"
             },
             "line": {
              "color": "white"
             }
            },
            "header": {
             "fill": {
              "color": "#C8D4E3"
             },
             "line": {
              "color": "white"
             }
            },
            "type": "table"
           }
          ]
         },
         "layout": {
          "annotationdefaults": {
           "arrowcolor": "#2a3f5f",
           "arrowhead": 0,
           "arrowwidth": 1
          },
          "autotypenumbers": "strict",
          "coloraxis": {
           "colorbar": {
            "outlinewidth": 0,
            "ticks": ""
           }
          },
          "colorscale": {
           "diverging": [
            [
             0,
             "#8e0152"
            ],
            [
             0.1,
             "#c51b7d"
            ],
            [
             0.2,
             "#de77ae"
            ],
            [
             0.3,
             "#f1b6da"
            ],
            [
             0.4,
             "#fde0ef"
            ],
            [
             0.5,
             "#f7f7f7"
            ],
            [
             0.6,
             "#e6f5d0"
            ],
            [
             0.7,
             "#b8e186"
            ],
            [
             0.8,
             "#7fbc41"
            ],
            [
             0.9,
             "#4d9221"
            ],
            [
             1,
             "#276419"
            ]
           ],
           "sequential": [
            [
             0,
             "#0d0887"
            ],
            [
             0.1111111111111111,
             "#46039f"
            ],
            [
             0.2222222222222222,
             "#7201a8"
            ],
            [
             0.3333333333333333,
             "#9c179e"
            ],
            [
             0.4444444444444444,
             "#bd3786"
            ],
            [
             0.5555555555555556,
             "#d8576b"
            ],
            [
             0.6666666666666666,
             "#ed7953"
            ],
            [
             0.7777777777777778,
             "#fb9f3a"
            ],
            [
             0.8888888888888888,
             "#fdca26"
            ],
            [
             1,
             "#f0f921"
            ]
           ],
           "sequentialminus": [
            [
             0,
             "#0d0887"
            ],
            [
             0.1111111111111111,
             "#46039f"
            ],
            [
             0.2222222222222222,
             "#7201a8"
            ],
            [
             0.3333333333333333,
             "#9c179e"
            ],
            [
             0.4444444444444444,
             "#bd3786"
            ],
            [
             0.5555555555555556,
             "#d8576b"
            ],
            [
             0.6666666666666666,
             "#ed7953"
            ],
            [
             0.7777777777777778,
             "#fb9f3a"
            ],
            [
             0.8888888888888888,
             "#fdca26"
            ],
            [
             1,
             "#f0f921"
            ]
           ]
          },
          "colorway": [
           "#636efa",
           "#EF553B",
           "#00cc96",
           "#ab63fa",
           "#FFA15A",
           "#19d3f3",
           "#FF6692",
           "#B6E880",
           "#FF97FF",
           "#FECB52"
          ],
          "font": {
           "color": "#2a3f5f"
          },
          "geo": {
           "bgcolor": "white",
           "lakecolor": "white",
           "landcolor": "white",
           "showlakes": true,
           "showland": true,
           "subunitcolor": "#C8D4E3"
          },
          "hoverlabel": {
           "align": "left"
          },
          "hovermode": "closest",
          "mapbox": {
           "style": "light"
          },
          "paper_bgcolor": "white",
          "plot_bgcolor": "white",
          "polar": {
           "angularaxis": {
            "gridcolor": "#EBF0F8",
            "linecolor": "#EBF0F8",
            "ticks": ""
           },
           "bgcolor": "white",
           "radialaxis": {
            "gridcolor": "#EBF0F8",
            "linecolor": "#EBF0F8",
            "ticks": ""
           }
          },
          "scene": {
           "xaxis": {
            "backgroundcolor": "white",
            "gridcolor": "#DFE8F3",
            "gridwidth": 2,
            "linecolor": "#EBF0F8",
            "showbackground": true,
            "ticks": "",
            "zerolinecolor": "#EBF0F8"
           },
           "yaxis": {
            "backgroundcolor": "white",
            "gridcolor": "#DFE8F3",
            "gridwidth": 2,
            "linecolor": "#EBF0F8",
            "showbackground": true,
            "ticks": "",
            "zerolinecolor": "#EBF0F8"
           },
           "zaxis": {
            "backgroundcolor": "white",
            "gridcolor": "#DFE8F3",
            "gridwidth": 2,
            "linecolor": "#EBF0F8",
            "showbackground": true,
            "ticks": "",
            "zerolinecolor": "#EBF0F8"
           }
          },
          "shapedefaults": {
           "line": {
            "color": "#2a3f5f"
           }
          },
          "ternary": {
           "aaxis": {
            "gridcolor": "#DFE8F3",
            "linecolor": "#A2B1C6",
            "ticks": ""
           },
           "baxis": {
            "gridcolor": "#DFE8F3",
            "linecolor": "#A2B1C6",
            "ticks": ""
           },
           "bgcolor": "white",
           "caxis": {
            "gridcolor": "#DFE8F3",
            "linecolor": "#A2B1C6",
            "ticks": ""
           }
          },
          "title": {
           "x": 0.05
          },
          "xaxis": {
           "automargin": true,
           "gridcolor": "#EBF0F8",
           "linecolor": "#EBF0F8",
           "ticks": "",
           "title": {
            "standoff": 15
           },
           "zerolinecolor": "#EBF0F8",
           "zerolinewidth": 2
          },
          "yaxis": {
           "automargin": true,
           "gridcolor": "#EBF0F8",
           "linecolor": "#EBF0F8",
           "ticks": "",
           "title": {
            "standoff": 15
           },
           "zerolinecolor": "#EBF0F8",
           "zerolinewidth": 2
          }
         }
        },
        "title": {
         "text": "Correlation Matrix"
        },
        "width": 900,
        "xaxis": {
         "anchor": "y",
         "constrain": "domain",
         "domain": [
          0,
          1
         ],
         "linecolor": "black",
         "linewidth": 1,
         "mirror": true,
         "scaleanchor": "y",
         "showline": true,
         "tickfont": {
          "color": "black",
          "size": 14,
          "weight": "bold"
         },
         "ticks": "inside"
        },
        "yaxis": {
         "anchor": "x",
         "autorange": "reversed",
         "constrain": "domain",
         "domain": [
          0,
          1
         ],
         "linecolor": "black",
         "linewidth": 1,
         "mirror": true,
         "showline": true,
         "tickfont": {
          "color": "black",
          "size": 14,
          "weight": "bold"
         },
         "ticks": "inside"
        }
       }
      }
     },
     "metadata": {},
     "output_type": "display_data"
    }
   ],
   "source": [
    "# Correlation matrix + heatmap using Plotly for the transformed data\n",
    "# Checking the correlations to check our hypothesis before using the data with the ML Model\n",
    "cm_df = DATA.corr()\n",
    "#cm_df = cm_df[((cm_df >= 0.2) | (cm_df <= -0.2)) & (cm_df != 1.00)]\n",
    "cm_df = cm_df.where((cm_df >= 0.15) | (cm_df <= -0.15))\n",
    "cm_df = cm_df.dropna(how=\"all\", axis=0).dropna(how=\"all\", axis=1)\n",
    "\n",
    "# Move \"TD9636_STAGE\" parameters to the right (columns) and bottom (rows)\n",
    "td9636_stage_columns = [col for col in cm_df.columns if \"TD9636_STAGE\" in col]\n",
    "other_columns = [col for col in cm_df.columns if col not in td9636_stage_columns]\n",
    "\n",
    "# Reordering DataFrame\n",
    "cm_df = cm_df[other_columns + td9636_stage_columns]  # Move columns\n",
    "cm_df = cm_df.loc[other_columns + td9636_stage_columns]  # Move rows\n",
    "\n",
    "fig = px.imshow(\n",
    "    cm_df,\n",
    "    text_auto=\".2f\",\n",
    "    zmin=-1,\n",
    "    zmax=1,\n",
    "    color_continuous_scale=px.colors.sequential.RdBu_r,\n",
    "    title=\"Correlation Matrix Heatmap\",\n",
    ")\n",
    "# Modify labels: make \"TD9636_STAGE\" parameters bold using HTML\n",
    "formatted_labels = [\n",
    "    f\"<b>{col}</b>\" if \"TD9636_STAGE\" in col else col for col in cm_df.columns\n",
    "]\n",
    "\n",
    "\n",
    "# Layout and show\n",
    "fig.update_layout(\n",
    "    template = \"plotly_white\",\n",
    "    title=\"Correlation Matrix\",\n",
    "    autosize=False,\n",
    "    width=900,\n",
    "    height=700,\n",
    ")\n",
    "fig.update_yaxes(linewidth=1, linecolor='black', mirror=True, ticks='inside', showline=True,\n",
    "                 tickfont=dict(size=14, color='black', weight=\"bold\"))\n",
    "fig.update_xaxes(linewidth=1, linecolor='black', mirror=True, ticks='inside', showline=True,\n",
    "                 tickfont=dict(size=14, color='black', weight=\"bold\"))\n",
    "fig.show()"
   ]
  }
 ],
 "metadata": {
  "kernelspec": {
   "display_name": "Python 3",
   "language": "python",
   "name": "python3"
  },
  "language_info": {
   "codemirror_mode": {
    "name": "ipython",
    "version": 3
   },
   "file_extension": ".py",
   "mimetype": "text/x-python",
   "name": "python",
   "nbconvert_exporter": "python",
   "pygments_lexer": "ipython3",
   "version": "3.10.15"
  }
 },
 "nbformat": 4,
 "nbformat_minor": 2
}
