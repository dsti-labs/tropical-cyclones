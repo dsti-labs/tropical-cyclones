{
 "cells": [
  {
   "cell_type": "markdown",
   "metadata": {},
   "source": [
    "## Prediction of tropical storms intensity"
   ]
  },
  {
   "cell_type": "code",
   "execution_count": 1,
   "metadata": {},
   "outputs": [],
   "source": [
    "# Packages loading\n",
    "import os\n",
    "import pandas as pd\n",
    "import numpy as np\n",
    "\n",
    "# for ploting map\n",
    "import matplotlib.pyplot as plt\n",
    "import geopandas as gpd\n",
    "import cartopy.crs as ccrs\n",
    "\n",
    "import plotly.express as px"
   ]
  },
  {
   "cell_type": "code",
   "execution_count": 6,
   "metadata": {},
   "outputs": [
    {
     "name": "stdout",
     "output_type": "stream",
     "text": [
      "d:\\_DSTI\\A24_Python_Machine_learning\\Project3_Tropical_storms\\tropical-cyclones\n"
     ]
    }
   ],
   "source": [
    "# Change current working directory\n",
    "# current directory:\n",
    "print(os.getcwd())\n",
    "# set new directory\n",
    "os.chdir('D:\\_DSTI\\A24_Python_Machine_learning\\Project3_Tropical_storms')\n"
   ]
  },
  {
   "cell_type": "markdown",
   "metadata": {},
   "source": [
    "## Dataset loading\n",
    "IBTrACS dataset from NOAA.\n",
    "International Best Track Archive for Climate Stewardship.\n",
    "https://www.ncei.noaa.gov/products/international-best-track-archive\n",
    "\n",
    "Objectif of the project :\n",
    "Train a model to predict the severity of a tropical cyclone based on geographical input data.\n",
    "Especially, we need to focus on predicting the value in the <b>TD9636_STAGE</b> column.\n",
    "\n",
    "\n"
   ]
  },
  {
   "cell_type": "code",
   "execution_count": 7,
   "metadata": {},
   "outputs": [
    {
     "name": "stderr",
     "output_type": "stream",
     "text": [
      "C:\\Users\\Claire\\AppData\\Local\\Temp\\ipykernel_21392\\2115829982.py:2: DtypeWarning: Columns (1,2,8,9,14,19,20,172,173) have mixed types. Specify dtype option on import or set low_memory=False.\n",
      "  df = pd.read_csv('.\\ibtracs.csv', header=0)\n"
     ]
    }
   ],
   "source": [
    "# Dataset loading\n",
    "df = pd.read_csv('.\\ibtracs.csv', header=0) \n",
    "df = df.iloc[1:] # remove 2nd line (with index 1).\n",
    "df = df.reset_index() #reset indexes ;\n",
    "# Add a column \"Index\" corresponding to the previous indexes. Can be removed.\n",
    "#storms.head()\n",
    "#print(storms)\n",
    "# storms: dataframe 297098 lines, 175 columns (174 + 1 for old indexes)\n"
   ]
  },
  {
   "cell_type": "markdown",
   "metadata": {},
   "source": [
    "As we need to focus on the value in the <b>TD9636_STAGE</b> column, we can remove all lines where <b>TD9636_STAGE</b> is missing.\n",
    "The TD9636 dataset was build in the 60-70s and is a collection of storms derived from multiple sources. It has not been updated since the 80s whereas the IBTrACS dataset is still updated. As a consequence it is not suprising that most of rows in TD9636_STAGE are empty.\n",
    "TD9636 is a dataset for outside the Atlantic.\n",
    "\n",
    "PROBLEM: \n",
    "Empty cells are in fact filled with a whitespace and thus NA are not properly detected"
   ]
  },
  {
   "cell_type": "code",
   "execution_count": 4,
   "metadata": {},
   "outputs": [
    {
     "data": {
      "text/plain": [
       "index                0\n",
       "SID                  0\n",
       "SEASON               0\n",
       "NUMBER               0\n",
       "BASIN            40518\n",
       "                 ...  \n",
       "USA_SEARAD_SE        0\n",
       "USA_SEARAD_SW        0\n",
       "USA_SEARAD_NW        0\n",
       "STORM_SPEED          0\n",
       "STORM_DIR            0\n",
       "Length: 175, dtype: int64"
      ]
     },
     "execution_count": 4,
     "metadata": {},
     "output_type": "execute_result"
    }
   ],
   "source": [
    "df.isna().sum()# it seems that there is no NA, which is false."
   ]
  },
  {
   "cell_type": "code",
   "execution_count": 8,
   "metadata": {},
   "outputs": [
    {
     "name": "stderr",
     "output_type": "stream",
     "text": [
      "C:\\Users\\Claire\\AppData\\Local\\Temp\\ipykernel_21392\\3573423944.py:1: FutureWarning: DataFrame.applymap has been deprecated. Use DataFrame.map instead.\n",
      "  df = df.applymap(lambda x: x.strip() if isinstance(x, str) else x) # remove whitespace from every cells\n",
      "C:\\Users\\Claire\\AppData\\Local\\Temp\\ipykernel_21392\\3573423944.py:2: FutureWarning: Downcasting behavior in `replace` is deprecated and will be removed in a future version. To retain the old behavior, explicitly call `result.infer_objects(copy=False)`. To opt-in to the future behavior, set `pd.set_option('future.no_silent_downcasting', True)`\n",
      "  df.replace('', np.nan, inplace=True) # replace empty cells with NaN\n"
     ]
    }
   ],
   "source": [
    "df = df.applymap(lambda x: x.strip() if isinstance(x, str) else x) # remove whitespace from every cells\n",
    "df.replace('', np.nan, inplace=True) # replace empty cells with NaN\n",
    "df_NA = df.isna().sum() # it seems to work. \n",
    "# We can remove all columns filled only with NA"
   ]
  },
  {
   "cell_type": "code",
   "execution_count": 9,
   "metadata": {},
   "outputs": [],
   "source": [
    "# Now we can remove rows where there is NA in TD9636_STAGE\n",
    "# TD9636_STAGE : 248755 missing data (84%)\n",
    "\n",
    "df.dropna(subset = ['TD9636_STAGE'], inplace=True)\n",
    "\n",
    "# Only 48343 rows left"
   ]
  },
  {
   "cell_type": "markdown",
   "metadata": {},
   "source": [
    "# Data cleaning/feature engineering\n",
    "\n",
    "First remove all rows filled only with NA :\n",
    "- 75 columns\n",
    "\n",
    "Columns to remove:\n",
    "\n",
    "    - index: column added by Python when updating indexes after removing the 2nd line.\n",
    "    - NAME: same as SID except that some storms don't have name. Redundant info\n",
    "    - NUMBER: number of the storm for the year. Restart at 1 each year. Not useful.\n",
    "    - BASIN \n",
    "    - SUBBASIN: Mostly missing. These two will probably be correlated to LAT and LON. Redundant info.\n",
    "    - WMO_WIND: all data from agencies but differents units but no adjustement is made for differences in wind speed averaging. Data not comparable.\n",
    "    - TD9636_WIND: in data description: \"subjective, must be interpreted with caution\". Not reliable.\n",
    "    - WMO_AGENCY: info on agency from where WMO_ data come from.\n",
    "\n",
    "    - IFLAG: info about data quality. Not necessary for model.\n",
    "    - TRACK_TYPE: info about data quality. Not necessary for model.\n",
    "\n",
    "    - BOM_PRES_METHOD: info on how BOM_PRES is measured\n",
    "\n",
    "    - DS824_STAGE: lot of missing data but not surprising as it cover the period between 1877 and 1980. Our data are until 1989 thus we can remove this column.\n",
    "\n",
    "    -NEUMANN_CLASS: lot of missing data. Not surprising as it cover only Southern Hemisphere and thus does not cover our entire study area.\n",
    "\n",
    "\n",
    "\n",
    "Columns to keep: \n",
    "\n",
    "    - SID: unique ID for each storm\n",
    "    - ISO_TIME: uniquely identify each record ? \n",
    "    - DIST2LAND\n",
    "    - LANDFALL\n",
    "    - LAT\n",
    "    - LON"
   ]
  },
  {
   "cell_type": "code",
   "execution_count": 10,
   "metadata": {},
   "outputs": [],
   "source": [
    "# Sum of NA per column:\n",
    "df_NA = df.isna().sum() \n",
    "# Remove columns filled with NA\n",
    "df = df.dropna(axis=1, how='all')\n",
    "df_NA = df.isna().sum() "
   ]
  },
  {
   "cell_type": "code",
   "execution_count": 35,
   "metadata": {},
   "outputs": [],
   "source": [
    "# Columns that are not useful/full of NA/not reliable:\n",
    "STORMS = df.drop(columns=['index', 'NAME', 'NUMBER',\n",
    "                                    'BASIN', 'SUBBASIN',\n",
    "                                    'WMO_WIND', 'TD9636_WIND', \n",
    "                                    'WMO_AGENCY',\n",
    "                                    'IFLAG', 'TRACK_TYPE',\n",
    "                                    'BOM_PRES_METHOD',\n",
    "                                    'DS824_STAGE',\n",
    "                                    'NEUMANN_CLASS'\n",
    "                                    ])"
   ]
  },
  {
   "cell_type": "code",
   "execution_count": 36,
   "metadata": {},
   "outputs": [],
   "source": [
    "# Remove duplicate LAT/LON data:\n",
    "STORMS = STORMS.loc[:, ~STORMS.columns.str.contains('_LAT', case=True)]\n",
    "STORMS = STORMS.loc[:, ~STORMS.columns.str.contains('_LON', case=True)]"
   ]
  },
  {
   "cell_type": "code",
   "execution_count": 11,
   "metadata": {},
   "outputs": [
    {
     "data": {
      "text/plain": [
       "TD9636_STAGE\n",
       "2    17204\n",
       "1    16028\n",
       "4    10623\n",
       "0     3156\n",
       "3      742\n",
       "5      331\n",
       "6      259\n",
       "Name: count, dtype: int64"
      ]
     },
     "execution_count": 11,
     "metadata": {},
     "output_type": "execute_result"
    }
   ],
   "source": [
    "STORMS.TD9636_STAGE.value_counts()\n",
    "\n",
    "# stage are not equally represented, which is not suprising.\n",
    "# but will be a problem for the model ?"
   ]
  },
  {
   "cell_type": "code",
   "execution_count": 17,
   "metadata": {},
   "outputs": [
    {
     "data": {
      "text/plain": [
       "BASIN\n",
       "WP    19796\n",
       "SI    11008\n",
       "EP     9831\n",
       "SP     5752\n",
       "NI     1956\n",
       "Name: count, dtype: int64"
      ]
     },
     "execution_count": 17,
     "metadata": {},
     "output_type": "execute_result"
    }
   ],
   "source": [
    "df.BASIN.value_counts()\n"
   ]
  },
  {
   "cell_type": "markdown",
   "metadata": {},
   "source": [
    "Data available for\n",
    "WP: Western North Pacific\n",
    "SI: South Indian\n",
    "EP: Eastern North Pacific\n",
    "SP: South Pacific\n",
    "NI: North Indian \n",
    "\n",
    "No data for North and South Atlantic (NA and SA) which is normal as TD9636 is a dataset for outside the Atlantic."
   ]
  },
  {
   "cell_type": "markdown",
   "metadata": {},
   "source": [
    "## WIND columns\n",
    "_WIND columsn from the different agencies have different units, and thus can not be gather together easily :\n",
    "     WMO_WIND: all data from agencies but differents units (no adjustement is made for differences in wind speed averaging)\n",
    "     I suggest to remove it. No reliable.\n",
    "\n",
    "     USA_WIND, DS824_WIND, NEUMANN_WIND, max speed 1-min averaged;\n",
    "     CMA_WIND, max speed 2-min averaged;\n",
    "     NEWDELHI_WIND, max speed 3-min averaged;\n",
    "     TOKYO_WIND, HKO_WIND, KMA_WIND, REUNION_WIND, BOM_WIND, NADI_WIND, WELLINGTON_WIND max speed 10-min averaged;\n",
    "     TD9636_WIND: in data description \"estimates subjective, interpreted with caution\". Remove it. \n",
    "     TD9635_WIND, MLC_WIND: only NA\n",
    "\n",
    "We can take USA_WIND as a base because it is where there is the less NAN and complete the missing data with other columns, especially DS824_WIND and NEUMANN_WIND as it is supposed to be the same unit (max speed 1-min averaged).\n",
    "Problem: data are not in the same unit \n",
    "To convert from max speed 10-min averaged to 1-min averaged : * 1.12\n",
    "IBTrACS technical details p5: \n",
    "    \"The U.S. agencies (NOAA and JTWC) report a 1 min averaging time for the sustained (i.e. relatively long-lasting) winds. In most of the rest of the world, a 10 min averaging time is used for \"sustained wind\". It is possible to convert from peak 10 min wind to peak 1 min wind (roughly 12% higher for the latter) as a general rule.\"\n",
    "It is not a very accurate method so I suggest not to use it too much.\n",
    "(See part 6.2 Wind speed reporting differences from Technical details doc)\n",
    "\n",
    "We create one column WIND to gather all wind data and one column AGENCY to track the origin of the data."
   ]
  },
  {
   "cell_type": "code",
   "execution_count": 37,
   "metadata": {},
   "outputs": [
    {
     "name": "stderr",
     "output_type": "stream",
     "text": [
      "C:\\Users\\Claire\\AppData\\Local\\Temp\\ipykernel_21392\\4145608872.py:27: FutureWarning: Setting an item of incompatible dtype is deprecated and will raise an error in a future version of pandas. Value 'USA_WIND' has dtype incompatible with float64, please explicitly cast to a compatible dtype first.\n",
      "  STORMS.loc[mask, \"WIND_AGENCY\"] = source\n"
     ]
    }
   ],
   "source": [
    "# convert data types : \n",
    "cols = STORMS.filter(like=\"_WIND\").columns\n",
    "STORMS[cols] = STORMS[cols].apply(pd.to_numeric, errors=\"coerce\")\n",
    "STORMS.dtypes\n",
    "\n",
    "# Create the two columns \"WIND\" and \"AGENCY\":\n",
    "STORMS[\"WIND\"] = np.nan\n",
    "STORMS[\"WIND_AGENCY\"] = np.nan\n",
    "\n",
    "sources_adj = [\n",
    "    (\"USA_WIND\", 1.0),  # No adjustment\n",
    "    (\"DS824_WIND\", 1.0),  # No adjustment\n",
    "    (\"NEUMANN_WIND\", 1.0),  # No adjustment\n",
    "    (\"TOKYO_WIND\", 1.12),  # Adjustment factor\n",
    "    (\"HKO_WIND\", 1.12),\n",
    " #   (\"KMA_WIND\", 1.12),\n",
    "    (\"REUNION_WIND\", 1.12),\n",
    "    (\"BOM_WIND\", 1.12),\n",
    " #   (\"NADI_WIND\", 1.12),\n",
    "    (\"WELLINGTON_WIND\", 1.12)\n",
    "]\n",
    "\n",
    "# Iterate through the sources\n",
    "for source, factor in sources_adj:\n",
    "    mask = pd.isna(STORMS[\"WIND\"]) & ~pd.isna(STORMS[source])  # Where WIND is NA but source is not NA\n",
    "    STORMS.loc[mask, \"WIND\"] = STORMS.loc[mask, source] * factor\n",
    "    STORMS.loc[mask, \"WIND_AGENCY\"] = source"
   ]
  },
  {
   "cell_type": "code",
   "execution_count": 38,
   "metadata": {},
   "outputs": [],
   "source": [
    "# Then we can remove other _WIND columns\n",
    "STORMS = STORMS.loc[:, ~STORMS.columns.str.contains('_WIND', case=True)]"
   ]
  },
  {
   "cell_type": "markdown",
   "metadata": {},
   "source": [
    "# PRESS columns\n",
    "\n",
    "= Lowest surface pressure in the tropical cyclone\n",
    "Supposed to be easily comparable between agencies.\n",
    "\n",
    "     WMO_PRES: Minimal central pressure assigned by the responsible WMO Agency\n",
    "     USA_PRES: (mb) Minimum sea level pressure. Seems less precise ?\n",
    "     TOKYO_PRES: central pressure\n",
    "     CMA_PRES: (mb) Minimum sea level pressure\n",
    "     HKO_PRES: (mb) Minimum sea level pressure\n",
    "     KMA_PRES: (mb) Minimum sea level pressure\n",
    "     NEWDELHI_PRES: \n",
    "     REUNION_PRES:\n",
    "     BOM_PRES \n",
    "     BOM_PRES_METHOD: indicate the tool, not useful for us?\n",
    "     NADI_PRES:\n",
    "     WELLINGTON_PRES\n",
    "     DS824_PRES\n",
    "     NEUMANN_PRES\n",
    "\n",
    "Except BOM_PRES_METHOD, they all have the same unit and should be comparable.\n"
   ]
  },
  {
   "cell_type": "code",
   "execution_count": 39,
   "metadata": {},
   "outputs": [
    {
     "data": {
      "text/plain": [
       "WMO_PRES           33584\n",
       "USA_PRES           46775\n",
       "TOKYO_PRES         32937\n",
       "CMA_PRES           33176\n",
       "HKO_PRES           35341\n",
       "NEWDELHI_PRES      48118\n",
       "REUNION_PRES       45186\n",
       "BOM_PRES           42193\n",
       "WELLINGTON_PRES    43960\n",
       "DS824_PRES         47998\n",
       "NEUMANN_PRES       45442\n",
       "dtype: int64"
      ]
     },
     "execution_count": 39,
     "metadata": {},
     "output_type": "execute_result"
    }
   ],
   "source": [
    "# Problem: not exactly the same value and the LAT and LON are not EXACTLY the same.\n",
    "PRES = STORMS.filter(like=\"PRES\", axis =1)\n",
    "PRES.isna().sum()\n",
    "\n",
    "# Maybe we can do the mean of each value. \n",
    "# It will modify the data but smooth the error ?"
   ]
  },
  {
   "cell_type": "code",
   "execution_count": 40,
   "metadata": {},
   "outputs": [],
   "source": [
    "# convert data types : \n",
    "cols = STORMS.filter(like=\"_PRES\").columns\n",
    "STORMS[cols] = STORMS[cols].apply(pd.to_numeric, errors=\"coerce\")\n",
    "STORMS.dtypes\n",
    "\n",
    "# create a new column PRESS that is the mean of all _PRESS columns\n",
    "STORMS[\"PRESS\"] = STORMS.filter(like = \"_PRES\") . mean(axis = 1)\n"
   ]
  },
  {
   "cell_type": "code",
   "execution_count": 41,
   "metadata": {},
   "outputs": [],
   "source": [
    "# Then we can remove other _PRES columns\n",
    "STORMS = STORMS.loc[:, ~STORMS.columns.str.contains('_PRES', case=True)]"
   ]
  },
  {
   "cell_type": "markdown",
   "metadata": {},
   "source": []
  },
  {
   "cell_type": "code",
   "execution_count": 42,
   "metadata": {},
   "outputs": [],
   "source": [
    "# Remove data from agency columns\n",
    "STORMS = STORMS.loc[:, ~STORMS.columns.str.contains('USA_', case=True)]\n",
    "STORMS = STORMS.loc[:, ~STORMS.columns.str.contains('TOKYO_', case=True)]\n",
    "STORMS = STORMS.loc[:, ~STORMS.columns.str.contains('CMA_', case=True)]\n",
    "STORMS = STORMS.loc[:, ~STORMS.columns.str.contains('HKO_', case=True)]\n",
    "STORMS = STORMS.loc[:, ~STORMS.columns.str.contains('NEWDELHI_', case=True)]\n",
    "STORMS = STORMS.loc[:, ~STORMS.columns.str.contains('REUNION_', case=True)]\n",
    "STORMS = STORMS.loc[:, ~STORMS.columns.str.contains('BOM_', case=True)]"
   ]
  },
  {
   "cell_type": "markdown",
   "metadata": {},
   "source": [
    "### At last we have :\n",
    "14 columns:\n",
    "\n",
    "    - SID: storm IDs\n",
    "    - SEASON: Risk to be correlated with ISO_TIME ?\n",
    "    - ISO_TIME: time of the measurement \n",
    "    - NATURE: ?\n",
    "    - LAT\n",
    "    - LON\n",
    "    - DIST2LAND \n",
    "    - LANDFALL\n",
    "    - TD9636_STAGE: TARGET\n",
    "    - STORM_SPEED: will be correlated to WIND ?\n",
    "    - STORM_DIR\n",
    "    - WIND\n",
    "    - WIND_AGENCY: Not useful for the model\n",
    "    - PRESS\n",
    "\n",
    "### Problem:\n",
    "Still a lot of missing data for PRESS"
   ]
  },
  {
   "cell_type": "markdown",
   "metadata": {},
   "source": [
    "-----------------------\n",
    "# Stop there\n",
    "-----------------------\n",
    "### Details on column choice"
   ]
  },
  {
   "cell_type": "code",
   "execution_count": null,
   "metadata": {},
   "outputs": [],
   "source": [
    "# List of storms\n",
    "IDS = df.loc[:, [\"SID\", \"NAME\", \"NUMBER\"]] \n",
    "# SID and Name are the same except that some storms don't have names so let's keep SID and remove Name\n",
    "# NUMBER is the number of the storm for the year. Restart at 1 each year. Remove it. \n",
    "IDS.describe() # There are 4767 different storms\n",
    "IDS.isna().sum() # No NA in SID. "
   ]
  },
  {
   "cell_type": "code",
   "execution_count": 24,
   "metadata": {},
   "outputs": [],
   "source": [
    "# LAT columns\n",
    "LAT = STORMS.filter(like=\"LAT\", axis=1) # All columns containing \"LAT\" in their headers\n",
    "LAT = STORMS[[\"SID\"] + [col for col in STORMS.columns if \"LAT\" in col]]\n",
    "# All latitudes are the same most of the time (+- 0.1, sometimes more but mostly the same).\n",
    "# All these columns contains the same information. \n",
    "# LAT = LAT.loc[:, ['LAT']]\n",
    "# LAT.isna().sum() # No na in column LAT"
   ]
  },
  {
   "cell_type": "code",
   "execution_count": null,
   "metadata": {},
   "outputs": [],
   "source": [
    "# LONGITUDE\n",
    "LON = STORMS.filter(like=\"LON\", axis=1)\n",
    "LON.isna().sum()\n",
    "# same as with LAT, all longitudes are the same most of the time (+- 0.1, sometimes more but mostly the same).\n",
    "# All these columns contains the same information. \n",
    "# LON = LON.loc[:, ['LON']]\n",
    "# LON.isna().sum() # No na in column LAT"
   ]
  },
  {
   "cell_type": "markdown",
   "metadata": {},
   "source": [
    "PROBLEM:\n",
    "Sometime LAT/LON data are the same between agencies but sometimes we can see differences. \n",
    "Why ?\n",
    "Is it because the measurements are not take exactly at the same point or is it because of measurement inaccuracies between instruments ?\n",
    "\n",
    "\n",
    "Plot a few storms on a map:"
   ]
  },
  {
   "cell_type": "code",
   "execution_count": 61,
   "metadata": {},
   "outputs": [],
   "source": [
    "# Extract storms that have different LAT/LON within a same line:\n",
    "\n",
    "sample_ID = [\"1980069S12161\",\n",
    "             \"1980092S15183\", \n",
    "             \"1980197N07154\",\n",
    "             \"1981070N03173\"]\n",
    "sample = STORMS[STORMS[\"SID\"].isin(sample_ID)] \n",
    "\n",
    "sample = sample[[\"SID\"] \n",
    "                + [\"ISO_TIME\"] \n",
    "                + [col for col in sample.columns if \"LAT\" in col]\n",
    "                + [col for col in sample.columns if \"LON\" in col]\n",
    "                ]\n",
    "sample_one = sample[[\"SID\"] + [\"LAT\"] + [\"LON\"]]\n"
   ]
  },
  {
   "cell_type": "code",
   "execution_count": null,
   "metadata": {},
   "outputs": [],
   "source": [
    "# Transpose the table\n",
    "\n",
    "# Unpivot latitude and longitude columns\n",
    "lat_melt = sample.melt(id_vars=['SID', 'ISO_TIME'], \n",
    "                   value_vars=[col for col in df.columns if col.endswith('_LAT')], \n",
    "                   var_name='agency_lat', \n",
    "                   value_name='latitude')\n",
    "\n",
    "lon_melt = df.melt(id_vars=['SID', 'ISO_TIME'], \n",
    "                   value_vars=[col for col in df.columns if col.endswith('_LON')], \n",
    "                   var_name='agency_lon', \n",
    "                   value_name='longitude')\n",
    "\n",
    "# Ensure the order matches between lat and lon\n",
    "lat_melt['agency'] = lat_melt['agency_lat'].str.replace('_LAT', '', regex=False)\n",
    "lon_melt['agency'] = lon_melt['agency_lon'].str.replace('_LON', '', regex=False)\n",
    "\n",
    "# Merge latitude and longitude on ID, ISO_TIME, and agency\n",
    "sample = pd.merge(lat_melt, lon_melt, on=['SID', 'ISO_TIME', 'agency'])\n",
    "\n",
    "# Drop unnecessary columns\n",
    "sample = sample.drop(columns=['agency_lat', 'agency_lon'])\n",
    "sample = sample.dropna(subset = [\"latitude\"])\n"
   ]
  },
  {
   "cell_type": "markdown",
   "metadata": {},
   "source": [
    "Plot the map storms with all the points"
   ]
  },
  {
   "cell_type": "code",
   "execution_count": 58,
   "metadata": {},
   "outputs": [
    {
     "data": {
      "application/vnd.plotly.v1+json": {
       "config": {
        "plotlyServerURL": "https://plot.ly"
       },
       "data": [
        {
         "geo": "geo",
         "hovertemplate": "SID=1980069S12161<br>latitude=%{lat}<br>longitude=%{lon}<extra></extra>",
         "lat": [
          "-13.5",
          "-13.9",
          "-14.3",
          "-14.7",
          "-15.0",
          "-15.3",
          "-15.5",
          "-15.7",
          "-16.0",
          "-16.3",
          "-16.6",
          "-16.9",
          "-17.2",
          "-17.5",
          "-17.8",
          "-18.1",
          "-18.5",
          "-18.8",
          "-19.1",
          "-19.5",
          "-20.0",
          "-20.7",
          "-21.4",
          "-22.1",
          "-22.8",
          "-23.5",
          "-24.1",
          "-24.8",
          "-25.5",
          "-26.2",
          "-27.0",
          "-27.7",
          "-28.5",
          "-29.2",
          "-30.0",
          "-30.7",
          "-31.5",
          "-32.3",
          "-33.3",
          "-34.4",
          "-35.5",
          "-36.6",
          "-37.7",
          "-38.9",
          "-40.0",
          "-41.0",
          "-42.0",
          "-42.9",
          "-44.0",
          "-45.3",
          "-46.7",
          "-48.3",
          "-50.0",
          "-13.7",
          "-13.8",
          "-14.0",
          "-14.3",
          "-14.6",
          "-14.9",
          "-15.2",
          "-15.6",
          "-15.9",
          "-16.2",
          "-16.5",
          "-16.9",
          "-17.3",
          "-17.8",
          "-18.2",
          "-18.5",
          "-18.8",
          "-19.2",
          "-19.6",
          "-20.0",
          "-20.4",
          "-20.8",
          "-21.2",
          "-21.7",
          "-22.2",
          "-22.7",
          "-23.3",
          "-23.9",
          "-24.6",
          "-25.3",
          "-26.0",
          "-15.5",
          "-15.8",
          "-16.0",
          "-16.2",
          "-16.5",
          "-16.8",
          "-17.0",
          "-17.3",
          "-17.5",
          "-17.7",
          "-18.0",
          "-18.2",
          "-18.5",
          "-18.8",
          "-19.1",
          "-19.4",
          "-19.9",
          "-20.5",
          "-21.2",
          "-21.9",
          "-22.7",
          "-23.4",
          "-24.1",
          "-24.8",
          "-25.5",
          "-26.2",
          "-27.0",
          "-27.7",
          "-28.5",
          "-29.2",
          "-29.9",
          "-30.7",
          "-31.5",
          "-32.4",
          "-33.4",
          "-34.4",
          "-35.5",
          "-36.6",
          "-37.8",
          "-38.9",
          "-40.0",
          "-40.9",
          "-41.9",
          "-42.9",
          "-44.0",
          "-45.3",
          "-46.8",
          "-48.4",
          "-50.0",
          "-13.7",
          "-13.8",
          "-14.0",
          "-14.3",
          "-14.6",
          "-14.9",
          "-15.2",
          "-15.6",
          "-15.9",
          "-16.2",
          "-16.5",
          "-16.9",
          "-17.3",
          "-17.8",
          "-18.2",
          "-18.5",
          "-18.8",
          "-19.2",
          "-19.6",
          "-20.0",
          "-20.4",
          "-20.8",
          "-21.2",
          "-21.7",
          "-22.2",
          "-22.7",
          "-23.3",
          "-23.9",
          "-24.6",
          "-25.3",
          "-26.0",
          "-13.5",
          "-13.9",
          "-14.3",
          "-14.7",
          "-15.0",
          "-15.3",
          "-15.5",
          "-15.8",
          "-16.0",
          "-16.3",
          "-16.6",
          "-16.9",
          "-17.2",
          "-17.5",
          "-17.8",
          "-18.2",
          "-18.5",
          "-18.8",
          "-19.1",
          "-19.5",
          "-20.0",
          "-20.6",
          "-21.3",
          "-22.1",
          "-22.8",
          "-23.5",
          "-24.1",
          "-24.8",
          "-25.5",
          "-26.2",
          "-27.0",
          "-27.7",
          "-28.5",
          "-29.2",
          "-29.9",
          "-30.7",
          "-31.5",
          "-32.4",
          "-33.4",
          "-34.4",
          "-35.5",
          "-36.6",
          "-37.8",
          "-38.9",
          "-40.0",
          "-40.9",
          "-41.9",
          "-42.9",
          "-44.0",
          "-45.3",
          "-46.8",
          "-48.4",
          "-50.0",
          "-13.5",
          "-13.9",
          "-14.3",
          "-14.7",
          "-15.0",
          "-15.3",
          "-15.5",
          "-15.7",
          "-16.0",
          "-16.3",
          "-16.6",
          "-16.9",
          "-17.2",
          "-17.5",
          "-17.8",
          "-18.1",
          "-18.5",
          "-18.8",
          "-19.1",
          "-19.5",
          "-20.0",
          "-20.7",
          "-21.4",
          "-22.1",
          "-22.8",
          "-23.5",
          "-24.1",
          "-24.8",
          "-25.5",
          "-26.2",
          "-27.0",
          "-27.7",
          "-28.5",
          "-29.2",
          "-30.0",
          "-30.7",
          "-31.5",
          "-32.3",
          "-33.3",
          "-34.4",
          "-35.5",
          "-36.6",
          "-37.7",
          "-38.9",
          "-40.0",
          "-41.0",
          "-42.0",
          "-42.9",
          "-44.0",
          "-45.3",
          "-46.7",
          "-48.3",
          "-50.0"
         ],
         "legendgroup": "1980069S12161",
         "lon": [
          "158.8",
          "159.0",
          "159.2",
          "159.4",
          "159.5",
          "159.7",
          "159.8",
          "159.9",
          "160.0",
          "160.1",
          "160.1",
          "160.2",
          "160.2",
          "160.3",
          "160.3",
          "160.4",
          "160.4",
          "160.4",
          "160.5",
          "160.8",
          "161.2",
          "161.8",
          "162.6",
          "163.4",
          "164.2",
          "165.1",
          "166.0",
          "166.8",
          "167.5",
          "168.0",
          "168.5",
          "169.0",
          "169.5",
          "170.0",
          "170.5",
          "171.0",
          "171.5",
          "172.0",
          "172.6",
          "173.1",
          "174.0",
          "175.5",
          "177.3",
          "179.2",
          "-179.0",
          "-177.7",
          "-176.7",
          "-175.8",
          "-175.0",
          "-174.3",
          "-173.8",
          "-173.4",
          "-173.0",
          "161.0",
          "160.7",
          "160.5",
          "160.2",
          "160.0",
          "159.8",
          "159.7",
          "159.5",
          "159.4",
          "159.4",
          "159.5",
          "159.5",
          "159.5",
          "159.6",
          "159.7",
          "159.9",
          "160.2",
          "160.6",
          "161.0",
          "161.4",
          "161.8",
          "162.3",
          "162.8",
          "163.4",
          "164.1",
          "164.7",
          "165.5",
          "166.5",
          "167.5",
          "168.5",
          "169.5",
          "159.0",
          "159.1",
          "159.1",
          "159.2",
          "159.3",
          "159.4",
          "159.5",
          "159.6",
          "159.7",
          "159.7",
          "159.8",
          "159.9",
          "160.0",
          "160.2",
          "160.4",
          "160.7",
          "161.2",
          "161.8",
          "162.5",
          "163.4",
          "164.2",
          "165.1",
          "165.9",
          "166.8",
          "167.5",
          "168.1",
          "168.6",
          "169.1",
          "169.5",
          "170.0",
          "170.5",
          "171.0",
          "171.5",
          "171.9",
          "172.4",
          "173.1",
          "174.0",
          "175.5",
          "177.4",
          "179.3",
          "-179.0",
          "-177.7",
          "-176.6",
          "-175.7",
          "-175.0",
          "-174.4",
          "-173.9",
          "-173.4",
          "-173.0",
          "161.0",
          "160.7",
          "160.5",
          "160.2",
          "160.0",
          "159.8",
          "159.7",
          "159.5",
          "159.4",
          "159.4",
          "159.5",
          "159.5",
          "159.5",
          "159.6",
          "159.7",
          "159.9",
          "160.2",
          "160.6",
          "161.0",
          "161.4",
          "161.8",
          "162.3",
          "162.8",
          "163.4",
          "164.1",
          "164.7",
          "165.5",
          "166.5",
          "167.5",
          "168.5",
          "169.5",
          "158.8",
          "159.0",
          "159.2",
          "159.3",
          "159.5",
          "159.7",
          "159.8",
          "159.9",
          "160.0",
          "160.1",
          "160.1",
          "160.2",
          "160.2",
          "160.2",
          "160.3",
          "160.3",
          "160.4",
          "160.5",
          "160.6",
          "160.8",
          "161.2",
          "161.8",
          "162.5",
          "163.3",
          "164.2",
          "165.1",
          "165.9",
          "166.8",
          "167.5",
          "168.1",
          "168.6",
          "169.1",
          "169.5",
          "170.0",
          "170.5",
          "171.0",
          "171.5",
          "171.9",
          "172.4",
          "173.1",
          "174.0",
          "175.5",
          "177.4",
          "179.3",
          "-179.0",
          "-177.7",
          "-176.6",
          "-175.7",
          "-175.0",
          "-174.4",
          "-173.9",
          "-173.4",
          "-173.0",
          "158.8",
          "159.0",
          "159.2",
          "159.4",
          "159.5",
          "159.7",
          "159.8",
          "159.9",
          "160.0",
          "160.1",
          "160.1",
          "160.2",
          "160.2",
          "160.3",
          "160.3",
          "160.4",
          "160.4",
          "160.4",
          "160.5",
          "160.8",
          "161.2",
          "161.8",
          "162.6",
          "163.4",
          "164.2",
          "165.1",
          "166.0",
          "166.8",
          "167.5",
          "168.0",
          "168.5",
          "169.0",
          "169.5",
          "170.0",
          "170.5",
          "171.0",
          "171.5",
          "172.0",
          "172.6",
          "173.1",
          "174.0",
          "175.5",
          "177.3",
          "179.2",
          "-179.0",
          "-177.7",
          "-176.7",
          "-175.8",
          "-175.0",
          "-174.3",
          "-173.8",
          "-173.4",
          "-173.0"
         ],
         "marker": {
          "color": "#636efa",
          "symbol": "circle"
         },
         "mode": "markers",
         "name": "1980069S12161",
         "showlegend": true,
         "type": "scattergeo"
        },
        {
         "geo": "geo",
         "hovertemplate": "SID=1980092S15183<br>latitude=%{lat}<br>longitude=%{lon}<extra></extra>",
         "lat": [
          "-15.2",
          "-15.1",
          "-15.0",
          "-14.9",
          "-14.8",
          "-14.6",
          "-14.5",
          "-14.4",
          "-14.3",
          "-14.4",
          "-14.5",
          "-14.7",
          "-14.8",
          "-14.9",
          "-14.9",
          "-14.9",
          "-15.0",
          "-15.1",
          "-15.1",
          "-15.1",
          "-15.1",
          "-15.1",
          "-15.2",
          "-15.2",
          "-15.3",
          "-15.5",
          "-15.7",
          "-15.9",
          "-16.1",
          "-16.3",
          "-16.5",
          "-16.7",
          "-17.0",
          "-17.4",
          "-17.9",
          "-18.5",
          "-19.3",
          "-20.1",
          "-21.0",
          "-21.8",
          "-22.6",
          "-23.4",
          "-24.1",
          "-24.8",
          "-25.6",
          "-26.4",
          "-27.1",
          "-27.7",
          "-28.2",
          "-28.5",
          "-28.6",
          "-28.6",
          "-28.6",
          "-28.6",
          "-28.6",
          "-28.6",
          "-28.5",
          "-14.3",
          "-14.5",
          "-14.7",
          "-14.9",
          "-15.0",
          "-15.1",
          "-15.1",
          "-15.1",
          "-15.1",
          "-15.1",
          "-15.2",
          "-15.2",
          "-15.3",
          "-15.3",
          "-15.4",
          "-15.4",
          "-15.5",
          "-15.6",
          "-15.7",
          "-15.9",
          "-16.1",
          "-16.2",
          "-16.4",
          "-16.7",
          "-17.0",
          "-17.4",
          "-18.0",
          "-18.6",
          "-19.3",
          "-20.0",
          "-20.8",
          "-21.7",
          "-22.5",
          "-23.4",
          "-24.3",
          "-25.0",
          "-25.6",
          "-26.0",
          "-26.1",
          "-26.1",
          "-26.0",
          "-25.8",
          "-25.6",
          "-25.3",
          "-25.0",
          "-15.2",
          "-15.1",
          "-15.0",
          "-14.9",
          "-14.8",
          "-14.6",
          "-14.5",
          "-14.4",
          "-14.3",
          "-14.4",
          "-14.5",
          "-14.7",
          "-14.8",
          "-14.9",
          "-14.9",
          "-14.9",
          "-15.0",
          "-15.1",
          "-15.1",
          "-15.1",
          "-15.1",
          "-15.1",
          "-15.2",
          "-15.2",
          "-15.3",
          "-15.5",
          "-15.7",
          "-15.9",
          "-16.1",
          "-16.3",
          "-16.5",
          "-16.7",
          "-17.0",
          "-17.4",
          "-17.9",
          "-18.5",
          "-19.3",
          "-20.1",
          "-21.0",
          "-21.8",
          "-22.6",
          "-23.4",
          "-24.1",
          "-24.8",
          "-25.6",
          "-26.4",
          "-27.1",
          "-27.7",
          "-28.2",
          "-28.5",
          "-28.6",
          "-28.6",
          "-28.6",
          "-28.6",
          "-28.6",
          "-28.6",
          "-28.5",
          "-15.2",
          "-15.1",
          "-15.0",
          "-14.9",
          "-14.8",
          "-14.6",
          "-14.5",
          "-14.4",
          "-14.3",
          "-14.4",
          "-14.5",
          "-14.7",
          "-14.8",
          "-14.9",
          "-14.9",
          "-15.0",
          "-15.0",
          "-15.0",
          "-15.0",
          "-15.1",
          "-15.1",
          "-15.1",
          "-15.1",
          "-15.2",
          "-15.3",
          "-15.5",
          "-15.6",
          "-15.9",
          "-16.1",
          "-16.3",
          "-16.4",
          "-16.7",
          "-17.0",
          "-17.4",
          "-18.0",
          "-18.6",
          "-19.3",
          "-20.1",
          "-20.9",
          "-21.8",
          "-22.6",
          "-23.4",
          "-24.1",
          "-24.9",
          "-25.6",
          "-26.4",
          "-27.1",
          "-27.7",
          "-28.2",
          "-28.5",
          "-28.6",
          "-28.6",
          "-28.6",
          "-28.6",
          "-28.6",
          "-28.5",
          "-28.5",
          "-15.2",
          "-15.1",
          "-15.0",
          "-14.9",
          "-14.8",
          "-14.6",
          "-14.5",
          "-14.4",
          "-14.3",
          "-14.4",
          "-14.5",
          "-14.7",
          "-14.8",
          "-14.9",
          "-14.9",
          "-14.9",
          "-15.0",
          "-15.1",
          "-15.1",
          "-15.1",
          "-15.1",
          "-15.1",
          "-15.2",
          "-15.2",
          "-15.3",
          "-15.5",
          "-15.7",
          "-15.9",
          "-16.1",
          "-16.3",
          "-16.5",
          "-16.7",
          "-17.0",
          "-17.4",
          "-17.9",
          "-18.5",
          "-19.3",
          "-20.1",
          "-21.0",
          "-21.8",
          "-22.6",
          "-23.4",
          "-24.1",
          "-24.8",
          "-25.6",
          "-26.4",
          "-27.1",
          "-27.7",
          "-28.2",
          "-28.5",
          "-28.6",
          "-28.6",
          "-28.6",
          "-28.6",
          "-28.6",
          "-28.6",
          "-28.5"
         ],
         "legendgroup": "1980092S15183",
         "lon": [
          "-177.5",
          "-177.8",
          "-178.1",
          "-178.4",
          "-178.7",
          "-179.0",
          "-179.2",
          "-179.4",
          "-179.5",
          "-179.6",
          "-179.7",
          "-179.7",
          "-179.8",
          "-180.0",
          "179.8",
          "179.6",
          "179.5",
          "179.4",
          "179.4",
          "179.3",
          "179.2",
          "179.2",
          "179.1",
          "179.0",
          "178.9",
          "178.7",
          "178.4",
          "178.1",
          "177.9",
          "177.8",
          "177.8",
          "177.7",
          "177.7",
          "177.6",
          "177.6",
          "177.5",
          "177.5",
          "177.7",
          "178.1",
          "178.7",
          "179.5",
          "-179.9",
          "-179.1",
          "-178.2",
          "-177.0",
          "-175.5",
          "-173.8",
          "-172.2",
          "-170.6",
          "-169.2",
          "-167.8",
          "-166.4",
          "-165.0",
          "-163.5",
          "-162.0",
          "-160.5",
          "-159.0",
          "-179.5",
          "-179.8",
          "180.0",
          "179.7",
          "179.5",
          "179.3",
          "179.2",
          "179.1",
          "179.0",
          "178.9",
          "178.7",
          "178.6",
          "178.5",
          "178.4",
          "178.3",
          "178.2",
          "178.1",
          "178.0",
          "178.0",
          "177.9",
          "177.9",
          "177.9",
          "177.8",
          "177.8",
          "177.8",
          "177.8",
          "177.8",
          "177.8",
          "178.0",
          "178.3",
          "178.6",
          "179.2",
          "179.8",
          "-179.5",
          "-178.6",
          "-177.7",
          "-176.6",
          "-175.2",
          "-173.8",
          "-172.6",
          "-172.0",
          "-172.1",
          "-172.7",
          "-173.8",
          "-175.0",
          "182.5",
          "-177.8",
          "181.9",
          "-178.4",
          "181.3",
          "-179.0",
          "180.8",
          "-179.4",
          "180.5",
          "-179.6",
          "180.3",
          "-179.7",
          "180.2",
          "-180.0",
          "179.8",
          "179.6",
          "179.5",
          "179.4",
          "179.4",
          "179.3",
          "179.2",
          "179.2",
          "179.1",
          "179.0",
          "178.9",
          "178.7",
          "178.4",
          "178.1",
          "177.9",
          "177.8",
          "177.8",
          "177.7",
          "177.7",
          "177.6",
          "177.6",
          "177.5",
          "177.5",
          "177.7",
          "178.1",
          "178.7",
          "179.5",
          "-179.9",
          "180.9",
          "-178.2",
          "183.0",
          "-175.5",
          "186.2",
          "-172.2",
          "189.4",
          "-169.2",
          "192.2",
          "-166.4",
          "195.0",
          "-163.5",
          "198.0",
          "-160.5",
          "201.0",
          "-177.5",
          "-177.8",
          "-178.1",
          "-178.4",
          "-178.7",
          "-178.9",
          "-179.2",
          "-179.4",
          "-179.5",
          "-179.6",
          "-179.7",
          "-179.7",
          "-179.8",
          "-180.0",
          "179.9",
          "179.7",
          "179.5",
          "179.4",
          "179.3",
          "179.3",
          "179.2",
          "179.2",
          "179.1",
          "179.0",
          "178.9",
          "178.7",
          "178.4",
          "178.1",
          "177.9",
          "177.8",
          "177.7",
          "177.7",
          "177.7",
          "177.6",
          "177.4",
          "177.4",
          "177.5",
          "177.8",
          "178.2",
          "178.8",
          "179.5",
          "-179.8",
          "-179.1",
          "-178.1",
          "-177.0",
          "-175.6",
          "-174.0",
          "-172.3",
          "-170.6",
          "-169.1",
          "-167.8",
          "-166.4",
          "-165.0",
          "-163.6",
          "-162.1",
          "-160.5",
          "-159.0",
          "-177.5",
          "-177.8",
          "-178.1",
          "-178.4",
          "-178.7",
          "-179.0",
          "-179.2",
          "-179.4",
          "-179.5",
          "-179.6",
          "-179.7",
          "-179.7",
          "-179.8",
          "-180.0",
          "179.8",
          "179.6",
          "179.5",
          "179.4",
          "179.4",
          "179.3",
          "179.2",
          "179.2",
          "179.1",
          "179.0",
          "178.9",
          "178.7",
          "178.4",
          "178.1",
          "177.9",
          "177.8",
          "177.8",
          "177.7",
          "177.7",
          "177.6",
          "177.6",
          "177.5",
          "177.5",
          "177.7",
          "178.1",
          "178.7",
          "179.5",
          "-179.9",
          "-179.1",
          "-178.2",
          "-177.0",
          "-175.5",
          "-173.8",
          "-172.2",
          "-170.6",
          "-169.2",
          "-167.8",
          "-166.4",
          "-165.0",
          "-163.5",
          "-162.0",
          "-160.5",
          "-159.0"
         ],
         "marker": {
          "color": "#EF553B",
          "symbol": "circle"
         },
         "mode": "markers",
         "name": "1980092S15183",
         "showlegend": true,
         "type": "scattergeo"
        },
        {
         "geo": "geo",
         "hovertemplate": "SID=1980197N07154<br>latitude=%{lat}<br>longitude=%{lon}<extra></extra>",
         "lat": [
          "9.2",
          "9.7",
          "10.1",
          "10.6",
          "11.0",
          "11.5",
          "11.9",
          "12.2",
          "12.4",
          "12.6",
          "12.7",
          "12.8",
          "12.9",
          "12.9",
          "13.0",
          "13.2",
          "13.4",
          "13.7",
          "13.9",
          "14.1",
          "14.2",
          "14.3",
          "14.4",
          "14.5",
          "14.6",
          "14.8",
          "15.0",
          "15.2",
          "15.3",
          "15.4",
          "15.4",
          "15.5",
          "15.6",
          "15.8",
          "16.1",
          "16.3",
          "16.5",
          "16.8",
          "17.0",
          "16.9",
          "16.9",
          "17.3",
          "17.8",
          "18.1",
          "18.4",
          "18.7",
          "18.9",
          "19.1",
          "19.4",
          "19.6",
          "19.9",
          "20.2",
          "20.4",
          "20.6",
          "20.8",
          "21.0",
          "21.2",
          "9.8",
          "9.8",
          "9.8",
          "9.7",
          "9.8",
          "10.1",
          "10.5",
          "10.8",
          "11.0",
          "11.3",
          "11.6",
          "11.9",
          "12.2",
          "12.4",
          "12.6",
          "12.8",
          "13.0",
          "13.2",
          "13.4",
          "13.6",
          "13.7",
          "13.8",
          "14.0",
          "14.1",
          "14.3",
          "14.4",
          "14.6",
          "14.7",
          "14.9",
          "15.1",
          "15.2",
          "15.3",
          "15.4",
          "15.5",
          "15.7",
          "15.8",
          "16.0",
          "16.2",
          "16.5",
          "16.8",
          "17.0",
          "17.2",
          "17.4",
          "17.7",
          "18.0",
          "18.2",
          "18.4",
          "18.6",
          "18.7",
          "18.8",
          "19.0",
          "19.2",
          "19.5",
          "19.8",
          "20.0",
          "20.2",
          "20.4",
          "20.7",
          "20.8",
          "20.7",
          "20.5",
          "20.5",
          "10.0",
          "10.5",
          "11.0",
          "11.5",
          "12.0",
          "12.5",
          "12.7",
          "12.5",
          "12.3",
          "12.3",
          "12.5",
          "12.8",
          "13.1",
          "13.3",
          "13.5",
          "13.8",
          "14.0",
          "14.1",
          "14.2",
          "14.2",
          "14.3",
          "14.5",
          "14.7",
          "14.9",
          "15.0",
          "15.1",
          "15.2",
          "15.4",
          "15.7",
          "15.9",
          "16.1",
          "16.2",
          "16.3",
          "16.3",
          "16.4",
          "16.7",
          "17.1",
          "17.2",
          "17.4",
          "17.7",
          "18.1",
          "18.4",
          "18.7",
          "18.9",
          "19.1",
          "19.3",
          "19.5",
          "19.8",
          "20.1",
          "20.2",
          "20.2",
          "20.3",
          "20.4",
          "20.7",
          "20.9",
          "21.0",
          "20.9",
          "20.7",
          "13.5",
          "13.7",
          "13.9",
          "14.1",
          "14.3",
          "14.4",
          "14.5",
          "14.6",
          "14.7",
          "14.8",
          "14.9",
          "14.9",
          "15.0",
          "15.2",
          "15.5",
          "15.7",
          "15.8",
          "15.9",
          "16.1",
          "16.3",
          "16.5",
          "16.8",
          "17.0",
          "17.1",
          "17.3",
          "17.6",
          "17.9",
          "18.2",
          "18.5",
          "18.8",
          "19.0",
          "19.1",
          "19.2",
          "19.5",
          "19.9",
          "20.2",
          "20.5",
          "20.7",
          "20.8",
          "20.9",
          "20.9",
          "21.0",
          "21.0",
          "21.0",
          "9.2",
          "9.7",
          "10.1",
          "10.6",
          "11.0",
          "11.5",
          "11.9",
          "12.2",
          "12.4",
          "12.6",
          "12.7",
          "12.8",
          "12.9",
          "12.9",
          "13.0",
          "13.2",
          "13.4",
          "13.7",
          "13.9",
          "14.1",
          "14.2",
          "14.3",
          "14.4",
          "14.5",
          "14.6",
          "14.8",
          "15.0",
          "15.2",
          "15.3",
          "15.4",
          "15.4",
          "15.5",
          "15.6",
          "15.8",
          "16.1",
          "16.3",
          "16.5",
          "16.8",
          "17.0",
          "16.9",
          "16.9",
          "17.3",
          "17.8",
          "18.1",
          "18.4",
          "18.7",
          "18.9",
          "19.1",
          "19.4",
          "19.6",
          "19.9",
          "20.2",
          "20.4",
          "20.6",
          "20.8",
          "21.0",
          "21.2",
          "7.2",
          "7.4",
          "7.7",
          "7.9",
          "8.1",
          "8.3",
          "8.6",
          "8.9",
          "9.2",
          "9.6",
          "10.1",
          "10.6",
          "11.0",
          "11.4",
          "11.8",
          "12.1",
          "12.4",
          "12.6",
          "12.7",
          "12.8",
          "12.9",
          "13.0",
          "13.1",
          "13.3",
          "13.4",
          "13.6",
          "13.8",
          "14.0",
          "14.2",
          "14.3",
          "14.4",
          "14.5",
          "14.6",
          "14.8",
          "15.0",
          "15.1",
          "15.3",
          "15.4",
          "15.4",
          "15.5",
          "15.6",
          "15.8",
          "16.0",
          "16.3",
          "16.5",
          "16.6",
          "16.7",
          "16.7",
          "16.9",
          "17.2",
          "17.6",
          "18.0",
          "18.4",
          "18.7",
          "18.9",
          "19.2",
          "19.4",
          "19.7",
          "19.9",
          "20.2",
          "20.4",
          "20.6",
          "20.8",
          "21.0",
          "21.2"
         ],
         "legendgroup": "1980197N07154",
         "lon": [
          "148.3",
          "147.8",
          "147.2",
          "146.6",
          "146.0",
          "145.5",
          "145.1",
          "144.6",
          "144.1",
          "143.5",
          "142.8",
          "142.2",
          "141.6",
          "141.0",
          "140.3",
          "139.6",
          "138.9",
          "138.3",
          "137.7",
          "137.1",
          "136.4",
          "135.6",
          "134.8",
          "134.0",
          "133.2",
          "132.3",
          "131.5",
          "130.8",
          "130.0",
          "129.1",
          "128.2",
          "127.4",
          "126.6",
          "125.8",
          "125.0",
          "124.3",
          "123.7",
          "123.0",
          "122.2",
          "121.3",
          "120.4",
          "119.7",
          "119.0",
          "118.2",
          "117.3",
          "116.4",
          "115.5",
          "114.6",
          "113.7",
          "112.8",
          "112.0",
          "111.1",
          "110.2",
          "109.3",
          "108.4",
          "107.5",
          "106.6",
          "150.0",
          "149.2",
          "148.5",
          "147.8",
          "147.2",
          "146.7",
          "146.2",
          "145.7",
          "145.3",
          "144.8",
          "144.3",
          "143.8",
          "143.3",
          "142.6",
          "141.9",
          "141.2",
          "140.4",
          "139.6",
          "138.9",
          "138.2",
          "137.5",
          "136.7",
          "136.0",
          "135.3",
          "134.6",
          "133.9",
          "133.2",
          "132.5",
          "131.7",
          "130.9",
          "130.0",
          "129.1",
          "128.3",
          "127.5",
          "126.7",
          "125.7",
          "124.8",
          "124.1",
          "123.5",
          "122.8",
          "122.1",
          "121.4",
          "120.7",
          "119.9",
          "119.0",
          "118.1",
          "117.3",
          "116.5",
          "115.7",
          "114.9",
          "114.0",
          "113.2",
          "112.3",
          "111.3",
          "110.3",
          "109.4",
          "108.5",
          "107.7",
          "107.0",
          "106.2",
          "105.5",
          "104.8",
          "147.0",
          "146.5",
          "146.0",
          "145.5",
          "145.0",
          "144.4",
          "143.8",
          "143.5",
          "143.2",
          "142.7",
          "142.0",
          "141.1",
          "140.2",
          "139.5",
          "138.9",
          "138.2",
          "137.5",
          "136.9",
          "136.2",
          "135.5",
          "134.7",
          "133.9",
          "133.1",
          "132.4",
          "131.7",
          "130.9",
          "130.1",
          "129.3",
          "128.4",
          "127.5",
          "126.7",
          "126.0",
          "125.3",
          "124.6",
          "123.8",
          "122.9",
          "122.1",
          "121.5",
          "120.8",
          "119.9",
          "119.0",
          "118.1",
          "117.2",
          "116.2",
          "115.3",
          "114.4",
          "113.6",
          "112.9",
          "112.2",
          "111.3",
          "110.3",
          "109.3",
          "108.4",
          "107.5",
          "106.7",
          "106.0",
          "105.3",
          "104.2",
          "139.0",
          "138.4",
          "137.7",
          "137.0",
          "136.3",
          "135.5",
          "134.7",
          "133.9",
          "133.2",
          "132.4",
          "131.6",
          "130.8",
          "130.0",
          "129.2",
          "128.4",
          "127.5",
          "126.7",
          "126.0",
          "125.3",
          "124.5",
          "123.8",
          "123.1",
          "122.4",
          "121.5",
          "120.5",
          "119.7",
          "119.0",
          "118.2",
          "117.4",
          "116.5",
          "115.5",
          "114.6",
          "113.7",
          "112.8",
          "111.9",
          "111.0",
          "110.1",
          "109.1",
          "108.2",
          "107.4",
          "106.8",
          "106.2",
          "105.6",
          "104.8",
          "148.3",
          "147.8",
          "147.2",
          "146.6",
          "146.0",
          "145.5",
          "145.1",
          "144.6",
          "144.1",
          "143.5",
          "142.8",
          "142.2",
          "141.6",
          "141.0",
          "140.3",
          "139.6",
          "138.9",
          "138.3",
          "137.7",
          "137.1",
          "136.4",
          "135.6",
          "134.8",
          "134.0",
          "133.2",
          "132.3",
          "131.5",
          "130.8",
          "130.0",
          "129.1",
          "128.2",
          "127.4",
          "126.6",
          "125.8",
          "125.0",
          "124.3",
          "123.7",
          "123.0",
          "122.2",
          "121.3",
          "120.4",
          "119.7",
          "119.0",
          "118.2",
          "117.3",
          "116.4",
          "115.5",
          "114.6",
          "113.7",
          "112.8",
          "112.0",
          "111.1",
          "110.2",
          "109.3",
          "108.4",
          "107.5",
          "106.6",
          "153.5",
          "152.5",
          "151.6",
          "150.8",
          "150.1",
          "149.6",
          "149.1",
          "148.7",
          "148.3",
          "147.7",
          "147.2",
          "146.6",
          "146.0",
          "145.5",
          "145.1",
          "144.6",
          "144.1",
          "143.5",
          "142.9",
          "142.3",
          "141.6",
          "140.9",
          "140.2",
          "139.6",
          "138.9",
          "138.3",
          "137.7",
          "137.1",
          "136.4",
          "135.6",
          "134.9",
          "134.0",
          "133.2",
          "132.4",
          "131.6",
          "130.8",
          "130.0",
          "129.1",
          "128.3",
          "127.4",
          "126.6",
          "125.9",
          "125.1",
          "124.4",
          "123.7",
          "122.9",
          "122.1",
          "121.2",
          "120.4",
          "119.6",
          "118.9",
          "118.1",
          "117.3",
          "116.4",
          "115.5",
          "114.6",
          "113.7",
          "112.8",
          "111.9",
          "111.1",
          "110.2",
          "109.3",
          "108.4",
          "107.5",
          "106.6"
         ],
         "marker": {
          "color": "#00cc96",
          "symbol": "circle"
         },
         "mode": "markers",
         "name": "1980197N07154",
         "showlegend": true,
         "type": "scattergeo"
        },
        {
         "geo": "geo",
         "hovertemplate": "SID=1981070N03173<br>latitude=%{lat}<br>longitude=%{lon}<extra></extra>",
         "lat": [
          "4.7",
          "5.2",
          "5.6",
          "5.9",
          "6.2",
          "6.4",
          "6.5",
          "6.7",
          "6.9",
          "7.1",
          "7.4",
          "7.7",
          "8.1",
          "8.5",
          "9.0",
          "9.5",
          "9.9",
          "10.3",
          "10.7",
          "11.2",
          "11.7",
          "12.2",
          "12.7",
          "13.2",
          "13.7",
          "14.3",
          "14.8",
          "15.2",
          "15.6",
          "16.2",
          "16.9",
          "17.6",
          "18.3",
          "18.8",
          "19.3",
          "19.7",
          "20.2",
          "20.7",
          "21.3",
          "21.8",
          "22.4",
          "23.0",
          "23.6",
          "24.2",
          "24.8",
          "25.3",
          "25.7",
          "26.2",
          "26.6",
          "27.0",
          "27.4",
          "6.0",
          "6.2",
          "6.5",
          "6.8",
          "7.1",
          "7.4",
          "7.6",
          "7.8",
          "8.0",
          "8.5",
          "9.0",
          "9.4",
          "9.8",
          "10.2",
          "10.6",
          "11.1",
          "11.6",
          "12.1",
          "12.7",
          "13.2",
          "13.7",
          "14.3",
          "14.8",
          "15.1",
          "15.5",
          "16.1",
          "16.8",
          "17.5",
          "18.1",
          "18.6",
          "19.0",
          "19.5",
          "20.0",
          "20.4",
          "20.9",
          "21.4",
          "21.9",
          "22.4",
          "23.0",
          "23.5",
          "24.0",
          "24.6",
          "25.3",
          "26.0",
          "26.6",
          "27.2",
          "27.8",
          "28.3",
          "6.0",
          "6.3",
          "6.6",
          "6.8",
          "7.0",
          "7.2",
          "7.5",
          "7.8",
          "8.2",
          "8.6",
          "9.0",
          "9.5",
          "9.9",
          "10.2",
          "10.6",
          "11.0",
          "11.5",
          "12.1",
          "12.7",
          "13.5",
          "14.2",
          "14.4",
          "14.6",
          "15.0",
          "15.5",
          "16.2",
          "16.9",
          "17.5",
          "18.1",
          "18.6",
          "19.1",
          "19.5",
          "20.0",
          "20.5",
          "21.0",
          "21.4",
          "21.9",
          "22.4",
          "23.0",
          "23.5",
          "24.0",
          "24.5",
          "25.2",
          "26.2",
          "27.1",
          "27.6",
          "28.0",
          "28.4",
          "5.6",
          "5.9",
          "6.2",
          "6.4",
          "6.5",
          "6.7",
          "6.9",
          "7.1",
          "7.4",
          "7.7",
          "8.1",
          "8.5",
          "9.0",
          "9.4",
          "9.8",
          "10.2",
          "10.7",
          "11.1",
          "11.5",
          "12.0",
          "12.6",
          "13.2",
          "13.7",
          "14.2",
          "14.6",
          "15.0",
          "15.5",
          "16.1",
          "16.7",
          "17.3",
          "17.9",
          "18.6",
          "19.2",
          "19.6",
          "20.0",
          "20.5",
          "21.0",
          "21.5",
          "22.0",
          "22.6",
          "23.2",
          "23.9",
          "24.5",
          "25.0",
          "25.5",
          "26.0",
          "26.5",
          "27.0",
          "27.5",
          "2.8",
          "3.3",
          "3.8",
          "4.2",
          "4.7",
          "5.1",
          "5.5",
          "5.9",
          "6.2",
          "6.4",
          "6.6",
          "6.7",
          "6.9",
          "7.1",
          "7.4",
          "7.7",
          "8.1",
          "8.5",
          "9.0",
          "9.4",
          "9.9",
          "10.3",
          "10.8",
          "11.2",
          "11.7",
          "12.2",
          "12.7",
          "13.2",
          "13.7",
          "14.1",
          "14.6",
          "15.1",
          "15.6",
          "16.3",
          "17.0",
          "17.7",
          "18.3",
          "18.8",
          "19.3",
          "19.7",
          "20.2",
          "20.7",
          "21.3",
          "21.8",
          "22.4",
          "23.0",
          "23.6",
          "24.2",
          "24.8",
          "25.3",
          "25.8",
          "26.2",
          "26.6"
         ],
         "legendgroup": "1981070N03173",
         "lon": [
          "170.5",
          "169.9",
          "169.3",
          "168.7",
          "168.2",
          "167.8",
          "167.5",
          "167.2",
          "166.8",
          "166.4",
          "165.9",
          "165.4",
          "164.9",
          "164.4",
          "164.0",
          "163.5",
          "163.1",
          "162.7",
          "162.3",
          "162.1",
          "161.9",
          "161.6",
          "161.4",
          "161.2",
          "161.2",
          "161.2",
          "161.4",
          "161.6",
          "161.9",
          "162.3",
          "162.8",
          "163.4",
          "164.0",
          "164.5",
          "165.0",
          "165.4",
          "165.9",
          "166.4",
          "167.0",
          "167.6",
          "168.1",
          "168.7",
          "169.2",
          "169.7",
          "170.3",
          "170.9",
          "171.6",
          "172.3",
          "173.0",
          "173.7",
          "174.3",
          "168.0",
          "167.7",
          "167.3",
          "167.0",
          "166.6",
          "166.2",
          "165.9",
          "165.6",
          "165.3",
          "164.8",
          "164.2",
          "163.7",
          "163.3",
          "162.8",
          "162.3",
          "162.0",
          "161.9",
          "161.8",
          "161.7",
          "161.5",
          "161.4",
          "161.4",
          "161.5",
          "161.6",
          "161.9",
          "162.3",
          "162.8",
          "163.3",
          "163.8",
          "164.3",
          "164.9",
          "165.5",
          "166.0",
          "166.5",
          "167.0",
          "167.5",
          "168.0",
          "168.5",
          "169.0",
          "169.5",
          "170.0",
          "170.5",
          "171.1",
          "171.8",
          "172.5",
          "173.3",
          "174.2",
          "175.1",
          "168.0",
          "167.7",
          "167.4",
          "167.1",
          "166.8",
          "166.4",
          "166.0",
          "165.6",
          "165.2",
          "164.8",
          "164.3",
          "163.8",
          "163.4",
          "163.0",
          "162.6",
          "162.3",
          "162.0",
          "161.6",
          "161.3",
          "161.1",
          "161.1",
          "161.3",
          "161.6",
          "161.7",
          "161.9",
          "162.3",
          "162.9",
          "163.4",
          "163.9",
          "164.5",
          "165.0",
          "165.5",
          "166.0",
          "166.6",
          "167.2",
          "167.8",
          "168.3",
          "168.9",
          "169.4",
          "169.9",
          "170.5",
          "171.1",
          "171.7",
          "172.5",
          "173.3",
          "174.0",
          "174.6",
          "175.0",
          "169.3",
          "168.7",
          "168.2",
          "167.8",
          "167.5",
          "167.2",
          "166.8",
          "166.3",
          "165.9",
          "165.6",
          "165.2",
          "164.7",
          "164.2",
          "163.7",
          "163.2",
          "162.8",
          "162.5",
          "162.2",
          "161.9",
          "161.6",
          "161.4",
          "161.2",
          "161.1",
          "161.2",
          "161.4",
          "161.6",
          "161.9",
          "162.4",
          "162.9",
          "163.4",
          "163.9",
          "164.4",
          "165.0",
          "165.5",
          "166.0",
          "166.5",
          "167.0",
          "167.5",
          "168.1",
          "168.7",
          "169.3",
          "169.9",
          "170.5",
          "171.1",
          "171.7",
          "172.3",
          "173.0",
          "173.7",
          "174.5",
          "172.8",
          "172.2",
          "171.7",
          "171.1",
          "170.5",
          "169.9",
          "169.3",
          "168.7",
          "168.2",
          "167.8",
          "167.5",
          "167.1",
          "166.8",
          "166.4",
          "165.9",
          "165.4",
          "164.9",
          "164.4",
          "163.9",
          "163.5",
          "163.1",
          "162.7",
          "162.4",
          "162.1",
          "161.9",
          "161.6",
          "161.4",
          "161.3",
          "161.2",
          "161.2",
          "161.3",
          "161.6",
          "161.9",
          "162.3",
          "162.9",
          "163.4",
          "164.0",
          "164.5",
          "164.9",
          "165.4",
          "165.9",
          "166.4",
          "167.0",
          "167.5",
          "168.1",
          "168.6",
          "169.2",
          "169.7",
          "170.3",
          "170.9",
          "171.6",
          "172.3",
          "173.0"
         ],
         "marker": {
          "color": "#ab63fa",
          "symbol": "circle"
         },
         "mode": "markers",
         "name": "1981070N03173",
         "showlegend": true,
         "type": "scattergeo"
        }
       ],
       "layout": {
        "geo": {
         "center": {},
         "domain": {
          "x": [
           0,
           1
          ],
          "y": [
           0,
           1
          ]
         },
         "projection": {
          "type": "natural earth"
         }
        },
        "legend": {
         "title": {
          "text": "SID"
         },
         "tracegroupgap": 0
        },
        "margin": {
         "t": 60
        },
        "template": {
         "data": {
          "bar": [
           {
            "error_x": {
             "color": "#2a3f5f"
            },
            "error_y": {
             "color": "#2a3f5f"
            },
            "marker": {
             "line": {
              "color": "#E5ECF6",
              "width": 0.5
             },
             "pattern": {
              "fillmode": "overlay",
              "size": 10,
              "solidity": 0.2
             }
            },
            "type": "bar"
           }
          ],
          "barpolar": [
           {
            "marker": {
             "line": {
              "color": "#E5ECF6",
              "width": 0.5
             },
             "pattern": {
              "fillmode": "overlay",
              "size": 10,
              "solidity": 0.2
             }
            },
            "type": "barpolar"
           }
          ],
          "carpet": [
           {
            "aaxis": {
             "endlinecolor": "#2a3f5f",
             "gridcolor": "white",
             "linecolor": "white",
             "minorgridcolor": "white",
             "startlinecolor": "#2a3f5f"
            },
            "baxis": {
             "endlinecolor": "#2a3f5f",
             "gridcolor": "white",
             "linecolor": "white",
             "minorgridcolor": "white",
             "startlinecolor": "#2a3f5f"
            },
            "type": "carpet"
           }
          ],
          "choropleth": [
           {
            "colorbar": {
             "outlinewidth": 0,
             "ticks": ""
            },
            "type": "choropleth"
           }
          ],
          "contour": [
           {
            "colorbar": {
             "outlinewidth": 0,
             "ticks": ""
            },
            "colorscale": [
             [
              0,
              "#0d0887"
             ],
             [
              0.1111111111111111,
              "#46039f"
             ],
             [
              0.2222222222222222,
              "#7201a8"
             ],
             [
              0.3333333333333333,
              "#9c179e"
             ],
             [
              0.4444444444444444,
              "#bd3786"
             ],
             [
              0.5555555555555556,
              "#d8576b"
             ],
             [
              0.6666666666666666,
              "#ed7953"
             ],
             [
              0.7777777777777778,
              "#fb9f3a"
             ],
             [
              0.8888888888888888,
              "#fdca26"
             ],
             [
              1,
              "#f0f921"
             ]
            ],
            "type": "contour"
           }
          ],
          "contourcarpet": [
           {
            "colorbar": {
             "outlinewidth": 0,
             "ticks": ""
            },
            "type": "contourcarpet"
           }
          ],
          "heatmap": [
           {
            "colorbar": {
             "outlinewidth": 0,
             "ticks": ""
            },
            "colorscale": [
             [
              0,
              "#0d0887"
             ],
             [
              0.1111111111111111,
              "#46039f"
             ],
             [
              0.2222222222222222,
              "#7201a8"
             ],
             [
              0.3333333333333333,
              "#9c179e"
             ],
             [
              0.4444444444444444,
              "#bd3786"
             ],
             [
              0.5555555555555556,
              "#d8576b"
             ],
             [
              0.6666666666666666,
              "#ed7953"
             ],
             [
              0.7777777777777778,
              "#fb9f3a"
             ],
             [
              0.8888888888888888,
              "#fdca26"
             ],
             [
              1,
              "#f0f921"
             ]
            ],
            "type": "heatmap"
           }
          ],
          "heatmapgl": [
           {
            "colorbar": {
             "outlinewidth": 0,
             "ticks": ""
            },
            "colorscale": [
             [
              0,
              "#0d0887"
             ],
             [
              0.1111111111111111,
              "#46039f"
             ],
             [
              0.2222222222222222,
              "#7201a8"
             ],
             [
              0.3333333333333333,
              "#9c179e"
             ],
             [
              0.4444444444444444,
              "#bd3786"
             ],
             [
              0.5555555555555556,
              "#d8576b"
             ],
             [
              0.6666666666666666,
              "#ed7953"
             ],
             [
              0.7777777777777778,
              "#fb9f3a"
             ],
             [
              0.8888888888888888,
              "#fdca26"
             ],
             [
              1,
              "#f0f921"
             ]
            ],
            "type": "heatmapgl"
           }
          ],
          "histogram": [
           {
            "marker": {
             "pattern": {
              "fillmode": "overlay",
              "size": 10,
              "solidity": 0.2
             }
            },
            "type": "histogram"
           }
          ],
          "histogram2d": [
           {
            "colorbar": {
             "outlinewidth": 0,
             "ticks": ""
            },
            "colorscale": [
             [
              0,
              "#0d0887"
             ],
             [
              0.1111111111111111,
              "#46039f"
             ],
             [
              0.2222222222222222,
              "#7201a8"
             ],
             [
              0.3333333333333333,
              "#9c179e"
             ],
             [
              0.4444444444444444,
              "#bd3786"
             ],
             [
              0.5555555555555556,
              "#d8576b"
             ],
             [
              0.6666666666666666,
              "#ed7953"
             ],
             [
              0.7777777777777778,
              "#fb9f3a"
             ],
             [
              0.8888888888888888,
              "#fdca26"
             ],
             [
              1,
              "#f0f921"
             ]
            ],
            "type": "histogram2d"
           }
          ],
          "histogram2dcontour": [
           {
            "colorbar": {
             "outlinewidth": 0,
             "ticks": ""
            },
            "colorscale": [
             [
              0,
              "#0d0887"
             ],
             [
              0.1111111111111111,
              "#46039f"
             ],
             [
              0.2222222222222222,
              "#7201a8"
             ],
             [
              0.3333333333333333,
              "#9c179e"
             ],
             [
              0.4444444444444444,
              "#bd3786"
             ],
             [
              0.5555555555555556,
              "#d8576b"
             ],
             [
              0.6666666666666666,
              "#ed7953"
             ],
             [
              0.7777777777777778,
              "#fb9f3a"
             ],
             [
              0.8888888888888888,
              "#fdca26"
             ],
             [
              1,
              "#f0f921"
             ]
            ],
            "type": "histogram2dcontour"
           }
          ],
          "mesh3d": [
           {
            "colorbar": {
             "outlinewidth": 0,
             "ticks": ""
            },
            "type": "mesh3d"
           }
          ],
          "parcoords": [
           {
            "line": {
             "colorbar": {
              "outlinewidth": 0,
              "ticks": ""
             }
            },
            "type": "parcoords"
           }
          ],
          "pie": [
           {
            "automargin": true,
            "type": "pie"
           }
          ],
          "scatter": [
           {
            "fillpattern": {
             "fillmode": "overlay",
             "size": 10,
             "solidity": 0.2
            },
            "type": "scatter"
           }
          ],
          "scatter3d": [
           {
            "line": {
             "colorbar": {
              "outlinewidth": 0,
              "ticks": ""
             }
            },
            "marker": {
             "colorbar": {
              "outlinewidth": 0,
              "ticks": ""
             }
            },
            "type": "scatter3d"
           }
          ],
          "scattercarpet": [
           {
            "marker": {
             "colorbar": {
              "outlinewidth": 0,
              "ticks": ""
             }
            },
            "type": "scattercarpet"
           }
          ],
          "scattergeo": [
           {
            "marker": {
             "colorbar": {
              "outlinewidth": 0,
              "ticks": ""
             }
            },
            "type": "scattergeo"
           }
          ],
          "scattergl": [
           {
            "marker": {
             "colorbar": {
              "outlinewidth": 0,
              "ticks": ""
             }
            },
            "type": "scattergl"
           }
          ],
          "scattermapbox": [
           {
            "marker": {
             "colorbar": {
              "outlinewidth": 0,
              "ticks": ""
             }
            },
            "type": "scattermapbox"
           }
          ],
          "scatterpolar": [
           {
            "marker": {
             "colorbar": {
              "outlinewidth": 0,
              "ticks": ""
             }
            },
            "type": "scatterpolar"
           }
          ],
          "scatterpolargl": [
           {
            "marker": {
             "colorbar": {
              "outlinewidth": 0,
              "ticks": ""
             }
            },
            "type": "scatterpolargl"
           }
          ],
          "scatterternary": [
           {
            "marker": {
             "colorbar": {
              "outlinewidth": 0,
              "ticks": ""
             }
            },
            "type": "scatterternary"
           }
          ],
          "surface": [
           {
            "colorbar": {
             "outlinewidth": 0,
             "ticks": ""
            },
            "colorscale": [
             [
              0,
              "#0d0887"
             ],
             [
              0.1111111111111111,
              "#46039f"
             ],
             [
              0.2222222222222222,
              "#7201a8"
             ],
             [
              0.3333333333333333,
              "#9c179e"
             ],
             [
              0.4444444444444444,
              "#bd3786"
             ],
             [
              0.5555555555555556,
              "#d8576b"
             ],
             [
              0.6666666666666666,
              "#ed7953"
             ],
             [
              0.7777777777777778,
              "#fb9f3a"
             ],
             [
              0.8888888888888888,
              "#fdca26"
             ],
             [
              1,
              "#f0f921"
             ]
            ],
            "type": "surface"
           }
          ],
          "table": [
           {
            "cells": {
             "fill": {
              "color": "#EBF0F8"
             },
             "line": {
              "color": "white"
             }
            },
            "header": {
             "fill": {
              "color": "#C8D4E3"
             },
             "line": {
              "color": "white"
             }
            },
            "type": "table"
           }
          ]
         },
         "layout": {
          "annotationdefaults": {
           "arrowcolor": "#2a3f5f",
           "arrowhead": 0,
           "arrowwidth": 1
          },
          "autotypenumbers": "strict",
          "coloraxis": {
           "colorbar": {
            "outlinewidth": 0,
            "ticks": ""
           }
          },
          "colorscale": {
           "diverging": [
            [
             0,
             "#8e0152"
            ],
            [
             0.1,
             "#c51b7d"
            ],
            [
             0.2,
             "#de77ae"
            ],
            [
             0.3,
             "#f1b6da"
            ],
            [
             0.4,
             "#fde0ef"
            ],
            [
             0.5,
             "#f7f7f7"
            ],
            [
             0.6,
             "#e6f5d0"
            ],
            [
             0.7,
             "#b8e186"
            ],
            [
             0.8,
             "#7fbc41"
            ],
            [
             0.9,
             "#4d9221"
            ],
            [
             1,
             "#276419"
            ]
           ],
           "sequential": [
            [
             0,
             "#0d0887"
            ],
            [
             0.1111111111111111,
             "#46039f"
            ],
            [
             0.2222222222222222,
             "#7201a8"
            ],
            [
             0.3333333333333333,
             "#9c179e"
            ],
            [
             0.4444444444444444,
             "#bd3786"
            ],
            [
             0.5555555555555556,
             "#d8576b"
            ],
            [
             0.6666666666666666,
             "#ed7953"
            ],
            [
             0.7777777777777778,
             "#fb9f3a"
            ],
            [
             0.8888888888888888,
             "#fdca26"
            ],
            [
             1,
             "#f0f921"
            ]
           ],
           "sequentialminus": [
            [
             0,
             "#0d0887"
            ],
            [
             0.1111111111111111,
             "#46039f"
            ],
            [
             0.2222222222222222,
             "#7201a8"
            ],
            [
             0.3333333333333333,
             "#9c179e"
            ],
            [
             0.4444444444444444,
             "#bd3786"
            ],
            [
             0.5555555555555556,
             "#d8576b"
            ],
            [
             0.6666666666666666,
             "#ed7953"
            ],
            [
             0.7777777777777778,
             "#fb9f3a"
            ],
            [
             0.8888888888888888,
             "#fdca26"
            ],
            [
             1,
             "#f0f921"
            ]
           ]
          },
          "colorway": [
           "#636efa",
           "#EF553B",
           "#00cc96",
           "#ab63fa",
           "#FFA15A",
           "#19d3f3",
           "#FF6692",
           "#B6E880",
           "#FF97FF",
           "#FECB52"
          ],
          "font": {
           "color": "#2a3f5f"
          },
          "geo": {
           "bgcolor": "white",
           "lakecolor": "white",
           "landcolor": "#E5ECF6",
           "showlakes": true,
           "showland": true,
           "subunitcolor": "white"
          },
          "hoverlabel": {
           "align": "left"
          },
          "hovermode": "closest",
          "mapbox": {
           "style": "light"
          },
          "paper_bgcolor": "white",
          "plot_bgcolor": "#E5ECF6",
          "polar": {
           "angularaxis": {
            "gridcolor": "white",
            "linecolor": "white",
            "ticks": ""
           },
           "bgcolor": "#E5ECF6",
           "radialaxis": {
            "gridcolor": "white",
            "linecolor": "white",
            "ticks": ""
           }
          },
          "scene": {
           "xaxis": {
            "backgroundcolor": "#E5ECF6",
            "gridcolor": "white",
            "gridwidth": 2,
            "linecolor": "white",
            "showbackground": true,
            "ticks": "",
            "zerolinecolor": "white"
           },
           "yaxis": {
            "backgroundcolor": "#E5ECF6",
            "gridcolor": "white",
            "gridwidth": 2,
            "linecolor": "white",
            "showbackground": true,
            "ticks": "",
            "zerolinecolor": "white"
           },
           "zaxis": {
            "backgroundcolor": "#E5ECF6",
            "gridcolor": "white",
            "gridwidth": 2,
            "linecolor": "white",
            "showbackground": true,
            "ticks": "",
            "zerolinecolor": "white"
           }
          },
          "shapedefaults": {
           "line": {
            "color": "#2a3f5f"
           }
          },
          "ternary": {
           "aaxis": {
            "gridcolor": "white",
            "linecolor": "white",
            "ticks": ""
           },
           "baxis": {
            "gridcolor": "white",
            "linecolor": "white",
            "ticks": ""
           },
           "bgcolor": "#E5ECF6",
           "caxis": {
            "gridcolor": "white",
            "linecolor": "white",
            "ticks": ""
           }
          },
          "title": {
           "x": 0.05
          },
          "xaxis": {
           "automargin": true,
           "gridcolor": "white",
           "linecolor": "white",
           "ticks": "",
           "title": {
            "standoff": 15
           },
           "zerolinecolor": "white",
           "zerolinewidth": 2
          },
          "yaxis": {
           "automargin": true,
           "gridcolor": "white",
           "linecolor": "white",
           "ticks": "",
           "title": {
            "standoff": 15
           },
           "zerolinecolor": "white",
           "zerolinewidth": 2
          }
         }
        }
       }
      }
     },
     "metadata": {},
     "output_type": "display_data"
    }
   ],
   "source": [
    "fig = px.scatter_geo(sample, \n",
    "                     lat = \"latitude\",\n",
    "                     lon = \"longitude\",\n",
    "                     color = \"SID\",\n",
    "                     projection=\"natural earth\"\n",
    "                    )\n",
    "fig.show()"
   ]
  },
  {
   "cell_type": "markdown",
   "metadata": {},
   "source": [
    "When zooming on the map, we can see that points sometimes there are points closed to the other one but the storm seems to have the same trajectory, just shifted. \n",
    "Therefore the difference between the differents LAT/LON pairs seem to be a matter of measurements inaccuracy.\n",
    "We can keep just one."
   ]
  },
  {
   "cell_type": "code",
   "execution_count": 62,
   "metadata": {},
   "outputs": [
    {
     "data": {
      "application/vnd.plotly.v1+json": {
       "config": {
        "plotlyServerURL": "https://plot.ly"
       },
       "data": [
        {
         "geo": "geo",
         "hovertemplate": "SID=1980069S12161<br>LAT=%{lat}<br>LON=%{lon}<extra></extra>",
         "lat": [
          "-13.6",
          "-13.9",
          "-14.2",
          "-14.5",
          "-14.9",
          "-15.2",
          "-15.5",
          "-15.8",
          "-16.0",
          "-16.3",
          "-16.6",
          "-16.9",
          "-17.3",
          "-17.6",
          "-17.9",
          "-18.3",
          "-18.6",
          "-18.9",
          "-19.2",
          "-19.6",
          "-20.1",
          "-20.7",
          "-21.3",
          "-22.0",
          "-22.6",
          "-23.2",
          "-23.9",
          "-24.5",
          "-25.3",
          "-26.1",
          "-26.9",
          "-27.7",
          "-28.5",
          "-29.2",
          "-30.0",
          "-30.7",
          "-31.5",
          "-32.4",
          "-33.3",
          "-34.4",
          "-35.5",
          "-36.6",
          "-37.7",
          "-38.9",
          "-40.0",
          "-41.0",
          "-41.9",
          "-42.9",
          "-44.0",
          "-45.3",
          "-46.7",
          "-48.3",
          "-50.0"
         ],
         "legendgroup": "1980069S12161",
         "lon": [
          "160.3",
          "159.9",
          "159.7",
          "159.6",
          "159.6",
          "159.7",
          "159.7",
          "159.7",
          "159.7",
          "159.8",
          "159.8",
          "159.9",
          "159.9",
          "160.0",
          "160.0",
          "160.1",
          "160.3",
          "160.4",
          "160.6",
          "160.9",
          "161.4",
          "161.9",
          "162.6",
          "163.4",
          "164.2",
          "165.0",
          "165.8",
          "166.7",
          "167.5",
          "168.1",
          "168.6",
          "169.0",
          "169.5",
          "170.0",
          "170.5",
          "171.0",
          "171.5",
          "172.0",
          "172.5",
          "173.1",
          "174.0",
          "175.5",
          "177.3",
          "179.2",
          "181.0",
          "182.3",
          "183.3",
          "184.3",
          "185.0",
          "185.6",
          "186.2",
          "186.6",
          "187.0"
         ],
         "marker": {
          "color": "#636efa",
          "symbol": "circle"
         },
         "mode": "markers",
         "name": "1980069S12161",
         "showlegend": true,
         "type": "scattergeo"
        },
        {
         "geo": "geo",
         "hovertemplate": "SID=1980092S15183<br>LAT=%{lat}<br>LON=%{lon}<extra></extra>",
         "lat": [
          "-15.2",
          "-15.1",
          "-15.0",
          "-14.9",
          "-14.8",
          "-14.6",
          "-14.5",
          "-14.4",
          "-14.3",
          "-14.4",
          "-14.5",
          "-14.7",
          "-14.8",
          "-14.9",
          "-14.9",
          "-15.0",
          "-15.0",
          "-15.1",
          "-15.1",
          "-15.1",
          "-15.1",
          "-15.2",
          "-15.2",
          "-15.3",
          "-15.3",
          "-15.5",
          "-15.7",
          "-15.9",
          "-16.1",
          "-16.3",
          "-16.5",
          "-16.7",
          "-17.0",
          "-17.4",
          "-17.9",
          "-18.6",
          "-19.3",
          "-20.1",
          "-20.9",
          "-21.8",
          "-22.6",
          "-23.4",
          "-24.1",
          "-24.9",
          "-25.6",
          "-26.3",
          "-26.9",
          "-27.4",
          "-27.8",
          "-27.9",
          "-28.1",
          "-28.3",
          "-28.4",
          "-28.6",
          "-28.6",
          "-28.6",
          "-28.5"
         ],
         "legendgroup": "1980092S15183",
         "lon": [
          "182.5",
          "182.2",
          "181.9",
          "181.6",
          "181.3",
          "181.0",
          "180.8",
          "180.6",
          "180.5",
          "180.4",
          "180.3",
          "180.2",
          "180.1",
          "179.9",
          "179.7",
          "179.5",
          "179.4",
          "179.3",
          "179.3",
          "179.2",
          "179.1",
          "179.0",
          "178.9",
          "178.9",
          "178.7",
          "178.5",
          "178.3",
          "178.1",
          "177.9",
          "177.8",
          "177.8",
          "177.8",
          "177.7",
          "177.7",
          "177.6",
          "177.5",
          "177.6",
          "177.8",
          "178.2",
          "178.8",
          "179.6",
          "180.2",
          "181.0",
          "181.9",
          "183.1",
          "184.6",
          "186.2",
          "187.7",
          "189.1",
          "190.3",
          "191.4",
          "192.8",
          "194.4",
          "196.5",
          "198.0",
          "199.5",
          "201.0"
         ],
         "marker": {
          "color": "#EF553B",
          "symbol": "circle"
         },
         "mode": "markers",
         "name": "1980092S15183",
         "showlegend": true,
         "type": "scattergeo"
        },
        {
         "geo": "geo",
         "hovertemplate": "SID=1980197N07154<br>LAT=%{lat}<br>LON=%{lon}<extra></extra>",
         "lat": [
          "7.2",
          "7.4",
          "7.7",
          "7.9",
          "8.1",
          "8.3",
          "8.8",
          "9.2",
          "9.4",
          "9.7",
          "10.0",
          "10.4",
          "10.9",
          "11.3",
          "11.7",
          "12.1",
          "12.3",
          "12.4",
          "12.5",
          "12.6",
          "12.8",
          "12.9",
          "13.0",
          "13.2",
          "13.4",
          "13.7",
          "13.9",
          "14.0",
          "14.2",
          "14.3",
          "14.4",
          "14.5",
          "14.6",
          "14.8",
          "15.0",
          "15.1",
          "15.2",
          "15.3",
          "15.5",
          "15.6",
          "15.7",
          "15.9",
          "16.1",
          "16.3",
          "16.5",
          "16.7",
          "17.0",
          "17.0",
          "17.1",
          "17.5",
          "17.9",
          "18.2",
          "18.5",
          "18.7",
          "18.9",
          "19.1",
          "19.3",
          "19.6",
          "19.9",
          "20.1",
          "20.3",
          "20.5",
          "20.7",
          "20.8",
          "20.9",
          "20.9",
          "20.8",
          "20.7"
         ],
         "legendgroup": "1980197N07154",
         "lon": [
          "153.5",
          "152.5",
          "151.6",
          "150.8",
          "150.1",
          "149.6",
          "149.3",
          "148.9",
          "148.4",
          "147.8",
          "147.2",
          "146.6",
          "146.0",
          "145.6",
          "145.1",
          "144.6",
          "144.1",
          "143.6",
          "143.0",
          "142.4",
          "141.7",
          "141.0",
          "140.3",
          "139.6",
          "138.9",
          "138.3",
          "137.6",
          "137.0",
          "136.3",
          "135.5",
          "134.7",
          "134.0",
          "133.2",
          "132.4",
          "131.6",
          "130.8",
          "130.0",
          "129.2",
          "128.3",
          "127.5",
          "126.7",
          "125.9",
          "125.1",
          "124.4",
          "123.7",
          "123.0",
          "122.2",
          "121.4",
          "120.5",
          "119.8",
          "119.0",
          "118.2",
          "117.3",
          "116.4",
          "115.5",
          "114.6",
          "113.7",
          "112.9",
          "112.1",
          "111.1",
          "110.2",
          "109.3",
          "108.4",
          "107.5",
          "106.8",
          "106.2",
          "105.5",
          "104.7"
         ],
         "marker": {
          "color": "#00cc96",
          "symbol": "circle"
         },
         "mode": "markers",
         "name": "1980197N07154",
         "showlegend": true,
         "type": "scattergeo"
        },
        {
         "geo": "geo",
         "hovertemplate": "SID=1981070N03173<br>LAT=%{lat}<br>LON=%{lon}<extra></extra>",
         "lat": [
          2.8,
          3.3,
          3.8,
          4.2,
          4.7,
          5.1,
          5.6,
          5.9,
          6.2,
          6.4,
          6.5,
          6.7,
          7,
          7.2,
          7.5,
          7.8,
          8.1,
          8.5,
          9,
          9.4,
          9.9,
          10.3,
          10.7,
          11.1,
          11.6,
          12.1,
          12.7,
          13.3,
          13.8,
          14.3,
          14.7,
          15.1,
          15.5,
          16.2,
          16.9,
          17.5,
          18.1,
          18.7,
          19.2,
          19.6,
          20.1,
          20.6,
          21.1,
          21.6,
          22.1,
          22.7,
          23.3,
          23.9,
          24.4,
          25,
          25.5,
          26.1,
          26.7,
          27.3,
          27.8,
          28.4
         ],
         "legendgroup": "1981070N03173",
         "lon": [
          172.8,
          172.2,
          171.7,
          171.1,
          170.5,
          169.9,
          169.3,
          168.7,
          168.2,
          167.8,
          167.4,
          167.1,
          166.8,
          166.3,
          165.9,
          165.5,
          165.1,
          164.6,
          164.1,
          163.7,
          163.2,
          162.8,
          162.4,
          162.1,
          161.9,
          161.7,
          161.4,
          161.3,
          161.2,
          161.3,
          161.4,
          161.6,
          161.9,
          162.3,
          162.9,
          163.4,
          163.9,
          164.4,
          165,
          165.5,
          166,
          166.5,
          167,
          167.6,
          168.1,
          168.7,
          169.2,
          169.8,
          170.3,
          170.9,
          171.5,
          172.2,
          172.9,
          173.7,
          174.4,
          175.1
         ],
         "marker": {
          "color": "#ab63fa",
          "symbol": "circle"
         },
         "mode": "markers",
         "name": "1981070N03173",
         "showlegend": true,
         "type": "scattergeo"
        }
       ],
       "layout": {
        "geo": {
         "center": {},
         "domain": {
          "x": [
           0,
           1
          ],
          "y": [
           0,
           1
          ]
         },
         "projection": {
          "type": "natural earth"
         }
        },
        "legend": {
         "title": {
          "text": "SID"
         },
         "tracegroupgap": 0
        },
        "margin": {
         "t": 60
        },
        "template": {
         "data": {
          "bar": [
           {
            "error_x": {
             "color": "#2a3f5f"
            },
            "error_y": {
             "color": "#2a3f5f"
            },
            "marker": {
             "line": {
              "color": "#E5ECF6",
              "width": 0.5
             },
             "pattern": {
              "fillmode": "overlay",
              "size": 10,
              "solidity": 0.2
             }
            },
            "type": "bar"
           }
          ],
          "barpolar": [
           {
            "marker": {
             "line": {
              "color": "#E5ECF6",
              "width": 0.5
             },
             "pattern": {
              "fillmode": "overlay",
              "size": 10,
              "solidity": 0.2
             }
            },
            "type": "barpolar"
           }
          ],
          "carpet": [
           {
            "aaxis": {
             "endlinecolor": "#2a3f5f",
             "gridcolor": "white",
             "linecolor": "white",
             "minorgridcolor": "white",
             "startlinecolor": "#2a3f5f"
            },
            "baxis": {
             "endlinecolor": "#2a3f5f",
             "gridcolor": "white",
             "linecolor": "white",
             "minorgridcolor": "white",
             "startlinecolor": "#2a3f5f"
            },
            "type": "carpet"
           }
          ],
          "choropleth": [
           {
            "colorbar": {
             "outlinewidth": 0,
             "ticks": ""
            },
            "type": "choropleth"
           }
          ],
          "contour": [
           {
            "colorbar": {
             "outlinewidth": 0,
             "ticks": ""
            },
            "colorscale": [
             [
              0,
              "#0d0887"
             ],
             [
              0.1111111111111111,
              "#46039f"
             ],
             [
              0.2222222222222222,
              "#7201a8"
             ],
             [
              0.3333333333333333,
              "#9c179e"
             ],
             [
              0.4444444444444444,
              "#bd3786"
             ],
             [
              0.5555555555555556,
              "#d8576b"
             ],
             [
              0.6666666666666666,
              "#ed7953"
             ],
             [
              0.7777777777777778,
              "#fb9f3a"
             ],
             [
              0.8888888888888888,
              "#fdca26"
             ],
             [
              1,
              "#f0f921"
             ]
            ],
            "type": "contour"
           }
          ],
          "contourcarpet": [
           {
            "colorbar": {
             "outlinewidth": 0,
             "ticks": ""
            },
            "type": "contourcarpet"
           }
          ],
          "heatmap": [
           {
            "colorbar": {
             "outlinewidth": 0,
             "ticks": ""
            },
            "colorscale": [
             [
              0,
              "#0d0887"
             ],
             [
              0.1111111111111111,
              "#46039f"
             ],
             [
              0.2222222222222222,
              "#7201a8"
             ],
             [
              0.3333333333333333,
              "#9c179e"
             ],
             [
              0.4444444444444444,
              "#bd3786"
             ],
             [
              0.5555555555555556,
              "#d8576b"
             ],
             [
              0.6666666666666666,
              "#ed7953"
             ],
             [
              0.7777777777777778,
              "#fb9f3a"
             ],
             [
              0.8888888888888888,
              "#fdca26"
             ],
             [
              1,
              "#f0f921"
             ]
            ],
            "type": "heatmap"
           }
          ],
          "heatmapgl": [
           {
            "colorbar": {
             "outlinewidth": 0,
             "ticks": ""
            },
            "colorscale": [
             [
              0,
              "#0d0887"
             ],
             [
              0.1111111111111111,
              "#46039f"
             ],
             [
              0.2222222222222222,
              "#7201a8"
             ],
             [
              0.3333333333333333,
              "#9c179e"
             ],
             [
              0.4444444444444444,
              "#bd3786"
             ],
             [
              0.5555555555555556,
              "#d8576b"
             ],
             [
              0.6666666666666666,
              "#ed7953"
             ],
             [
              0.7777777777777778,
              "#fb9f3a"
             ],
             [
              0.8888888888888888,
              "#fdca26"
             ],
             [
              1,
              "#f0f921"
             ]
            ],
            "type": "heatmapgl"
           }
          ],
          "histogram": [
           {
            "marker": {
             "pattern": {
              "fillmode": "overlay",
              "size": 10,
              "solidity": 0.2
             }
            },
            "type": "histogram"
           }
          ],
          "histogram2d": [
           {
            "colorbar": {
             "outlinewidth": 0,
             "ticks": ""
            },
            "colorscale": [
             [
              0,
              "#0d0887"
             ],
             [
              0.1111111111111111,
              "#46039f"
             ],
             [
              0.2222222222222222,
              "#7201a8"
             ],
             [
              0.3333333333333333,
              "#9c179e"
             ],
             [
              0.4444444444444444,
              "#bd3786"
             ],
             [
              0.5555555555555556,
              "#d8576b"
             ],
             [
              0.6666666666666666,
              "#ed7953"
             ],
             [
              0.7777777777777778,
              "#fb9f3a"
             ],
             [
              0.8888888888888888,
              "#fdca26"
             ],
             [
              1,
              "#f0f921"
             ]
            ],
            "type": "histogram2d"
           }
          ],
          "histogram2dcontour": [
           {
            "colorbar": {
             "outlinewidth": 0,
             "ticks": ""
            },
            "colorscale": [
             [
              0,
              "#0d0887"
             ],
             [
              0.1111111111111111,
              "#46039f"
             ],
             [
              0.2222222222222222,
              "#7201a8"
             ],
             [
              0.3333333333333333,
              "#9c179e"
             ],
             [
              0.4444444444444444,
              "#bd3786"
             ],
             [
              0.5555555555555556,
              "#d8576b"
             ],
             [
              0.6666666666666666,
              "#ed7953"
             ],
             [
              0.7777777777777778,
              "#fb9f3a"
             ],
             [
              0.8888888888888888,
              "#fdca26"
             ],
             [
              1,
              "#f0f921"
             ]
            ],
            "type": "histogram2dcontour"
           }
          ],
          "mesh3d": [
           {
            "colorbar": {
             "outlinewidth": 0,
             "ticks": ""
            },
            "type": "mesh3d"
           }
          ],
          "parcoords": [
           {
            "line": {
             "colorbar": {
              "outlinewidth": 0,
              "ticks": ""
             }
            },
            "type": "parcoords"
           }
          ],
          "pie": [
           {
            "automargin": true,
            "type": "pie"
           }
          ],
          "scatter": [
           {
            "fillpattern": {
             "fillmode": "overlay",
             "size": 10,
             "solidity": 0.2
            },
            "type": "scatter"
           }
          ],
          "scatter3d": [
           {
            "line": {
             "colorbar": {
              "outlinewidth": 0,
              "ticks": ""
             }
            },
            "marker": {
             "colorbar": {
              "outlinewidth": 0,
              "ticks": ""
             }
            },
            "type": "scatter3d"
           }
          ],
          "scattercarpet": [
           {
            "marker": {
             "colorbar": {
              "outlinewidth": 0,
              "ticks": ""
             }
            },
            "type": "scattercarpet"
           }
          ],
          "scattergeo": [
           {
            "marker": {
             "colorbar": {
              "outlinewidth": 0,
              "ticks": ""
             }
            },
            "type": "scattergeo"
           }
          ],
          "scattergl": [
           {
            "marker": {
             "colorbar": {
              "outlinewidth": 0,
              "ticks": ""
             }
            },
            "type": "scattergl"
           }
          ],
          "scattermapbox": [
           {
            "marker": {
             "colorbar": {
              "outlinewidth": 0,
              "ticks": ""
             }
            },
            "type": "scattermapbox"
           }
          ],
          "scatterpolar": [
           {
            "marker": {
             "colorbar": {
              "outlinewidth": 0,
              "ticks": ""
             }
            },
            "type": "scatterpolar"
           }
          ],
          "scatterpolargl": [
           {
            "marker": {
             "colorbar": {
              "outlinewidth": 0,
              "ticks": ""
             }
            },
            "type": "scatterpolargl"
           }
          ],
          "scatterternary": [
           {
            "marker": {
             "colorbar": {
              "outlinewidth": 0,
              "ticks": ""
             }
            },
            "type": "scatterternary"
           }
          ],
          "surface": [
           {
            "colorbar": {
             "outlinewidth": 0,
             "ticks": ""
            },
            "colorscale": [
             [
              0,
              "#0d0887"
             ],
             [
              0.1111111111111111,
              "#46039f"
             ],
             [
              0.2222222222222222,
              "#7201a8"
             ],
             [
              0.3333333333333333,
              "#9c179e"
             ],
             [
              0.4444444444444444,
              "#bd3786"
             ],
             [
              0.5555555555555556,
              "#d8576b"
             ],
             [
              0.6666666666666666,
              "#ed7953"
             ],
             [
              0.7777777777777778,
              "#fb9f3a"
             ],
             [
              0.8888888888888888,
              "#fdca26"
             ],
             [
              1,
              "#f0f921"
             ]
            ],
            "type": "surface"
           }
          ],
          "table": [
           {
            "cells": {
             "fill": {
              "color": "#EBF0F8"
             },
             "line": {
              "color": "white"
             }
            },
            "header": {
             "fill": {
              "color": "#C8D4E3"
             },
             "line": {
              "color": "white"
             }
            },
            "type": "table"
           }
          ]
         },
         "layout": {
          "annotationdefaults": {
           "arrowcolor": "#2a3f5f",
           "arrowhead": 0,
           "arrowwidth": 1
          },
          "autotypenumbers": "strict",
          "coloraxis": {
           "colorbar": {
            "outlinewidth": 0,
            "ticks": ""
           }
          },
          "colorscale": {
           "diverging": [
            [
             0,
             "#8e0152"
            ],
            [
             0.1,
             "#c51b7d"
            ],
            [
             0.2,
             "#de77ae"
            ],
            [
             0.3,
             "#f1b6da"
            ],
            [
             0.4,
             "#fde0ef"
            ],
            [
             0.5,
             "#f7f7f7"
            ],
            [
             0.6,
             "#e6f5d0"
            ],
            [
             0.7,
             "#b8e186"
            ],
            [
             0.8,
             "#7fbc41"
            ],
            [
             0.9,
             "#4d9221"
            ],
            [
             1,
             "#276419"
            ]
           ],
           "sequential": [
            [
             0,
             "#0d0887"
            ],
            [
             0.1111111111111111,
             "#46039f"
            ],
            [
             0.2222222222222222,
             "#7201a8"
            ],
            [
             0.3333333333333333,
             "#9c179e"
            ],
            [
             0.4444444444444444,
             "#bd3786"
            ],
            [
             0.5555555555555556,
             "#d8576b"
            ],
            [
             0.6666666666666666,
             "#ed7953"
            ],
            [
             0.7777777777777778,
             "#fb9f3a"
            ],
            [
             0.8888888888888888,
             "#fdca26"
            ],
            [
             1,
             "#f0f921"
            ]
           ],
           "sequentialminus": [
            [
             0,
             "#0d0887"
            ],
            [
             0.1111111111111111,
             "#46039f"
            ],
            [
             0.2222222222222222,
             "#7201a8"
            ],
            [
             0.3333333333333333,
             "#9c179e"
            ],
            [
             0.4444444444444444,
             "#bd3786"
            ],
            [
             0.5555555555555556,
             "#d8576b"
            ],
            [
             0.6666666666666666,
             "#ed7953"
            ],
            [
             0.7777777777777778,
             "#fb9f3a"
            ],
            [
             0.8888888888888888,
             "#fdca26"
            ],
            [
             1,
             "#f0f921"
            ]
           ]
          },
          "colorway": [
           "#636efa",
           "#EF553B",
           "#00cc96",
           "#ab63fa",
           "#FFA15A",
           "#19d3f3",
           "#FF6692",
           "#B6E880",
           "#FF97FF",
           "#FECB52"
          ],
          "font": {
           "color": "#2a3f5f"
          },
          "geo": {
           "bgcolor": "white",
           "lakecolor": "white",
           "landcolor": "#E5ECF6",
           "showlakes": true,
           "showland": true,
           "subunitcolor": "white"
          },
          "hoverlabel": {
           "align": "left"
          },
          "hovermode": "closest",
          "mapbox": {
           "style": "light"
          },
          "paper_bgcolor": "white",
          "plot_bgcolor": "#E5ECF6",
          "polar": {
           "angularaxis": {
            "gridcolor": "white",
            "linecolor": "white",
            "ticks": ""
           },
           "bgcolor": "#E5ECF6",
           "radialaxis": {
            "gridcolor": "white",
            "linecolor": "white",
            "ticks": ""
           }
          },
          "scene": {
           "xaxis": {
            "backgroundcolor": "#E5ECF6",
            "gridcolor": "white",
            "gridwidth": 2,
            "linecolor": "white",
            "showbackground": true,
            "ticks": "",
            "zerolinecolor": "white"
           },
           "yaxis": {
            "backgroundcolor": "#E5ECF6",
            "gridcolor": "white",
            "gridwidth": 2,
            "linecolor": "white",
            "showbackground": true,
            "ticks": "",
            "zerolinecolor": "white"
           },
           "zaxis": {
            "backgroundcolor": "#E5ECF6",
            "gridcolor": "white",
            "gridwidth": 2,
            "linecolor": "white",
            "showbackground": true,
            "ticks": "",
            "zerolinecolor": "white"
           }
          },
          "shapedefaults": {
           "line": {
            "color": "#2a3f5f"
           }
          },
          "ternary": {
           "aaxis": {
            "gridcolor": "white",
            "linecolor": "white",
            "ticks": ""
           },
           "baxis": {
            "gridcolor": "white",
            "linecolor": "white",
            "ticks": ""
           },
           "bgcolor": "#E5ECF6",
           "caxis": {
            "gridcolor": "white",
            "linecolor": "white",
            "ticks": ""
           }
          },
          "title": {
           "x": 0.05
          },
          "xaxis": {
           "automargin": true,
           "gridcolor": "white",
           "linecolor": "white",
           "ticks": "",
           "title": {
            "standoff": 15
           },
           "zerolinecolor": "white",
           "zerolinewidth": 2
          },
          "yaxis": {
           "automargin": true,
           "gridcolor": "white",
           "linecolor": "white",
           "ticks": "",
           "title": {
            "standoff": 15
           },
           "zerolinecolor": "white",
           "zerolinewidth": 2
          }
         }
        }
       }
      }
     },
     "metadata": {},
     "output_type": "display_data"
    }
   ],
   "source": [
    "# Plot with only LAT LON\n",
    "\n",
    "fig = px.scatter_geo(sample_one, \n",
    "                     lat = \"LAT\",\n",
    "                     lon = \"LON\",\n",
    "                     color = \"SID\",\n",
    "                     projection=\"natural earth\"\n",
    "                    )\n",
    "fig.show()\n"
   ]
  },
  {
   "cell_type": "markdown",
   "metadata": {},
   "source": [
    "We don't loose a lot of information if we keep only LAT and LON."
   ]
  }
 ],
 "metadata": {
  "kernelspec": {
   "display_name": "0910_WarmUp",
   "language": "python",
   "name": "python3"
  },
  "language_info": {
   "codemirror_mode": {
    "name": "ipython",
    "version": 3
   },
   "file_extension": ".py",
   "mimetype": "text/x-python",
   "name": "python",
   "nbconvert_exporter": "python",
   "pygments_lexer": "ipython3",
   "version": "3.10.15"
  }
 },
 "nbformat": 4,
 "nbformat_minor": 2
}
