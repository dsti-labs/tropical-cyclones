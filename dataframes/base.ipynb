{
 "cells": [
  {
   "cell_type": "markdown",
   "metadata": {},
   "source": [
    "# Pickle of our first dataframe"
   ]
  },
  {
   "cell_type": "markdown",
   "metadata": {},
   "source": [
    "Categorical => OneHotEncoder or one dimension with different values (1, 2, 3, 4, etc.)\n",
    "- SEASON oneHotEncoder (4)\n",
    "- BASIN (7)\n",
    "- NATURE (6)\n",
    "\n",
    "Numeric => everything between 0 and 1\n",
    "- LAT\n",
    "- LON\n",
    "- WIND \n",
    "- DIST2LAND\n",
    "- STORM_SPEED\n",
    "- STORM_DIR"
   ]
  },
  {
   "cell_type": "code",
   "execution_count": 5,
   "metadata": {},
   "outputs": [],
   "source": [
    "import pandas as pd \n",
    "import numpy as np\n",
    "from numpy import std\n",
    "\n",
    "import plotly.express as px \n",
    "import plotly.graph_objects as go \n",
    "\n",
    "# import matplotlib.pyplot as plt\n",
    "import seaborn as sns"
   ]
  },
  {
   "cell_type": "code",
   "execution_count": 24,
   "metadata": {},
   "outputs": [],
   "source": [
    "df = pd.read_csv(\n",
    "    \"../data/ibtracs.csv\", \n",
    "    skiprows=[1],\n",
    "    header=0,\n",
    "    low_memory=False\n",
    ")"
   ]
  },
  {
   "cell_type": "code",
   "execution_count": 9,
   "metadata": {},
   "outputs": [],
   "source": [
    "# working on a copy of the dataset to preserve an untouched source of the dfcon\n",
    "df_ibtracs = df.copy()"
   ]
  },
  {
   "cell_type": "code",
   "execution_count": 10,
   "metadata": {},
   "outputs": [
    {
     "name": "stderr",
     "output_type": "stream",
     "text": [
      "/tmp/ipykernel_18858/8097902.py:2: FutureWarning: Downcasting behavior in `replace` is deprecated and will be removed in a future version. To retain the old behavior, explicitly call `result.infer_objects(copy=False)`. To opt-in to the future behavior, set `pd.set_option('future.no_silent_downcasting', True)`\n",
      "  df_ibtracs[col] = df_ibtracs[col].replace(\" \", np.nan)\n"
     ]
    }
   ],
   "source": [
    "for col in df_ibtracs.columns:\n",
    "    df_ibtracs[col] = df_ibtracs[col].replace(\" \", np.nan)\n",
    "    try:\n",
    "        df_ibtracs[col] = pd.to_numeric(df_ibtracs[col])\n",
    "    except ValueError:\n",
    "        pass"
   ]
  },
  {
   "cell_type": "code",
   "execution_count": 11,
   "metadata": {},
   "outputs": [],
   "source": [
    "df_ibtracs = df_ibtracs.dropna(subset=[\"TD9636_STAGE\"])"
   ]
  },
  {
   "cell_type": "code",
   "execution_count": 12,
   "metadata": {},
   "outputs": [],
   "source": [
    "df_ibtracs['ISO_TIME'] = pd.to_datetime(df_ibtracs['ISO_TIME'])"
   ]
  },
  {
   "cell_type": "code",
   "execution_count": 13,
   "metadata": {},
   "outputs": [],
   "source": [
    "def get_season(date, latitude):\n",
    "    month = date.month\n",
    "    day = date.day\n",
    "\n",
    "    if latitude >= 0:  # Northern Hemisphere\n",
    "        match month:\n",
    "            case 12 | 1 | 2: \n",
    "                return \"Winter\"\n",
    "            case 3 | 4 | 5: \n",
    "                return \"Spring\"\n",
    "            case 6 | 7 | 8:\n",
    "                return \"Summer\"\n",
    "            case 9 | 10 | 11: \n",
    "                return \"Fall\"\n",
    "    \n",
    "    else:  # Southern Hemisphere\n",
    "        match month:\n",
    "            case 12 | 1 | 2:\n",
    "                return \"Summer\"\n",
    "            case 3 | 4 | 5: \n",
    "                return  \"Fall\"\n",
    "            case 6 | 7 | 8: \n",
    "                return \"Winter\"\n",
    "            case 9 | 10 | 11: \n",
    "                return \"Spring\""
   ]
  },
  {
   "cell_type": "code",
   "execution_count": null,
   "metadata": {},
   "outputs": [],
   "source": [
    "df_ibtracs['SEASON'] = df_ibtracs.apply(lambda row: get_season(row['ISO_TIME'], row['LAT']), axis=1)"
   ]
  },
  {
   "cell_type": "code",
   "execution_count": 15,
   "metadata": {},
   "outputs": [],
   "source": [
    "# renaming USA_WIND as WIND\n",
    "df_ibtracs.rename(columns={\"USA_WIND\": \"WIND\"}, inplace=True)"
   ]
  },
  {
   "cell_type": "code",
   "execution_count": 16,
   "metadata": {},
   "outputs": [],
   "source": [
    "df_ibtracs[[\"BOM_WIND\", \"WELLINGTON_WIND\", \"REUNION_WIND\", \"HKO_WIND\", \"TOKYO_WIND\"]] = df_ibtracs[[\"BOM_WIND\", \"WELLINGTON_WIND\", \"REUNION_WIND\", \"HKO_WIND\", \"TOKYO_WIND\"]] * 1.12"
   ]
  },
  {
   "cell_type": "code",
   "execution_count": 17,
   "metadata": {},
   "outputs": [],
   "source": [
    "wind_list = [            \n",
    "    \"TD9636_WIND\",                 \n",
    "    \"NEUMANN_WIND\",       \n",
    "    \"HKO_WIND\",           \n",
    "    \"TOKYO_WIND\",        \n",
    "    \"BOM_WIND\",          \n",
    "    \"WELLINGTON_WIND\",    \n",
    "    \"REUNION_WIND\",     \n",
    "    \"DS824_WIND\"        \n",
    "]"
   ]
  },
  {
   "cell_type": "code",
   "execution_count": 18,
   "metadata": {},
   "outputs": [],
   "source": [
    "# if WIND is NaN we loop over the other columns to fill it \n",
    "for column in wind_list:\n",
    "    df_ibtracs[\"WIND\"] = df_ibtracs[\"WIND\"].fillna(value=df_ibtracs[column])"
   ]
  },
  {
   "cell_type": "code",
   "execution_count": 19,
   "metadata": {},
   "outputs": [],
   "source": [
    "# Drop rows where WIND is still null\n",
    "df_ibtracs = df_ibtracs.dropna(subset=['WIND'])"
   ]
  },
  {
   "cell_type": "code",
   "execution_count": 20,
   "metadata": {},
   "outputs": [],
   "source": [
    "df_ = df_ibtracs[[\n",
    "    \"SEASON\", \n",
    "    \"BASIN\", \n",
    "    \"NATURE\",\n",
    "    \"LAT\", \n",
    "    \"LON\", \n",
    "    \"WIND\", \n",
    "    \"DIST2LAND\",\n",
    "    \"STORM_SPEED\",\n",
    "    \"STORM_DIR\", \n",
    "    \"TD9636_STAGE\"\n",
    "]]"
   ]
  },
  {
   "cell_type": "code",
   "execution_count": 21,
   "metadata": {},
   "outputs": [
    {
     "name": "stdout",
     "output_type": "stream",
     "text": [
      "<class 'pandas.core.frame.DataFrame'>\n",
      "Index: 45025 entries, 0 to 67409\n",
      "Data columns (total 10 columns):\n",
      " #   Column        Non-Null Count  Dtype  \n",
      "---  ------        --------------  -----  \n",
      " 0   SEASON        45025 non-null  object \n",
      " 1   BASIN         45025 non-null  object \n",
      " 2   NATURE        45025 non-null  object \n",
      " 3   LAT           45025 non-null  float64\n",
      " 4   LON           45025 non-null  float64\n",
      " 5   WIND          45025 non-null  float64\n",
      " 6   DIST2LAND     45025 non-null  int64  \n",
      " 7   STORM_SPEED   45025 non-null  float64\n",
      " 8   STORM_DIR     45025 non-null  float64\n",
      " 9   TD9636_STAGE  45025 non-null  float64\n",
      "dtypes: float64(6), int64(1), object(3)\n",
      "memory usage: 3.8+ MB\n"
     ]
    }
   ],
   "source": [
    "df_.info()"
   ]
  },
  {
   "cell_type": "code",
   "execution_count": 22,
   "metadata": {},
   "outputs": [
    {
     "data": {
      "text/plain": [
       "SEASON          0\n",
       "BASIN           0\n",
       "NATURE          0\n",
       "LAT             0\n",
       "LON             0\n",
       "WIND            0\n",
       "DIST2LAND       0\n",
       "STORM_SPEED     0\n",
       "STORM_DIR       0\n",
       "TD9636_STAGE    0\n",
       "dtype: int64"
      ]
     },
     "execution_count": 22,
     "metadata": {},
     "output_type": "execute_result"
    }
   ],
   "source": [
    "df_.isnull().sum().sort_values()"
   ]
  },
  {
   "cell_type": "code",
   "execution_count": 26,
   "metadata": {},
   "outputs": [],
   "source": [
    "df_.to_parquet(\"../data/base.parquet\", engine=\"pyarrow\")"
   ]
  },
  {
   "cell_type": "code",
   "execution_count": null,
   "metadata": {},
   "outputs": [],
   "source": []
  }
 ],
 "metadata": {
  "kernelspec": {
   "display_name": "tropical_cyclones",
   "language": "python",
   "name": "python3"
  },
  "language_info": {
   "codemirror_mode": {
    "name": "ipython",
    "version": 3
   },
   "file_extension": ".py",
   "mimetype": "text/x-python",
   "name": "python",
   "nbconvert_exporter": "python",
   "pygments_lexer": "ipython3",
   "version": "3.13.0"
  }
 },
 "nbformat": 4,
 "nbformat_minor": 2
}
